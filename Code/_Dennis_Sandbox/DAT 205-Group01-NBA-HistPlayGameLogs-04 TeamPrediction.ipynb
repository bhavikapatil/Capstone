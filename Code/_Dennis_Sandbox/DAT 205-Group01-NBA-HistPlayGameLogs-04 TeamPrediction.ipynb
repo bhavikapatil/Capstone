{
 "cells": [
  {
   "source": [
    "# DAT 205 Project - Prediction\n",
    "## By Dennis Hung\n",
    "## Version 1\n",
    "## Code DRAFT 2021-04-03\n",
    "\n",
    "## Code Strucuture\n",
    "### Section 0: Function definitions\n",
    "### Section 1: Import libraries\n",
    "### Section 2: Configuration of variables\n",
    "\n",
    "### Section 3: Load the dataset from file and initial analysis\n",
    "- #### Section 3.1: Load the dataset from file\n",
    "- #### Section 3.2: Initial Analysis\n",
    "\n",
    "### Section 4: Transforming/cleansing the data \n",
    "- #### Section 4.1: Enhance the data\n",
    "- #### Section 4.4 Filter data by Team (if specified)\n",
    "- #### Section 4.5: Remove (Stage 1) from dataframe the unwanted numerical/categorical features\n",
    "- #### Section 4.6: Transform categorical feature (WL) using value replace\n",
    "- #### Section 4.7: Transform categorical features using LabelEncoder\n",
    "\n",
    "- #### Section 4.8: Define TARGET variable and separate into dataframes by season type\n",
    "\n",
    "## Section 5: Analysis - Heat Maps / Correlation Matrices\n",
    "\n",
    "## Section 6: Modeling and Analysis\n",
    "- ### Section 6.1: Prepare train and test data\n",
    "- ### Section 6.4: Apply Random Forest Classifier on the split train/test dataset\n",
    "\n",
    "## Section 8: Summary Report\n",
    "\n",
    "## End of Code\n",
    "\n",
    "\n"
   ],
   "cell_type": "markdown",
   "metadata": {}
  },
  {
   "source": [
    "# Updates\n",
    "\n",
    "### 2021-03-30\n",
    "\n",
    "- Added models xgboost and SVM for testing\n",
    "- Tuned all models (if possible)\n",
    "- Added in code to save models https://machinelearningmastery.com/save-load-machine-learning-models-python-scikit-learn/\n",
    "- Inserted flags to allow processing of certain models to focus model analysis processing\n",
    "\n",
    "### 2021-03-27\n",
    "\n",
    "Code fully working to handle \n",
    "- Loading of different files as raw from  \"HistoricalGameLogs_*.csv' or after data enhancement \"DAT205_Output_Enhanced_df_TF *.csv\"\n",
    "- Enable/disable data enhancment process\n",
    "- Filtering by specific team or all the data before performing corelation matrix or model analysis\n",
    "\n",
    "\n",
    "\n"
   ],
   "cell_type": "markdown",
   "metadata": {}
  },
  {
   "source": [
    "# Reference\n",
    "\n",
    "#### How to Get NBA Data Using the nba_api Python Module (Beginner). Retrieved from Playing Numbers: \n",
    "\n",
    "https://www.playingnumbers.com/2019/12/how-to-get-nba-data-using-the-nba_api-python-module-beginner/\n",
    "\n",
    "#### Patel, S. (2020, August 19). swar / nba_api. Retrieved from GitHub: \n",
    "\n",
    "https://github.com/swar/nba_api/blob/master/docs/table_of_contents.md\n",
    "\n",
    "#### Issues\n",
    "\n",
    "https://github.com/swar/nba_api/issues/124\n",
    "\n"
   ],
   "cell_type": "markdown",
   "metadata": {}
  },
  {
   "source": [
    "# Note: \n",
    "#### For this analysis, this code relies on the CSV output from \"DAT 205-Group01-NBA-HistPlayGameLogs.ipynb\" or the enhanced data from this code as the dataset "
   ],
   "cell_type": "markdown",
   "metadata": {}
  },
  {
   "source": [
    "# Section 0: Function definitions\n",
    "\n",
    "hms_string(sec_elapsed)\n"
   ],
   "cell_type": "markdown",
   "metadata": {}
  },
  {
   "cell_type": "code",
   "execution_count": 1,
   "metadata": {},
   "outputs": [],
   "source": [
    "# Nicely formatted time string\n",
    "def hms_string(sec_elapsed):\n",
    "    h = int(sec_elapsed / (60 * 60))\n",
    "    m = int((sec_elapsed % (60 * 60))/60)\n",
    "    s = sec_elapsed % 60\n",
    "    return \"{}:{:>02}:{:>05.2f}\".format(h,m,s)\n",
    "\n",
    "# Null field analysis\n",
    "def nullFieldAnalysis(df):\n",
    "    df_missingDataInfo = pd.DataFrame({'Count': df.isnull().sum(), 'Percent': 100*df.isnull().sum()/len(df)})\n",
    "    #Printing the columns with over XX% of missing values (ie 60 = 60%) This is set to 0 for 0%\n",
    "    null_threshold = 0 \n",
    "    print(\"\")\n",
    "    print(\"\")\n",
    "    print(\"==== Null value analysis ====\")\n",
    "    return df_missingDataInfo[df_missingDataInfo['Percent'] > null_threshold].sort_values(by=['Percent'])\n",
    "\n",
    "# CalcThreshold_List\n",
    "def CalcThreshold_List(totalRecords):\n",
    "    CTL_10 = int(round(totalRecords*0.1,0))\n",
    "    CTL_20 = int(round(totalRecords*0.2,0))\n",
    "    CTL_30 = int(round(totalRecords*0.3,0))\n",
    "    CTL_40 = int(round(totalRecords*0.4,0))\n",
    "    CTL_50 = int(round(totalRecords*0.5,0))\n",
    "    CTL_60 = int(round(totalRecords*0.6,0))\n",
    "    CTL_70 = int(round(totalRecords*0.7,0))\n",
    "    CTL_80 = int(round(totalRecords*0.8,0))\n",
    "    CTL_90 = int(round(totalRecords*0.9,0))\n",
    "    CTL_100 = int(round(totalRecords*1,0))\n",
    "\n",
    "    CTL_05 = int(round(totalRecords*0.05,0))\n",
    "    CTL_15 = int(round(totalRecords*0.15,0))\n",
    "    CTL_25 = int(round(totalRecords*0.25,0))\n",
    "    CTL_35 = int(round(totalRecords*0.35,0))\n",
    "    CTL_45 = int(round(totalRecords*0.45,0))\n",
    "    CTL_55 = int(round(totalRecords*0.55,0))\n",
    "    CTL_65 = int(round(totalRecords*0.65,0))\n",
    "    CTL_75 = int(round(totalRecords*0.75,0))\n",
    "    CTL_85 = int(round(totalRecords*0.85,0))\n",
    "    CTL_95 = int(round(totalRecords*0.95,0))\n",
    "\n",
    "    Threshold_List = [1, CTL_05, CTL_10, CTL_15, CTL_20, CTL_25, CTL_30, CTL_35, CTL_40, CTL_45, \n",
    "                    CTL_50, CTL_55, CTL_60, CTL_65, CTL_70, CTL_75, CTL_80, CTL_85, \n",
    "                    CTL_90, CTL_95, CTL_100]\n",
    "    return Threshold_List\n"
   ]
  },
  {
   "source": [
    "# Section 1: Import libraries"
   ],
   "cell_type": "markdown",
   "metadata": {}
  },
  {
   "cell_type": "code",
   "execution_count": 2,
   "metadata": {},
   "outputs": [],
   "source": [
    "# Install any missing libraries\n",
    "# pip install xgboost\n",
    "# pip install tpot"
   ]
  },
  {
   "cell_type": "code",
   "execution_count": 3,
   "metadata": {},
   "outputs": [],
   "source": [
    "# Initialized required packages\n",
    "# Standard packages\n",
    "import numpy as np\n",
    "import pandas as pd\n",
    "import scipy as sp\n",
    "import csv\n",
    "import time\n",
    "import joblib\n",
    "\n",
    "# Graphing packages\n",
    "# import seaborn as sns\n",
    "\n",
    "# import matplotlib\n",
    "# import matplotlib.pyplot as plt\n",
    "# import matplotlib.patches as mpatches\n",
    "# import matplotlib.lines as mlines\n",
    "\n",
    "# Data preparation\n",
    "from sklearn.preprocessing import LabelEncoder\n",
    "\n",
    "# Modeling packages\n",
    "# import tensorflow as tf\n",
    "# import sklearn as skl\n",
    "from sklearn.model_selection import train_test_split\n",
    "\n",
    "# Regression modeling\n",
    "# from sklearn.linear_model import LinearRegression\n",
    "# from sklearn.linear_model import LogisticRegression\n",
    "# from sklearn.tree import DecisionTreeClassifier\n",
    "# from sklearn.neighbors import KNeighborsClassifier\n",
    "# from sklearn.discriminant_analysis import LinearDiscriminantAnalysis\n",
    "# from sklearn.gaussian_process import GaussianProcessRegressor\n",
    "# from sklearn.gaussian_process.kernels import DotProduct, WhiteKernel\n",
    "# from sklearn.naive_bayes import GaussianNB\n",
    "# from sklearn.svm import SVC\n",
    "# from sklearn import model_selection\n",
    "from sklearn.ensemble import RandomForestClassifier\n",
    "# import xgboost as xgb\n",
    "\n",
    "# to fix xgboost warnings error\n",
    "# https://github.com/EpistasisLab/tpot/issues/1139\n",
    "# \"Starting in XGBoost 1.3.0, the default evaluation metric used with the objective 'binary:logistic' was changed from 'error' to 'logloss'. Explicitly set eval_metric if you'd like to restore the old behavior.\"\n",
    "# from tpot import TPOTClassifier\n",
    "# from tpot.config import classifier_config_dict\n",
    "\n",
    "# from sklearn.ensemble import RandomForestRegressor\n",
    "\n",
    "\n",
    "# https://scikit-learn.org/stable/modules/generated/sklearn.model_selection.RandomizedSearchCV.html\n",
    "from sklearn.model_selection import RandomizedSearchCV\n",
    "\n",
    "# https://scikit-learn.org/stable/modules/generated/sklearn.model_selection.GridSearchCV.html?highlight=gridsearchcv#sklearn.model_selection.GridSearchCV\n",
    "# from sklearn.model_selection import GridSearchCV\n",
    "\n",
    "# from sklearn.model_selection import cross_val_score\n",
    "\n",
    "# Confusion matrix, Accuracy, sensitivity and specificity\n",
    "# from sklearn.model_selection import cross_val_score\n",
    "# from sklearn.metrics import mean_squared_error, r2_score\n",
    "# from sklearn.metrics import precision_score, \\\n",
    "    # recall_score, confusion_matrix, classification_report, \\\n",
    "    # accuracy_score, f1_score\n",
    "\n",
    "# from sklearn.feature_selection import VarianceThreshold \n",
    "# from sklearn.feature_selection import RFE \n",
    "# from sklearn.feature_selection import RFECV\n",
    "\n",
    "# Clustering\n",
    "# from sklearn.datasets import make_blobs\n",
    "# from sklearn.cluster import KMeans\n",
    "# from sklearn.metrics import silhouette_samples, silhouette_score\n",
    "\n",
    "# Following code is being deprecated\n",
    "# from sklearn.datasets.samples_generator import make_blobs\n",
    "\n",
    "# Initialize variables if there is any debugging required\n",
    "# Insert following line and activate the debugging.\n",
    "# # VALIDATION CODE \n",
    "# if debug_active == 'yes':\n",
    "# \n",
    "# Use \"display(df)\"\" if the result command is \"df\" to retain the same format\n",
    "\n",
    "\n",
    "\n",
    "start_time = time.time()"
   ]
  },
  {
   "source": [
    "# Section 2: Configuration of variables\n",
    "\n",
    "- Must manually set the following variables\n",
    "\n",
    "- gameTypeListed as one of the following: 'Pre Season', 'Regular Season', 'Playoffs'\n",
    "\n"
   ],
   "cell_type": "markdown",
   "metadata": {}
  },
  {
   "cell_type": "code",
   "execution_count": 4,
   "metadata": {},
   "outputs": [],
   "source": [
    "\n",
    "# General configuration\n",
    "debug_active = 'yes'\n",
    "loop_max = 100\n",
    "# showNumRecs = 15\n",
    "numFormat = '{:.4f}'\n",
    "numFormat_Pct = \"{:.0%}\"\n",
    "\n",
    "# Data Transformation 'yes' or other\n",
    "# dataEnhancement_active = 'yes'\n",
    "dataEnhancement_active = 'no'\n",
    "aggregatedTORGames = 'yes'\n",
    "\n",
    "# Section 3.1: Load the dataset from file\n",
    "# pick who is running the code and comment out the others\n",
    "# coder = 'bhavika'\n",
    "# coder = 'cindy'\n",
    "coder = 'dennis'\n",
    "\n",
    "\n",
    "# Folder locations\n",
    "if aggregatedTORGames == 'yes':\n",
    "    folder_Input = 'D:/_Data-Den/GitHub/Capstone/Data/AggrgatedGameLogs/'\n",
    "else:\n",
    "    folder_Input = './'\n",
    "folder_Output = 'D:/_Data-Den/GitHub/Capstone/Code/_Dennis_Sandbox/_Output/'\n",
    "\n",
    "# Setup file name for csv or Excel (.xlsx)\n",
    "if coder == 'bhavika':\n",
    "    filename = 'D:/McMaster/DAT205/Capstone/Data/HistoricalGameLogs_2004-05_to_2019-20_ALL.csv'\n",
    "elif coder == 'dennis':\n",
    "    # filename = './HistoricalGameLogs_2004-05_to_2019-20_ALL.csv'\n",
    "    # filename = './DAT205_Output_Enhanced_df_TF 2004-2020.csv'\n",
    "    filename = folder_Input + 'AggrgatedGameLogs_2019-2020_Regular_NewPlayers_V2.csv'\n",
    "    # Test Data files\n",
    "    # filename = './HistoricalGameLogs_2007-08_to_2008-09_ALL.csv'\n",
    "    # filename = './DAT205_Output_Enhanced_df_TF 2007-09.csv'\n",
    "  \n",
    "\n",
    "# filename = filename + seasonStart + '_to_' + seasonEnd + '_' + gameType + '.csv'\n",
    "# filename = filename + seasonStart + '_to_' + seasonEnd + '_ALL' + '.csv'\n",
    "\n",
    "\n",
    "# Section 4.4 Filter data by Team (if specified)\n",
    "# Filter the dataset by team or None\n",
    "allTeamsList = ['CLE', 'LAC', 'NOH', 'WAS', 'ORL', 'NJN', 'PHX', 'DET', 'IND', \\\n",
    "       'CHA', 'DAL', 'ATL', 'NYK', 'CHI', 'BOS', 'MIN', 'PHI', 'HOU', \\\n",
    "       'POR', 'TOR', 'SAC', 'UTA', 'GSW', 'MIA', 'SEA', 'MEM', 'LAL', \\\n",
    "       'SAS', 'DEN', 'MIL', 'NOK', 'ZAK', 'CHN', 'PAN', 'RMA', 'MMT', \\\n",
    "       'MTA', 'MAL', 'LRO', 'EPT', 'OKC', 'LRY', 'BAR', 'MOS', 'OLP', \\\n",
    "       'PAR', 'LAB', 'MAC', 'MLN', 'BKN', 'FCB', 'RMD', 'MPS', 'EAM', \\\n",
    "       'ALB', 'FBU', 'NOP', 'UBB', 'FLA', 'BAU', 'FEN', 'SLA', 'SDS', \\\n",
    "       'BNE', 'MEL', 'SYD', 'GUA', 'PER', 'ADL', 'NZB', 'BJD', 'FRA']\n",
    "# teamSelected = 'None'\n",
    "teamSelected = 'TOR'\n",
    "\n",
    "# Section 6: Modeling and Analysis\n",
    "random_state_val = 42\n",
    "model_list = ['LogRegM', 'DTM', 'RFM', 'RFM_RSCV', 'XGBM']\n",
    "\n",
    "# Which models are active. At least 1 must be yes\n",
    "useModel_LogRegM = 'no'\n",
    "useModel_LogRegM_RSCV = 'no'\n",
    "useModel_DTM = 'no'\n",
    "useModel_DTM_RSCV = 'no'\n",
    "useModel_RFM = 'yes'\n",
    "useModel_RFM_RSCV = 'no'\n",
    "useModel_XGBM = 'no'\n",
    "useModel_XGBM_RSCV = 'no'\n",
    "useModel_SVCM = 'no'\n",
    "\n",
    "\n",
    "# Section 6.1: Prepare train and test data\n",
    "# Select a season \n",
    "gameTypeListed = ['Pre Season', 'Regular Season', 'Playoffs']\n",
    "gameTypeListed_code = [0, 1, 2]\n",
    "gameTypeToProcess = 1\n",
    "test_size_val = 1.0\n",
    "\n",
    "# Section 5: Analysis - Heat Maps / Correlation Matrices\n",
    "plotSize = (20,15)\n",
    "\n"
   ]
  },
  {
   "source": [
    "# Section 3: Load the dataset from file and initial analysis"
   ],
   "cell_type": "markdown",
   "metadata": {}
  },
  {
   "source": [
    "## Section 3.1: Load the dataset from file"
   ],
   "cell_type": "markdown",
   "metadata": {}
  },
  {
   "cell_type": "code",
   "execution_count": 5,
   "metadata": {},
   "outputs": [
    {
     "output_type": "display_data",
     "data": {
      "text/plain": "   SEASON_YEAR       Game_Type     TEAM_ID TEAM_ABBREVIATION        TEAM_NAME  \\\n0      2019-20  Regular Season  1610612761               TOR  Toronto Raptors   \n1      2019-20  Regular Season  1610612761               TOR  Toronto Raptors   \n2      2019-20  Regular Season  1610612761               TOR  Toronto Raptors   \n3      2019-20  Regular Season  1610612761               TOR  Toronto Raptors   \n4      2019-20  Regular Season  1610612761               TOR  Toronto Raptors   \n..         ...             ...         ...               ...              ...   \n67     2019-20  Regular Season  1610612761               TOR  Toronto Raptors   \n68     2019-20  Regular Season  1610612761               TOR  Toronto Raptors   \n69     2019-20  Regular Season  1610612761               TOR  Toronto Raptors   \n70     2019-20  Regular Season  1610612761               TOR  Toronto Raptors   \n71     2019-20  Regular Season  1610612761               TOR  Toronto Raptors   \n\n     GAME_ID            GAME_DATE      MATCHUP         MIN   FGM  ...   STL  \\\n0   21900001  2019-10-22T00:00:00  TOR vs. NOP  265.000000  42.0  ...   7.0   \n1   21900017  2019-10-25T00:00:00    TOR @ BOS  248.394444  39.5  ...   2.5   \n2   21900031  2019-10-26T00:00:00    TOR @ CHI  248.661111  40.5  ...   8.5   \n3   21900044  2019-10-28T00:00:00  TOR vs. ORL  247.670000  35.0  ...   9.0   \n4   21900060  2019-10-30T00:00:00  TOR vs. DET  241.616667  52.0  ...  13.0   \n..       ...                  ...          ...         ...   ...  ...   ...   \n67  21901279  2020-08-07T00:00:00  TOR vs. BOS  248.094444  38.5  ...   8.5   \n68  21901286  2020-08-09T00:00:00  TOR vs. MEM  240.000000  34.0  ...  17.0   \n69  21901294  2020-08-10T00:00:00    TOR @ MIL  243.264444  45.5  ...  10.5   \n70  21901305  2020-08-12T00:00:00    TOR @ PHI  244.627778  41.5  ...   8.5   \n71  21901318  2020-08-14T00:00:00  TOR vs. DEN  224.844444  39.5  ...   7.5   \n\n          BLK       BLKA    PF        PFD    PTS  PLUS_MINUS  DD2  TD3  \\\n0    3.000000   9.000000  24.0  34.000000  130.0         8.0    1    0   \n1    6.166667   8.833333  27.0  21.833333  111.5        -4.5    0    0   \n2   12.166667   2.833333  24.0  23.833333  114.5        26.9    0    0   \n3    2.000000   7.000000  22.0  22.000000  109.0        10.6    1    0   \n4    2.000000   2.000000  23.0  18.000000  128.0        15.4    1    0   \n..        ...        ...   ...        ...    ...         ...  ...  ...   \n67   7.166667   2.833333  19.0  22.833333  101.5       -23.1    0    0   \n68   7.000000   3.000000  23.0  27.000000  108.0         9.0    1    0   \n69   6.166667   6.833333  27.0  21.833333  122.5         9.7    1    0   \n70   6.166667  10.833333  24.0  28.833333  128.5         3.5    0    0   \n71   4.166667  11.833333  20.0  14.833333  102.5         8.3    0    0   \n\n           PER  \n0   129.756301  \n1   122.495341  \n2   233.266292  \n3   127.036927  \n4   190.942918  \n..         ...  \n67  192.229912  \n68  158.325098  \n69  193.822673  \n70  291.068161  \n71  185.044394  \n\n[72 rows x 33 columns]",
      "text/html": "<div>\n<style scoped>\n    .dataframe tbody tr th:only-of-type {\n        vertical-align: middle;\n    }\n\n    .dataframe tbody tr th {\n        vertical-align: top;\n    }\n\n    .dataframe thead th {\n        text-align: right;\n    }\n</style>\n<table border=\"1\" class=\"dataframe\">\n  <thead>\n    <tr style=\"text-align: right;\">\n      <th></th>\n      <th>SEASON_YEAR</th>\n      <th>Game_Type</th>\n      <th>TEAM_ID</th>\n      <th>TEAM_ABBREVIATION</th>\n      <th>TEAM_NAME</th>\n      <th>GAME_ID</th>\n      <th>GAME_DATE</th>\n      <th>MATCHUP</th>\n      <th>MIN</th>\n      <th>FGM</th>\n      <th>...</th>\n      <th>STL</th>\n      <th>BLK</th>\n      <th>BLKA</th>\n      <th>PF</th>\n      <th>PFD</th>\n      <th>PTS</th>\n      <th>PLUS_MINUS</th>\n      <th>DD2</th>\n      <th>TD3</th>\n      <th>PER</th>\n    </tr>\n  </thead>\n  <tbody>\n    <tr>\n      <th>0</th>\n      <td>2019-20</td>\n      <td>Regular Season</td>\n      <td>1610612761</td>\n      <td>TOR</td>\n      <td>Toronto Raptors</td>\n      <td>21900001</td>\n      <td>2019-10-22T00:00:00</td>\n      <td>TOR vs. NOP</td>\n      <td>265.000000</td>\n      <td>42.0</td>\n      <td>...</td>\n      <td>7.0</td>\n      <td>3.000000</td>\n      <td>9.000000</td>\n      <td>24.0</td>\n      <td>34.000000</td>\n      <td>130.0</td>\n      <td>8.0</td>\n      <td>1</td>\n      <td>0</td>\n      <td>129.756301</td>\n    </tr>\n    <tr>\n      <th>1</th>\n      <td>2019-20</td>\n      <td>Regular Season</td>\n      <td>1610612761</td>\n      <td>TOR</td>\n      <td>Toronto Raptors</td>\n      <td>21900017</td>\n      <td>2019-10-25T00:00:00</td>\n      <td>TOR @ BOS</td>\n      <td>248.394444</td>\n      <td>39.5</td>\n      <td>...</td>\n      <td>2.5</td>\n      <td>6.166667</td>\n      <td>8.833333</td>\n      <td>27.0</td>\n      <td>21.833333</td>\n      <td>111.5</td>\n      <td>-4.5</td>\n      <td>0</td>\n      <td>0</td>\n      <td>122.495341</td>\n    </tr>\n    <tr>\n      <th>2</th>\n      <td>2019-20</td>\n      <td>Regular Season</td>\n      <td>1610612761</td>\n      <td>TOR</td>\n      <td>Toronto Raptors</td>\n      <td>21900031</td>\n      <td>2019-10-26T00:00:00</td>\n      <td>TOR @ CHI</td>\n      <td>248.661111</td>\n      <td>40.5</td>\n      <td>...</td>\n      <td>8.5</td>\n      <td>12.166667</td>\n      <td>2.833333</td>\n      <td>24.0</td>\n      <td>23.833333</td>\n      <td>114.5</td>\n      <td>26.9</td>\n      <td>0</td>\n      <td>0</td>\n      <td>233.266292</td>\n    </tr>\n    <tr>\n      <th>3</th>\n      <td>2019-20</td>\n      <td>Regular Season</td>\n      <td>1610612761</td>\n      <td>TOR</td>\n      <td>Toronto Raptors</td>\n      <td>21900044</td>\n      <td>2019-10-28T00:00:00</td>\n      <td>TOR vs. ORL</td>\n      <td>247.670000</td>\n      <td>35.0</td>\n      <td>...</td>\n      <td>9.0</td>\n      <td>2.000000</td>\n      <td>7.000000</td>\n      <td>22.0</td>\n      <td>22.000000</td>\n      <td>109.0</td>\n      <td>10.6</td>\n      <td>1</td>\n      <td>0</td>\n      <td>127.036927</td>\n    </tr>\n    <tr>\n      <th>4</th>\n      <td>2019-20</td>\n      <td>Regular Season</td>\n      <td>1610612761</td>\n      <td>TOR</td>\n      <td>Toronto Raptors</td>\n      <td>21900060</td>\n      <td>2019-10-30T00:00:00</td>\n      <td>TOR vs. DET</td>\n      <td>241.616667</td>\n      <td>52.0</td>\n      <td>...</td>\n      <td>13.0</td>\n      <td>2.000000</td>\n      <td>2.000000</td>\n      <td>23.0</td>\n      <td>18.000000</td>\n      <td>128.0</td>\n      <td>15.4</td>\n      <td>1</td>\n      <td>0</td>\n      <td>190.942918</td>\n    </tr>\n    <tr>\n      <th>...</th>\n      <td>...</td>\n      <td>...</td>\n      <td>...</td>\n      <td>...</td>\n      <td>...</td>\n      <td>...</td>\n      <td>...</td>\n      <td>...</td>\n      <td>...</td>\n      <td>...</td>\n      <td>...</td>\n      <td>...</td>\n      <td>...</td>\n      <td>...</td>\n      <td>...</td>\n      <td>...</td>\n      <td>...</td>\n      <td>...</td>\n      <td>...</td>\n      <td>...</td>\n      <td>...</td>\n    </tr>\n    <tr>\n      <th>67</th>\n      <td>2019-20</td>\n      <td>Regular Season</td>\n      <td>1610612761</td>\n      <td>TOR</td>\n      <td>Toronto Raptors</td>\n      <td>21901279</td>\n      <td>2020-08-07T00:00:00</td>\n      <td>TOR vs. BOS</td>\n      <td>248.094444</td>\n      <td>38.5</td>\n      <td>...</td>\n      <td>8.5</td>\n      <td>7.166667</td>\n      <td>2.833333</td>\n      <td>19.0</td>\n      <td>22.833333</td>\n      <td>101.5</td>\n      <td>-23.1</td>\n      <td>0</td>\n      <td>0</td>\n      <td>192.229912</td>\n    </tr>\n    <tr>\n      <th>68</th>\n      <td>2019-20</td>\n      <td>Regular Season</td>\n      <td>1610612761</td>\n      <td>TOR</td>\n      <td>Toronto Raptors</td>\n      <td>21901286</td>\n      <td>2020-08-09T00:00:00</td>\n      <td>TOR vs. MEM</td>\n      <td>240.000000</td>\n      <td>34.0</td>\n      <td>...</td>\n      <td>17.0</td>\n      <td>7.000000</td>\n      <td>3.000000</td>\n      <td>23.0</td>\n      <td>27.000000</td>\n      <td>108.0</td>\n      <td>9.0</td>\n      <td>1</td>\n      <td>0</td>\n      <td>158.325098</td>\n    </tr>\n    <tr>\n      <th>69</th>\n      <td>2019-20</td>\n      <td>Regular Season</td>\n      <td>1610612761</td>\n      <td>TOR</td>\n      <td>Toronto Raptors</td>\n      <td>21901294</td>\n      <td>2020-08-10T00:00:00</td>\n      <td>TOR @ MIL</td>\n      <td>243.264444</td>\n      <td>45.5</td>\n      <td>...</td>\n      <td>10.5</td>\n      <td>6.166667</td>\n      <td>6.833333</td>\n      <td>27.0</td>\n      <td>21.833333</td>\n      <td>122.5</td>\n      <td>9.7</td>\n      <td>1</td>\n      <td>0</td>\n      <td>193.822673</td>\n    </tr>\n    <tr>\n      <th>70</th>\n      <td>2019-20</td>\n      <td>Regular Season</td>\n      <td>1610612761</td>\n      <td>TOR</td>\n      <td>Toronto Raptors</td>\n      <td>21901305</td>\n      <td>2020-08-12T00:00:00</td>\n      <td>TOR @ PHI</td>\n      <td>244.627778</td>\n      <td>41.5</td>\n      <td>...</td>\n      <td>8.5</td>\n      <td>6.166667</td>\n      <td>10.833333</td>\n      <td>24.0</td>\n      <td>28.833333</td>\n      <td>128.5</td>\n      <td>3.5</td>\n      <td>0</td>\n      <td>0</td>\n      <td>291.068161</td>\n    </tr>\n    <tr>\n      <th>71</th>\n      <td>2019-20</td>\n      <td>Regular Season</td>\n      <td>1610612761</td>\n      <td>TOR</td>\n      <td>Toronto Raptors</td>\n      <td>21901318</td>\n      <td>2020-08-14T00:00:00</td>\n      <td>TOR vs. DEN</td>\n      <td>224.844444</td>\n      <td>39.5</td>\n      <td>...</td>\n      <td>7.5</td>\n      <td>4.166667</td>\n      <td>11.833333</td>\n      <td>20.0</td>\n      <td>14.833333</td>\n      <td>102.5</td>\n      <td>8.3</td>\n      <td>0</td>\n      <td>0</td>\n      <td>185.044394</td>\n    </tr>\n  </tbody>\n</table>\n<p>72 rows × 33 columns</p>\n</div>"
     },
     "metadata": {}
    },
    {
     "output_type": "display_data",
     "data": {
      "text/plain": "(72, 33)"
     },
     "metadata": {}
    },
    {
     "output_type": "stream",
     "name": "stdout",
     "text": [
      "Shape of the dataset\n<class 'pandas.core.frame.DataFrame'>\nRangeIndex: 72 entries, 0 to 71\nData columns (total 33 columns):\n #   Column             Non-Null Count  Dtype  \n---  ------             --------------  -----  \n 0   SEASON_YEAR        72 non-null     object \n 1   Game_Type          72 non-null     object \n 2   TEAM_ID            72 non-null     int64  \n 3   TEAM_ABBREVIATION  72 non-null     object \n 4   TEAM_NAME          72 non-null     object \n 5   GAME_ID            72 non-null     object \n 6   GAME_DATE          72 non-null     object \n 7   MATCHUP            72 non-null     object \n 8   MIN                72 non-null     float64\n 9   FGM                72 non-null     float64\n 10  FGA                72 non-null     float64\n 11  FG_PCT             72 non-null     float64\n 12  FG3M               72 non-null     float64\n 13  FG3A               72 non-null     float64\n 14  FG3_PCT            72 non-null     float64\n 15  FTM                72 non-null     float64\n 16  FTA                72 non-null     float64\n 17  FT_PCT             72 non-null     float64\n 18  OREB               72 non-null     float64\n 19  DREB               72 non-null     float64\n 20  REB                72 non-null     float64\n 21  AST                72 non-null     float64\n 22  TOV                72 non-null     float64\n 23  STL                72 non-null     float64\n 24  BLK                72 non-null     float64\n 25  BLKA               72 non-null     float64\n 26  PF                 72 non-null     float64\n 27  PFD                72 non-null     float64\n 28  PTS                72 non-null     float64\n 29  PLUS_MINUS         72 non-null     float64\n 30  DD2                72 non-null     int64  \n 31  TD3                72 non-null     int64  \n 32  PER                72 non-null     float64\ndtypes: float64(23), int64(3), object(7)\nmemory usage: 18.7+ KB\n"
     ]
    }
   ],
   "source": [
    "# load the CSV or Excel file \n",
    "# Note the other option in Jupyter Notebook is to use the upload the csv files before running the code\n",
    "\n",
    "# lst of column names which needs to be string\n",
    "lst_str_cols = ['GAME_ID']\n",
    "# use dictionary comprehension to make dict of dtypes\n",
    "dict_dtypes = {x : 'str'  for x in lst_str_cols}\n",
    "# use dict on dtypes\n",
    "df = pd.read_csv(filename, dtype=dict_dtypes)\n",
    "# Excel file import\n",
    "# df = pd.read_excel(filename)\n",
    "\n",
    "# Remove duplicate index from import\n",
    "unwanted_list = ['Unnamed: 0']\n",
    "\n",
    "\n",
    "X_headers_list = df.columns.tolist()\n",
    "for x in unwanted_list:\n",
    "    X_headers_list.remove(x)\n",
    "\n",
    "# Display current dataframe\n",
    "df_Initial = df[X_headers_list]\n",
    "\n",
    "# VALIDATION CODE \n",
    "if debug_active == 'yes':\n",
    "    display(df_Initial)\n",
    "    # Examine shape of dataframe\n",
    "    display(df_Initial.shape)\n",
    "    # Examine the type of attributes in the dataframe\n",
    "    print(\"Shape of the dataset\")\n",
    "    df_Initial.info()\n",
    "    # Describe the numerical data\n",
    "    df_Initial.describe()\n",
    "    \n"
   ]
  },
  {
   "source": [
    "## Section 3.2: Initial Analysis"
   ],
   "cell_type": "markdown",
   "metadata": {}
  },
  {
   "cell_type": "code",
   "execution_count": 6,
   "metadata": {},
   "outputs": [
    {
     "output_type": "stream",
     "name": "stdout",
     "text": [
      "VALIDATION CODE\n['SEASON_YEAR', 'Game_Type', 'TEAM_ABBREVIATION', 'TEAM_NAME', 'GAME_ID', 'GAME_DATE', 'MATCHUP']\n\n\n==== Description of the categorical features ====\n"
     ]
    },
    {
     "output_type": "display_data",
     "data": {
      "text/plain": "       SEASON_YEAR       Game_Type TEAM_ABBREVIATION        TEAM_NAME  \\\ncount           72              72                72               72   \nunique           1               1                 1                1   \ntop        2019-20  Regular Season               TOR  Toronto Raptors   \nfreq            72              72                72               72   \n\n         GAME_ID            GAME_DATE      MATCHUP  \ncount         72                   72           72  \nunique        72                   72           54  \ntop     21900809  2019-12-03T00:00:00  TOR vs. IND  \nfreq           1                    1            2  ",
      "text/html": "<div>\n<style scoped>\n    .dataframe tbody tr th:only-of-type {\n        vertical-align: middle;\n    }\n\n    .dataframe tbody tr th {\n        vertical-align: top;\n    }\n\n    .dataframe thead th {\n        text-align: right;\n    }\n</style>\n<table border=\"1\" class=\"dataframe\">\n  <thead>\n    <tr style=\"text-align: right;\">\n      <th></th>\n      <th>SEASON_YEAR</th>\n      <th>Game_Type</th>\n      <th>TEAM_ABBREVIATION</th>\n      <th>TEAM_NAME</th>\n      <th>GAME_ID</th>\n      <th>GAME_DATE</th>\n      <th>MATCHUP</th>\n    </tr>\n  </thead>\n  <tbody>\n    <tr>\n      <th>count</th>\n      <td>72</td>\n      <td>72</td>\n      <td>72</td>\n      <td>72</td>\n      <td>72</td>\n      <td>72</td>\n      <td>72</td>\n    </tr>\n    <tr>\n      <th>unique</th>\n      <td>1</td>\n      <td>1</td>\n      <td>1</td>\n      <td>1</td>\n      <td>72</td>\n      <td>72</td>\n      <td>54</td>\n    </tr>\n    <tr>\n      <th>top</th>\n      <td>2019-20</td>\n      <td>Regular Season</td>\n      <td>TOR</td>\n      <td>Toronto Raptors</td>\n      <td>21900809</td>\n      <td>2019-12-03T00:00:00</td>\n      <td>TOR vs. IND</td>\n    </tr>\n    <tr>\n      <th>freq</th>\n      <td>72</td>\n      <td>72</td>\n      <td>72</td>\n      <td>72</td>\n      <td>1</td>\n      <td>1</td>\n      <td>2</td>\n    </tr>\n  </tbody>\n</table>\n</div>"
     },
     "metadata": {}
    },
    {
     "output_type": "stream",
     "name": "stdout",
     "text": [
      "\n\n==== Null value analysis ====\n"
     ]
    },
    {
     "output_type": "execute_result",
     "data": {
      "text/plain": [
       "Empty DataFrame\n",
       "Columns: [Count, Percent]\n",
       "Index: []"
      ],
      "text/html": "<div>\n<style scoped>\n    .dataframe tbody tr th:only-of-type {\n        vertical-align: middle;\n    }\n\n    .dataframe tbody tr th {\n        vertical-align: top;\n    }\n\n    .dataframe thead th {\n        text-align: right;\n    }\n</style>\n<table border=\"1\" class=\"dataframe\">\n  <thead>\n    <tr style=\"text-align: right;\">\n      <th></th>\n      <th>Count</th>\n      <th>Percent</th>\n    </tr>\n  </thead>\n  <tbody>\n  </tbody>\n</table>\n</div>"
     },
     "metadata": {},
     "execution_count": 6
    }
   ],
   "source": [
    "# Display the headers of columns that use descriptive or non-numerical values\n",
    "categorical_Features = df_Initial.dtypes[df_Initial.dtypes == \"object\"].index.tolist()\n",
    "\n",
    "# VALIDATION CODE \n",
    "if debug_active == 'yes':\n",
    "    print(\"VALIDATION CODE\")\n",
    "    print(categorical_Features)\n",
    "\n",
    "# Describe the categorical data\n",
    "print(\"\")\n",
    "print(\"\")\n",
    "print(\"==== Description of the categorical features ====\")\n",
    "display(df_Initial[categorical_Features].describe())\n",
    "\n",
    "# # Null field analysis\n",
    "nullFieldAnalysis(df_Initial)\n",
    "# # Null field analysis\n",
    "# df_missingDataInfo = pd.DataFrame({'Count': df_Initial.isnull().sum(), 'Percent': 100*df_Initial.isnull().sum()/len(df)})\n",
    "\n",
    "# #Printing the columns with over XX% of missing values (ie 60 = 60%) This is set to 0 for 0%\n",
    "# null_threshold = 0 \n",
    "# print(\"\")\n",
    "# print(\"\")\n",
    "# print(\"==== Null value analysis ====\")\n",
    "# df_missingDataInfo[df_missingDataInfo['Percent'] > null_threshold].sort_values(by=['Percent'])"
   ]
  },
  {
   "source": [
    "# "
   ],
   "cell_type": "markdown",
   "metadata": {}
  },
  {
   "source": [
    "# Section 4: Transforming/cleansing the data "
   ],
   "cell_type": "markdown",
   "metadata": {}
  },
  {
   "source": [
    "## Data cleansing of nulls (Not working)\n",
    "\n",
    "## Correction to missing PreSeason games WL values only \n",
    "\n",
    "49 PreSeason records \n",
    "\n",
    "2007-08 \n",
    "GAME_ID 0010700072 / 2007-10-19\n",
    "BOS vs NJN   W 36 to L 33\n",
    "\n",
    "2008-09 \n",
    "GAME_ID 0010800035 / 2008-10-11\n",
    "DEN vs PHX   W 77 to L 72\n",
    "Note some player game data seems missing\n",
    "\n",
    "## Corrected missing player name data\n",
    "\n",
    "740 records (727 preseason and 13 regular season)\n",
    "\n",
    "This is not important as the player names are excluded from the analysis\n",
    "\n"
   ],
   "cell_type": "markdown",
   "metadata": {}
  },
  {
   "source": [
    "## Section 4.1: Enhance the data"
   ],
   "cell_type": "markdown",
   "metadata": {}
  },
  {
   "cell_type": "code",
   "execution_count": 7,
   "metadata": {},
   "outputs": [
    {
     "output_type": "stream",
     "name": "stdout",
     "text": [
      "72\n"
     ]
    },
    {
     "output_type": "display_data",
     "data": {
      "text/plain": "   SEASON_YEAR       Game_Type     TEAM_ID TEAM_ABBREVIATION        TEAM_NAME  \\\n0      2019-20  Regular Season  1610612761               TOR  Toronto Raptors   \n1      2019-20  Regular Season  1610612761               TOR  Toronto Raptors   \n2      2019-20  Regular Season  1610612761               TOR  Toronto Raptors   \n3      2019-20  Regular Season  1610612761               TOR  Toronto Raptors   \n4      2019-20  Regular Season  1610612761               TOR  Toronto Raptors   \n..         ...             ...         ...               ...              ...   \n67     2019-20  Regular Season  1610612761               TOR  Toronto Raptors   \n68     2019-20  Regular Season  1610612761               TOR  Toronto Raptors   \n69     2019-20  Regular Season  1610612761               TOR  Toronto Raptors   \n70     2019-20  Regular Season  1610612761               TOR  Toronto Raptors   \n71     2019-20  Regular Season  1610612761               TOR  Toronto Raptors   \n\n     GAME_ID            GAME_DATE      MATCHUP         MIN   FGM  ...   STL  \\\n0   21900001  2019-10-22T00:00:00  TOR vs. NOP  265.000000  42.0  ...   7.0   \n1   21900017  2019-10-25T00:00:00    TOR @ BOS  248.394444  39.5  ...   2.5   \n2   21900031  2019-10-26T00:00:00    TOR @ CHI  248.661111  40.5  ...   8.5   \n3   21900044  2019-10-28T00:00:00  TOR vs. ORL  247.670000  35.0  ...   9.0   \n4   21900060  2019-10-30T00:00:00  TOR vs. DET  241.616667  52.0  ...  13.0   \n..       ...                  ...          ...         ...   ...  ...   ...   \n67  21901279  2020-08-07T00:00:00  TOR vs. BOS  248.094444  38.5  ...   8.5   \n68  21901286  2020-08-09T00:00:00  TOR vs. MEM  240.000000  34.0  ...  17.0   \n69  21901294  2020-08-10T00:00:00    TOR @ MIL  243.264444  45.5  ...  10.5   \n70  21901305  2020-08-12T00:00:00    TOR @ PHI  244.627778  41.5  ...   8.5   \n71  21901318  2020-08-14T00:00:00  TOR vs. DEN  224.844444  39.5  ...   7.5   \n\n          BLK       BLKA    PF        PFD    PTS  PLUS_MINUS  DD2  TD3  \\\n0    3.000000   9.000000  24.0  34.000000  130.0         8.0    1    0   \n1    6.166667   8.833333  27.0  21.833333  111.5        -4.5    0    0   \n2   12.166667   2.833333  24.0  23.833333  114.5        26.9    0    0   \n3    2.000000   7.000000  22.0  22.000000  109.0        10.6    1    0   \n4    2.000000   2.000000  23.0  18.000000  128.0        15.4    1    0   \n..        ...        ...   ...        ...    ...         ...  ...  ...   \n67   7.166667   2.833333  19.0  22.833333  101.5       -23.1    0    0   \n68   7.000000   3.000000  23.0  27.000000  108.0         9.0    1    0   \n69   6.166667   6.833333  27.0  21.833333  122.5         9.7    1    0   \n70   6.166667  10.833333  24.0  28.833333  128.5         3.5    0    0   \n71   4.166667  11.833333  20.0  14.833333  102.5         8.3    0    0   \n\n           PER  \n0   129.756301  \n1   122.495341  \n2   233.266292  \n3   127.036927  \n4   190.942918  \n..         ...  \n67  192.229912  \n68  158.325098  \n69  193.822673  \n70  291.068161  \n71  185.044394  \n\n[72 rows x 33 columns]",
      "text/html": "<div>\n<style scoped>\n    .dataframe tbody tr th:only-of-type {\n        vertical-align: middle;\n    }\n\n    .dataframe tbody tr th {\n        vertical-align: top;\n    }\n\n    .dataframe thead th {\n        text-align: right;\n    }\n</style>\n<table border=\"1\" class=\"dataframe\">\n  <thead>\n    <tr style=\"text-align: right;\">\n      <th></th>\n      <th>SEASON_YEAR</th>\n      <th>Game_Type</th>\n      <th>TEAM_ID</th>\n      <th>TEAM_ABBREVIATION</th>\n      <th>TEAM_NAME</th>\n      <th>GAME_ID</th>\n      <th>GAME_DATE</th>\n      <th>MATCHUP</th>\n      <th>MIN</th>\n      <th>FGM</th>\n      <th>...</th>\n      <th>STL</th>\n      <th>BLK</th>\n      <th>BLKA</th>\n      <th>PF</th>\n      <th>PFD</th>\n      <th>PTS</th>\n      <th>PLUS_MINUS</th>\n      <th>DD2</th>\n      <th>TD3</th>\n      <th>PER</th>\n    </tr>\n  </thead>\n  <tbody>\n    <tr>\n      <th>0</th>\n      <td>2019-20</td>\n      <td>Regular Season</td>\n      <td>1610612761</td>\n      <td>TOR</td>\n      <td>Toronto Raptors</td>\n      <td>21900001</td>\n      <td>2019-10-22T00:00:00</td>\n      <td>TOR vs. NOP</td>\n      <td>265.000000</td>\n      <td>42.0</td>\n      <td>...</td>\n      <td>7.0</td>\n      <td>3.000000</td>\n      <td>9.000000</td>\n      <td>24.0</td>\n      <td>34.000000</td>\n      <td>130.0</td>\n      <td>8.0</td>\n      <td>1</td>\n      <td>0</td>\n      <td>129.756301</td>\n    </tr>\n    <tr>\n      <th>1</th>\n      <td>2019-20</td>\n      <td>Regular Season</td>\n      <td>1610612761</td>\n      <td>TOR</td>\n      <td>Toronto Raptors</td>\n      <td>21900017</td>\n      <td>2019-10-25T00:00:00</td>\n      <td>TOR @ BOS</td>\n      <td>248.394444</td>\n      <td>39.5</td>\n      <td>...</td>\n      <td>2.5</td>\n      <td>6.166667</td>\n      <td>8.833333</td>\n      <td>27.0</td>\n      <td>21.833333</td>\n      <td>111.5</td>\n      <td>-4.5</td>\n      <td>0</td>\n      <td>0</td>\n      <td>122.495341</td>\n    </tr>\n    <tr>\n      <th>2</th>\n      <td>2019-20</td>\n      <td>Regular Season</td>\n      <td>1610612761</td>\n      <td>TOR</td>\n      <td>Toronto Raptors</td>\n      <td>21900031</td>\n      <td>2019-10-26T00:00:00</td>\n      <td>TOR @ CHI</td>\n      <td>248.661111</td>\n      <td>40.5</td>\n      <td>...</td>\n      <td>8.5</td>\n      <td>12.166667</td>\n      <td>2.833333</td>\n      <td>24.0</td>\n      <td>23.833333</td>\n      <td>114.5</td>\n      <td>26.9</td>\n      <td>0</td>\n      <td>0</td>\n      <td>233.266292</td>\n    </tr>\n    <tr>\n      <th>3</th>\n      <td>2019-20</td>\n      <td>Regular Season</td>\n      <td>1610612761</td>\n      <td>TOR</td>\n      <td>Toronto Raptors</td>\n      <td>21900044</td>\n      <td>2019-10-28T00:00:00</td>\n      <td>TOR vs. ORL</td>\n      <td>247.670000</td>\n      <td>35.0</td>\n      <td>...</td>\n      <td>9.0</td>\n      <td>2.000000</td>\n      <td>7.000000</td>\n      <td>22.0</td>\n      <td>22.000000</td>\n      <td>109.0</td>\n      <td>10.6</td>\n      <td>1</td>\n      <td>0</td>\n      <td>127.036927</td>\n    </tr>\n    <tr>\n      <th>4</th>\n      <td>2019-20</td>\n      <td>Regular Season</td>\n      <td>1610612761</td>\n      <td>TOR</td>\n      <td>Toronto Raptors</td>\n      <td>21900060</td>\n      <td>2019-10-30T00:00:00</td>\n      <td>TOR vs. DET</td>\n      <td>241.616667</td>\n      <td>52.0</td>\n      <td>...</td>\n      <td>13.0</td>\n      <td>2.000000</td>\n      <td>2.000000</td>\n      <td>23.0</td>\n      <td>18.000000</td>\n      <td>128.0</td>\n      <td>15.4</td>\n      <td>1</td>\n      <td>0</td>\n      <td>190.942918</td>\n    </tr>\n    <tr>\n      <th>...</th>\n      <td>...</td>\n      <td>...</td>\n      <td>...</td>\n      <td>...</td>\n      <td>...</td>\n      <td>...</td>\n      <td>...</td>\n      <td>...</td>\n      <td>...</td>\n      <td>...</td>\n      <td>...</td>\n      <td>...</td>\n      <td>...</td>\n      <td>...</td>\n      <td>...</td>\n      <td>...</td>\n      <td>...</td>\n      <td>...</td>\n      <td>...</td>\n      <td>...</td>\n      <td>...</td>\n    </tr>\n    <tr>\n      <th>67</th>\n      <td>2019-20</td>\n      <td>Regular Season</td>\n      <td>1610612761</td>\n      <td>TOR</td>\n      <td>Toronto Raptors</td>\n      <td>21901279</td>\n      <td>2020-08-07T00:00:00</td>\n      <td>TOR vs. BOS</td>\n      <td>248.094444</td>\n      <td>38.5</td>\n      <td>...</td>\n      <td>8.5</td>\n      <td>7.166667</td>\n      <td>2.833333</td>\n      <td>19.0</td>\n      <td>22.833333</td>\n      <td>101.5</td>\n      <td>-23.1</td>\n      <td>0</td>\n      <td>0</td>\n      <td>192.229912</td>\n    </tr>\n    <tr>\n      <th>68</th>\n      <td>2019-20</td>\n      <td>Regular Season</td>\n      <td>1610612761</td>\n      <td>TOR</td>\n      <td>Toronto Raptors</td>\n      <td>21901286</td>\n      <td>2020-08-09T00:00:00</td>\n      <td>TOR vs. MEM</td>\n      <td>240.000000</td>\n      <td>34.0</td>\n      <td>...</td>\n      <td>17.0</td>\n      <td>7.000000</td>\n      <td>3.000000</td>\n      <td>23.0</td>\n      <td>27.000000</td>\n      <td>108.0</td>\n      <td>9.0</td>\n      <td>1</td>\n      <td>0</td>\n      <td>158.325098</td>\n    </tr>\n    <tr>\n      <th>69</th>\n      <td>2019-20</td>\n      <td>Regular Season</td>\n      <td>1610612761</td>\n      <td>TOR</td>\n      <td>Toronto Raptors</td>\n      <td>21901294</td>\n      <td>2020-08-10T00:00:00</td>\n      <td>TOR @ MIL</td>\n      <td>243.264444</td>\n      <td>45.5</td>\n      <td>...</td>\n      <td>10.5</td>\n      <td>6.166667</td>\n      <td>6.833333</td>\n      <td>27.0</td>\n      <td>21.833333</td>\n      <td>122.5</td>\n      <td>9.7</td>\n      <td>1</td>\n      <td>0</td>\n      <td>193.822673</td>\n    </tr>\n    <tr>\n      <th>70</th>\n      <td>2019-20</td>\n      <td>Regular Season</td>\n      <td>1610612761</td>\n      <td>TOR</td>\n      <td>Toronto Raptors</td>\n      <td>21901305</td>\n      <td>2020-08-12T00:00:00</td>\n      <td>TOR @ PHI</td>\n      <td>244.627778</td>\n      <td>41.5</td>\n      <td>...</td>\n      <td>8.5</td>\n      <td>6.166667</td>\n      <td>10.833333</td>\n      <td>24.0</td>\n      <td>28.833333</td>\n      <td>128.5</td>\n      <td>3.5</td>\n      <td>0</td>\n      <td>0</td>\n      <td>291.068161</td>\n    </tr>\n    <tr>\n      <th>71</th>\n      <td>2019-20</td>\n      <td>Regular Season</td>\n      <td>1610612761</td>\n      <td>TOR</td>\n      <td>Toronto Raptors</td>\n      <td>21901318</td>\n      <td>2020-08-14T00:00:00</td>\n      <td>TOR vs. DEN</td>\n      <td>224.844444</td>\n      <td>39.5</td>\n      <td>...</td>\n      <td>7.5</td>\n      <td>4.166667</td>\n      <td>11.833333</td>\n      <td>20.0</td>\n      <td>14.833333</td>\n      <td>102.5</td>\n      <td>8.3</td>\n      <td>0</td>\n      <td>0</td>\n      <td>185.044394</td>\n    </tr>\n  </tbody>\n</table>\n<p>72 rows × 33 columns</p>\n</div>"
     },
     "metadata": {}
    },
    {
     "output_type": "stream",
     "name": "stdout",
     "text": [
      "Index(['SEASON_YEAR', 'Game_Type', 'TEAM_ID', 'TEAM_ABBREVIATION', 'TEAM_NAME',\n       'GAME_ID', 'GAME_DATE', 'MATCHUP', 'MIN', 'FGM', 'FGA', 'FG_PCT',\n       'FG3M', 'FG3A', 'FG3_PCT', 'FTM', 'FTA', 'FT_PCT', 'OREB', 'DREB',\n       'REB', 'AST', 'TOV', 'STL', 'BLK', 'BLKA', 'PF', 'PFD', 'PTS',\n       'PLUS_MINUS', 'DD2', 'TD3', 'PER'],\n      dtype='object')\n"
     ]
    }
   ],
   "source": [
    "# Setup variables for data transformation\n",
    "df_TF = df_Initial\n",
    "totalNumRec = df_TF.shape[0]\n",
    "\n",
    "# Check df_TeamGameStats\n",
    "# VALIDATION CODE \n",
    "if debug_active == 'yes':\n",
    "    print(totalNumRec)\n",
    "    display(df_TF)\n",
    "    print(df_TF.columns)"
   ]
  },
  {
   "source": [
    "## Section 4.4 Filter data by Team (if specified)"
   ],
   "cell_type": "markdown",
   "metadata": {}
  },
  {
   "cell_type": "code",
   "execution_count": 8,
   "metadata": {},
   "outputs": [
    {
     "output_type": "display_data",
     "data": {
      "text/plain": "   SEASON_YEAR       Game_Type     TEAM_ID TEAM_ABBREVIATION        TEAM_NAME  \\\n0      2019-20  Regular Season  1610612761               TOR  Toronto Raptors   \n1      2019-20  Regular Season  1610612761               TOR  Toronto Raptors   \n2      2019-20  Regular Season  1610612761               TOR  Toronto Raptors   \n3      2019-20  Regular Season  1610612761               TOR  Toronto Raptors   \n4      2019-20  Regular Season  1610612761               TOR  Toronto Raptors   \n..         ...             ...         ...               ...              ...   \n67     2019-20  Regular Season  1610612761               TOR  Toronto Raptors   \n68     2019-20  Regular Season  1610612761               TOR  Toronto Raptors   \n69     2019-20  Regular Season  1610612761               TOR  Toronto Raptors   \n70     2019-20  Regular Season  1610612761               TOR  Toronto Raptors   \n71     2019-20  Regular Season  1610612761               TOR  Toronto Raptors   \n\n     GAME_ID            GAME_DATE      MATCHUP         MIN   FGM  ...   STL  \\\n0   21900001  2019-10-22T00:00:00  TOR vs. NOP  265.000000  42.0  ...   7.0   \n1   21900017  2019-10-25T00:00:00    TOR @ BOS  248.394444  39.5  ...   2.5   \n2   21900031  2019-10-26T00:00:00    TOR @ CHI  248.661111  40.5  ...   8.5   \n3   21900044  2019-10-28T00:00:00  TOR vs. ORL  247.670000  35.0  ...   9.0   \n4   21900060  2019-10-30T00:00:00  TOR vs. DET  241.616667  52.0  ...  13.0   \n..       ...                  ...          ...         ...   ...  ...   ...   \n67  21901279  2020-08-07T00:00:00  TOR vs. BOS  248.094444  38.5  ...   8.5   \n68  21901286  2020-08-09T00:00:00  TOR vs. MEM  240.000000  34.0  ...  17.0   \n69  21901294  2020-08-10T00:00:00    TOR @ MIL  243.264444  45.5  ...  10.5   \n70  21901305  2020-08-12T00:00:00    TOR @ PHI  244.627778  41.5  ...   8.5   \n71  21901318  2020-08-14T00:00:00  TOR vs. DEN  224.844444  39.5  ...   7.5   \n\n          BLK       BLKA    PF        PFD    PTS  PLUS_MINUS  DD2  TD3  \\\n0    3.000000   9.000000  24.0  34.000000  130.0         8.0    1    0   \n1    6.166667   8.833333  27.0  21.833333  111.5        -4.5    0    0   \n2   12.166667   2.833333  24.0  23.833333  114.5        26.9    0    0   \n3    2.000000   7.000000  22.0  22.000000  109.0        10.6    1    0   \n4    2.000000   2.000000  23.0  18.000000  128.0        15.4    1    0   \n..        ...        ...   ...        ...    ...         ...  ...  ...   \n67   7.166667   2.833333  19.0  22.833333  101.5       -23.1    0    0   \n68   7.000000   3.000000  23.0  27.000000  108.0         9.0    1    0   \n69   6.166667   6.833333  27.0  21.833333  122.5         9.7    1    0   \n70   6.166667  10.833333  24.0  28.833333  128.5         3.5    0    0   \n71   4.166667  11.833333  20.0  14.833333  102.5         8.3    0    0   \n\n           PER  \n0   129.756301  \n1   122.495341  \n2   233.266292  \n3   127.036927  \n4   190.942918  \n..         ...  \n67  192.229912  \n68  158.325098  \n69  193.822673  \n70  291.068161  \n71  185.044394  \n\n[72 rows x 33 columns]",
      "text/html": "<div>\n<style scoped>\n    .dataframe tbody tr th:only-of-type {\n        vertical-align: middle;\n    }\n\n    .dataframe tbody tr th {\n        vertical-align: top;\n    }\n\n    .dataframe thead th {\n        text-align: right;\n    }\n</style>\n<table border=\"1\" class=\"dataframe\">\n  <thead>\n    <tr style=\"text-align: right;\">\n      <th></th>\n      <th>SEASON_YEAR</th>\n      <th>Game_Type</th>\n      <th>TEAM_ID</th>\n      <th>TEAM_ABBREVIATION</th>\n      <th>TEAM_NAME</th>\n      <th>GAME_ID</th>\n      <th>GAME_DATE</th>\n      <th>MATCHUP</th>\n      <th>MIN</th>\n      <th>FGM</th>\n      <th>...</th>\n      <th>STL</th>\n      <th>BLK</th>\n      <th>BLKA</th>\n      <th>PF</th>\n      <th>PFD</th>\n      <th>PTS</th>\n      <th>PLUS_MINUS</th>\n      <th>DD2</th>\n      <th>TD3</th>\n      <th>PER</th>\n    </tr>\n  </thead>\n  <tbody>\n    <tr>\n      <th>0</th>\n      <td>2019-20</td>\n      <td>Regular Season</td>\n      <td>1610612761</td>\n      <td>TOR</td>\n      <td>Toronto Raptors</td>\n      <td>21900001</td>\n      <td>2019-10-22T00:00:00</td>\n      <td>TOR vs. NOP</td>\n      <td>265.000000</td>\n      <td>42.0</td>\n      <td>...</td>\n      <td>7.0</td>\n      <td>3.000000</td>\n      <td>9.000000</td>\n      <td>24.0</td>\n      <td>34.000000</td>\n      <td>130.0</td>\n      <td>8.0</td>\n      <td>1</td>\n      <td>0</td>\n      <td>129.756301</td>\n    </tr>\n    <tr>\n      <th>1</th>\n      <td>2019-20</td>\n      <td>Regular Season</td>\n      <td>1610612761</td>\n      <td>TOR</td>\n      <td>Toronto Raptors</td>\n      <td>21900017</td>\n      <td>2019-10-25T00:00:00</td>\n      <td>TOR @ BOS</td>\n      <td>248.394444</td>\n      <td>39.5</td>\n      <td>...</td>\n      <td>2.5</td>\n      <td>6.166667</td>\n      <td>8.833333</td>\n      <td>27.0</td>\n      <td>21.833333</td>\n      <td>111.5</td>\n      <td>-4.5</td>\n      <td>0</td>\n      <td>0</td>\n      <td>122.495341</td>\n    </tr>\n    <tr>\n      <th>2</th>\n      <td>2019-20</td>\n      <td>Regular Season</td>\n      <td>1610612761</td>\n      <td>TOR</td>\n      <td>Toronto Raptors</td>\n      <td>21900031</td>\n      <td>2019-10-26T00:00:00</td>\n      <td>TOR @ CHI</td>\n      <td>248.661111</td>\n      <td>40.5</td>\n      <td>...</td>\n      <td>8.5</td>\n      <td>12.166667</td>\n      <td>2.833333</td>\n      <td>24.0</td>\n      <td>23.833333</td>\n      <td>114.5</td>\n      <td>26.9</td>\n      <td>0</td>\n      <td>0</td>\n      <td>233.266292</td>\n    </tr>\n    <tr>\n      <th>3</th>\n      <td>2019-20</td>\n      <td>Regular Season</td>\n      <td>1610612761</td>\n      <td>TOR</td>\n      <td>Toronto Raptors</td>\n      <td>21900044</td>\n      <td>2019-10-28T00:00:00</td>\n      <td>TOR vs. ORL</td>\n      <td>247.670000</td>\n      <td>35.0</td>\n      <td>...</td>\n      <td>9.0</td>\n      <td>2.000000</td>\n      <td>7.000000</td>\n      <td>22.0</td>\n      <td>22.000000</td>\n      <td>109.0</td>\n      <td>10.6</td>\n      <td>1</td>\n      <td>0</td>\n      <td>127.036927</td>\n    </tr>\n    <tr>\n      <th>4</th>\n      <td>2019-20</td>\n      <td>Regular Season</td>\n      <td>1610612761</td>\n      <td>TOR</td>\n      <td>Toronto Raptors</td>\n      <td>21900060</td>\n      <td>2019-10-30T00:00:00</td>\n      <td>TOR vs. DET</td>\n      <td>241.616667</td>\n      <td>52.0</td>\n      <td>...</td>\n      <td>13.0</td>\n      <td>2.000000</td>\n      <td>2.000000</td>\n      <td>23.0</td>\n      <td>18.000000</td>\n      <td>128.0</td>\n      <td>15.4</td>\n      <td>1</td>\n      <td>0</td>\n      <td>190.942918</td>\n    </tr>\n    <tr>\n      <th>...</th>\n      <td>...</td>\n      <td>...</td>\n      <td>...</td>\n      <td>...</td>\n      <td>...</td>\n      <td>...</td>\n      <td>...</td>\n      <td>...</td>\n      <td>...</td>\n      <td>...</td>\n      <td>...</td>\n      <td>...</td>\n      <td>...</td>\n      <td>...</td>\n      <td>...</td>\n      <td>...</td>\n      <td>...</td>\n      <td>...</td>\n      <td>...</td>\n      <td>...</td>\n      <td>...</td>\n    </tr>\n    <tr>\n      <th>67</th>\n      <td>2019-20</td>\n      <td>Regular Season</td>\n      <td>1610612761</td>\n      <td>TOR</td>\n      <td>Toronto Raptors</td>\n      <td>21901279</td>\n      <td>2020-08-07T00:00:00</td>\n      <td>TOR vs. BOS</td>\n      <td>248.094444</td>\n      <td>38.5</td>\n      <td>...</td>\n      <td>8.5</td>\n      <td>7.166667</td>\n      <td>2.833333</td>\n      <td>19.0</td>\n      <td>22.833333</td>\n      <td>101.5</td>\n      <td>-23.1</td>\n      <td>0</td>\n      <td>0</td>\n      <td>192.229912</td>\n    </tr>\n    <tr>\n      <th>68</th>\n      <td>2019-20</td>\n      <td>Regular Season</td>\n      <td>1610612761</td>\n      <td>TOR</td>\n      <td>Toronto Raptors</td>\n      <td>21901286</td>\n      <td>2020-08-09T00:00:00</td>\n      <td>TOR vs. MEM</td>\n      <td>240.000000</td>\n      <td>34.0</td>\n      <td>...</td>\n      <td>17.0</td>\n      <td>7.000000</td>\n      <td>3.000000</td>\n      <td>23.0</td>\n      <td>27.000000</td>\n      <td>108.0</td>\n      <td>9.0</td>\n      <td>1</td>\n      <td>0</td>\n      <td>158.325098</td>\n    </tr>\n    <tr>\n      <th>69</th>\n      <td>2019-20</td>\n      <td>Regular Season</td>\n      <td>1610612761</td>\n      <td>TOR</td>\n      <td>Toronto Raptors</td>\n      <td>21901294</td>\n      <td>2020-08-10T00:00:00</td>\n      <td>TOR @ MIL</td>\n      <td>243.264444</td>\n      <td>45.5</td>\n      <td>...</td>\n      <td>10.5</td>\n      <td>6.166667</td>\n      <td>6.833333</td>\n      <td>27.0</td>\n      <td>21.833333</td>\n      <td>122.5</td>\n      <td>9.7</td>\n      <td>1</td>\n      <td>0</td>\n      <td>193.822673</td>\n    </tr>\n    <tr>\n      <th>70</th>\n      <td>2019-20</td>\n      <td>Regular Season</td>\n      <td>1610612761</td>\n      <td>TOR</td>\n      <td>Toronto Raptors</td>\n      <td>21901305</td>\n      <td>2020-08-12T00:00:00</td>\n      <td>TOR @ PHI</td>\n      <td>244.627778</td>\n      <td>41.5</td>\n      <td>...</td>\n      <td>8.5</td>\n      <td>6.166667</td>\n      <td>10.833333</td>\n      <td>24.0</td>\n      <td>28.833333</td>\n      <td>128.5</td>\n      <td>3.5</td>\n      <td>0</td>\n      <td>0</td>\n      <td>291.068161</td>\n    </tr>\n    <tr>\n      <th>71</th>\n      <td>2019-20</td>\n      <td>Regular Season</td>\n      <td>1610612761</td>\n      <td>TOR</td>\n      <td>Toronto Raptors</td>\n      <td>21901318</td>\n      <td>2020-08-14T00:00:00</td>\n      <td>TOR vs. DEN</td>\n      <td>224.844444</td>\n      <td>39.5</td>\n      <td>...</td>\n      <td>7.5</td>\n      <td>4.166667</td>\n      <td>11.833333</td>\n      <td>20.0</td>\n      <td>14.833333</td>\n      <td>102.5</td>\n      <td>8.3</td>\n      <td>0</td>\n      <td>0</td>\n      <td>185.044394</td>\n    </tr>\n  </tbody>\n</table>\n<p>72 rows × 33 columns</p>\n</div>"
     },
     "metadata": {}
    }
   ],
   "source": [
    "# If a specific team is selected by 'TEAM_ABBREVIATION' then recreate the dataframe with this filter else use the entire dataset as is.\r\n",
    "if teamSelected in allTeamsList:\r\n",
    "    df_TF = df_TF[df_TF['TEAM_ABBREVIATION']==teamSelected]\r\n",
    "else:\r\n",
    "    df_TF    \r\n",
    "display(df_TF)"
   ]
  },
  {
   "source": [
    "## Section 4.5: Remove (Stage 1) from dataframe the unwanted numerical/categorical features\n",
    "\n",
    "#### Note: if data enhancement done then adjust \n",
    "unwanted_categorical_Features_TF"
   ],
   "cell_type": "markdown",
   "metadata": {}
  },
  {
   "cell_type": "code",
   "execution_count": 9,
   "metadata": {},
   "outputs": [
    {
     "output_type": "display_data",
     "data": {
      "text/plain": "['SEASON_YEAR',\n 'Game_Type',\n 'MIN',\n 'FGM',\n 'FGA',\n 'FG_PCT',\n 'FG3M',\n 'FG3A',\n 'FG3_PCT',\n 'FTM',\n 'FTA',\n 'FT_PCT',\n 'OREB',\n 'DREB',\n 'REB',\n 'AST',\n 'TOV',\n 'STL',\n 'BLK',\n 'BLKA',\n 'PF',\n 'PFD',\n 'PTS',\n 'PLUS_MINUS',\n 'DD2',\n 'TD3',\n 'PER']"
     },
     "metadata": {}
    }
   ],
   "source": [
    "# Gather current list of features\n",
    "numerical_Features = df_TF.columns.tolist()\n",
    "\n",
    "# All possible features\n",
    "# ['SEASON_YEAR', 'PLAYER_ID', 'PLAYER_NAME', 'TEAM_ID', 'TEAM_ABBREVIATION', 'TEAM_NAME', 'GAME_ID', 'GAME_DATE', 'MATCHUP', 'WL', 'MIN', 'FGM', 'FGA', 'FG_PCT', 'FG3M', 'FG3A', 'FG3_PCT', 'FTM', 'FTA', 'FT_PCT', 'OREB', 'DREB', 'REB', 'AST', 'TOV', 'STL', 'BLK', 'BLKA', 'PF', 'PFD', 'PTS', 'PLUS_MINUS', 'DD2', 'TD3', 'Game_Type']\n",
    "\n",
    "for i in categorical_Features: \n",
    "    numerical_Features.remove(i)\n",
    "\n",
    "# Lists unwanted features\n",
    "# unwanted_numerical_Features = ['PLAYER_ID', 'TEAM_ID']\n",
    "# unwanted_categorical_Features = ['PLAYER_NAME', 'TEAM_ABBREVIATION', 'TEAM_NAME', 'GAME_ID', 'GAME_DATE', 'MATCHUP']\n",
    "unwanted_numerical_Features = ['TEAM_ID']\n",
    "unwanted_categorical_Features = ['TEAM_ABBREVIATION', 'TEAM_NAME', 'GAME_ID', 'GAME_DATE', 'MATCHUP']\n",
    "\n",
    "# # if Enchancement done then use this to get rid of what extras you don't want.\n",
    "if dataEnhancement_active == 'yes':\n",
    "    unwanted_categorical_Features_TF = ['UID_STG']\n",
    "\n",
    "# unwanted_list_01 = unwanted_numerical_Features + unwanted_categorical_Features + unwanted_categorical_Features_TF\n",
    "if dataEnhancement_active == 'yes':\n",
    "    unwanted_list_01 = unwanted_numerical_Features + unwanted_categorical_Features + unwanted_categorical_Features_TF\n",
    "else:\n",
    "    unwanted_list_01 = unwanted_numerical_Features + unwanted_categorical_Features\n",
    "X_headers_list = df_TF.columns.tolist()\n",
    "\n",
    "for i in unwanted_list_01:\n",
    "    X_headers_list.remove(i)\n",
    "\n",
    "# Reset new dataframe with desired features\n",
    "df_Reduced = df_TF[X_headers_list]\n",
    "\n",
    "# Remaining attributes\n",
    "# VALIDATION CODE \n",
    "if debug_active == 'yes':\n",
    "    display(X_headers_list)"
   ]
  },
  {
   "source": [
    "## Section 4.6: Transform categorical feature (WL) using value replace"
   ],
   "cell_type": "markdown",
   "metadata": {}
  },
  {
   "cell_type": "code",
   "execution_count": 10,
   "metadata": {},
   "outputs": [
    {
     "output_type": "display_data",
     "data": {
      "text/plain": "   SEASON_YEAR  Game_Type         MIN   FGM    FGA    FG_PCT       FG3M  \\\n0      2019-20          1  265.000000  42.0  103.0  0.407767  14.000000   \n1      2019-20          1  248.394444  39.5   82.0  0.481707  17.166667   \n2      2019-20          1  248.661111  40.5   86.0  0.470930  15.166667   \n3      2019-20          1  247.670000  35.0   89.0  0.393258  10.000000   \n4      2019-20          1  241.616667  52.0   89.0  0.584270  12.000000   \n..         ...        ...         ...   ...    ...       ...        ...   \n67     2019-20          1  248.094444  38.5   91.0  0.423077   9.166667   \n68     2019-20          1  240.000000  34.0   71.0  0.478873  15.000000   \n69     2019-20          1  243.264444  45.5   99.0  0.459596  12.166667   \n70     2019-20          1  244.627778  41.5   92.0  0.451087  18.166667   \n71     2019-20          1  224.844444  39.5   80.0  0.493750  14.166667   \n\n         FG3A   FG3_PCT        FTM  ...   STL        BLK       BLKA    PF  \\\n0   40.000000  0.350000  32.000000  ...   7.0   3.000000   9.000000  24.0   \n1   34.666667  0.495192  15.333333  ...   2.5   6.166667   8.833333  27.0   \n2   41.666667  0.364000  18.333333  ...   8.5  12.166667   2.833333  24.0   \n3   39.000000  0.256410  29.000000  ...   9.0   2.000000   7.000000  22.0   \n4   26.000000  0.461538  12.000000  ...  13.0   2.000000   2.000000  23.0   \n..        ...       ...        ...  ...   ...        ...        ...   ...   \n67  36.666667  0.250000  15.333333  ...   8.5   7.166667   2.833333  19.0   \n68  39.000000  0.384615  25.000000  ...  17.0   7.000000   3.000000  23.0   \n69  40.666667  0.299180  19.333333  ...  10.5   6.166667   6.833333  27.0   \n70  42.666667  0.425781  27.333333  ...   8.5   6.166667  10.833333  24.0   \n71  27.666667  0.512048   9.333333  ...   7.5   4.166667  11.833333  20.0   \n\n          PFD    PTS  PLUS_MINUS  DD2  TD3         PER  \n0   34.000000  130.0         8.0    1    0  129.756301  \n1   21.833333  111.5        -4.5    0    0  122.495341  \n2   23.833333  114.5        26.9    0    0  233.266292  \n3   22.000000  109.0        10.6    1    0  127.036927  \n4   18.000000  128.0        15.4    1    0  190.942918  \n..        ...    ...         ...  ...  ...         ...  \n67  22.833333  101.5       -23.1    0    0  192.229912  \n68  27.000000  108.0         9.0    1    0  158.325098  \n69  21.833333  122.5         9.7    1    0  193.822673  \n70  28.833333  128.5         3.5    0    0  291.068161  \n71  14.833333  102.5         8.3    0    0  185.044394  \n\n[72 rows x 27 columns]",
      "text/html": "<div>\n<style scoped>\n    .dataframe tbody tr th:only-of-type {\n        vertical-align: middle;\n    }\n\n    .dataframe tbody tr th {\n        vertical-align: top;\n    }\n\n    .dataframe thead th {\n        text-align: right;\n    }\n</style>\n<table border=\"1\" class=\"dataframe\">\n  <thead>\n    <tr style=\"text-align: right;\">\n      <th></th>\n      <th>SEASON_YEAR</th>\n      <th>Game_Type</th>\n      <th>MIN</th>\n      <th>FGM</th>\n      <th>FGA</th>\n      <th>FG_PCT</th>\n      <th>FG3M</th>\n      <th>FG3A</th>\n      <th>FG3_PCT</th>\n      <th>FTM</th>\n      <th>...</th>\n      <th>STL</th>\n      <th>BLK</th>\n      <th>BLKA</th>\n      <th>PF</th>\n      <th>PFD</th>\n      <th>PTS</th>\n      <th>PLUS_MINUS</th>\n      <th>DD2</th>\n      <th>TD3</th>\n      <th>PER</th>\n    </tr>\n  </thead>\n  <tbody>\n    <tr>\n      <th>0</th>\n      <td>2019-20</td>\n      <td>1</td>\n      <td>265.000000</td>\n      <td>42.0</td>\n      <td>103.0</td>\n      <td>0.407767</td>\n      <td>14.000000</td>\n      <td>40.000000</td>\n      <td>0.350000</td>\n      <td>32.000000</td>\n      <td>...</td>\n      <td>7.0</td>\n      <td>3.000000</td>\n      <td>9.000000</td>\n      <td>24.0</td>\n      <td>34.000000</td>\n      <td>130.0</td>\n      <td>8.0</td>\n      <td>1</td>\n      <td>0</td>\n      <td>129.756301</td>\n    </tr>\n    <tr>\n      <th>1</th>\n      <td>2019-20</td>\n      <td>1</td>\n      <td>248.394444</td>\n      <td>39.5</td>\n      <td>82.0</td>\n      <td>0.481707</td>\n      <td>17.166667</td>\n      <td>34.666667</td>\n      <td>0.495192</td>\n      <td>15.333333</td>\n      <td>...</td>\n      <td>2.5</td>\n      <td>6.166667</td>\n      <td>8.833333</td>\n      <td>27.0</td>\n      <td>21.833333</td>\n      <td>111.5</td>\n      <td>-4.5</td>\n      <td>0</td>\n      <td>0</td>\n      <td>122.495341</td>\n    </tr>\n    <tr>\n      <th>2</th>\n      <td>2019-20</td>\n      <td>1</td>\n      <td>248.661111</td>\n      <td>40.5</td>\n      <td>86.0</td>\n      <td>0.470930</td>\n      <td>15.166667</td>\n      <td>41.666667</td>\n      <td>0.364000</td>\n      <td>18.333333</td>\n      <td>...</td>\n      <td>8.5</td>\n      <td>12.166667</td>\n      <td>2.833333</td>\n      <td>24.0</td>\n      <td>23.833333</td>\n      <td>114.5</td>\n      <td>26.9</td>\n      <td>0</td>\n      <td>0</td>\n      <td>233.266292</td>\n    </tr>\n    <tr>\n      <th>3</th>\n      <td>2019-20</td>\n      <td>1</td>\n      <td>247.670000</td>\n      <td>35.0</td>\n      <td>89.0</td>\n      <td>0.393258</td>\n      <td>10.000000</td>\n      <td>39.000000</td>\n      <td>0.256410</td>\n      <td>29.000000</td>\n      <td>...</td>\n      <td>9.0</td>\n      <td>2.000000</td>\n      <td>7.000000</td>\n      <td>22.0</td>\n      <td>22.000000</td>\n      <td>109.0</td>\n      <td>10.6</td>\n      <td>1</td>\n      <td>0</td>\n      <td>127.036927</td>\n    </tr>\n    <tr>\n      <th>4</th>\n      <td>2019-20</td>\n      <td>1</td>\n      <td>241.616667</td>\n      <td>52.0</td>\n      <td>89.0</td>\n      <td>0.584270</td>\n      <td>12.000000</td>\n      <td>26.000000</td>\n      <td>0.461538</td>\n      <td>12.000000</td>\n      <td>...</td>\n      <td>13.0</td>\n      <td>2.000000</td>\n      <td>2.000000</td>\n      <td>23.0</td>\n      <td>18.000000</td>\n      <td>128.0</td>\n      <td>15.4</td>\n      <td>1</td>\n      <td>0</td>\n      <td>190.942918</td>\n    </tr>\n    <tr>\n      <th>...</th>\n      <td>...</td>\n      <td>...</td>\n      <td>...</td>\n      <td>...</td>\n      <td>...</td>\n      <td>...</td>\n      <td>...</td>\n      <td>...</td>\n      <td>...</td>\n      <td>...</td>\n      <td>...</td>\n      <td>...</td>\n      <td>...</td>\n      <td>...</td>\n      <td>...</td>\n      <td>...</td>\n      <td>...</td>\n      <td>...</td>\n      <td>...</td>\n      <td>...</td>\n      <td>...</td>\n    </tr>\n    <tr>\n      <th>67</th>\n      <td>2019-20</td>\n      <td>1</td>\n      <td>248.094444</td>\n      <td>38.5</td>\n      <td>91.0</td>\n      <td>0.423077</td>\n      <td>9.166667</td>\n      <td>36.666667</td>\n      <td>0.250000</td>\n      <td>15.333333</td>\n      <td>...</td>\n      <td>8.5</td>\n      <td>7.166667</td>\n      <td>2.833333</td>\n      <td>19.0</td>\n      <td>22.833333</td>\n      <td>101.5</td>\n      <td>-23.1</td>\n      <td>0</td>\n      <td>0</td>\n      <td>192.229912</td>\n    </tr>\n    <tr>\n      <th>68</th>\n      <td>2019-20</td>\n      <td>1</td>\n      <td>240.000000</td>\n      <td>34.0</td>\n      <td>71.0</td>\n      <td>0.478873</td>\n      <td>15.000000</td>\n      <td>39.000000</td>\n      <td>0.384615</td>\n      <td>25.000000</td>\n      <td>...</td>\n      <td>17.0</td>\n      <td>7.000000</td>\n      <td>3.000000</td>\n      <td>23.0</td>\n      <td>27.000000</td>\n      <td>108.0</td>\n      <td>9.0</td>\n      <td>1</td>\n      <td>0</td>\n      <td>158.325098</td>\n    </tr>\n    <tr>\n      <th>69</th>\n      <td>2019-20</td>\n      <td>1</td>\n      <td>243.264444</td>\n      <td>45.5</td>\n      <td>99.0</td>\n      <td>0.459596</td>\n      <td>12.166667</td>\n      <td>40.666667</td>\n      <td>0.299180</td>\n      <td>19.333333</td>\n      <td>...</td>\n      <td>10.5</td>\n      <td>6.166667</td>\n      <td>6.833333</td>\n      <td>27.0</td>\n      <td>21.833333</td>\n      <td>122.5</td>\n      <td>9.7</td>\n      <td>1</td>\n      <td>0</td>\n      <td>193.822673</td>\n    </tr>\n    <tr>\n      <th>70</th>\n      <td>2019-20</td>\n      <td>1</td>\n      <td>244.627778</td>\n      <td>41.5</td>\n      <td>92.0</td>\n      <td>0.451087</td>\n      <td>18.166667</td>\n      <td>42.666667</td>\n      <td>0.425781</td>\n      <td>27.333333</td>\n      <td>...</td>\n      <td>8.5</td>\n      <td>6.166667</td>\n      <td>10.833333</td>\n      <td>24.0</td>\n      <td>28.833333</td>\n      <td>128.5</td>\n      <td>3.5</td>\n      <td>0</td>\n      <td>0</td>\n      <td>291.068161</td>\n    </tr>\n    <tr>\n      <th>71</th>\n      <td>2019-20</td>\n      <td>1</td>\n      <td>224.844444</td>\n      <td>39.5</td>\n      <td>80.0</td>\n      <td>0.493750</td>\n      <td>14.166667</td>\n      <td>27.666667</td>\n      <td>0.512048</td>\n      <td>9.333333</td>\n      <td>...</td>\n      <td>7.5</td>\n      <td>4.166667</td>\n      <td>11.833333</td>\n      <td>20.0</td>\n      <td>14.833333</td>\n      <td>102.5</td>\n      <td>8.3</td>\n      <td>0</td>\n      <td>0</td>\n      <td>185.044394</td>\n    </tr>\n  </tbody>\n</table>\n<p>72 rows × 27 columns</p>\n</div>"
     },
     "metadata": {}
    }
   ],
   "source": [
    "# cleaned_categorical_Features = ['WL', 'Game_Type']\n",
    "cleaned_categorical_Features = ['Game_Type']\n",
    "cleanupValue = {'WL': {'W': 1, 'L': 0}, 'Game_Type': {'Pre Season': 0, 'Regular Season': 1, 'Playoffs': 2}}\n",
    "df_Reduced = df_Reduced.replace(cleanupValue)\n",
    "\n",
    "# VALIDATION CODE \n",
    "if debug_active == 'yes':\n",
    "    display(df_Reduced)"
   ]
  },
  {
   "source": [
    "## Section 4.7: Transform categorical features using LabelEncoder\n",
    "\n",
    "This will work with the reminding categorical values as there is a hierarchy for \n",
    "\n",
    "'SEASON_YEAR' - the more recent the season the more relevant it is where as older data is less valuable\n",
    "\n",
    "'Game_Type' - need to think about this but assume regular season is more important"
   ],
   "cell_type": "markdown",
   "metadata": {}
  },
  {
   "cell_type": "code",
   "execution_count": 11,
   "metadata": {},
   "outputs": [
    {
     "output_type": "stream",
     "name": "stdout",
     "text": [
      "['SEASON_YEAR', 'Game_Type', 'TEAM_ABBREVIATION', 'TEAM_NAME', 'GAME_ID', 'GAME_DATE', 'MATCHUP']\n['TEAM_ABBREVIATION', 'TEAM_NAME', 'GAME_ID', 'GAME_DATE', 'MATCHUP']\n['Game_Type']\n['SEASON_YEAR']\n"
     ]
    }
   ],
   "source": [
    "# # Select features to encode\n",
    "e_categorical = categorical_Features\n",
    "\n",
    "print(e_categorical)\n",
    "\n",
    "for i in unwanted_categorical_Features:\n",
    "    e_categorical.remove(i)\n",
    "\n",
    "print(unwanted_categorical_Features)\n",
    "\n",
    "for j in cleaned_categorical_Features:\n",
    "    e_categorical.remove(j)\n",
    "\n",
    "print(cleaned_categorical_Features)\n",
    "\n",
    "print(e_categorical)\n",
    "\n",
    "# Reset variable\n",
    "categorical_Features = df_Reduced.dtypes[df_Reduced.dtypes == \"object\"].index.tolist()\n",
    "\n",
    "lb_make = LabelEncoder()\n",
    "# cat_list = ['Gender','Education_Level','Marital_Status','Income_Category','Card_Category']\n",
    "# cat_list_code = ['Gender_code','Education_Level_code','Marital_Status_code','Income_Category_code','Card_Category_code']\n",
    "\n",
    "df_Encoded = df_Reduced\n",
    "# df_Encoded = df_Reduced[e_categorical]\n",
    "\n",
    "\n"
   ]
  },
  {
   "cell_type": "code",
   "execution_count": 12,
   "metadata": {},
   "outputs": [
    {
     "output_type": "display_data",
     "data": {
      "text/plain": "   SEASON_YEAR  Game_Type         MIN   FGM    FGA    FG_PCT       FG3M  \\\n0      2019-20          1  265.000000  42.0  103.0  0.407767  14.000000   \n1      2019-20          1  248.394444  39.5   82.0  0.481707  17.166667   \n2      2019-20          1  248.661111  40.5   86.0  0.470930  15.166667   \n3      2019-20          1  247.670000  35.0   89.0  0.393258  10.000000   \n4      2019-20          1  241.616667  52.0   89.0  0.584270  12.000000   \n..         ...        ...         ...   ...    ...       ...        ...   \n67     2019-20          1  248.094444  38.5   91.0  0.423077   9.166667   \n68     2019-20          1  240.000000  34.0   71.0  0.478873  15.000000   \n69     2019-20          1  243.264444  45.5   99.0  0.459596  12.166667   \n70     2019-20          1  244.627778  41.5   92.0  0.451087  18.166667   \n71     2019-20          1  224.844444  39.5   80.0  0.493750  14.166667   \n\n         FG3A   FG3_PCT        FTM  ...        BLK       BLKA    PF  \\\n0   40.000000  0.350000  32.000000  ...   3.000000   9.000000  24.0   \n1   34.666667  0.495192  15.333333  ...   6.166667   8.833333  27.0   \n2   41.666667  0.364000  18.333333  ...  12.166667   2.833333  24.0   \n3   39.000000  0.256410  29.000000  ...   2.000000   7.000000  22.0   \n4   26.000000  0.461538  12.000000  ...   2.000000   2.000000  23.0   \n..        ...       ...        ...  ...        ...        ...   ...   \n67  36.666667  0.250000  15.333333  ...   7.166667   2.833333  19.0   \n68  39.000000  0.384615  25.000000  ...   7.000000   3.000000  23.0   \n69  40.666667  0.299180  19.333333  ...   6.166667   6.833333  27.0   \n70  42.666667  0.425781  27.333333  ...   6.166667  10.833333  24.0   \n71  27.666667  0.512048   9.333333  ...   4.166667  11.833333  20.0   \n\n          PFD    PTS  PLUS_MINUS  DD2  TD3         PER  SEASON_YEAR_code  \n0   34.000000  130.0         8.0    1    0  129.756301                 0  \n1   21.833333  111.5        -4.5    0    0  122.495341                 0  \n2   23.833333  114.5        26.9    0    0  233.266292                 0  \n3   22.000000  109.0        10.6    1    0  127.036927                 0  \n4   18.000000  128.0        15.4    1    0  190.942918                 0  \n..        ...    ...         ...  ...  ...         ...               ...  \n67  22.833333  101.5       -23.1    0    0  192.229912                 0  \n68  27.000000  108.0         9.0    1    0  158.325098                 0  \n69  21.833333  122.5         9.7    1    0  193.822673                 0  \n70  28.833333  128.5         3.5    0    0  291.068161                 0  \n71  14.833333  102.5         8.3    0    0  185.044394                 0  \n\n[72 rows x 28 columns]",
      "text/html": "<div>\n<style scoped>\n    .dataframe tbody tr th:only-of-type {\n        vertical-align: middle;\n    }\n\n    .dataframe tbody tr th {\n        vertical-align: top;\n    }\n\n    .dataframe thead th {\n        text-align: right;\n    }\n</style>\n<table border=\"1\" class=\"dataframe\">\n  <thead>\n    <tr style=\"text-align: right;\">\n      <th></th>\n      <th>SEASON_YEAR</th>\n      <th>Game_Type</th>\n      <th>MIN</th>\n      <th>FGM</th>\n      <th>FGA</th>\n      <th>FG_PCT</th>\n      <th>FG3M</th>\n      <th>FG3A</th>\n      <th>FG3_PCT</th>\n      <th>FTM</th>\n      <th>...</th>\n      <th>BLK</th>\n      <th>BLKA</th>\n      <th>PF</th>\n      <th>PFD</th>\n      <th>PTS</th>\n      <th>PLUS_MINUS</th>\n      <th>DD2</th>\n      <th>TD3</th>\n      <th>PER</th>\n      <th>SEASON_YEAR_code</th>\n    </tr>\n  </thead>\n  <tbody>\n    <tr>\n      <th>0</th>\n      <td>2019-20</td>\n      <td>1</td>\n      <td>265.000000</td>\n      <td>42.0</td>\n      <td>103.0</td>\n      <td>0.407767</td>\n      <td>14.000000</td>\n      <td>40.000000</td>\n      <td>0.350000</td>\n      <td>32.000000</td>\n      <td>...</td>\n      <td>3.000000</td>\n      <td>9.000000</td>\n      <td>24.0</td>\n      <td>34.000000</td>\n      <td>130.0</td>\n      <td>8.0</td>\n      <td>1</td>\n      <td>0</td>\n      <td>129.756301</td>\n      <td>0</td>\n    </tr>\n    <tr>\n      <th>1</th>\n      <td>2019-20</td>\n      <td>1</td>\n      <td>248.394444</td>\n      <td>39.5</td>\n      <td>82.0</td>\n      <td>0.481707</td>\n      <td>17.166667</td>\n      <td>34.666667</td>\n      <td>0.495192</td>\n      <td>15.333333</td>\n      <td>...</td>\n      <td>6.166667</td>\n      <td>8.833333</td>\n      <td>27.0</td>\n      <td>21.833333</td>\n      <td>111.5</td>\n      <td>-4.5</td>\n      <td>0</td>\n      <td>0</td>\n      <td>122.495341</td>\n      <td>0</td>\n    </tr>\n    <tr>\n      <th>2</th>\n      <td>2019-20</td>\n      <td>1</td>\n      <td>248.661111</td>\n      <td>40.5</td>\n      <td>86.0</td>\n      <td>0.470930</td>\n      <td>15.166667</td>\n      <td>41.666667</td>\n      <td>0.364000</td>\n      <td>18.333333</td>\n      <td>...</td>\n      <td>12.166667</td>\n      <td>2.833333</td>\n      <td>24.0</td>\n      <td>23.833333</td>\n      <td>114.5</td>\n      <td>26.9</td>\n      <td>0</td>\n      <td>0</td>\n      <td>233.266292</td>\n      <td>0</td>\n    </tr>\n    <tr>\n      <th>3</th>\n      <td>2019-20</td>\n      <td>1</td>\n      <td>247.670000</td>\n      <td>35.0</td>\n      <td>89.0</td>\n      <td>0.393258</td>\n      <td>10.000000</td>\n      <td>39.000000</td>\n      <td>0.256410</td>\n      <td>29.000000</td>\n      <td>...</td>\n      <td>2.000000</td>\n      <td>7.000000</td>\n      <td>22.0</td>\n      <td>22.000000</td>\n      <td>109.0</td>\n      <td>10.6</td>\n      <td>1</td>\n      <td>0</td>\n      <td>127.036927</td>\n      <td>0</td>\n    </tr>\n    <tr>\n      <th>4</th>\n      <td>2019-20</td>\n      <td>1</td>\n      <td>241.616667</td>\n      <td>52.0</td>\n      <td>89.0</td>\n      <td>0.584270</td>\n      <td>12.000000</td>\n      <td>26.000000</td>\n      <td>0.461538</td>\n      <td>12.000000</td>\n      <td>...</td>\n      <td>2.000000</td>\n      <td>2.000000</td>\n      <td>23.0</td>\n      <td>18.000000</td>\n      <td>128.0</td>\n      <td>15.4</td>\n      <td>1</td>\n      <td>0</td>\n      <td>190.942918</td>\n      <td>0</td>\n    </tr>\n    <tr>\n      <th>...</th>\n      <td>...</td>\n      <td>...</td>\n      <td>...</td>\n      <td>...</td>\n      <td>...</td>\n      <td>...</td>\n      <td>...</td>\n      <td>...</td>\n      <td>...</td>\n      <td>...</td>\n      <td>...</td>\n      <td>...</td>\n      <td>...</td>\n      <td>...</td>\n      <td>...</td>\n      <td>...</td>\n      <td>...</td>\n      <td>...</td>\n      <td>...</td>\n      <td>...</td>\n      <td>...</td>\n    </tr>\n    <tr>\n      <th>67</th>\n      <td>2019-20</td>\n      <td>1</td>\n      <td>248.094444</td>\n      <td>38.5</td>\n      <td>91.0</td>\n      <td>0.423077</td>\n      <td>9.166667</td>\n      <td>36.666667</td>\n      <td>0.250000</td>\n      <td>15.333333</td>\n      <td>...</td>\n      <td>7.166667</td>\n      <td>2.833333</td>\n      <td>19.0</td>\n      <td>22.833333</td>\n      <td>101.5</td>\n      <td>-23.1</td>\n      <td>0</td>\n      <td>0</td>\n      <td>192.229912</td>\n      <td>0</td>\n    </tr>\n    <tr>\n      <th>68</th>\n      <td>2019-20</td>\n      <td>1</td>\n      <td>240.000000</td>\n      <td>34.0</td>\n      <td>71.0</td>\n      <td>0.478873</td>\n      <td>15.000000</td>\n      <td>39.000000</td>\n      <td>0.384615</td>\n      <td>25.000000</td>\n      <td>...</td>\n      <td>7.000000</td>\n      <td>3.000000</td>\n      <td>23.0</td>\n      <td>27.000000</td>\n      <td>108.0</td>\n      <td>9.0</td>\n      <td>1</td>\n      <td>0</td>\n      <td>158.325098</td>\n      <td>0</td>\n    </tr>\n    <tr>\n      <th>69</th>\n      <td>2019-20</td>\n      <td>1</td>\n      <td>243.264444</td>\n      <td>45.5</td>\n      <td>99.0</td>\n      <td>0.459596</td>\n      <td>12.166667</td>\n      <td>40.666667</td>\n      <td>0.299180</td>\n      <td>19.333333</td>\n      <td>...</td>\n      <td>6.166667</td>\n      <td>6.833333</td>\n      <td>27.0</td>\n      <td>21.833333</td>\n      <td>122.5</td>\n      <td>9.7</td>\n      <td>1</td>\n      <td>0</td>\n      <td>193.822673</td>\n      <td>0</td>\n    </tr>\n    <tr>\n      <th>70</th>\n      <td>2019-20</td>\n      <td>1</td>\n      <td>244.627778</td>\n      <td>41.5</td>\n      <td>92.0</td>\n      <td>0.451087</td>\n      <td>18.166667</td>\n      <td>42.666667</td>\n      <td>0.425781</td>\n      <td>27.333333</td>\n      <td>...</td>\n      <td>6.166667</td>\n      <td>10.833333</td>\n      <td>24.0</td>\n      <td>28.833333</td>\n      <td>128.5</td>\n      <td>3.5</td>\n      <td>0</td>\n      <td>0</td>\n      <td>291.068161</td>\n      <td>0</td>\n    </tr>\n    <tr>\n      <th>71</th>\n      <td>2019-20</td>\n      <td>1</td>\n      <td>224.844444</td>\n      <td>39.5</td>\n      <td>80.0</td>\n      <td>0.493750</td>\n      <td>14.166667</td>\n      <td>27.666667</td>\n      <td>0.512048</td>\n      <td>9.333333</td>\n      <td>...</td>\n      <td>4.166667</td>\n      <td>11.833333</td>\n      <td>20.0</td>\n      <td>14.833333</td>\n      <td>102.5</td>\n      <td>8.3</td>\n      <td>0</td>\n      <td>0</td>\n      <td>185.044394</td>\n      <td>0</td>\n    </tr>\n  </tbody>\n</table>\n<p>72 rows × 28 columns</p>\n</div>"
     },
     "metadata": {}
    }
   ],
   "source": [
    "# Apply LabelEncoding on e_categorical features\n",
    "\n",
    "for k in e_categorical:\n",
    "    val_A = k\n",
    "    val_B = k + '_code'\n",
    "    df_Encoded[(val_B)] = lb_make.fit_transform(df_Encoded[val_A])\n",
    "\n",
    "# VALIDATION CODE \n",
    "if debug_active == 'yes':\n",
    "    display(df_Encoded) #Results in appending a new column to df"
   ]
  },
  {
   "source": [
    "## Section 4.8: Define TARGET variable and separate into dataframes by season type\n",
    "\n",
    "Remove (Stage 2) from dataframe the featuree (categorical, Target, and other unwanted)\n",
    "\n",
    "Separating the dataframe by gameTypeListed ('Pre Season', 'Regular Season', 'Playoffs')"
   ],
   "cell_type": "markdown",
   "metadata": {}
  },
  {
   "cell_type": "code",
   "execution_count": 13,
   "metadata": {},
   "outputs": [
    {
     "output_type": "display_data",
     "data": {
      "text/plain": "   SEASON_YEAR  Game_Type         MIN   FGM    FGA    FG_PCT       FG3M  \\\n0      2019-20          1  265.000000  42.0  103.0  0.407767  14.000000   \n1      2019-20          1  248.394444  39.5   82.0  0.481707  17.166667   \n2      2019-20          1  248.661111  40.5   86.0  0.470930  15.166667   \n3      2019-20          1  247.670000  35.0   89.0  0.393258  10.000000   \n4      2019-20          1  241.616667  52.0   89.0  0.584270  12.000000   \n..         ...        ...         ...   ...    ...       ...        ...   \n67     2019-20          1  248.094444  38.5   91.0  0.423077   9.166667   \n68     2019-20          1  240.000000  34.0   71.0  0.478873  15.000000   \n69     2019-20          1  243.264444  45.5   99.0  0.459596  12.166667   \n70     2019-20          1  244.627778  41.5   92.0  0.451087  18.166667   \n71     2019-20          1  224.844444  39.5   80.0  0.493750  14.166667   \n\n         FG3A   FG3_PCT        FTM  ...        BLK       BLKA    PF  \\\n0   40.000000  0.350000  32.000000  ...   3.000000   9.000000  24.0   \n1   34.666667  0.495192  15.333333  ...   6.166667   8.833333  27.0   \n2   41.666667  0.364000  18.333333  ...  12.166667   2.833333  24.0   \n3   39.000000  0.256410  29.000000  ...   2.000000   7.000000  22.0   \n4   26.000000  0.461538  12.000000  ...   2.000000   2.000000  23.0   \n..        ...       ...        ...  ...        ...        ...   ...   \n67  36.666667  0.250000  15.333333  ...   7.166667   2.833333  19.0   \n68  39.000000  0.384615  25.000000  ...   7.000000   3.000000  23.0   \n69  40.666667  0.299180  19.333333  ...   6.166667   6.833333  27.0   \n70  42.666667  0.425781  27.333333  ...   6.166667  10.833333  24.0   \n71  27.666667  0.512048   9.333333  ...   4.166667  11.833333  20.0   \n\n          PFD    PTS  PLUS_MINUS  DD2  TD3         PER  SEASON_YEAR_code  \n0   34.000000  130.0         8.0    1    0  129.756301                 0  \n1   21.833333  111.5        -4.5    0    0  122.495341                 0  \n2   23.833333  114.5        26.9    0    0  233.266292                 0  \n3   22.000000  109.0        10.6    1    0  127.036927                 0  \n4   18.000000  128.0        15.4    1    0  190.942918                 0  \n..        ...    ...         ...  ...  ...         ...               ...  \n67  22.833333  101.5       -23.1    0    0  192.229912                 0  \n68  27.000000  108.0         9.0    1    0  158.325098                 0  \n69  21.833333  122.5         9.7    1    0  193.822673                 0  \n70  28.833333  128.5         3.5    0    0  291.068161                 0  \n71  14.833333  102.5         8.3    0    0  185.044394                 0  \n\n[72 rows x 28 columns]",
      "text/html": "<div>\n<style scoped>\n    .dataframe tbody tr th:only-of-type {\n        vertical-align: middle;\n    }\n\n    .dataframe tbody tr th {\n        vertical-align: top;\n    }\n\n    .dataframe thead th {\n        text-align: right;\n    }\n</style>\n<table border=\"1\" class=\"dataframe\">\n  <thead>\n    <tr style=\"text-align: right;\">\n      <th></th>\n      <th>SEASON_YEAR</th>\n      <th>Game_Type</th>\n      <th>MIN</th>\n      <th>FGM</th>\n      <th>FGA</th>\n      <th>FG_PCT</th>\n      <th>FG3M</th>\n      <th>FG3A</th>\n      <th>FG3_PCT</th>\n      <th>FTM</th>\n      <th>...</th>\n      <th>BLK</th>\n      <th>BLKA</th>\n      <th>PF</th>\n      <th>PFD</th>\n      <th>PTS</th>\n      <th>PLUS_MINUS</th>\n      <th>DD2</th>\n      <th>TD3</th>\n      <th>PER</th>\n      <th>SEASON_YEAR_code</th>\n    </tr>\n  </thead>\n  <tbody>\n    <tr>\n      <th>0</th>\n      <td>2019-20</td>\n      <td>1</td>\n      <td>265.000000</td>\n      <td>42.0</td>\n      <td>103.0</td>\n      <td>0.407767</td>\n      <td>14.000000</td>\n      <td>40.000000</td>\n      <td>0.350000</td>\n      <td>32.000000</td>\n      <td>...</td>\n      <td>3.000000</td>\n      <td>9.000000</td>\n      <td>24.0</td>\n      <td>34.000000</td>\n      <td>130.0</td>\n      <td>8.0</td>\n      <td>1</td>\n      <td>0</td>\n      <td>129.756301</td>\n      <td>0</td>\n    </tr>\n    <tr>\n      <th>1</th>\n      <td>2019-20</td>\n      <td>1</td>\n      <td>248.394444</td>\n      <td>39.5</td>\n      <td>82.0</td>\n      <td>0.481707</td>\n      <td>17.166667</td>\n      <td>34.666667</td>\n      <td>0.495192</td>\n      <td>15.333333</td>\n      <td>...</td>\n      <td>6.166667</td>\n      <td>8.833333</td>\n      <td>27.0</td>\n      <td>21.833333</td>\n      <td>111.5</td>\n      <td>-4.5</td>\n      <td>0</td>\n      <td>0</td>\n      <td>122.495341</td>\n      <td>0</td>\n    </tr>\n    <tr>\n      <th>2</th>\n      <td>2019-20</td>\n      <td>1</td>\n      <td>248.661111</td>\n      <td>40.5</td>\n      <td>86.0</td>\n      <td>0.470930</td>\n      <td>15.166667</td>\n      <td>41.666667</td>\n      <td>0.364000</td>\n      <td>18.333333</td>\n      <td>...</td>\n      <td>12.166667</td>\n      <td>2.833333</td>\n      <td>24.0</td>\n      <td>23.833333</td>\n      <td>114.5</td>\n      <td>26.9</td>\n      <td>0</td>\n      <td>0</td>\n      <td>233.266292</td>\n      <td>0</td>\n    </tr>\n    <tr>\n      <th>3</th>\n      <td>2019-20</td>\n      <td>1</td>\n      <td>247.670000</td>\n      <td>35.0</td>\n      <td>89.0</td>\n      <td>0.393258</td>\n      <td>10.000000</td>\n      <td>39.000000</td>\n      <td>0.256410</td>\n      <td>29.000000</td>\n      <td>...</td>\n      <td>2.000000</td>\n      <td>7.000000</td>\n      <td>22.0</td>\n      <td>22.000000</td>\n      <td>109.0</td>\n      <td>10.6</td>\n      <td>1</td>\n      <td>0</td>\n      <td>127.036927</td>\n      <td>0</td>\n    </tr>\n    <tr>\n      <th>4</th>\n      <td>2019-20</td>\n      <td>1</td>\n      <td>241.616667</td>\n      <td>52.0</td>\n      <td>89.0</td>\n      <td>0.584270</td>\n      <td>12.000000</td>\n      <td>26.000000</td>\n      <td>0.461538</td>\n      <td>12.000000</td>\n      <td>...</td>\n      <td>2.000000</td>\n      <td>2.000000</td>\n      <td>23.0</td>\n      <td>18.000000</td>\n      <td>128.0</td>\n      <td>15.4</td>\n      <td>1</td>\n      <td>0</td>\n      <td>190.942918</td>\n      <td>0</td>\n    </tr>\n    <tr>\n      <th>...</th>\n      <td>...</td>\n      <td>...</td>\n      <td>...</td>\n      <td>...</td>\n      <td>...</td>\n      <td>...</td>\n      <td>...</td>\n      <td>...</td>\n      <td>...</td>\n      <td>...</td>\n      <td>...</td>\n      <td>...</td>\n      <td>...</td>\n      <td>...</td>\n      <td>...</td>\n      <td>...</td>\n      <td>...</td>\n      <td>...</td>\n      <td>...</td>\n      <td>...</td>\n      <td>...</td>\n    </tr>\n    <tr>\n      <th>67</th>\n      <td>2019-20</td>\n      <td>1</td>\n      <td>248.094444</td>\n      <td>38.5</td>\n      <td>91.0</td>\n      <td>0.423077</td>\n      <td>9.166667</td>\n      <td>36.666667</td>\n      <td>0.250000</td>\n      <td>15.333333</td>\n      <td>...</td>\n      <td>7.166667</td>\n      <td>2.833333</td>\n      <td>19.0</td>\n      <td>22.833333</td>\n      <td>101.5</td>\n      <td>-23.1</td>\n      <td>0</td>\n      <td>0</td>\n      <td>192.229912</td>\n      <td>0</td>\n    </tr>\n    <tr>\n      <th>68</th>\n      <td>2019-20</td>\n      <td>1</td>\n      <td>240.000000</td>\n      <td>34.0</td>\n      <td>71.0</td>\n      <td>0.478873</td>\n      <td>15.000000</td>\n      <td>39.000000</td>\n      <td>0.384615</td>\n      <td>25.000000</td>\n      <td>...</td>\n      <td>7.000000</td>\n      <td>3.000000</td>\n      <td>23.0</td>\n      <td>27.000000</td>\n      <td>108.0</td>\n      <td>9.0</td>\n      <td>1</td>\n      <td>0</td>\n      <td>158.325098</td>\n      <td>0</td>\n    </tr>\n    <tr>\n      <th>69</th>\n      <td>2019-20</td>\n      <td>1</td>\n      <td>243.264444</td>\n      <td>45.5</td>\n      <td>99.0</td>\n      <td>0.459596</td>\n      <td>12.166667</td>\n      <td>40.666667</td>\n      <td>0.299180</td>\n      <td>19.333333</td>\n      <td>...</td>\n      <td>6.166667</td>\n      <td>6.833333</td>\n      <td>27.0</td>\n      <td>21.833333</td>\n      <td>122.5</td>\n      <td>9.7</td>\n      <td>1</td>\n      <td>0</td>\n      <td>193.822673</td>\n      <td>0</td>\n    </tr>\n    <tr>\n      <th>70</th>\n      <td>2019-20</td>\n      <td>1</td>\n      <td>244.627778</td>\n      <td>41.5</td>\n      <td>92.0</td>\n      <td>0.451087</td>\n      <td>18.166667</td>\n      <td>42.666667</td>\n      <td>0.425781</td>\n      <td>27.333333</td>\n      <td>...</td>\n      <td>6.166667</td>\n      <td>10.833333</td>\n      <td>24.0</td>\n      <td>28.833333</td>\n      <td>128.5</td>\n      <td>3.5</td>\n      <td>0</td>\n      <td>0</td>\n      <td>291.068161</td>\n      <td>0</td>\n    </tr>\n    <tr>\n      <th>71</th>\n      <td>2019-20</td>\n      <td>1</td>\n      <td>224.844444</td>\n      <td>39.5</td>\n      <td>80.0</td>\n      <td>0.493750</td>\n      <td>14.166667</td>\n      <td>27.666667</td>\n      <td>0.512048</td>\n      <td>9.333333</td>\n      <td>...</td>\n      <td>4.166667</td>\n      <td>11.833333</td>\n      <td>20.0</td>\n      <td>14.833333</td>\n      <td>102.5</td>\n      <td>8.3</td>\n      <td>0</td>\n      <td>0</td>\n      <td>185.044394</td>\n      <td>0</td>\n    </tr>\n  </tbody>\n</table>\n<p>72 rows × 28 columns</p>\n</div>"
     },
     "metadata": {}
    },
    {
     "output_type": "stream",
     "name": "stdout",
     "text": [
      "['SEASON_YEAR']\n"
     ]
    }
   ],
   "source": [
    "# VALIDATION CODE \n",
    "if debug_active == 'yes':\n",
    "    display(df_Encoded)\n",
    "    print(e_categorical)"
   ]
  },
  {
   "cell_type": "code",
   "execution_count": 14,
   "metadata": {},
   "outputs": [
    {
     "output_type": "stream",
     "name": "stdout",
     "text": [
      "['SEASON_YEAR', 'Game_Type']\n"
     ]
    }
   ],
   "source": [
    "# Configure variables\n",
    "# gameTypeListed = ['Pre Season', 'Regular Season', 'Playoffs']\n",
    "# gameTypeListed_code = [0, 1, 2]\n",
    "# Y_headers_list1 = ['WL']\n",
    "# Y_headers_list2 = ['WL', 'Game_Type']\n",
    "Y_headers_list1 = []\n",
    "Y_headers_list2 = ['Game_Type']\n",
    "e_categorical = e_categorical + Y_headers_list2\n",
    "\n",
    "# Define the current list of features\n",
    "X_headers_list = df_Encoded.columns.tolist()\n",
    "\n",
    "# Remove LabelEncoded categorical features\n",
    "for k in e_categorical:\n",
    "    X_headers_list.remove(k)\n",
    "\n",
    "# VALIDATION CODE \n",
    "if debug_active == 'yes':\n",
    "    print(e_categorical)"
   ]
  },
  {
   "cell_type": "code",
   "execution_count": 21,
   "metadata": {},
   "outputs": [
    {
     "output_type": "stream",
     "name": "stdout",
     "text": [
      "\nRegular Season\n"
     ]
    },
    {
     "output_type": "display_data",
     "data": {
      "text/plain": "           MIN   FGM    FGA    FG_PCT       FG3M       FG3A   FG3_PCT  \\\n0   265.000000  42.0  103.0  0.407767  14.000000  40.000000  0.350000   \n1   248.394444  39.5   82.0  0.481707  17.166667  34.666667  0.495192   \n2   248.661111  40.5   86.0  0.470930  15.166667  41.666667  0.364000   \n3   247.670000  35.0   89.0  0.393258  10.000000  39.000000  0.256410   \n4   241.616667  52.0   89.0  0.584270  12.000000  26.000000  0.461538   \n..         ...   ...    ...       ...        ...        ...       ...   \n67  248.094444  38.5   91.0  0.423077   9.166667  36.666667  0.250000   \n68  240.000000  34.0   71.0  0.478873  15.000000  39.000000  0.384615   \n69  243.264444  45.5   99.0  0.459596  12.166667  40.666667  0.299180   \n70  244.627778  41.5   92.0  0.451087  18.166667  42.666667  0.425781   \n71  224.844444  39.5   80.0  0.493750  14.166667  27.666667  0.512048   \n\n          FTM   FTA    FT_PCT  ...   STL        BLK       BLKA    PF  \\\n0   32.000000  38.0  0.842105  ...   7.0   3.000000   9.000000  24.0   \n1   15.333333  18.5  0.828829  ...   2.5   6.166667   8.833333  27.0   \n2   18.333333  19.5  0.940171  ...   8.5  12.166667   2.833333  24.0   \n3   29.000000  31.0  0.935484  ...   9.0   2.000000   7.000000  22.0   \n4   12.000000  15.0  0.800000  ...  13.0   2.000000   2.000000  23.0   \n..        ...   ...       ...  ...   ...        ...        ...   ...   \n67  15.333333  17.5  0.876190  ...   8.5   7.166667   2.833333  19.0   \n68  25.000000  33.0  0.757576  ...  17.0   7.000000   3.000000  23.0   \n69  19.333333  25.5  0.758170  ...  10.5   6.166667   6.833333  27.0   \n70  27.333333  39.5  0.691983  ...   8.5   6.166667  10.833333  24.0   \n71   9.333333  12.5  0.746667  ...   7.5   4.166667  11.833333  20.0   \n\n          PFD    PTS  PLUS_MINUS  DD2  TD3         PER  \n0   34.000000  130.0         8.0    1    0  129.756301  \n1   21.833333  111.5        -4.5    0    0  122.495341  \n2   23.833333  114.5        26.9    0    0  233.266292  \n3   22.000000  109.0        10.6    1    0  127.036927  \n4   18.000000  128.0        15.4    1    0  190.942918  \n..        ...    ...         ...  ...  ...         ...  \n67  22.833333  101.5       -23.1    0    0  192.229912  \n68  27.000000  108.0         9.0    1    0  158.325098  \n69  21.833333  122.5         9.7    1    0  193.822673  \n70  28.833333  128.5         3.5    0    0  291.068161  \n71  14.833333  102.5         8.3    0    0  185.044394  \n\n[72 rows x 25 columns]",
      "text/html": "<div>\n<style scoped>\n    .dataframe tbody tr th:only-of-type {\n        vertical-align: middle;\n    }\n\n    .dataframe tbody tr th {\n        vertical-align: top;\n    }\n\n    .dataframe thead th {\n        text-align: right;\n    }\n</style>\n<table border=\"1\" class=\"dataframe\">\n  <thead>\n    <tr style=\"text-align: right;\">\n      <th></th>\n      <th>MIN</th>\n      <th>FGM</th>\n      <th>FGA</th>\n      <th>FG_PCT</th>\n      <th>FG3M</th>\n      <th>FG3A</th>\n      <th>FG3_PCT</th>\n      <th>FTM</th>\n      <th>FTA</th>\n      <th>FT_PCT</th>\n      <th>...</th>\n      <th>STL</th>\n      <th>BLK</th>\n      <th>BLKA</th>\n      <th>PF</th>\n      <th>PFD</th>\n      <th>PTS</th>\n      <th>PLUS_MINUS</th>\n      <th>DD2</th>\n      <th>TD3</th>\n      <th>PER</th>\n    </tr>\n  </thead>\n  <tbody>\n    <tr>\n      <th>0</th>\n      <td>265.000000</td>\n      <td>42.0</td>\n      <td>103.0</td>\n      <td>0.407767</td>\n      <td>14.000000</td>\n      <td>40.000000</td>\n      <td>0.350000</td>\n      <td>32.000000</td>\n      <td>38.0</td>\n      <td>0.842105</td>\n      <td>...</td>\n      <td>7.0</td>\n      <td>3.000000</td>\n      <td>9.000000</td>\n      <td>24.0</td>\n      <td>34.000000</td>\n      <td>130.0</td>\n      <td>8.0</td>\n      <td>1</td>\n      <td>0</td>\n      <td>129.756301</td>\n    </tr>\n    <tr>\n      <th>1</th>\n      <td>248.394444</td>\n      <td>39.5</td>\n      <td>82.0</td>\n      <td>0.481707</td>\n      <td>17.166667</td>\n      <td>34.666667</td>\n      <td>0.495192</td>\n      <td>15.333333</td>\n      <td>18.5</td>\n      <td>0.828829</td>\n      <td>...</td>\n      <td>2.5</td>\n      <td>6.166667</td>\n      <td>8.833333</td>\n      <td>27.0</td>\n      <td>21.833333</td>\n      <td>111.5</td>\n      <td>-4.5</td>\n      <td>0</td>\n      <td>0</td>\n      <td>122.495341</td>\n    </tr>\n    <tr>\n      <th>2</th>\n      <td>248.661111</td>\n      <td>40.5</td>\n      <td>86.0</td>\n      <td>0.470930</td>\n      <td>15.166667</td>\n      <td>41.666667</td>\n      <td>0.364000</td>\n      <td>18.333333</td>\n      <td>19.5</td>\n      <td>0.940171</td>\n      <td>...</td>\n      <td>8.5</td>\n      <td>12.166667</td>\n      <td>2.833333</td>\n      <td>24.0</td>\n      <td>23.833333</td>\n      <td>114.5</td>\n      <td>26.9</td>\n      <td>0</td>\n      <td>0</td>\n      <td>233.266292</td>\n    </tr>\n    <tr>\n      <th>3</th>\n      <td>247.670000</td>\n      <td>35.0</td>\n      <td>89.0</td>\n      <td>0.393258</td>\n      <td>10.000000</td>\n      <td>39.000000</td>\n      <td>0.256410</td>\n      <td>29.000000</td>\n      <td>31.0</td>\n      <td>0.935484</td>\n      <td>...</td>\n      <td>9.0</td>\n      <td>2.000000</td>\n      <td>7.000000</td>\n      <td>22.0</td>\n      <td>22.000000</td>\n      <td>109.0</td>\n      <td>10.6</td>\n      <td>1</td>\n      <td>0</td>\n      <td>127.036927</td>\n    </tr>\n    <tr>\n      <th>4</th>\n      <td>241.616667</td>\n      <td>52.0</td>\n      <td>89.0</td>\n      <td>0.584270</td>\n      <td>12.000000</td>\n      <td>26.000000</td>\n      <td>0.461538</td>\n      <td>12.000000</td>\n      <td>15.0</td>\n      <td>0.800000</td>\n      <td>...</td>\n      <td>13.0</td>\n      <td>2.000000</td>\n      <td>2.000000</td>\n      <td>23.0</td>\n      <td>18.000000</td>\n      <td>128.0</td>\n      <td>15.4</td>\n      <td>1</td>\n      <td>0</td>\n      <td>190.942918</td>\n    </tr>\n    <tr>\n      <th>...</th>\n      <td>...</td>\n      <td>...</td>\n      <td>...</td>\n      <td>...</td>\n      <td>...</td>\n      <td>...</td>\n      <td>...</td>\n      <td>...</td>\n      <td>...</td>\n      <td>...</td>\n      <td>...</td>\n      <td>...</td>\n      <td>...</td>\n      <td>...</td>\n      <td>...</td>\n      <td>...</td>\n      <td>...</td>\n      <td>...</td>\n      <td>...</td>\n      <td>...</td>\n      <td>...</td>\n    </tr>\n    <tr>\n      <th>67</th>\n      <td>248.094444</td>\n      <td>38.5</td>\n      <td>91.0</td>\n      <td>0.423077</td>\n      <td>9.166667</td>\n      <td>36.666667</td>\n      <td>0.250000</td>\n      <td>15.333333</td>\n      <td>17.5</td>\n      <td>0.876190</td>\n      <td>...</td>\n      <td>8.5</td>\n      <td>7.166667</td>\n      <td>2.833333</td>\n      <td>19.0</td>\n      <td>22.833333</td>\n      <td>101.5</td>\n      <td>-23.1</td>\n      <td>0</td>\n      <td>0</td>\n      <td>192.229912</td>\n    </tr>\n    <tr>\n      <th>68</th>\n      <td>240.000000</td>\n      <td>34.0</td>\n      <td>71.0</td>\n      <td>0.478873</td>\n      <td>15.000000</td>\n      <td>39.000000</td>\n      <td>0.384615</td>\n      <td>25.000000</td>\n      <td>33.0</td>\n      <td>0.757576</td>\n      <td>...</td>\n      <td>17.0</td>\n      <td>7.000000</td>\n      <td>3.000000</td>\n      <td>23.0</td>\n      <td>27.000000</td>\n      <td>108.0</td>\n      <td>9.0</td>\n      <td>1</td>\n      <td>0</td>\n      <td>158.325098</td>\n    </tr>\n    <tr>\n      <th>69</th>\n      <td>243.264444</td>\n      <td>45.5</td>\n      <td>99.0</td>\n      <td>0.459596</td>\n      <td>12.166667</td>\n      <td>40.666667</td>\n      <td>0.299180</td>\n      <td>19.333333</td>\n      <td>25.5</td>\n      <td>0.758170</td>\n      <td>...</td>\n      <td>10.5</td>\n      <td>6.166667</td>\n      <td>6.833333</td>\n      <td>27.0</td>\n      <td>21.833333</td>\n      <td>122.5</td>\n      <td>9.7</td>\n      <td>1</td>\n      <td>0</td>\n      <td>193.822673</td>\n    </tr>\n    <tr>\n      <th>70</th>\n      <td>244.627778</td>\n      <td>41.5</td>\n      <td>92.0</td>\n      <td>0.451087</td>\n      <td>18.166667</td>\n      <td>42.666667</td>\n      <td>0.425781</td>\n      <td>27.333333</td>\n      <td>39.5</td>\n      <td>0.691983</td>\n      <td>...</td>\n      <td>8.5</td>\n      <td>6.166667</td>\n      <td>10.833333</td>\n      <td>24.0</td>\n      <td>28.833333</td>\n      <td>128.5</td>\n      <td>3.5</td>\n      <td>0</td>\n      <td>0</td>\n      <td>291.068161</td>\n    </tr>\n    <tr>\n      <th>71</th>\n      <td>224.844444</td>\n      <td>39.5</td>\n      <td>80.0</td>\n      <td>0.493750</td>\n      <td>14.166667</td>\n      <td>27.666667</td>\n      <td>0.512048</td>\n      <td>9.333333</td>\n      <td>12.5</td>\n      <td>0.746667</td>\n      <td>...</td>\n      <td>7.5</td>\n      <td>4.166667</td>\n      <td>11.833333</td>\n      <td>20.0</td>\n      <td>14.833333</td>\n      <td>102.5</td>\n      <td>8.3</td>\n      <td>0</td>\n      <td>0</td>\n      <td>185.044394</td>\n    </tr>\n  </tbody>\n</table>\n<p>72 rows × 25 columns</p>\n</div>"
     },
     "metadata": {}
    },
    {
     "output_type": "display_data",
     "data": {
      "text/plain": "Empty DataFrame\nColumns: []\nIndex: [0, 1, 2, 3, 4, 5, 6, 7, 8, 9, 10, 11, 12, 13, 14, 15, 16, 17, 18, 19, 20, 21, 22, 23, 24, 25, 26, 27, 28, 29, 30, 31, 32, 33, 34, 35, 36, 37, 38, 39, 40, 41, 42, 43, 44, 45, 46, 47, 48, 49, 50, 51, 52, 53, 54, 55, 56, 57, 58, 59, 60, 61, 62, 63, 64, 65, 66, 67, 68, 69, 70, 71]\n\n[72 rows x 0 columns]",
      "text/html": "<div>\n<style scoped>\n    .dataframe tbody tr th:only-of-type {\n        vertical-align: middle;\n    }\n\n    .dataframe tbody tr th {\n        vertical-align: top;\n    }\n\n    .dataframe thead th {\n        text-align: right;\n    }\n</style>\n<table border=\"1\" class=\"dataframe\">\n  <thead>\n    <tr style=\"text-align: right;\">\n      <th></th>\n    </tr>\n  </thead>\n  <tbody>\n    <tr>\n      <th>0</th>\n    </tr>\n    <tr>\n      <th>1</th>\n    </tr>\n    <tr>\n      <th>2</th>\n    </tr>\n    <tr>\n      <th>3</th>\n    </tr>\n    <tr>\n      <th>4</th>\n    </tr>\n    <tr>\n      <th>...</th>\n    </tr>\n    <tr>\n      <th>67</th>\n    </tr>\n    <tr>\n      <th>68</th>\n    </tr>\n    <tr>\n      <th>69</th>\n    </tr>\n    <tr>\n      <th>70</th>\n    </tr>\n    <tr>\n      <th>71</th>\n    </tr>\n  </tbody>\n</table>\n<p>72 rows × 0 columns</p>\n</div>"
     },
     "metadata": {}
    }
   ],
   "source": [
    "df_X_Reduced2 = df_Encoded[X_headers_list]\n",
    "df_Y_Reduced2 = df_Encoded[Y_headers_list1]\n",
    "# cleanDFColumns = ['Game_Type', 'SEASON_YEAR_code']\n",
    "cleanDFColumns = ['SEASON_YEAR_code']\n",
    "\n",
    "if aggregatedTORGames == 'yes':\n",
    "    gameType = 1\n",
    "    df_X_RegularSeason = df_X_Reduced2\n",
    "    df_Y_RegularSeason = df_Y_Reduced2\n",
    "\n",
    "\n",
    "# for gameType in gameTypeListed_code:\n",
    "# is_gameType_X = df_X_Reduced2['Game_Type']==gameType\n",
    "# is_gameType_Y = df_Y_Reduced2['Game_Type']==gameType\n",
    "if gameType == 0:\n",
    "    df_X_PreSeason = df_X_Reduced2[is_gameType_X]\n",
    "    df_X_PreSeason = df_X_PreSeason.drop(cleanDFColumns, axis=1)\n",
    "    df_Y_PreSeason = df_Y_Reduced2[is_gameType_Y]\n",
    "    df_Y_PreSeason = df_Y_PreSeason[Y_headers_list2]\n",
    "elif gameType == 1:\n",
    "    # df_X_RegularSeason = df_X_Reduced2[is_gameType_X]\n",
    "    df_X_RegularSeason = df_X_Reduced2\n",
    "    df_X_RegularSeason = df_X_RegularSeason.drop(cleanDFColumns, axis=1)\n",
    "    # df_Y_RegularSeason = df_Y_Reduced2[is_gameType_Y]\n",
    "    df_Y_RegularSeason = df_Y_Reduced2\n",
    "    # df_Y_RegularSeason = df_Y_RegularSeason[Y_headers_list2]\n",
    "    df_Y_RegularSeason = df_Y_RegularSeason\n",
    "elif gameType == 2:\n",
    "    df_X_Playoffs = df_X_Reduced2[is_gameType_X]\n",
    "    df_X_Playoffs = df_X_Playoffs.drop(cleanDFColumns, axis=1)\n",
    "    df_Y_Playoffs = df_Y_Reduced2[is_gameType_Y]\n",
    "    df_Y_Playoffs = df_Y_Playoffs[Y_headers_list2]\n",
    "\n",
    "\n",
    "# VALIDATION CODE \n",
    "if debug_active == 'yes':\n",
    "    # print(\"\")\n",
    "    # print(\"Pre Season\")\n",
    "    # display(df_X_PreSeason)\n",
    "    # display(df_Y_PreSeason)\n",
    "    print(\"\")\n",
    "    print(\"Regular Season\")\n",
    "    display(df_X_RegularSeason)\n",
    "    display(df_Y_RegularSeason)\n",
    "    # print(\"\")\n",
    "    # print(\"Playoffs\")\n",
    "    # display(df_X_Playoffs)\n",
    "    # display(df_Y_Playoffs)"
   ]
  },
  {
   "source": [
    "# Section 5: Analysis - Heat Maps / Correlation Matrices"
   ],
   "cell_type": "markdown",
   "metadata": {}
  },
  {
   "source": [
    "# Section 6: Modeling and Analysis"
   ],
   "cell_type": "markdown",
   "metadata": {}
  },
  {
   "source": [
    "## Section 6.1: Prepare train and test data"
   ],
   "cell_type": "markdown",
   "metadata": {}
  },
  {
   "cell_type": "code",
   "execution_count": 24,
   "metadata": {},
   "outputs": [
    {
     "output_type": "stream",
     "name": "stdout",
     "text": [
      "(72, 25) (72, 0)\nSeason Type:  1\n"
     ]
    }
   ],
   "source": [
    "# Select a season \n",
    "# gameTypeListed = ['Pre Season', 'Regular Season', 'Playoffs']\n",
    "# gameTypeListed_code = [0, 1, 2]\n",
    "\n",
    "if gameTypeToProcess == 0:\n",
    "    X = df_X_PreSeason\n",
    "    Y = df_Y_PreSeason\n",
    "elif gameTypeToProcess == 1:\n",
    "    X = df_X_RegularSeason\n",
    "    Y = df_Y_RegularSeason\n",
    "elif gameTypeToProcess == 2:\n",
    "    X = df_X_Playoffs\n",
    "    Y = df_Y_Playoffs\n",
    "\n",
    "# # Split the code into training and test dataset 0.7/0.3\n",
    "# X_train, X_test, Y_train, Y_test = train_test_split(X,Y, test_size = test_size_val, random_state = random_state_val)\n",
    "\n",
    "X_test = X\n",
    "Y_test = Y\n",
    "\n",
    "# selectedSeasonRecordCount = X_train.shape[0] + X_test.shape[0]\n",
    "\n",
    "# VALIDATION CODE \n",
    "if debug_active == 'yes':\n",
    "    # Validate the split at a high level\n",
    "    # print(X_train.shape,Y_train.shape)\n",
    "    print(X_test.shape,Y_test.shape)\n",
    "    print('Season Type: ', gameTypeToProcess)\n",
    "    df_Encoded.to_csv('DAT205_Output_All.csv') \n",
    "    # X_train.to_csv('DAT205_Output_Split_X_train.csv') \n",
    "    X_test.to_csv('DAT205_Output_Split_X_test.csv') \n",
    "    # Y_train.to_csv('DAT205_Output_Split_Y_train.csv') \n",
    "    Y_test.to_csv('DAT205_Output_Split_Y_test.csv') \n",
    "    # display(X_train)\n",
    "    # display(Y_train)\n"
   ]
  },
  {
   "cell_type": "code",
   "execution_count": 25,
   "metadata": {},
   "outputs": [
    {
     "output_type": "display_data",
     "data": {
      "text/plain": "           MIN   FGM    FGA    FG_PCT       FG3M       FG3A   FG3_PCT  \\\n0   265.000000  42.0  103.0  0.407767  14.000000  40.000000  0.350000   \n1   248.394444  39.5   82.0  0.481707  17.166667  34.666667  0.495192   \n2   248.661111  40.5   86.0  0.470930  15.166667  41.666667  0.364000   \n3   247.670000  35.0   89.0  0.393258  10.000000  39.000000  0.256410   \n4   241.616667  52.0   89.0  0.584270  12.000000  26.000000  0.461538   \n..         ...   ...    ...       ...        ...        ...       ...   \n67  248.094444  38.5   91.0  0.423077   9.166667  36.666667  0.250000   \n68  240.000000  34.0   71.0  0.478873  15.000000  39.000000  0.384615   \n69  243.264444  45.5   99.0  0.459596  12.166667  40.666667  0.299180   \n70  244.627778  41.5   92.0  0.451087  18.166667  42.666667  0.425781   \n71  224.844444  39.5   80.0  0.493750  14.166667  27.666667  0.512048   \n\n          FTM   FTA    FT_PCT  ...   STL        BLK       BLKA    PF  \\\n0   32.000000  38.0  0.842105  ...   7.0   3.000000   9.000000  24.0   \n1   15.333333  18.5  0.828829  ...   2.5   6.166667   8.833333  27.0   \n2   18.333333  19.5  0.940171  ...   8.5  12.166667   2.833333  24.0   \n3   29.000000  31.0  0.935484  ...   9.0   2.000000   7.000000  22.0   \n4   12.000000  15.0  0.800000  ...  13.0   2.000000   2.000000  23.0   \n..        ...   ...       ...  ...   ...        ...        ...   ...   \n67  15.333333  17.5  0.876190  ...   8.5   7.166667   2.833333  19.0   \n68  25.000000  33.0  0.757576  ...  17.0   7.000000   3.000000  23.0   \n69  19.333333  25.5  0.758170  ...  10.5   6.166667   6.833333  27.0   \n70  27.333333  39.5  0.691983  ...   8.5   6.166667  10.833333  24.0   \n71   9.333333  12.5  0.746667  ...   7.5   4.166667  11.833333  20.0   \n\n          PFD    PTS  PLUS_MINUS  DD2  TD3         PER  \n0   34.000000  130.0         8.0    1    0  129.756301  \n1   21.833333  111.5        -4.5    0    0  122.495341  \n2   23.833333  114.5        26.9    0    0  233.266292  \n3   22.000000  109.0        10.6    1    0  127.036927  \n4   18.000000  128.0        15.4    1    0  190.942918  \n..        ...    ...         ...  ...  ...         ...  \n67  22.833333  101.5       -23.1    0    0  192.229912  \n68  27.000000  108.0         9.0    1    0  158.325098  \n69  21.833333  122.5         9.7    1    0  193.822673  \n70  28.833333  128.5         3.5    0    0  291.068161  \n71  14.833333  102.5         8.3    0    0  185.044394  \n\n[72 rows x 25 columns]",
      "text/html": "<div>\n<style scoped>\n    .dataframe tbody tr th:only-of-type {\n        vertical-align: middle;\n    }\n\n    .dataframe tbody tr th {\n        vertical-align: top;\n    }\n\n    .dataframe thead th {\n        text-align: right;\n    }\n</style>\n<table border=\"1\" class=\"dataframe\">\n  <thead>\n    <tr style=\"text-align: right;\">\n      <th></th>\n      <th>MIN</th>\n      <th>FGM</th>\n      <th>FGA</th>\n      <th>FG_PCT</th>\n      <th>FG3M</th>\n      <th>FG3A</th>\n      <th>FG3_PCT</th>\n      <th>FTM</th>\n      <th>FTA</th>\n      <th>FT_PCT</th>\n      <th>...</th>\n      <th>STL</th>\n      <th>BLK</th>\n      <th>BLKA</th>\n      <th>PF</th>\n      <th>PFD</th>\n      <th>PTS</th>\n      <th>PLUS_MINUS</th>\n      <th>DD2</th>\n      <th>TD3</th>\n      <th>PER</th>\n    </tr>\n  </thead>\n  <tbody>\n    <tr>\n      <th>0</th>\n      <td>265.000000</td>\n      <td>42.0</td>\n      <td>103.0</td>\n      <td>0.407767</td>\n      <td>14.000000</td>\n      <td>40.000000</td>\n      <td>0.350000</td>\n      <td>32.000000</td>\n      <td>38.0</td>\n      <td>0.842105</td>\n      <td>...</td>\n      <td>7.0</td>\n      <td>3.000000</td>\n      <td>9.000000</td>\n      <td>24.0</td>\n      <td>34.000000</td>\n      <td>130.0</td>\n      <td>8.0</td>\n      <td>1</td>\n      <td>0</td>\n      <td>129.756301</td>\n    </tr>\n    <tr>\n      <th>1</th>\n      <td>248.394444</td>\n      <td>39.5</td>\n      <td>82.0</td>\n      <td>0.481707</td>\n      <td>17.166667</td>\n      <td>34.666667</td>\n      <td>0.495192</td>\n      <td>15.333333</td>\n      <td>18.5</td>\n      <td>0.828829</td>\n      <td>...</td>\n      <td>2.5</td>\n      <td>6.166667</td>\n      <td>8.833333</td>\n      <td>27.0</td>\n      <td>21.833333</td>\n      <td>111.5</td>\n      <td>-4.5</td>\n      <td>0</td>\n      <td>0</td>\n      <td>122.495341</td>\n    </tr>\n    <tr>\n      <th>2</th>\n      <td>248.661111</td>\n      <td>40.5</td>\n      <td>86.0</td>\n      <td>0.470930</td>\n      <td>15.166667</td>\n      <td>41.666667</td>\n      <td>0.364000</td>\n      <td>18.333333</td>\n      <td>19.5</td>\n      <td>0.940171</td>\n      <td>...</td>\n      <td>8.5</td>\n      <td>12.166667</td>\n      <td>2.833333</td>\n      <td>24.0</td>\n      <td>23.833333</td>\n      <td>114.5</td>\n      <td>26.9</td>\n      <td>0</td>\n      <td>0</td>\n      <td>233.266292</td>\n    </tr>\n    <tr>\n      <th>3</th>\n      <td>247.670000</td>\n      <td>35.0</td>\n      <td>89.0</td>\n      <td>0.393258</td>\n      <td>10.000000</td>\n      <td>39.000000</td>\n      <td>0.256410</td>\n      <td>29.000000</td>\n      <td>31.0</td>\n      <td>0.935484</td>\n      <td>...</td>\n      <td>9.0</td>\n      <td>2.000000</td>\n      <td>7.000000</td>\n      <td>22.0</td>\n      <td>22.000000</td>\n      <td>109.0</td>\n      <td>10.6</td>\n      <td>1</td>\n      <td>0</td>\n      <td>127.036927</td>\n    </tr>\n    <tr>\n      <th>4</th>\n      <td>241.616667</td>\n      <td>52.0</td>\n      <td>89.0</td>\n      <td>0.584270</td>\n      <td>12.000000</td>\n      <td>26.000000</td>\n      <td>0.461538</td>\n      <td>12.000000</td>\n      <td>15.0</td>\n      <td>0.800000</td>\n      <td>...</td>\n      <td>13.0</td>\n      <td>2.000000</td>\n      <td>2.000000</td>\n      <td>23.0</td>\n      <td>18.000000</td>\n      <td>128.0</td>\n      <td>15.4</td>\n      <td>1</td>\n      <td>0</td>\n      <td>190.942918</td>\n    </tr>\n    <tr>\n      <th>...</th>\n      <td>...</td>\n      <td>...</td>\n      <td>...</td>\n      <td>...</td>\n      <td>...</td>\n      <td>...</td>\n      <td>...</td>\n      <td>...</td>\n      <td>...</td>\n      <td>...</td>\n      <td>...</td>\n      <td>...</td>\n      <td>...</td>\n      <td>...</td>\n      <td>...</td>\n      <td>...</td>\n      <td>...</td>\n      <td>...</td>\n      <td>...</td>\n      <td>...</td>\n      <td>...</td>\n    </tr>\n    <tr>\n      <th>67</th>\n      <td>248.094444</td>\n      <td>38.5</td>\n      <td>91.0</td>\n      <td>0.423077</td>\n      <td>9.166667</td>\n      <td>36.666667</td>\n      <td>0.250000</td>\n      <td>15.333333</td>\n      <td>17.5</td>\n      <td>0.876190</td>\n      <td>...</td>\n      <td>8.5</td>\n      <td>7.166667</td>\n      <td>2.833333</td>\n      <td>19.0</td>\n      <td>22.833333</td>\n      <td>101.5</td>\n      <td>-23.1</td>\n      <td>0</td>\n      <td>0</td>\n      <td>192.229912</td>\n    </tr>\n    <tr>\n      <th>68</th>\n      <td>240.000000</td>\n      <td>34.0</td>\n      <td>71.0</td>\n      <td>0.478873</td>\n      <td>15.000000</td>\n      <td>39.000000</td>\n      <td>0.384615</td>\n      <td>25.000000</td>\n      <td>33.0</td>\n      <td>0.757576</td>\n      <td>...</td>\n      <td>17.0</td>\n      <td>7.000000</td>\n      <td>3.000000</td>\n      <td>23.0</td>\n      <td>27.000000</td>\n      <td>108.0</td>\n      <td>9.0</td>\n      <td>1</td>\n      <td>0</td>\n      <td>158.325098</td>\n    </tr>\n    <tr>\n      <th>69</th>\n      <td>243.264444</td>\n      <td>45.5</td>\n      <td>99.0</td>\n      <td>0.459596</td>\n      <td>12.166667</td>\n      <td>40.666667</td>\n      <td>0.299180</td>\n      <td>19.333333</td>\n      <td>25.5</td>\n      <td>0.758170</td>\n      <td>...</td>\n      <td>10.5</td>\n      <td>6.166667</td>\n      <td>6.833333</td>\n      <td>27.0</td>\n      <td>21.833333</td>\n      <td>122.5</td>\n      <td>9.7</td>\n      <td>1</td>\n      <td>0</td>\n      <td>193.822673</td>\n    </tr>\n    <tr>\n      <th>70</th>\n      <td>244.627778</td>\n      <td>41.5</td>\n      <td>92.0</td>\n      <td>0.451087</td>\n      <td>18.166667</td>\n      <td>42.666667</td>\n      <td>0.425781</td>\n      <td>27.333333</td>\n      <td>39.5</td>\n      <td>0.691983</td>\n      <td>...</td>\n      <td>8.5</td>\n      <td>6.166667</td>\n      <td>10.833333</td>\n      <td>24.0</td>\n      <td>28.833333</td>\n      <td>128.5</td>\n      <td>3.5</td>\n      <td>0</td>\n      <td>0</td>\n      <td>291.068161</td>\n    </tr>\n    <tr>\n      <th>71</th>\n      <td>224.844444</td>\n      <td>39.5</td>\n      <td>80.0</td>\n      <td>0.493750</td>\n      <td>14.166667</td>\n      <td>27.666667</td>\n      <td>0.512048</td>\n      <td>9.333333</td>\n      <td>12.5</td>\n      <td>0.746667</td>\n      <td>...</td>\n      <td>7.5</td>\n      <td>4.166667</td>\n      <td>11.833333</td>\n      <td>20.0</td>\n      <td>14.833333</td>\n      <td>102.5</td>\n      <td>8.3</td>\n      <td>0</td>\n      <td>0</td>\n      <td>185.044394</td>\n    </tr>\n  </tbody>\n</table>\n<p>72 rows × 25 columns</p>\n</div>"
     },
     "metadata": {}
    },
    {
     "output_type": "display_data",
     "data": {
      "text/plain": "Empty DataFrame\nColumns: []\nIndex: [0, 1, 2, 3, 4, 5, 6, 7, 8, 9, 10, 11, 12, 13, 14, 15, 16, 17, 18, 19, 20, 21, 22, 23, 24, 25, 26, 27, 28, 29, 30, 31, 32, 33, 34, 35, 36, 37, 38, 39, 40, 41, 42, 43, 44, 45, 46, 47, 48, 49, 50, 51, 52, 53, 54, 55, 56, 57, 58, 59, 60, 61, 62, 63, 64, 65, 66, 67, 68, 69, 70, 71]\n\n[72 rows x 0 columns]",
      "text/html": "<div>\n<style scoped>\n    .dataframe tbody tr th:only-of-type {\n        vertical-align: middle;\n    }\n\n    .dataframe tbody tr th {\n        vertical-align: top;\n    }\n\n    .dataframe thead th {\n        text-align: right;\n    }\n</style>\n<table border=\"1\" class=\"dataframe\">\n  <thead>\n    <tr style=\"text-align: right;\">\n      <th></th>\n    </tr>\n  </thead>\n  <tbody>\n    <tr>\n      <th>0</th>\n    </tr>\n    <tr>\n      <th>1</th>\n    </tr>\n    <tr>\n      <th>2</th>\n    </tr>\n    <tr>\n      <th>3</th>\n    </tr>\n    <tr>\n      <th>4</th>\n    </tr>\n    <tr>\n      <th>...</th>\n    </tr>\n    <tr>\n      <th>67</th>\n    </tr>\n    <tr>\n      <th>68</th>\n    </tr>\n    <tr>\n      <th>69</th>\n    </tr>\n    <tr>\n      <th>70</th>\n    </tr>\n    <tr>\n      <th>71</th>\n    </tr>\n  </tbody>\n</table>\n<p>72 rows × 0 columns</p>\n</div>"
     },
     "metadata": {}
    }
   ],
   "source": [
    "# VALIDATION CODE \n",
    "if debug_active == 'yes':\n",
    "    display(X)\n",
    "    display(Y)"
   ]
  },
  {
   "source": [
    "## Section 6.4: Apply Random Forest Classifier on the split train/test dataset\n",
    "\n",
    "- https://scikit-learn.org/stable/modules/generated/sklearn.ensemble.RandomForestClassifier.html\n",
    "\n",
    "RandomForestClassifier(n_estimators=100, *, criterion='gini', max_depth=None, min_samples_split=2, min_samples_leaf=1, min_weight_fraction_leaf=0.0, max_features='auto', max_leaf_nodes=None, min_impurity_decrease=0.0, min_impurity_split=None, bootstrap=True, oob_score=False, n_jobs=None, random_state=None, verbose=0, warm_start=False, class_weight=None, ccp_alpha=0.0, max_samples=None)[source]¶\n",
    "\n",
    "- https://scikit-learn.org/stable/modules/generated/sklearn.ensemble.RandomForestRegressor.html\n",
    "\n",
    "\n",
    "Hint from processing from TPOT under XGBoost\n",
    "\n",
    "Best pipeline: RandomForestClassifier(input_matrix, bootstrap=True, criterion=gini, max_features=0.4, min_samples_leaf=13, min_samples_split=13, n_estimators=100)"
   ],
   "cell_type": "markdown",
   "metadata": {}
  },
  {
   "source": [
    "### Random Forest Classifier - Tuned Model"
   ],
   "cell_type": "markdown",
   "metadata": {}
  },
  {
   "cell_type": "code",
   "execution_count": 26,
   "metadata": {},
   "outputs": [],
   "source": [
    "if useModel_RFM == 'yes':\n",
    "\n",
    "    # # Create the model\n",
    "    # RFM = RandomForestClassifier(max_depth=2, random_state=random_state_val)\n",
    "\n",
    "    # # Train the model\n",
    "    # RFM.fit(X_train, Y_train.values.ravel())\n",
    "\n",
    "    # load the model from disk\n",
    "    # modelSelect = 'RFM'\n",
    "    # filename = modelSelect + '_finalized_model.sav'\n",
    "    # loaded_model = pickle.load(open(filename, 'rb'))\n",
    "    \n",
    "    # load, no need to initialize the loaded_rf\n",
    "    loaded_model = joblib.load(\"./RFM_TeamModel.joblib\")\n",
    "\n",
    "    # Predict using test data\n",
    "    Y_pred = loaded_model.predict(X_test)\n",
    "    df_Y_pred = pd.DataFrame(Y_pred, columns = ['Y_pred'])\n",
    "    df_Y_pred.to_csv(folder_Input + 'DAT205_Output_Y_pred_RFM_Prediction.csv') "
   ]
  },
  {
   "cell_type": "code",
   "execution_count": 27,
   "metadata": {},
   "outputs": [],
   "source": [
    "df_Pred = pd.concat([df_Y_pred, X_test], axis=1)\n",
    "df_Pred.to_csv(folder_Input + 'DAT205_Output_Pred_RFM_Prediction.csv') "
   ]
  },
  {
   "source": [
    "# Section 8: Summary Report"
   ],
   "cell_type": "markdown",
   "metadata": {}
  },
  {
   "cell_type": "code",
   "execution_count": 28,
   "metadata": {},
   "outputs": [
    {
     "output_type": "stream",
     "name": "stdout",
     "text": [
      "\n\nPROCESSING COMPLETE\nTotal Runtime: 0:05:21.43\n"
     ]
    }
   ],
   "source": [
    "time_took = time.time() - start_time\n",
    "print(\"\")\n",
    "print(\"\")\n",
    "print(\"PROCESSING COMPLETE\")\n",
    "print(f\"Total Runtime: {hms_string(time_took)}\")\n",
    "if dataEnhancement_active == 'yes':\n",
    "    print(f\"Add Enhancement Columns Runtime: {hms_string(time_took01)}\")\n",
    "    print(f\"Create temp TeamGameStats dataframe Runtime: {hms_string(time_took02)}\")\n",
    "    print(f\"Calculate PIE / PER Runtime: {hms_string(time_took03)}\")\n",
    "    # print(f\"Calculate PER Runtime: {hms_string(time_took04)}\")"
   ]
  },
  {
   "cell_type": "markdown",
   "metadata": {},
   "source": [
    "# End of Code"
   ]
  }
 ],
 "metadata": {
  "kernelspec": {
   "name": "python376jvsc74a57bd0bafbe4f990b61191a40d1700965fa700010ade2b3fb0c02483acd6cd03b49def",
   "display_name": "Python 3.7.6 64-bit"
  },
  "language_info": {
   "codemirror_mode": {
    "name": "ipython",
    "version": 3
   },
   "file_extension": ".py",
   "mimetype": "text/x-python",
   "name": "python",
   "nbconvert_exporter": "python",
   "pygments_lexer": "ipython3",
   "version": "3.7.6"
  }
 },
 "nbformat": 4,
 "nbformat_minor": 4
}