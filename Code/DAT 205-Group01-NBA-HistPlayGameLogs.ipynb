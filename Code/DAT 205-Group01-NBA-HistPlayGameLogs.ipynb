{
 "cells": [
  {
   "cell_type": "markdown",
   "metadata": {},
   "source": [
    "# DAT 205 Project \n",
    "## By Dennis Hung\n",
    "## Version 1\n",
    "## Code Finalized 2021-03-06\n",
    "\n",
    "## Updates\n",
    "#### 2021-03-08  Added in Section 3b to remove unwanted data (NBA Fantasy Rankings)\n"
   ]
  },
  {
   "source": [
    "##  Reference\n",
    "\n",
    "#### How to Get NBA Data Using the nba_api Python Module (Beginner). Retrieved from Plyaing Numbers: \n",
    "\n",
    "https://www.playingnumbers.com/2019/12/how-to-get-nba-data-using-the-nba_api-python-module-beginner/\n",
    "\n",
    "#### Patel, S. (2020, August 19). swar / nba_api. Retrieved from GitHub: \n",
    "\n",
    "https://github.com/swar/nba_api/blob/master/docs/table_of_contents.md\n",
    "\n",
    "#### Issues\n",
    "\n",
    "https://github.com/swar/nba_api/issues/124\n",
    "\n"
   ],
   "cell_type": "markdown",
   "metadata": {}
  },
  {
   "source": [
    "# NBA API: playergamelogs\n",
    "\n",
    "# 2021-03-05 Current pulls the play game stats for each specified season as 1 big file"
   ],
   "cell_type": "markdown",
   "metadata": {}
  },
  {
   "source": [
    "# Section 0: Function definitions\n",
    "\n",
    "hms_string(sec_elapsed)\n"
   ],
   "cell_type": "markdown",
   "metadata": {}
  },
  {
   "cell_type": "code",
   "execution_count": 1,
   "metadata": {},
   "outputs": [],
   "source": [
    "# Nicely formatted time string\n",
    "def hms_string(sec_elapsed):\n",
    "    h = int(sec_elapsed / (60 * 60))\n",
    "    m = int((sec_elapsed % (60 * 60))/60)\n",
    "    s = sec_elapsed % 60\n",
    "    return \"{}:{:>02}:{:>05.2f}\".format(h,m,s)"
   ]
  },
  {
   "source": [
    "# Section 1: Import libraries"
   ],
   "cell_type": "markdown",
   "metadata": {}
  },
  {
   "cell_type": "code",
   "execution_count": 2,
   "metadata": {},
   "outputs": [],
   "source": [
    "import pandas as pd\n",
    "import numpy as np\n",
    "import time\n",
    "from nba_api.stats.endpoints import playergamelogs\n",
    "import requests\n",
    "\n",
    "\n",
    "start_time = time.time()\n",
    "\n",
    "# Initialize variables if there is any debugging required\n",
    "# Insert following line and activate the debugging.\n",
    "# # VALIDATION CODE \n",
    "# if debug_active == 'yes':\n",
    "# \n",
    "# Use \"display(df)\"\" if the result command is \"df\" to retain the same format\n",
    "\n",
    "debug_active = 'yes'"
   ]
  },
  {
   "source": [
    "# Section 2: Configuration of variables\n",
    "\n",
    "Must manually set the following variables\n",
    "\n",
    "gameTypeListed as one of the following: 'Pre Season', 'Regular Season', 'Playoffs'\n",
    "\n",
    "seasonsListed for the game season in this format '2015-16'. Have at least 2 values"
   ],
   "cell_type": "markdown",
   "metadata": {}
  },
  {
   "cell_type": "code",
   "execution_count": 3,
   "metadata": {},
   "outputs": [],
   "source": [
    "# Update player stats per game each season\n",
    "\n",
    "gameTypeListed = ['Pre Season', 'Regular Season', 'Playoffs']\n",
    "\n",
    "# Option 1: For all currently possible seasons\n",
    "# seasonsListed = ['1946-47', '1947-48', '1948-49', '1949-50'\n",
    "# , '1950-51', '1951-52', '1952-53', '1953-54', '1954-55', '1955-56', '1956-57', '1957-58', '1958-59', '1959-60'\n",
    "# , '1960-61', '1961-62', '1962-63', '1963-64', '1964-65', '1965-66', '1966-67', '1967-68', '1968-69', '1969-70'\n",
    "# , '1970-71', '1971-72', '1972-73', '1973-74', '1974-75', '1975-76', '1976-77', '1977-78', '1978-79', '1979-80'\n",
    "# , '1980-81', '1981-82', '1982-83', '1983-84', '1984-85', '1985-86', '1986-87', '1987-88', '1988-89', '1989-90'\n",
    "# , '1990-91', '1991-92', '1992-93', '1993-94', '1994-95', '1995-96', '1996-97', '1997-98', '1998-99', '1999-00'\n",
    "# , '2000-01', '2001-02', '2002-03', '2003-04', '2004-05', '2005-06', '2006-07', '2007-08', '2008-09', '2009-10'\n",
    "# , '2010-11', '2011-12', '2012-13', '2013-14', '2014-15', '2015-16', '2016-17', '2017-18', '2018-19', '2019-20'\n",
    "# , '2020-21']\n",
    "\n",
    "seasonsListed = ['2004-05', '2005-06', '2006-07', '2007-08', '2008-09', '2009-10'\n",
    ", '2010-11', '2011-12', '2012-13', '2013-14', '2014-15', '2015-16', '2016-17', '2017-18', '2018-19', '2019-20']\n",
    "\n",
    "seasonStart = seasonsListed[0]\n",
    "seasonEnd = seasonsListed[-1]\n",
    "\n",
    "# Request info for each season in the list\n",
    "df_gamelogs_player = []\n",
    "countFirstYear = 0"
   ]
  },
  {
   "source": [
    "# Section 3a: Data Pull"
   ],
   "cell_type": "markdown",
   "metadata": {}
  },
  {
   "cell_type": "code",
   "execution_count": 4,
   "metadata": {},
   "outputs": [
    {
     "output_type": "stream",
     "name": "stdout",
     "text": [
      "\n",
      "Processed: Season = 2004-05 | Game_Type = Pre Season |  Process time: 0:00:00.30\n",
      "\n",
      "Processed: Season = 2004-05 | Game_Type = Regular Season |  Process time: 0:00:01.17\n",
      "\n",
      "Processed: Season = 2004-05 | Game_Type = Playoffs |  Process time: 0:00:00.39\n",
      "\n",
      "Processed: Season = 2005-06 | Game_Type = Pre Season |  Process time: 0:00:00.39\n",
      "\n",
      "Processed: Season = 2005-06 | Game_Type = Regular Season |  Process time: 0:00:01.41\n",
      "\n",
      "Processed: Season = 2005-06 | Game_Type = Playoffs |  Process time: 0:00:00.59\n",
      "\n",
      "Processed: Season = 2006-07 | Game_Type = Pre Season |  Process time: 0:00:00.44\n",
      "\n",
      "Processed: Season = 2006-07 | Game_Type = Regular Season |  Process time: 0:00:01.45\n",
      "\n",
      "Processed: Season = 2006-07 | Game_Type = Playoffs |  Process time: 0:00:00.55\n",
      "\n",
      "Processed: Season = 2007-08 | Game_Type = Pre Season |  Process time: 0:00:00.60\n",
      "\n",
      "Processed: Season = 2007-08 | Game_Type = Regular Season |  Process time: 0:00:01.89\n",
      "\n",
      "Processed: Season = 2007-08 | Game_Type = Playoffs |  Process time: 0:00:00.57\n",
      "\n",
      "Processed: Season = 2008-09 | Game_Type = Pre Season |  Process time: 0:00:01.99\n",
      "\n",
      "Processed: Season = 2008-09 | Game_Type = Regular Season |  Process time: 0:00:01.54\n",
      "\n",
      "Processed: Season = 2008-09 | Game_Type = Playoffs |  Process time: 0:00:00.65\n",
      "\n",
      "Processed: Season = 2009-10 | Game_Type = Pre Season |  Process time: 0:00:00.73\n",
      "\n",
      "Processed: Season = 2009-10 | Game_Type = Regular Season |  Process time: 0:00:01.62\n",
      "\n",
      "Processed: Season = 2009-10 | Game_Type = Playoffs |  Process time: 0:00:00.82\n",
      "\n",
      "Processed: Season = 2010-11 | Game_Type = Pre Season |  Process time: 0:00:00.82\n",
      "\n",
      "Processed: Season = 2010-11 | Game_Type = Regular Season |  Process time: 0:00:01.85\n",
      "\n",
      "Processed: Season = 2010-11 | Game_Type = Playoffs |  Process time: 0:00:00.85\n",
      "\n",
      "Processed: Season = 2011-12 | Game_Type = Pre Season |  Process time: 0:00:00.76\n",
      "\n",
      "Processed: Season = 2011-12 | Game_Type = Regular Season |  Process time: 0:00:01.63\n",
      "\n",
      "Processed: Season = 2011-12 | Game_Type = Playoffs |  Process time: 0:00:00.87\n",
      "\n",
      "Processed: Season = 2012-13 | Game_Type = Pre Season |  Process time: 0:00:00.92\n",
      "\n",
      "Processed: Season = 2012-13 | Game_Type = Regular Season |  Process time: 0:00:01.86\n",
      "\n",
      "Processed: Season = 2012-13 | Game_Type = Playoffs |  Process time: 0:00:00.99\n",
      "\n",
      "Processed: Season = 2013-14 | Game_Type = Pre Season |  Process time: 0:00:00.99\n",
      "\n",
      "Processed: Season = 2013-14 | Game_Type = Regular Season |  Process time: 0:00:01.99\n",
      "\n",
      "Processed: Season = 2013-14 | Game_Type = Playoffs |  Process time: 0:00:01.13\n",
      "\n",
      "Processed: Season = 2014-15 | Game_Type = Pre Season |  Process time: 0:00:01.10\n",
      "\n",
      "Processed: Season = 2014-15 | Game_Type = Regular Season |  Process time: 0:00:02.13\n",
      "\n",
      "Processed: Season = 2014-15 | Game_Type = Playoffs |  Process time: 0:00:01.11\n",
      "\n",
      "Processed: Season = 2015-16 | Game_Type = Pre Season |  Process time: 0:00:01.18\n",
      "\n",
      "Processed: Season = 2015-16 | Game_Type = Regular Season |  Process time: 0:00:02.17\n",
      "\n",
      "Processed: Season = 2015-16 | Game_Type = Playoffs |  Process time: 0:00:01.27\n",
      "\n",
      "Processed: Season = 2016-17 | Game_Type = Pre Season |  Process time: 0:00:01.24\n",
      "\n",
      "Processed: Season = 2016-17 | Game_Type = Regular Season |  Process time: 0:00:02.29\n",
      "\n",
      "Processed: Season = 2016-17 | Game_Type = Playoffs |  Process time: 0:00:01.42\n",
      "\n",
      "Processed: Season = 2017-18 | Game_Type = Pre Season |  Process time: 0:00:01.36\n",
      "\n",
      "Processed: Season = 2017-18 | Game_Type = Regular Season |  Process time: 0:00:02.26\n",
      "\n",
      "Processed: Season = 2017-18 | Game_Type = Playoffs |  Process time: 0:00:01.51\n",
      "\n",
      "Processed: Season = 2018-19 | Game_Type = Pre Season |  Process time: 0:00:01.49\n",
      "\n",
      "Processed: Season = 2018-19 | Game_Type = Regular Season |  Process time: 0:00:02.40\n",
      "\n",
      "Processed: Season = 2018-19 | Game_Type = Playoffs |  Process time: 0:00:01.47\n",
      "\n",
      "Processed: Season = 2019-20 | Game_Type = Pre Season |  Process time: 0:00:01.52\n",
      "\n",
      "Processed: Season = 2019-20 | Game_Type = Regular Season |  Process time: 0:00:02.37\n",
      "\n",
      "Processed: Season = 2019-20 | Game_Type = Playoffs |  Process time: 0:00:02.40\n"
     ]
    }
   ],
   "source": [
    "for seasonSelected in seasonsListed: \n",
    "\n",
    "    # For gameType in gameTypeListed:        \n",
    "    for gameType in gameTypeListed:\n",
    "        # Start counter for processing the current season\n",
    "        start_time_counter_Season = time.time() \n",
    "        \n",
    "        gamelogs_players = playergamelogs.PlayerGameLogs(season_nullable = seasonSelected, season_type_nullable = gameType)\n",
    "        df_gamelogs_players_currSeason = pd.DataFrame(gamelogs_players.get_data_frames()[0])\n",
    "        \n",
    "        # Insert gameType column and list as one of the values in gameTypeListed\n",
    "        df_gamelogs_players_currSeason['Game_Type'] = gameType\n",
    "        if countFirstYear == 0:\n",
    "            df_gamelogs_players = df_gamelogs_players_currSeason\n",
    "            countFirstYear = 1\n",
    "        else:\n",
    "            # df_gamelogs_players = np.concatenate([df_gamelogs_players, df_gamelogs_players_currSeason])\n",
    "            df_gamelogs_players = pd.concat([df_gamelogs_players, df_gamelogs_players_currSeason],ignore_index=True)\n",
    "            # df_gamelogs_players = df_gamelogs_players.append(df_gamelogs_players_currSeason)\n",
    "\n",
    "        time_took_Season = time.time() - start_time_counter_Season\n",
    "        print(\"\")\n",
    "        print(\"Processed: Season =\", seasonSelected, \"| Game_Type =\", gameType, \"| \",  f\"Process time: {hms_string(time_took_Season)}\")\n",
    "        # print(f\"Process time: {hms_string(time_took_Season)}\")\n",
    "        time.sleep(2) "
   ]
  },
  {
   "source": [
    "# Section 3b: Cleanse the data of NBA Fantasy columns"
   ],
   "cell_type": "markdown",
   "metadata": {}
  },
  {
   "cell_type": "code",
   "execution_count": 5,
   "metadata": {},
   "outputs": [
    {
     "output_type": "display_data",
     "data": {
      "text/plain": "       SEASON_YEAR PLAYER_ID       PLAYER_NAME     TEAM_ID TEAM_ABBREVIATION  \\\n0          2004-05      2748     Dorell Wright  1610612748               MIA   \n1          2004-05      1883     Steve Francis  1610612753               ORL   \n2          2004-05      2041       Etan Thomas  1610612764               WAS   \n3          2004-05      2561        David West  1610612740               NOH   \n4          2004-05       711  Jerry Stackhouse  1610612742               DAL   \n...            ...       ...               ...         ...               ...   \n465060     2019-20    204060        Joe Ingles  1610612762               UTA   \n465061     2019-20   1626144   Emmanuel Mudiay  1610612762               UTA   \n465062     2019-20    203924      Jerami Grant  1610612743               DEN   \n465063     2019-20   1626196   Josh Richardson  1610612755               PHI   \n465064     2019-20    202699     Tobias Harris  1610612755               PHI   \n\n                  TEAM_NAME     GAME_ID            GAME_DATE      MATCHUP WL  \\\n0                Miami Heat  0020401221  2005-04-20T00:00:00    MIA @ ORL  W   \n1             Orlando Magic  0020401221  2005-04-20T00:00:00  ORL vs. MIA  L   \n2        Washington Wizards  0020401222  2005-04-20T00:00:00    WAS @ NYK  L   \n3       New Orleans Hornets  0020401225  2005-04-20T00:00:00  NOH vs. LAC  L   \n4          Dallas Mavericks  0020401224  2005-04-20T00:00:00    DAL @ MEM  W   \n...                     ...         ...                  ...          ... ..   \n465060            Utah Jazz  0041900161  2020-08-17T00:00:00    UTA @ DEN  L   \n465061            Utah Jazz  0041900161  2020-08-17T00:00:00    UTA @ DEN  L   \n465062       Denver Nuggets  0041900161  2020-08-17T00:00:00  DEN vs. UTA  W   \n465063   Philadelphia 76ers  0041900121  2020-08-17T00:00:00    PHI @ BOS  L   \n465064   Philadelphia 76ers  0041900121  2020-08-17T00:00:00    PHI @ BOS  L   \n\n        ...  STL BLK BLKA  PF PFD PTS  PLUS_MINUS DD2 TD3       Game_Type  \n0       ...    3   0    0   0   0   7          -1   0   0  Regular Season  \n1       ...    2   0    2   4   0  21         -11   0   0  Regular Season  \n2       ...    1   2    1   6   0  13          -5   1   0  Regular Season  \n3       ...    0   1    1   5   0  11           7   0   0  Regular Season  \n4       ...    1   0    1   3   0  13          -1   0   0  Regular Season  \n...     ...  ...  ..  ...  ..  ..  ..         ...  ..  ..             ...  \n465060  ...    1   0    0   3   5  19         -14   0   0        Playoffs  \n465061  ...    0   0    0   0   1   1           1   0   0        Playoffs  \n465062  ...    1   1    0   2   6  19           1   0   0        Playoffs  \n465063  ...    0   0    2   2   2  18         -10   0   0        Playoffs  \n465064  ...    1   0    2   1   2  15          -2   0   0        Playoffs  \n\n[465065 rows x 35 columns]",
      "text/html": "<div>\n<style scoped>\n    .dataframe tbody tr th:only-of-type {\n        vertical-align: middle;\n    }\n\n    .dataframe tbody tr th {\n        vertical-align: top;\n    }\n\n    .dataframe thead th {\n        text-align: right;\n    }\n</style>\n<table border=\"1\" class=\"dataframe\">\n  <thead>\n    <tr style=\"text-align: right;\">\n      <th></th>\n      <th>SEASON_YEAR</th>\n      <th>PLAYER_ID</th>\n      <th>PLAYER_NAME</th>\n      <th>TEAM_ID</th>\n      <th>TEAM_ABBREVIATION</th>\n      <th>TEAM_NAME</th>\n      <th>GAME_ID</th>\n      <th>GAME_DATE</th>\n      <th>MATCHUP</th>\n      <th>WL</th>\n      <th>...</th>\n      <th>STL</th>\n      <th>BLK</th>\n      <th>BLKA</th>\n      <th>PF</th>\n      <th>PFD</th>\n      <th>PTS</th>\n      <th>PLUS_MINUS</th>\n      <th>DD2</th>\n      <th>TD3</th>\n      <th>Game_Type</th>\n    </tr>\n  </thead>\n  <tbody>\n    <tr>\n      <th>0</th>\n      <td>2004-05</td>\n      <td>2748</td>\n      <td>Dorell Wright</td>\n      <td>1610612748</td>\n      <td>MIA</td>\n      <td>Miami Heat</td>\n      <td>0020401221</td>\n      <td>2005-04-20T00:00:00</td>\n      <td>MIA @ ORL</td>\n      <td>W</td>\n      <td>...</td>\n      <td>3</td>\n      <td>0</td>\n      <td>0</td>\n      <td>0</td>\n      <td>0</td>\n      <td>7</td>\n      <td>-1</td>\n      <td>0</td>\n      <td>0</td>\n      <td>Regular Season</td>\n    </tr>\n    <tr>\n      <th>1</th>\n      <td>2004-05</td>\n      <td>1883</td>\n      <td>Steve Francis</td>\n      <td>1610612753</td>\n      <td>ORL</td>\n      <td>Orlando Magic</td>\n      <td>0020401221</td>\n      <td>2005-04-20T00:00:00</td>\n      <td>ORL vs. MIA</td>\n      <td>L</td>\n      <td>...</td>\n      <td>2</td>\n      <td>0</td>\n      <td>2</td>\n      <td>4</td>\n      <td>0</td>\n      <td>21</td>\n      <td>-11</td>\n      <td>0</td>\n      <td>0</td>\n      <td>Regular Season</td>\n    </tr>\n    <tr>\n      <th>2</th>\n      <td>2004-05</td>\n      <td>2041</td>\n      <td>Etan Thomas</td>\n      <td>1610612764</td>\n      <td>WAS</td>\n      <td>Washington Wizards</td>\n      <td>0020401222</td>\n      <td>2005-04-20T00:00:00</td>\n      <td>WAS @ NYK</td>\n      <td>L</td>\n      <td>...</td>\n      <td>1</td>\n      <td>2</td>\n      <td>1</td>\n      <td>6</td>\n      <td>0</td>\n      <td>13</td>\n      <td>-5</td>\n      <td>1</td>\n      <td>0</td>\n      <td>Regular Season</td>\n    </tr>\n    <tr>\n      <th>3</th>\n      <td>2004-05</td>\n      <td>2561</td>\n      <td>David West</td>\n      <td>1610612740</td>\n      <td>NOH</td>\n      <td>New Orleans Hornets</td>\n      <td>0020401225</td>\n      <td>2005-04-20T00:00:00</td>\n      <td>NOH vs. LAC</td>\n      <td>L</td>\n      <td>...</td>\n      <td>0</td>\n      <td>1</td>\n      <td>1</td>\n      <td>5</td>\n      <td>0</td>\n      <td>11</td>\n      <td>7</td>\n      <td>0</td>\n      <td>0</td>\n      <td>Regular Season</td>\n    </tr>\n    <tr>\n      <th>4</th>\n      <td>2004-05</td>\n      <td>711</td>\n      <td>Jerry Stackhouse</td>\n      <td>1610612742</td>\n      <td>DAL</td>\n      <td>Dallas Mavericks</td>\n      <td>0020401224</td>\n      <td>2005-04-20T00:00:00</td>\n      <td>DAL @ MEM</td>\n      <td>W</td>\n      <td>...</td>\n      <td>1</td>\n      <td>0</td>\n      <td>1</td>\n      <td>3</td>\n      <td>0</td>\n      <td>13</td>\n      <td>-1</td>\n      <td>0</td>\n      <td>0</td>\n      <td>Regular Season</td>\n    </tr>\n    <tr>\n      <th>...</th>\n      <td>...</td>\n      <td>...</td>\n      <td>...</td>\n      <td>...</td>\n      <td>...</td>\n      <td>...</td>\n      <td>...</td>\n      <td>...</td>\n      <td>...</td>\n      <td>...</td>\n      <td>...</td>\n      <td>...</td>\n      <td>...</td>\n      <td>...</td>\n      <td>...</td>\n      <td>...</td>\n      <td>...</td>\n      <td>...</td>\n      <td>...</td>\n      <td>...</td>\n      <td>...</td>\n    </tr>\n    <tr>\n      <th>465060</th>\n      <td>2019-20</td>\n      <td>204060</td>\n      <td>Joe Ingles</td>\n      <td>1610612762</td>\n      <td>UTA</td>\n      <td>Utah Jazz</td>\n      <td>0041900161</td>\n      <td>2020-08-17T00:00:00</td>\n      <td>UTA @ DEN</td>\n      <td>L</td>\n      <td>...</td>\n      <td>1</td>\n      <td>0</td>\n      <td>0</td>\n      <td>3</td>\n      <td>5</td>\n      <td>19</td>\n      <td>-14</td>\n      <td>0</td>\n      <td>0</td>\n      <td>Playoffs</td>\n    </tr>\n    <tr>\n      <th>465061</th>\n      <td>2019-20</td>\n      <td>1626144</td>\n      <td>Emmanuel Mudiay</td>\n      <td>1610612762</td>\n      <td>UTA</td>\n      <td>Utah Jazz</td>\n      <td>0041900161</td>\n      <td>2020-08-17T00:00:00</td>\n      <td>UTA @ DEN</td>\n      <td>L</td>\n      <td>...</td>\n      <td>0</td>\n      <td>0</td>\n      <td>0</td>\n      <td>0</td>\n      <td>1</td>\n      <td>1</td>\n      <td>1</td>\n      <td>0</td>\n      <td>0</td>\n      <td>Playoffs</td>\n    </tr>\n    <tr>\n      <th>465062</th>\n      <td>2019-20</td>\n      <td>203924</td>\n      <td>Jerami Grant</td>\n      <td>1610612743</td>\n      <td>DEN</td>\n      <td>Denver Nuggets</td>\n      <td>0041900161</td>\n      <td>2020-08-17T00:00:00</td>\n      <td>DEN vs. UTA</td>\n      <td>W</td>\n      <td>...</td>\n      <td>1</td>\n      <td>1</td>\n      <td>0</td>\n      <td>2</td>\n      <td>6</td>\n      <td>19</td>\n      <td>1</td>\n      <td>0</td>\n      <td>0</td>\n      <td>Playoffs</td>\n    </tr>\n    <tr>\n      <th>465063</th>\n      <td>2019-20</td>\n      <td>1626196</td>\n      <td>Josh Richardson</td>\n      <td>1610612755</td>\n      <td>PHI</td>\n      <td>Philadelphia 76ers</td>\n      <td>0041900121</td>\n      <td>2020-08-17T00:00:00</td>\n      <td>PHI @ BOS</td>\n      <td>L</td>\n      <td>...</td>\n      <td>0</td>\n      <td>0</td>\n      <td>2</td>\n      <td>2</td>\n      <td>2</td>\n      <td>18</td>\n      <td>-10</td>\n      <td>0</td>\n      <td>0</td>\n      <td>Playoffs</td>\n    </tr>\n    <tr>\n      <th>465064</th>\n      <td>2019-20</td>\n      <td>202699</td>\n      <td>Tobias Harris</td>\n      <td>1610612755</td>\n      <td>PHI</td>\n      <td>Philadelphia 76ers</td>\n      <td>0041900121</td>\n      <td>2020-08-17T00:00:00</td>\n      <td>PHI @ BOS</td>\n      <td>L</td>\n      <td>...</td>\n      <td>1</td>\n      <td>0</td>\n      <td>2</td>\n      <td>1</td>\n      <td>2</td>\n      <td>15</td>\n      <td>-2</td>\n      <td>0</td>\n      <td>0</td>\n      <td>Playoffs</td>\n    </tr>\n  </tbody>\n</table>\n<p>465065 rows × 35 columns</p>\n</div>"
     },
     "metadata": {}
    }
   ],
   "source": [
    "df = df_gamelogs_players\n",
    "\n",
    "# Remove unwanted/useless attributes\n",
    "unwanted_list = ['NBA_FANTASY_PTS', 'GP_RANK', 'W_RANK', 'L_RANK', 'W_PCT_RANK', 'MIN_RANK', 'FGM_RANK'\n",
    ", 'FGA_RANK', 'FG_PCT_RANK', 'FG3M_RANK', 'FG3A_RANK', 'FG3_PCT_RANK', 'FTM_RANK', 'FTA_RANK', 'FT_PCT_RANK', 'OREB_RANK'\n",
    ", 'DREB_RANK', 'REB_RANK', 'AST_RANK', 'TOV_RANK', 'STL_RANK', 'BLK_RANK', 'BLKA_RANK', 'PF_RANK', 'PFD_RANK'\n",
    ", 'PTS_RANK', 'PLUS_MINUS_RANK', 'NBA_FANTASY_PTS_RANK', 'DD2_RANK', 'TD3_RANK']\n",
    "\n",
    "# Define the possible list of features that could predict the TARGET \n",
    "X_headers_list = df.columns.tolist()\n",
    "\n",
    "for x in unwanted_list:\n",
    "    X_headers_list.remove(x)\n",
    "\n",
    "# Display current dataframe\n",
    "df = df[X_headers_list]\n",
    "\n",
    "df_gamelogs_players = df\n",
    "\n",
    "# VALIDATION CODE \n",
    "if debug_active == 'yes':\n",
    "    display(df_gamelogs_players)"
   ]
  },
  {
   "source": [
    "# Section 4: Export data to CSV"
   ],
   "cell_type": "markdown",
   "metadata": {}
  },
  {
   "cell_type": "code",
   "execution_count": 6,
   "metadata": {},
   "outputs": [
    {
     "output_type": "stream",
     "name": "stdout",
     "text": [
      "\n\nPROCESSING COMPLETE\nTotal Runtime: 0:02:45.17\n"
     ]
    }
   ],
   "source": [
    "#Save the data to the same folder that contains the notebook, example will be named 'Jamal Murray2019.csv'\n",
    "# Setup file name for CSV\n",
    "filename = './HistoricalGameLogs_'\n",
    "# filename = filename + seasonStart + '_to_' + seasonEnd + '_' + gameType + '.csv'\n",
    "filename = filename + seasonStart + '_to_' + seasonEnd + '_ALL' + '.csv'\n",
    "\n",
    "df_gamelogs_players.to_csv(filename)\n",
    "\n",
    "time_took = time.time() - start_time\n",
    "print(\"\")\n",
    "print(\"\")\n",
    "print(\"PROCESSING COMPLETE\")\n",
    "print(f\"Total Runtime: {hms_string(time_took)}\")"
   ]
  },
  {
   "cell_type": "markdown",
   "metadata": {},
   "source": [
    "# End of Code"
   ]
  }
 ],
 "metadata": {
  "kernelspec": {
   "display_name": "Python 3",
   "language": "python",
   "name": "python3"
  },
  "language_info": {
   "codemirror_mode": {
    "name": "ipython",
    "version": 3
   },
   "file_extension": ".py",
   "mimetype": "text/x-python",
   "name": "python",
   "nbconvert_exporter": "python",
   "pygments_lexer": "ipython3",
   "version": "3.7.6-final"
  }
 },
 "nbformat": 4,
 "nbformat_minor": 4
}