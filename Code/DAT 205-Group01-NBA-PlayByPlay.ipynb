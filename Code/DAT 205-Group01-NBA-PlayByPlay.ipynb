{
 "cells": [
  {
   "cell_type": "markdown",
   "metadata": {},
   "source": [
    "# DAT 205 Project \n",
    "## By Dennis Hung\n",
    "## Version 1\n",
    "## Last updated 2021-03-06"
   ]
  },
  {
   "source": [
    "##  Reference\n",
    "##test github\n",
    "\n",
    "#### Patel, S. (2020, August 19). swar / nba_api. Retrieved from GitHub: \n",
    "\n",
    "https://github.com/swar/nba_api/blob/master/docs/examples/PlayByPlay.ipynb\n",
    "\n",
    "https://github.com/swar/nba_api/blob/master/docs/table_of_contents.md\n",
    "\n",
    "#### rd11490 / NBA-Play-By-Play-Example \n",
    "\n",
    "https://github.com/rd11490/NBA-Play-By-Play-Example\n",
    "\n"
   ],
   "cell_type": "markdown",
   "metadata": {}
  },
  {
   "source": [
    "# NBA API: playbyplay\n",
    "\n",
    "# 2021-03-06 Current pulls raw play by play game info for each game"
   ],
   "cell_type": "markdown",
   "metadata": {}
  },
  {
   "source": [
    "# Section 0: Function definitions\n",
    "\n",
    "hms_string(sec_elapsed)\n"
   ],
   "cell_type": "markdown",
   "metadata": {}
  },
  {
   "cell_type": "code",
   "execution_count": 1,
   "metadata": {},
   "outputs": [],
   "source": [
    "# Nicely formatted time string\n",
    "def hms_string(sec_elapsed):\n",
    "    h = int(sec_elapsed / (60 * 60))\n",
    "    m = int((sec_elapsed % (60 * 60))/60)\n",
    "    s = sec_elapsed % 60\n",
    "    return \"{}:{:>02}:{:>05.2f}\".format(h,m,s)\n",
    "\n"
   ]
  },
  {
   "source": [
    "# Section 1: Import libraries"
   ],
   "cell_type": "markdown",
   "metadata": {}
  },
  {
   "cell_type": "code",
   "execution_count": 2,
   "metadata": {},
   "outputs": [],
   "source": [
    "import pandas as pd\n",
    "import numpy as np\n",
    "import time\n",
    "from nba_api.stats.endpoints import playbyplay, playbyplayv2\n",
    "# from nba_api.stats.library.parameters import EndPeriod, StartPeriod\n",
    "\n",
    "\n",
    "start_time = time.time()\n",
    "\n",
    "# Initialize variables if there is any debugging required\n",
    "# Insert following line and activate the debugging.\n",
    "# # VALIDATION CODE \n",
    "# if debug_active == 'yes':\n",
    "# \n",
    "# Use \"display(df)\"\" if the result command is \"df\" to retain the same format\n",
    "\n",
    "debug_active = 'no'"
   ]
  },
  {
   "source": [
    "# Section 2: Configuration of variables\n",
    "\n",
    "Must manually set the following variables\n",
    "\n"
   ],
   "cell_type": "markdown",
   "metadata": {}
  },
  {
   "cell_type": "code",
   "execution_count": 3,
   "metadata": {},
   "outputs": [],
   "source": [
    "# Test case for game_id 0011500107 for the TOR vs WAS on 2015-10-23 for a TOR win.\n",
    "\n",
    "# Test case 2 \n",
    "# gameId=0041700404 &  startPeriod=0  & endPeriod=14 & startRange=0 & endRange=2147483647\n",
    "\n",
    "# Note the game_id uses leading zeros so in CSV it is '0011500109' instead of '11500109'\n",
    "\n",
    "game_id_list = ['0011500109','0011500103','0011500109']\n",
    "# game_id_selected = '0041700404'\n",
    "# startPeriod = StartPeriod.default\n",
    "# endPeriod = EndPeriod.default\n",
    "gameType = 'TBD'\n",
    "\n",
    "\n",
    "# Request info for each season in the list\n",
    "df_gamelogs_player = []\n",
    "countFirstYear = 0"
   ]
  },
  {
   "cell_type": "code",
   "execution_count": 4,
   "metadata": {},
   "outputs": [
    {
     "output_type": "stream",
     "name": "stdout",
     "text": [
      "<module 'nba_api.stats.endpoints.playbyplay' from 'C:\\\\Users\\\\Dennis\\\\AppData\\\\Local\\\\Programs\\\\Python\\\\Python37\\\\lib\\\\site-packages\\\\nba_api\\\\stats\\\\endpoints\\\\playbyplay.py'>\n"
     ]
    }
   ],
   "source": [
    "print(playbyplay)"
   ]
  },
  {
   "source": [
    "# Section 3: Data Pull"
   ],
   "cell_type": "markdown",
   "metadata": {}
  },
  {
   "cell_type": "code",
   "execution_count": 5,
   "metadata": {},
   "outputs": [
    {
     "output_type": "stream",
     "name": "stdout",
     "text": [
      "\n",
      "Processed: Game ID = 0011500109 | Game_Type = TBD |  Process time: 0:00:00.29\n",
      "\n",
      "Processed: Game ID = 0011500103 | Game_Type = TBD |  Process time: 0:00:02.57\n",
      "\n",
      "Processed: Game ID = 0011500109 | Game_Type = TBD |  Process time: 0:00:04.71\n"
     ]
    }
   ],
   "source": [
    "\n",
    "\n",
    "# Start counter for processing the current season\n",
    "start_time_counter_DP = time.time() \n",
    "\n",
    "\n",
    "for game_id_selected in game_id_list:\n",
    "    # dataPull = playbyplay.PlayByPlay(game_id = game_id_selected, start_period = startPeriod, end_period = endPeriod).get_data_frames()[0]\n",
    "    dataPull = playbyplay.PlayByPlay(game_id = game_id_selected).get_data_frames()[0]\n",
    "    df_gamelogs_PbP_sel = pd.DataFrame(dataPull)\n",
    "\n",
    "    # Insert gameType column and list as one of the values in gameTypeListed\n",
    "    df_gamelogs_PbP_sel['Game_Type'] = gameType\n",
    "    if countFirstYear == 0:\n",
    "        df_gamelogs_PbP = df_gamelogs_PbP_sel\n",
    "        countFirstYear = 1\n",
    "    else:\n",
    "        # df_gamelogs_players = np.concatenate([df_gamelogs_players, df_gamelogs_players_currSeason])\n",
    "        df_gamelogs_PbP = pd.concat([df_gamelogs_PbP, df_gamelogs_PbP_sel],ignore_index=True)\n",
    "        # df_gamelogs_players = df_gamelogs_players.append(df_gamelogs_players_currSeason)\n",
    "\n",
    "    time_took_Season = time.time() - start_time_counter_DP\n",
    "    print(\"\")\n",
    "    print(\"Processed: Game ID =\", game_id_selected, \"| Game_Type =\", gameType, \"| \",  f\"Process time: {hms_string(time_took_Season)}\")\n",
    "    # print(f\"Process time: {hms_string(time_took_Season)}\")\n",
    "    time.sleep(2) "
   ]
  },
  {
   "source": [
    "# Section 4: Transform the data"
   ],
   "cell_type": "markdown",
   "metadata": {}
  },
  {
   "cell_type": "code",
   "execution_count": 6,
   "metadata": {},
   "outputs": [],
   "source": [
    "# Create empty df with required fields\n",
    "# Extract players from game stats of same game_id plus additional fields for Period\n",
    "# Parse and update "
   ]
  },
  {
   "source": [
    "# Section 5: Export data to CSV"
   ],
   "cell_type": "markdown",
   "metadata": {}
  },
  {
   "cell_type": "code",
   "execution_count": 7,
   "metadata": {},
   "outputs": [
    {
     "output_type": "stream",
     "name": "stdout",
     "text": [
      "\n\nPROCESSING COMPLETE\nTotal Runtime: 0:00:06.87\n"
     ]
    }
   ],
   "source": [
    "#Save the data to the same folder that contains the notebook, example will be named 'Jamal Murray2019.csv'\n",
    "# Setup file name for CSV\n",
    "filename = './HistoricalGameLogs_PbP_'\n",
    "filename = filename + '_' + '_ALL' + '.csv'\n",
    "\n",
    "df_gamelogs_PbP.to_csv(filename)\n",
    "\n",
    "time_took = time.time() - start_time\n",
    "print(\"\")\n",
    "print(\"\")\n",
    "print(\"PROCESSING COMPLETE\")\n",
    "print(f\"Total Runtime: {hms_string(time_took)}\")"
   ]
  },
  {
   "cell_type": "markdown",
   "metadata": {},
   "source": [
    "# End of Code"
   ]
  }
 ],
 "metadata": {
  "kernelspec": {
   "display_name": "Python 3",
   "language": "python",
   "name": "python3"
  },
  "language_info": {
   "codemirror_mode": {
    "name": "ipython",
    "version": 3
   },
   "file_extension": ".py",
   "mimetype": "text/x-python",
   "name": "python",
   "nbconvert_exporter": "python",
   "pygments_lexer": "ipython3",
   "version": "3.7.6-final"
  }
 },
 "nbformat": 4,
 "nbformat_minor": 4
}