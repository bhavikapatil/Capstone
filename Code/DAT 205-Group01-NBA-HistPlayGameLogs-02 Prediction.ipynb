{
 "cells": [
  {
   "source": [
    "# DAT 205 Project - Prediction\n",
    "## By Dennis Hung\n",
    "## Version 1\n",
    "## Code DRAFT 2021-03-27\n",
    "\n",
    "## Code Strucuture\n",
    "### Section 0: Function definitions\n",
    "### Section 1: Import libraries\n",
    "### Section 2: Configuration of variables\n",
    "\n",
    "### Section 3: Load the dataset from file and initial analysis\n",
    "- #### Section 3.1: Load the dataset from file\n",
    "- #### Section 3.2: Initial Analysis\n",
    "\n",
    "### Section 4: Transforming/cleansing the data \n",
    "- #### Section 4.1: Enhance the data\n",
    "- #### Section 4.4 Filter data by Team (if specified)\n",
    "- #### Section 4.5: Remove (Stage 1) from dataframe the unwanted numerical/categorical features\n",
    "- #### Section 4.6: Transform categorical feature (WL) using value replace\n",
    "- #### Section 4.7: Transform categorical features using LabelEncoder\n",
    "\n",
    "- #### Section 4.8: Define TARGET variable and separate into dataframes by season type\n",
    "\n",
    "## Section 5: Analysis - Heat Maps / Correlation Matrices\n",
    "\n",
    "## Section 6: Modeling and Analysis\n",
    "- ### Section 6.1: Prepare train and test data\n",
    "- ### Section 6.4: Apply Random Forest Classifier on the split train/test dataset\n",
    "\n",
    "## Section 8: Summary Report\n",
    "\n",
    "## End of Code\n",
    "\n",
    "\n"
   ],
   "cell_type": "markdown",
   "metadata": {}
  },
  {
   "source": [
    "# Updates\n",
    "\n",
    "### 2021-03-30\n",
    "\n",
    "- Added models xgboost and SVM for testing\n",
    "- Tuned all models (if possible)\n",
    "- Added in code to save models https://machinelearningmastery.com/save-load-machine-learning-models-python-scikit-learn/\n",
    "- Inserted flags to allow processing of certain models to focus model analysis processing\n",
    "\n",
    "### 2021-03-27\n",
    "\n",
    "Code fully working to handle \n",
    "- Loading of different files as raw from  \"HistoricalGameLogs_*.csv' or after data enhancement \"DAT205_Output_Enhanced_df_TF *.csv\"\n",
    "- Enable/disable data enhancment process\n",
    "- Filtering by specific team or all the data before performing corelation matrix or model analysis\n",
    "\n",
    "\n",
    "\n"
   ],
   "cell_type": "markdown",
   "metadata": {}
  },
  {
   "source": [
    "# Reference\n",
    "\n",
    "#### How to Get NBA Data Using the nba_api Python Module (Beginner). Retrieved from Playing Numbers: \n",
    "\n",
    "https://www.playingnumbers.com/2019/12/how-to-get-nba-data-using-the-nba_api-python-module-beginner/\n",
    "\n",
    "#### Patel, S. (2020, August 19). swar / nba_api. Retrieved from GitHub: \n",
    "\n",
    "https://github.com/swar/nba_api/blob/master/docs/table_of_contents.md\n",
    "\n",
    "#### Issues\n",
    "\n",
    "https://github.com/swar/nba_api/issues/124\n",
    "\n"
   ],
   "cell_type": "markdown",
   "metadata": {}
  },
  {
   "source": [
    "# Note: \n",
    "#### For this analysis, this code relies on the CSV output from \"DAT 205-Group01-NBA-HistPlayGameLogs.ipynb\" or the enhanced data from this code as the dataset "
   ],
   "cell_type": "markdown",
   "metadata": {}
  },
  {
   "source": [
    "# Section 0: Function definitions\n",
    "\n",
    "hms_string(sec_elapsed)\n"
   ],
   "cell_type": "markdown",
   "metadata": {}
  },
  {
   "cell_type": "code",
   "execution_count": 14,
   "metadata": {},
   "outputs": [],
   "source": [
    "# Nicely formatted time string\n",
    "def hms_string(sec_elapsed):\n",
    "    h = int(sec_elapsed / (60 * 60))\n",
    "    m = int((sec_elapsed % (60 * 60))/60)\n",
    "    s = sec_elapsed % 60\n",
    "    return \"{}:{:>02}:{:>05.2f}\".format(h,m,s)\n",
    "\n",
    "# Null field analysis\n",
    "def nullFieldAnalysis(df):\n",
    "    df_missingDataInfo = pd.DataFrame({'Count': df.isnull().sum(), 'Percent': 100*df.isnull().sum()/len(df)})\n",
    "    #Printing the columns with over XX% of missing values (ie 60 = 60%) This is set to 0 for 0%\n",
    "    null_threshold = 0 \n",
    "    print(\"\")\n",
    "    print(\"\")\n",
    "    print(\"==== Null value analysis ====\")\n",
    "    return df_missingDataInfo[df_missingDataInfo['Percent'] > null_threshold].sort_values(by=['Percent'])\n",
    "\n",
    "# CalcThreshold_List\n",
    "def CalcThreshold_List(totalRecords):\n",
    "    CTL_10 = int(round(totalRecords*0.1,0))\n",
    "    CTL_20 = int(round(totalRecords*0.2,0))\n",
    "    CTL_30 = int(round(totalRecords*0.3,0))\n",
    "    CTL_40 = int(round(totalRecords*0.4,0))\n",
    "    CTL_50 = int(round(totalRecords*0.5,0))\n",
    "    CTL_60 = int(round(totalRecords*0.6,0))\n",
    "    CTL_70 = int(round(totalRecords*0.7,0))\n",
    "    CTL_80 = int(round(totalRecords*0.8,0))\n",
    "    CTL_90 = int(round(totalRecords*0.9,0))\n",
    "    CTL_100 = int(round(totalRecords*1,0))\n",
    "\n",
    "    CTL_05 = int(round(totalRecords*0.05,0))\n",
    "    CTL_15 = int(round(totalRecords*0.15,0))\n",
    "    CTL_25 = int(round(totalRecords*0.25,0))\n",
    "    CTL_35 = int(round(totalRecords*0.35,0))\n",
    "    CTL_45 = int(round(totalRecords*0.45,0))\n",
    "    CTL_55 = int(round(totalRecords*0.55,0))\n",
    "    CTL_65 = int(round(totalRecords*0.65,0))\n",
    "    CTL_75 = int(round(totalRecords*0.75,0))\n",
    "    CTL_85 = int(round(totalRecords*0.85,0))\n",
    "    CTL_95 = int(round(totalRecords*0.95,0))\n",
    "\n",
    "    Threshold_List = [1, CTL_05, CTL_10, CTL_15, CTL_20, CTL_25, CTL_30, CTL_35, CTL_40, CTL_45, \n",
    "                    CTL_50, CTL_55, CTL_60, CTL_65, CTL_70, CTL_75, CTL_80, CTL_85, \n",
    "                    CTL_90, CTL_95, CTL_100]\n",
    "    return Threshold_List\n"
   ]
  },
  {
   "source": [
    "# Section 1: Import libraries"
   ],
   "cell_type": "markdown",
   "metadata": {}
  },
  {
   "cell_type": "code",
   "execution_count": 15,
   "metadata": {},
   "outputs": [],
   "source": [
    "# Install any missing libraries\n",
    "# pip install xgboost\n",
    "# pip install tpot"
   ]
  },
  {
   "cell_type": "code",
   "execution_count": 16,
   "metadata": {},
   "outputs": [],
   "source": [
    "# Initialized required packages\n",
    "# Standard packages\n",
    "import numpy as np\n",
    "import pandas as pd\n",
    "import scipy as sp\n",
    "import csv\n",
    "import time\n",
    "import pickle\n",
    "import joblib\n",
    "\n",
    "# Graphing packages\n",
    "# import seaborn as sns\n",
    "\n",
    "# import matplotlib\n",
    "# import matplotlib.pyplot as plt\n",
    "# import matplotlib.patches as mpatches\n",
    "# import matplotlib.lines as mlines\n",
    "\n",
    "# Data preparation\n",
    "from sklearn.preprocessing import LabelEncoder\n",
    "\n",
    "# Modeling packages\n",
    "# import tensorflow as tf\n",
    "# import sklearn as skl\n",
    "from sklearn.model_selection import train_test_split\n",
    "\n",
    "# Regression modeling\n",
    "# from sklearn.linear_model import LinearRegression\n",
    "# from sklearn.linear_model import LogisticRegression\n",
    "# from sklearn.tree import DecisionTreeClassifier\n",
    "# from sklearn.neighbors import KNeighborsClassifier\n",
    "# from sklearn.discriminant_analysis import LinearDiscriminantAnalysis\n",
    "# from sklearn.gaussian_process import GaussianProcessRegressor\n",
    "# from sklearn.gaussian_process.kernels import DotProduct, WhiteKernel\n",
    "# from sklearn.naive_bayes import GaussianNB\n",
    "# from sklearn.svm import SVC\n",
    "# from sklearn import model_selection\n",
    "from sklearn.ensemble import RandomForestClassifier\n",
    "# import xgboost as xgb\n",
    "\n",
    "# to fix xgboost warnings error\n",
    "# https://github.com/EpistasisLab/tpot/issues/1139\n",
    "# \"Starting in XGBoost 1.3.0, the default evaluation metric used with the objective 'binary:logistic' was changed from 'error' to 'logloss'. Explicitly set eval_metric if you'd like to restore the old behavior.\"\n",
    "# from tpot import TPOTClassifier\n",
    "# from tpot.config import classifier_config_dict\n",
    "\n",
    "# from sklearn.ensemble import RandomForestRegressor\n",
    "\n",
    "\n",
    "# https://scikit-learn.org/stable/modules/generated/sklearn.model_selection.RandomizedSearchCV.html\n",
    "from sklearn.model_selection import RandomizedSearchCV\n",
    "\n",
    "# https://scikit-learn.org/stable/modules/generated/sklearn.model_selection.GridSearchCV.html?highlight=gridsearchcv#sklearn.model_selection.GridSearchCV\n",
    "# from sklearn.model_selection import GridSearchCV\n",
    "\n",
    "# from sklearn.model_selection import cross_val_score\n",
    "\n",
    "# Confusion matrix, Accuracy, sensitivity and specificity\n",
    "# from sklearn.model_selection import cross_val_score\n",
    "# from sklearn.metrics import mean_squared_error, r2_score\n",
    "# from sklearn.metrics import precision_score, \\\n",
    "    # recall_score, confusion_matrix, classification_report, \\\n",
    "    # accuracy_score, f1_score\n",
    "\n",
    "# from sklearn.feature_selection import VarianceThreshold \n",
    "# from sklearn.feature_selection import RFE \n",
    "# from sklearn.feature_selection import RFECV\n",
    "\n",
    "# Clustering\n",
    "# from sklearn.datasets import make_blobs\n",
    "# from sklearn.cluster import KMeans\n",
    "# from sklearn.metrics import silhouette_samples, silhouette_score\n",
    "\n",
    "# Following code is being deprecated\n",
    "# from sklearn.datasets.samples_generator import make_blobs\n",
    "\n",
    "# Initialize variables if there is any debugging required\n",
    "# Insert following line and activate the debugging.\n",
    "# # VALIDATION CODE \n",
    "# if debug_active == 'yes':\n",
    "# \n",
    "# Use \"display(df)\"\" if the result command is \"df\" to retain the same format\n",
    "\n",
    "\n",
    "\n",
    "start_time = time.time()"
   ]
  },
  {
   "source": [
    "# Section 2: Configuration of variables\n",
    "\n",
    "- Must manually set the following variables\n",
    "\n",
    "- gameTypeListed as one of the following: 'Pre Season', 'Regular Season', 'Playoffs'\n",
    "\n"
   ],
   "cell_type": "markdown",
   "metadata": {}
  },
  {
   "cell_type": "code",
   "execution_count": 9,
   "metadata": {},
   "outputs": [],
   "source": [
    "\n",
    "# General configuration\n",
    "debug_active = 'yes'\n",
    "loop_max = 100\n",
    "# showNumRecs = 15\n",
    "numFormat = '{:.4f}'\n",
    "numFormat_Pct = \"{:.0%}\"\n",
    "\n",
    "# Data Transformation 'yes' or other\n",
    "# dataEnhancement_active = 'yes'\n",
    "dataEnhancement_active = 'no'\n",
    "    \n",
    "# Section 3.1: Load the dataset from file\n",
    "# pick who is running the code and comment out the others\n",
    "# coder = 'bhavika'\n",
    "# coder = 'cindy'\n",
    "coder = 'dennis'\n",
    "\n",
    "# Setup file name for csv or Excel (.xlsx)\n",
    "if coder == 'bhavika':\n",
    "    filename = 'D:/McMaster/DAT205/Capstone/Data/HistoricalGameLogs_2004-05_to_2019-20_ALL.csv'\n",
    "elif coder == 'dennis':\n",
    "    # filename = './HistoricalGameLogs_2004-05_to_2019-20_ALL.csv'\n",
    "    # filename = './DAT205_Output_Enhanced_df_TF 2004-2020.csv'\n",
    "    # filename = './HistoricalGameLogs_2019-20_TESTFile.csv'\n",
    "    # Test Data files\n",
    "    # filename = './HistoricalGameLogs_2007-08_to_2008-09_ALL.csv'\n",
    "    filename = './DAT205_Output_Enhanced_df_TF 2007-09.csv'\n",
    "    \n",
    "\n",
    "# filename = filename + seasonStart + '_to_' + seasonEnd + '_' + gameType + '.csv'\n",
    "# filename = filename + seasonStart + '_to_' + seasonEnd + '_ALL' + '.csv'\n",
    "\n",
    "\n",
    "# Section 4.4 Filter data by Team (if specified)\n",
    "# Filter the dataset by team or None\n",
    "allTeamsList = ['CLE', 'LAC', 'NOH', 'WAS', 'ORL', 'NJN', 'PHX', 'DET', 'IND', \\\n",
    "       'CHA', 'DAL', 'ATL', 'NYK', 'CHI', 'BOS', 'MIN', 'PHI', 'HOU', \\\n",
    "       'POR', 'TOR', 'SAC', 'UTA', 'GSW', 'MIA', 'SEA', 'MEM', 'LAL', \\\n",
    "       'SAS', 'DEN', 'MIL', 'NOK', 'ZAK', 'CHN', 'PAN', 'RMA', 'MMT', \\\n",
    "       'MTA', 'MAL', 'LRO', 'EPT', 'OKC', 'LRY', 'BAR', 'MOS', 'OLP', \\\n",
    "       'PAR', 'LAB', 'MAC', 'MLN', 'BKN', 'FCB', 'RMD', 'MPS', 'EAM', \\\n",
    "       'ALB', 'FBU', 'NOP', 'UBB', 'FLA', 'BAU', 'FEN', 'SLA', 'SDS', \\\n",
    "       'BNE', 'MEL', 'SYD', 'GUA', 'PER', 'ADL', 'NZB', 'BJD', 'FRA']\n",
    "# teamSelected = 'None'\n",
    "teamSelected = 'TOR'\n",
    "\n",
    "# Section 6: Modeling and Analysis\n",
    "random_state_val = 42\n",
    "model_list = ['LogRegM', 'DTM', 'RFM', 'RFM_RSCV', 'XGBM']\n",
    "\n",
    "# Which models are active. At least 1 must be yes\n",
    "useModel_LogRegM = 'yes'\n",
    "useModel_LogRegM_RSCV = 'yes'\n",
    "useModel_DTM = 'yes'\n",
    "useModel_DTM_RSCV = 'yes'\n",
    "useModel_RFM = 'yes'\n",
    "useModel_RFM_RSCV = 'no'\n",
    "useModel_XGBM = 'yes'\n",
    "useModel_XGBM_RSCV = 'yes'\n",
    "useModel_SVCM = 'no'\n",
    "\n",
    "\n",
    "# Section 6.1: Prepare train and test data\n",
    "# Select a season \n",
    "gameTypeListed = ['Pre Season', 'Regular Season', 'Playoffs']\n",
    "gameTypeListed_code = [0, 1, 2]\n",
    "gameTypeToProcess = 1\n",
    "test_size_val = 1.0\n",
    "\n",
    "# Section 5: Analysis - Heat Maps / Correlation Matrices\n",
    "plotSize = (20,15)\n",
    "\n"
   ]
  },
  {
   "source": [
    "# Section 3: Load the dataset from file and initial analysis"
   ],
   "cell_type": "markdown",
   "metadata": {}
  },
  {
   "source": [
    "## Section 3.1: Load the dataset from file"
   ],
   "cell_type": "markdown",
   "metadata": {}
  },
  {
   "cell_type": "code",
   "execution_count": 10,
   "metadata": {},
   "outputs": [
    {
     "output_type": "error",
     "ename": "FileNotFoundError",
     "evalue": "[Errno 2] No such file or directory: './DAT205_Output_Enhanced_df_TF 2007-09.csv'",
     "traceback": [
      "\u001b[1;31m---------------------------------------------------------------------------\u001b[0m",
      "\u001b[1;31mFileNotFoundError\u001b[0m                         Traceback (most recent call last)",
      "\u001b[1;32m<ipython-input-10-63594cab0fc3>\u001b[0m in \u001b[0;36m<module>\u001b[1;34m\u001b[0m\n\u001b[0;32m      7\u001b[0m \u001b[0mdict_dtypes\u001b[0m \u001b[1;33m=\u001b[0m \u001b[1;33m{\u001b[0m\u001b[0mx\u001b[0m \u001b[1;33m:\u001b[0m \u001b[1;34m'str'\u001b[0m  \u001b[1;32mfor\u001b[0m \u001b[0mx\u001b[0m \u001b[1;32min\u001b[0m \u001b[0mlst_str_cols\u001b[0m\u001b[1;33m}\u001b[0m\u001b[1;33m\u001b[0m\u001b[1;33m\u001b[0m\u001b[0m\n\u001b[0;32m      8\u001b[0m \u001b[1;31m# use dict on dtypes\u001b[0m\u001b[1;33m\u001b[0m\u001b[1;33m\u001b[0m\u001b[1;33m\u001b[0m\u001b[0m\n\u001b[1;32m----> 9\u001b[1;33m \u001b[0mdf\u001b[0m \u001b[1;33m=\u001b[0m \u001b[0mpd\u001b[0m\u001b[1;33m.\u001b[0m\u001b[0mread_csv\u001b[0m\u001b[1;33m(\u001b[0m\u001b[0mfilename\u001b[0m\u001b[1;33m,\u001b[0m \u001b[0mdtype\u001b[0m\u001b[1;33m=\u001b[0m\u001b[0mdict_dtypes\u001b[0m\u001b[1;33m)\u001b[0m\u001b[1;33m\u001b[0m\u001b[1;33m\u001b[0m\u001b[0m\n\u001b[0m\u001b[0;32m     10\u001b[0m \u001b[1;31m# Excel file import\u001b[0m\u001b[1;33m\u001b[0m\u001b[1;33m\u001b[0m\u001b[1;33m\u001b[0m\u001b[0m\n\u001b[0;32m     11\u001b[0m \u001b[1;31m# df = pd.read_excel(filename)\u001b[0m\u001b[1;33m\u001b[0m\u001b[1;33m\u001b[0m\u001b[1;33m\u001b[0m\u001b[0m\n",
      "\u001b[1;32m~\\miniconda3\\envs\\myenv\\lib\\site-packages\\pandas\\io\\parsers.py\u001b[0m in \u001b[0;36mread_csv\u001b[1;34m(filepath_or_buffer, sep, delimiter, header, names, index_col, usecols, squeeze, prefix, mangle_dupe_cols, dtype, engine, converters, true_values, false_values, skipinitialspace, skiprows, skipfooter, nrows, na_values, keep_default_na, na_filter, verbose, skip_blank_lines, parse_dates, infer_datetime_format, keep_date_col, date_parser, dayfirst, cache_dates, iterator, chunksize, compression, thousands, decimal, lineterminator, quotechar, quoting, doublequote, escapechar, comment, encoding, dialect, error_bad_lines, warn_bad_lines, delim_whitespace, low_memory, memory_map, float_precision, storage_options)\u001b[0m\n\u001b[0;32m    603\u001b[0m     \u001b[0mkwds\u001b[0m\u001b[1;33m.\u001b[0m\u001b[0mupdate\u001b[0m\u001b[1;33m(\u001b[0m\u001b[0mkwds_defaults\u001b[0m\u001b[1;33m)\u001b[0m\u001b[1;33m\u001b[0m\u001b[1;33m\u001b[0m\u001b[0m\n\u001b[0;32m    604\u001b[0m \u001b[1;33m\u001b[0m\u001b[0m\n\u001b[1;32m--> 605\u001b[1;33m     \u001b[1;32mreturn\u001b[0m \u001b[0m_read\u001b[0m\u001b[1;33m(\u001b[0m\u001b[0mfilepath_or_buffer\u001b[0m\u001b[1;33m,\u001b[0m \u001b[0mkwds\u001b[0m\u001b[1;33m)\u001b[0m\u001b[1;33m\u001b[0m\u001b[1;33m\u001b[0m\u001b[0m\n\u001b[0m\u001b[0;32m    606\u001b[0m \u001b[1;33m\u001b[0m\u001b[0m\n\u001b[0;32m    607\u001b[0m \u001b[1;33m\u001b[0m\u001b[0m\n",
      "\u001b[1;32m~\\miniconda3\\envs\\myenv\\lib\\site-packages\\pandas\\io\\parsers.py\u001b[0m in \u001b[0;36m_read\u001b[1;34m(filepath_or_buffer, kwds)\u001b[0m\n\u001b[0;32m    455\u001b[0m \u001b[1;33m\u001b[0m\u001b[0m\n\u001b[0;32m    456\u001b[0m     \u001b[1;31m# Create the parser.\u001b[0m\u001b[1;33m\u001b[0m\u001b[1;33m\u001b[0m\u001b[1;33m\u001b[0m\u001b[0m\n\u001b[1;32m--> 457\u001b[1;33m     \u001b[0mparser\u001b[0m \u001b[1;33m=\u001b[0m \u001b[0mTextFileReader\u001b[0m\u001b[1;33m(\u001b[0m\u001b[0mfilepath_or_buffer\u001b[0m\u001b[1;33m,\u001b[0m \u001b[1;33m**\u001b[0m\u001b[0mkwds\u001b[0m\u001b[1;33m)\u001b[0m\u001b[1;33m\u001b[0m\u001b[1;33m\u001b[0m\u001b[0m\n\u001b[0m\u001b[0;32m    458\u001b[0m \u001b[1;33m\u001b[0m\u001b[0m\n\u001b[0;32m    459\u001b[0m     \u001b[1;32mif\u001b[0m \u001b[0mchunksize\u001b[0m \u001b[1;32mor\u001b[0m \u001b[0miterator\u001b[0m\u001b[1;33m:\u001b[0m\u001b[1;33m\u001b[0m\u001b[1;33m\u001b[0m\u001b[0m\n",
      "\u001b[1;32m~\\miniconda3\\envs\\myenv\\lib\\site-packages\\pandas\\io\\parsers.py\u001b[0m in \u001b[0;36m__init__\u001b[1;34m(self, f, engine, **kwds)\u001b[0m\n\u001b[0;32m    812\u001b[0m             \u001b[0mself\u001b[0m\u001b[1;33m.\u001b[0m\u001b[0moptions\u001b[0m\u001b[1;33m[\u001b[0m\u001b[1;34m\"has_index_names\"\u001b[0m\u001b[1;33m]\u001b[0m \u001b[1;33m=\u001b[0m \u001b[0mkwds\u001b[0m\u001b[1;33m[\u001b[0m\u001b[1;34m\"has_index_names\"\u001b[0m\u001b[1;33m]\u001b[0m\u001b[1;33m\u001b[0m\u001b[1;33m\u001b[0m\u001b[0m\n\u001b[0;32m    813\u001b[0m \u001b[1;33m\u001b[0m\u001b[0m\n\u001b[1;32m--> 814\u001b[1;33m         \u001b[0mself\u001b[0m\u001b[1;33m.\u001b[0m\u001b[0m_engine\u001b[0m \u001b[1;33m=\u001b[0m \u001b[0mself\u001b[0m\u001b[1;33m.\u001b[0m\u001b[0m_make_engine\u001b[0m\u001b[1;33m(\u001b[0m\u001b[0mself\u001b[0m\u001b[1;33m.\u001b[0m\u001b[0mengine\u001b[0m\u001b[1;33m)\u001b[0m\u001b[1;33m\u001b[0m\u001b[1;33m\u001b[0m\u001b[0m\n\u001b[0m\u001b[0;32m    815\u001b[0m \u001b[1;33m\u001b[0m\u001b[0m\n\u001b[0;32m    816\u001b[0m     \u001b[1;32mdef\u001b[0m \u001b[0mclose\u001b[0m\u001b[1;33m(\u001b[0m\u001b[0mself\u001b[0m\u001b[1;33m)\u001b[0m\u001b[1;33m:\u001b[0m\u001b[1;33m\u001b[0m\u001b[1;33m\u001b[0m\u001b[0m\n",
      "\u001b[1;32m~\\miniconda3\\envs\\myenv\\lib\\site-packages\\pandas\\io\\parsers.py\u001b[0m in \u001b[0;36m_make_engine\u001b[1;34m(self, engine)\u001b[0m\n\u001b[0;32m   1043\u001b[0m             )\n\u001b[0;32m   1044\u001b[0m         \u001b[1;31m# error: Too many arguments for \"ParserBase\"\u001b[0m\u001b[1;33m\u001b[0m\u001b[1;33m\u001b[0m\u001b[1;33m\u001b[0m\u001b[0m\n\u001b[1;32m-> 1045\u001b[1;33m         \u001b[1;32mreturn\u001b[0m \u001b[0mmapping\u001b[0m\u001b[1;33m[\u001b[0m\u001b[0mengine\u001b[0m\u001b[1;33m]\u001b[0m\u001b[1;33m(\u001b[0m\u001b[0mself\u001b[0m\u001b[1;33m.\u001b[0m\u001b[0mf\u001b[0m\u001b[1;33m,\u001b[0m \u001b[1;33m**\u001b[0m\u001b[0mself\u001b[0m\u001b[1;33m.\u001b[0m\u001b[0moptions\u001b[0m\u001b[1;33m)\u001b[0m  \u001b[1;31m# type: ignore[call-arg]\u001b[0m\u001b[1;33m\u001b[0m\u001b[1;33m\u001b[0m\u001b[0m\n\u001b[0m\u001b[0;32m   1046\u001b[0m \u001b[1;33m\u001b[0m\u001b[0m\n\u001b[0;32m   1047\u001b[0m     \u001b[1;32mdef\u001b[0m \u001b[0m_failover_to_python\u001b[0m\u001b[1;33m(\u001b[0m\u001b[0mself\u001b[0m\u001b[1;33m)\u001b[0m\u001b[1;33m:\u001b[0m\u001b[1;33m\u001b[0m\u001b[1;33m\u001b[0m\u001b[0m\n",
      "\u001b[1;32m~\\miniconda3\\envs\\myenv\\lib\\site-packages\\pandas\\io\\parsers.py\u001b[0m in \u001b[0;36m__init__\u001b[1;34m(self, src, **kwds)\u001b[0m\n\u001b[0;32m   1860\u001b[0m \u001b[1;33m\u001b[0m\u001b[0m\n\u001b[0;32m   1861\u001b[0m         \u001b[1;31m# open handles\u001b[0m\u001b[1;33m\u001b[0m\u001b[1;33m\u001b[0m\u001b[1;33m\u001b[0m\u001b[0m\n\u001b[1;32m-> 1862\u001b[1;33m         \u001b[0mself\u001b[0m\u001b[1;33m.\u001b[0m\u001b[0m_open_handles\u001b[0m\u001b[1;33m(\u001b[0m\u001b[0msrc\u001b[0m\u001b[1;33m,\u001b[0m \u001b[0mkwds\u001b[0m\u001b[1;33m)\u001b[0m\u001b[1;33m\u001b[0m\u001b[1;33m\u001b[0m\u001b[0m\n\u001b[0m\u001b[0;32m   1863\u001b[0m         \u001b[1;32massert\u001b[0m \u001b[0mself\u001b[0m\u001b[1;33m.\u001b[0m\u001b[0mhandles\u001b[0m \u001b[1;32mis\u001b[0m \u001b[1;32mnot\u001b[0m \u001b[1;32mNone\u001b[0m\u001b[1;33m\u001b[0m\u001b[1;33m\u001b[0m\u001b[0m\n\u001b[0;32m   1864\u001b[0m         \u001b[1;32mfor\u001b[0m \u001b[0mkey\u001b[0m \u001b[1;32min\u001b[0m \u001b[1;33m(\u001b[0m\u001b[1;34m\"storage_options\"\u001b[0m\u001b[1;33m,\u001b[0m \u001b[1;34m\"encoding\"\u001b[0m\u001b[1;33m,\u001b[0m \u001b[1;34m\"memory_map\"\u001b[0m\u001b[1;33m,\u001b[0m \u001b[1;34m\"compression\"\u001b[0m\u001b[1;33m)\u001b[0m\u001b[1;33m:\u001b[0m\u001b[1;33m\u001b[0m\u001b[1;33m\u001b[0m\u001b[0m\n",
      "\u001b[1;32m~\\miniconda3\\envs\\myenv\\lib\\site-packages\\pandas\\io\\parsers.py\u001b[0m in \u001b[0;36m_open_handles\u001b[1;34m(self, src, kwds)\u001b[0m\n\u001b[0;32m   1361\u001b[0m             \u001b[0mcompression\u001b[0m\u001b[1;33m=\u001b[0m\u001b[0mkwds\u001b[0m\u001b[1;33m.\u001b[0m\u001b[0mget\u001b[0m\u001b[1;33m(\u001b[0m\u001b[1;34m\"compression\"\u001b[0m\u001b[1;33m,\u001b[0m \u001b[1;32mNone\u001b[0m\u001b[1;33m)\u001b[0m\u001b[1;33m,\u001b[0m\u001b[1;33m\u001b[0m\u001b[1;33m\u001b[0m\u001b[0m\n\u001b[0;32m   1362\u001b[0m             \u001b[0mmemory_map\u001b[0m\u001b[1;33m=\u001b[0m\u001b[0mkwds\u001b[0m\u001b[1;33m.\u001b[0m\u001b[0mget\u001b[0m\u001b[1;33m(\u001b[0m\u001b[1;34m\"memory_map\"\u001b[0m\u001b[1;33m,\u001b[0m \u001b[1;32mFalse\u001b[0m\u001b[1;33m)\u001b[0m\u001b[1;33m,\u001b[0m\u001b[1;33m\u001b[0m\u001b[1;33m\u001b[0m\u001b[0m\n\u001b[1;32m-> 1363\u001b[1;33m             \u001b[0mstorage_options\u001b[0m\u001b[1;33m=\u001b[0m\u001b[0mkwds\u001b[0m\u001b[1;33m.\u001b[0m\u001b[0mget\u001b[0m\u001b[1;33m(\u001b[0m\u001b[1;34m\"storage_options\"\u001b[0m\u001b[1;33m,\u001b[0m \u001b[1;32mNone\u001b[0m\u001b[1;33m)\u001b[0m\u001b[1;33m,\u001b[0m\u001b[1;33m\u001b[0m\u001b[1;33m\u001b[0m\u001b[0m\n\u001b[0m\u001b[0;32m   1364\u001b[0m         )\n\u001b[0;32m   1365\u001b[0m \u001b[1;33m\u001b[0m\u001b[0m\n",
      "\u001b[1;32m~\\miniconda3\\envs\\myenv\\lib\\site-packages\\pandas\\io\\common.py\u001b[0m in \u001b[0;36mget_handle\u001b[1;34m(path_or_buf, mode, encoding, compression, memory_map, is_text, errors, storage_options)\u001b[0m\n\u001b[0;32m    645\u001b[0m                 \u001b[0mencoding\u001b[0m\u001b[1;33m=\u001b[0m\u001b[0mioargs\u001b[0m\u001b[1;33m.\u001b[0m\u001b[0mencoding\u001b[0m\u001b[1;33m,\u001b[0m\u001b[1;33m\u001b[0m\u001b[1;33m\u001b[0m\u001b[0m\n\u001b[0;32m    646\u001b[0m                 \u001b[0merrors\u001b[0m\u001b[1;33m=\u001b[0m\u001b[0merrors\u001b[0m\u001b[1;33m,\u001b[0m\u001b[1;33m\u001b[0m\u001b[1;33m\u001b[0m\u001b[0m\n\u001b[1;32m--> 647\u001b[1;33m                 \u001b[0mnewline\u001b[0m\u001b[1;33m=\u001b[0m\u001b[1;34m\"\"\u001b[0m\u001b[1;33m,\u001b[0m\u001b[1;33m\u001b[0m\u001b[1;33m\u001b[0m\u001b[0m\n\u001b[0m\u001b[0;32m    648\u001b[0m             )\n\u001b[0;32m    649\u001b[0m         \u001b[1;32melse\u001b[0m\u001b[1;33m:\u001b[0m\u001b[1;33m\u001b[0m\u001b[1;33m\u001b[0m\u001b[0m\n",
      "\u001b[1;31mFileNotFoundError\u001b[0m: [Errno 2] No such file or directory: './DAT205_Output_Enhanced_df_TF 2007-09.csv'"
     ]
    }
   ],
   "source": [
    "# load the CSV or Excel file \n",
    "# Note the other option in Jupyter Notebook is to use the upload the csv files before running the code\n",
    "\n",
    "# lst of column names which needs to be string\n",
    "lst_str_cols = ['GAME_ID']\n",
    "# use dictionary comprehension to make dict of dtypes\n",
    "dict_dtypes = {x : 'str'  for x in lst_str_cols}\n",
    "# use dict on dtypes\n",
    "df = pd.read_csv(filename, dtype=dict_dtypes)\n",
    "# Excel file import\n",
    "# df = pd.read_excel(filename)\n",
    "\n",
    "# Remove duplicate index from import\n",
    "if dataEnhancement_active == 'yes':\n",
    "    unwanted_list = ['Unnamed: 0']\n",
    "else: \n",
    "    unwanted_list = ['Unnamed: 0', 'UID_STG']\n",
    "\n",
    "X_headers_list = df.columns.tolist()\n",
    "for x in unwanted_list:\n",
    "    X_headers_list.remove(x)\n",
    "\n",
    "# Display current dataframe\n",
    "df_Initial = df[X_headers_list]\n",
    "\n",
    "# VALIDATION CODE \n",
    "if debug_active == 'yes':\n",
    "    display(df_Initial)\n",
    "    # Examine shape of dataframe\n",
    "    display(df_Initial.shape)\n",
    "    # Examine the type of attributes in the dataframe\n",
    "    print(\"Shape of the dataset\")\n",
    "    df_Initial.info()\n",
    "    # Describe the numerical data\n",
    "    df_Initial.describe()\n",
    "    \n"
   ]
  },
  {
   "source": [
    "## Section 3.2: Initial Analysis"
   ],
   "cell_type": "markdown",
   "metadata": {}
  },
  {
   "cell_type": "code",
   "execution_count": 6,
   "metadata": {},
   "outputs": [
    {
     "output_type": "stream",
     "name": "stdout",
     "text": [
      "VALIDATION CODE\n['SEASON_YEAR', 'PLAYER_NAME', 'TEAM_ABBREVIATION', 'TEAM_NAME', 'GAME_ID', 'GAME_DATE', 'MATCHUP', 'WL', 'Game_Type']\n\n\n==== Description of the categorical features ====\n"
     ]
    },
    {
     "output_type": "display_data",
     "data": {
      "text/plain": "       SEASON_YEAR  PLAYER_NAME TEAM_ABBREVIATION           TEAM_NAME  \\\ncount        58288        58093             58288               58288   \nunique           2          638                43                  43   \ntop        2007-08  Kobe Bryant               LAL  Los Angeles Lakers   \nfreq         29259          221              2330                2330   \n\n           GAME_ID            GAME_DATE    MATCHUP     WL       Game_Type  \ncount        58288                58288      58288  58239           58288  \nunique        2847                  457       1890      2               3  \ntop     0010700007  2009-01-02T00:00:00  UTA @ LAL      W  Regular Season  \nfreq            33                  304        137  29190           49515  ",
      "text/html": "<div>\n<style scoped>\n    .dataframe tbody tr th:only-of-type {\n        vertical-align: middle;\n    }\n\n    .dataframe tbody tr th {\n        vertical-align: top;\n    }\n\n    .dataframe thead th {\n        text-align: right;\n    }\n</style>\n<table border=\"1\" class=\"dataframe\">\n  <thead>\n    <tr style=\"text-align: right;\">\n      <th></th>\n      <th>SEASON_YEAR</th>\n      <th>PLAYER_NAME</th>\n      <th>TEAM_ABBREVIATION</th>\n      <th>TEAM_NAME</th>\n      <th>GAME_ID</th>\n      <th>GAME_DATE</th>\n      <th>MATCHUP</th>\n      <th>WL</th>\n      <th>Game_Type</th>\n    </tr>\n  </thead>\n  <tbody>\n    <tr>\n      <th>count</th>\n      <td>58288</td>\n      <td>58093</td>\n      <td>58288</td>\n      <td>58288</td>\n      <td>58288</td>\n      <td>58288</td>\n      <td>58288</td>\n      <td>58239</td>\n      <td>58288</td>\n    </tr>\n    <tr>\n      <th>unique</th>\n      <td>2</td>\n      <td>638</td>\n      <td>43</td>\n      <td>43</td>\n      <td>2847</td>\n      <td>457</td>\n      <td>1890</td>\n      <td>2</td>\n      <td>3</td>\n    </tr>\n    <tr>\n      <th>top</th>\n      <td>2007-08</td>\n      <td>Kobe Bryant</td>\n      <td>LAL</td>\n      <td>Los Angeles Lakers</td>\n      <td>0010700007</td>\n      <td>2009-01-02T00:00:00</td>\n      <td>UTA @ LAL</td>\n      <td>W</td>\n      <td>Regular Season</td>\n    </tr>\n    <tr>\n      <th>freq</th>\n      <td>29259</td>\n      <td>221</td>\n      <td>2330</td>\n      <td>2330</td>\n      <td>33</td>\n      <td>304</td>\n      <td>137</td>\n      <td>29190</td>\n      <td>49515</td>\n    </tr>\n  </tbody>\n</table>\n</div>"
     },
     "metadata": {}
    },
    {
     "output_type": "stream",
     "name": "stdout",
     "text": [
      "\n\n==== Null value analysis ====\n"
     ]
    },
    {
     "output_type": "execute_result",
     "data": {
      "text/plain": [
       "             Count   Percent\n",
       "WL              49  0.084065\n",
       "PLAYER_NAME    195  0.334546"
      ],
      "text/html": "<div>\n<style scoped>\n    .dataframe tbody tr th:only-of-type {\n        vertical-align: middle;\n    }\n\n    .dataframe tbody tr th {\n        vertical-align: top;\n    }\n\n    .dataframe thead th {\n        text-align: right;\n    }\n</style>\n<table border=\"1\" class=\"dataframe\">\n  <thead>\n    <tr style=\"text-align: right;\">\n      <th></th>\n      <th>Count</th>\n      <th>Percent</th>\n    </tr>\n  </thead>\n  <tbody>\n    <tr>\n      <th>WL</th>\n      <td>49</td>\n      <td>0.084065</td>\n    </tr>\n    <tr>\n      <th>PLAYER_NAME</th>\n      <td>195</td>\n      <td>0.334546</td>\n    </tr>\n  </tbody>\n</table>\n</div>"
     },
     "metadata": {},
     "execution_count": 6
    }
   ],
   "source": [
    "# Display the headers of columns that use descriptive or non-numerical values\n",
    "categorical_Features = df_Initial.dtypes[df_Initial.dtypes == \"object\"].index.tolist()\n",
    "\n",
    "# VALIDATION CODE \n",
    "if debug_active == 'yes':\n",
    "    print(\"VALIDATION CODE\")\n",
    "    print(categorical_Features)\n",
    "\n",
    "# Describe the categorical data\n",
    "print(\"\")\n",
    "print(\"\")\n",
    "print(\"==== Description of the categorical features ====\")\n",
    "display(df_Initial[categorical_Features].describe())\n",
    "\n",
    "# # Null field analysis\n",
    "nullFieldAnalysis(df_Initial)\n",
    "# # Null field analysis\n",
    "# df_missingDataInfo = pd.DataFrame({'Count': df_Initial.isnull().sum(), 'Percent': 100*df_Initial.isnull().sum()/len(df)})\n",
    "\n",
    "# #Printing the columns with over XX% of missing values (ie 60 = 60%) This is set to 0 for 0%\n",
    "# null_threshold = 0 \n",
    "# print(\"\")\n",
    "# print(\"\")\n",
    "# print(\"==== Null value analysis ====\")\n",
    "# df_missingDataInfo[df_missingDataInfo['Percent'] > null_threshold].sort_values(by=['Percent'])"
   ]
  },
  {
   "source": [
    "# "
   ],
   "cell_type": "markdown",
   "metadata": {}
  },
  {
   "source": [
    "# Section 4: Transforming/cleansing the data "
   ],
   "cell_type": "markdown",
   "metadata": {}
  },
  {
   "source": [
    "## Data cleansing of nulls (Not working)\n",
    "\n",
    "## Correction to missing PreSeason games WL values only \n",
    "\n",
    "49 PreSeason records \n",
    "\n",
    "2007-08 \n",
    "GAME_ID 0010700072 / 2007-10-19\n",
    "BOS vs NJN   W 36 to L 33\n",
    "\n",
    "2008-09 \n",
    "GAME_ID 0010800035 / 2008-10-11\n",
    "DEN vs PHX   W 77 to L 72\n",
    "Note some player game data seems missing\n",
    "\n",
    "## Corrected missing player name data\n",
    "\n",
    "740 records (727 preseason and 13 regular season)\n",
    "\n",
    "This is not important as the player names are excluded from the analysis\n",
    "\n"
   ],
   "cell_type": "markdown",
   "metadata": {}
  },
  {
   "source": [
    "## Section 4.1: Enhance the data"
   ],
   "cell_type": "markdown",
   "metadata": {}
  },
  {
   "cell_type": "code",
   "execution_count": 7,
   "metadata": {},
   "outputs": [
    {
     "output_type": "stream",
     "name": "stdout",
     "text": [
      "58288\n"
     ]
    },
    {
     "output_type": "display_data",
     "data": {
      "text/plain": "      SEASON_YEAR  PLAYER_ID       PLAYER_NAME     TEAM_ID TEAM_ABBREVIATION  \\\n0         2007-08     200759    Cedric Simmons  1610612739               CLE   \n1         2007-08       1088     Chucky Atkins  1610612743               DEN   \n2         2007-08     201191     JamesOn Curry  1610612741               CHI   \n3         2007-08       1956        Ira Newble  1610612739               CLE   \n4         2007-08       2743    Kris Humphries  1610612761               TOR   \n...           ...        ...               ...         ...               ...   \n58283     2008-09     200796         Leon Powe  1610612738               BOS   \n58284     2008-09       1888  Richard Hamilton  1610612765               DET   \n58285     2008-09        703       Kurt Thomas  1610612759               SAS   \n58286     2008-09     101112     Channing Frye  1610612757               POR   \n58287     2008-09       1630       Mikki Moore  1610612738               BOS   \n\n                    TEAM_NAME     GAME_ID            GAME_DATE      MATCHUP  \\\n0         Cleveland Cavaliers  0010700104  2007-10-25T00:00:00    CLE @ TOR   \n1              Denver Nuggets  0010700106  2007-10-25T00:00:00    DEN @ PHX   \n2               Chicago Bulls  0010700109  2007-10-25T00:00:00  CHI vs. MIL   \n3         Cleveland Cavaliers  0010700104  2007-10-25T00:00:00    CLE @ TOR   \n4             Toronto Raptors  0010700104  2007-10-25T00:00:00  TOR vs. CLE   \n...                       ...         ...                  ...          ...   \n58283          Boston Celtics  0040800111  2009-04-18T00:00:00  BOS vs. CHI   \n58284         Detroit Pistons  0040800101  2009-04-18T00:00:00    DET @ CLE   \n58285       San Antonio Spurs  0040800161  2009-04-18T00:00:00  SAS vs. DAL   \n58286  Portland Trail Blazers  0040800171  2009-04-18T00:00:00  POR vs. HOU   \n58287          Boston Celtics  0040800111  2009-04-18T00:00:00  BOS vs. CHI   \n\n      WL  ...  BLKA  PF  PFD  PTS  PLUS_MINUS  DD2  TD3   Game_Type  \\\n0      L  ...     0   2    0    0         -10    0    0  Pre Season   \n1      L  ...     0   0    0    2           0    0    0  Pre Season   \n2      W  ...     0   1    0    0           4    0    0  Pre Season   \n3      L  ...     0   0    0    0          -2    0    0  Pre Season   \n4      W  ...     0   4    2   11          23    0    0  Pre Season   \n...   ..  ...   ...  ..  ...  ...         ...  ...  ...         ...   \n58283  L  ...     0   2    6    8         -10    0    0    Playoffs   \n58284  L  ...     0   1    2   15         -19    0    0    Playoffs   \n58285  L  ...     0   1    0    0          -9    0    0    Playoffs   \n58286  L  ...     0   4    1    4         -15    0    0    Playoffs   \n58287  L  ...     0   0    0    2          -6    0    0    Playoffs   \n\n             PIE        PER  \n0      -4.705882  -7.768099  \n1      -4.347826 -10.820924  \n2      -3.012048  -8.109928  \n3       0.000000  -7.855508  \n4       9.216590  20.691968  \n...          ...        ...  \n58283  10.344828  15.409897  \n58284  11.666667   8.741725  \n58285  -0.694444  -0.385635  \n58286  -5.714286  -0.253384  \n58287   4.137931  20.923617  \n\n[58288 rows x 37 columns]",
      "text/html": "<div>\n<style scoped>\n    .dataframe tbody tr th:only-of-type {\n        vertical-align: middle;\n    }\n\n    .dataframe tbody tr th {\n        vertical-align: top;\n    }\n\n    .dataframe thead th {\n        text-align: right;\n    }\n</style>\n<table border=\"1\" class=\"dataframe\">\n  <thead>\n    <tr style=\"text-align: right;\">\n      <th></th>\n      <th>SEASON_YEAR</th>\n      <th>PLAYER_ID</th>\n      <th>PLAYER_NAME</th>\n      <th>TEAM_ID</th>\n      <th>TEAM_ABBREVIATION</th>\n      <th>TEAM_NAME</th>\n      <th>GAME_ID</th>\n      <th>GAME_DATE</th>\n      <th>MATCHUP</th>\n      <th>WL</th>\n      <th>...</th>\n      <th>BLKA</th>\n      <th>PF</th>\n      <th>PFD</th>\n      <th>PTS</th>\n      <th>PLUS_MINUS</th>\n      <th>DD2</th>\n      <th>TD3</th>\n      <th>Game_Type</th>\n      <th>PIE</th>\n      <th>PER</th>\n    </tr>\n  </thead>\n  <tbody>\n    <tr>\n      <th>0</th>\n      <td>2007-08</td>\n      <td>200759</td>\n      <td>Cedric Simmons</td>\n      <td>1610612739</td>\n      <td>CLE</td>\n      <td>Cleveland Cavaliers</td>\n      <td>0010700104</td>\n      <td>2007-10-25T00:00:00</td>\n      <td>CLE @ TOR</td>\n      <td>L</td>\n      <td>...</td>\n      <td>0</td>\n      <td>2</td>\n      <td>0</td>\n      <td>0</td>\n      <td>-10</td>\n      <td>0</td>\n      <td>0</td>\n      <td>Pre Season</td>\n      <td>-4.705882</td>\n      <td>-7.768099</td>\n    </tr>\n    <tr>\n      <th>1</th>\n      <td>2007-08</td>\n      <td>1088</td>\n      <td>Chucky Atkins</td>\n      <td>1610612743</td>\n      <td>DEN</td>\n      <td>Denver Nuggets</td>\n      <td>0010700106</td>\n      <td>2007-10-25T00:00:00</td>\n      <td>DEN @ PHX</td>\n      <td>L</td>\n      <td>...</td>\n      <td>0</td>\n      <td>0</td>\n      <td>0</td>\n      <td>2</td>\n      <td>0</td>\n      <td>0</td>\n      <td>0</td>\n      <td>Pre Season</td>\n      <td>-4.347826</td>\n      <td>-10.820924</td>\n    </tr>\n    <tr>\n      <th>2</th>\n      <td>2007-08</td>\n      <td>201191</td>\n      <td>JamesOn Curry</td>\n      <td>1610612741</td>\n      <td>CHI</td>\n      <td>Chicago Bulls</td>\n      <td>0010700109</td>\n      <td>2007-10-25T00:00:00</td>\n      <td>CHI vs. MIL</td>\n      <td>W</td>\n      <td>...</td>\n      <td>0</td>\n      <td>1</td>\n      <td>0</td>\n      <td>0</td>\n      <td>4</td>\n      <td>0</td>\n      <td>0</td>\n      <td>Pre Season</td>\n      <td>-3.012048</td>\n      <td>-8.109928</td>\n    </tr>\n    <tr>\n      <th>3</th>\n      <td>2007-08</td>\n      <td>1956</td>\n      <td>Ira Newble</td>\n      <td>1610612739</td>\n      <td>CLE</td>\n      <td>Cleveland Cavaliers</td>\n      <td>0010700104</td>\n      <td>2007-10-25T00:00:00</td>\n      <td>CLE @ TOR</td>\n      <td>L</td>\n      <td>...</td>\n      <td>0</td>\n      <td>0</td>\n      <td>0</td>\n      <td>0</td>\n      <td>-2</td>\n      <td>0</td>\n      <td>0</td>\n      <td>Pre Season</td>\n      <td>0.000000</td>\n      <td>-7.855508</td>\n    </tr>\n    <tr>\n      <th>4</th>\n      <td>2007-08</td>\n      <td>2743</td>\n      <td>Kris Humphries</td>\n      <td>1610612761</td>\n      <td>TOR</td>\n      <td>Toronto Raptors</td>\n      <td>0010700104</td>\n      <td>2007-10-25T00:00:00</td>\n      <td>TOR vs. CLE</td>\n      <td>W</td>\n      <td>...</td>\n      <td>0</td>\n      <td>4</td>\n      <td>2</td>\n      <td>11</td>\n      <td>23</td>\n      <td>0</td>\n      <td>0</td>\n      <td>Pre Season</td>\n      <td>9.216590</td>\n      <td>20.691968</td>\n    </tr>\n    <tr>\n      <th>...</th>\n      <td>...</td>\n      <td>...</td>\n      <td>...</td>\n      <td>...</td>\n      <td>...</td>\n      <td>...</td>\n      <td>...</td>\n      <td>...</td>\n      <td>...</td>\n      <td>...</td>\n      <td>...</td>\n      <td>...</td>\n      <td>...</td>\n      <td>...</td>\n      <td>...</td>\n      <td>...</td>\n      <td>...</td>\n      <td>...</td>\n      <td>...</td>\n      <td>...</td>\n      <td>...</td>\n    </tr>\n    <tr>\n      <th>58283</th>\n      <td>2008-09</td>\n      <td>200796</td>\n      <td>Leon Powe</td>\n      <td>1610612738</td>\n      <td>BOS</td>\n      <td>Boston Celtics</td>\n      <td>0040800111</td>\n      <td>2009-04-18T00:00:00</td>\n      <td>BOS vs. CHI</td>\n      <td>L</td>\n      <td>...</td>\n      <td>0</td>\n      <td>2</td>\n      <td>6</td>\n      <td>8</td>\n      <td>-10</td>\n      <td>0</td>\n      <td>0</td>\n      <td>Playoffs</td>\n      <td>10.344828</td>\n      <td>15.409897</td>\n    </tr>\n    <tr>\n      <th>58284</th>\n      <td>2008-09</td>\n      <td>1888</td>\n      <td>Richard Hamilton</td>\n      <td>1610612765</td>\n      <td>DET</td>\n      <td>Detroit Pistons</td>\n      <td>0040800101</td>\n      <td>2009-04-18T00:00:00</td>\n      <td>DET @ CLE</td>\n      <td>L</td>\n      <td>...</td>\n      <td>0</td>\n      <td>1</td>\n      <td>2</td>\n      <td>15</td>\n      <td>-19</td>\n      <td>0</td>\n      <td>0</td>\n      <td>Playoffs</td>\n      <td>11.666667</td>\n      <td>8.741725</td>\n    </tr>\n    <tr>\n      <th>58285</th>\n      <td>2008-09</td>\n      <td>703</td>\n      <td>Kurt Thomas</td>\n      <td>1610612759</td>\n      <td>SAS</td>\n      <td>San Antonio Spurs</td>\n      <td>0040800161</td>\n      <td>2009-04-18T00:00:00</td>\n      <td>SAS vs. DAL</td>\n      <td>L</td>\n      <td>...</td>\n      <td>0</td>\n      <td>1</td>\n      <td>0</td>\n      <td>0</td>\n      <td>-9</td>\n      <td>0</td>\n      <td>0</td>\n      <td>Playoffs</td>\n      <td>-0.694444</td>\n      <td>-0.385635</td>\n    </tr>\n    <tr>\n      <th>58286</th>\n      <td>2008-09</td>\n      <td>101112</td>\n      <td>Channing Frye</td>\n      <td>1610612757</td>\n      <td>POR</td>\n      <td>Portland Trail Blazers</td>\n      <td>0040800171</td>\n      <td>2009-04-18T00:00:00</td>\n      <td>POR vs. HOU</td>\n      <td>L</td>\n      <td>...</td>\n      <td>0</td>\n      <td>4</td>\n      <td>1</td>\n      <td>4</td>\n      <td>-15</td>\n      <td>0</td>\n      <td>0</td>\n      <td>Playoffs</td>\n      <td>-5.714286</td>\n      <td>-0.253384</td>\n    </tr>\n    <tr>\n      <th>58287</th>\n      <td>2008-09</td>\n      <td>1630</td>\n      <td>Mikki Moore</td>\n      <td>1610612738</td>\n      <td>BOS</td>\n      <td>Boston Celtics</td>\n      <td>0040800111</td>\n      <td>2009-04-18T00:00:00</td>\n      <td>BOS vs. CHI</td>\n      <td>L</td>\n      <td>...</td>\n      <td>0</td>\n      <td>0</td>\n      <td>0</td>\n      <td>2</td>\n      <td>-6</td>\n      <td>0</td>\n      <td>0</td>\n      <td>Playoffs</td>\n      <td>4.137931</td>\n      <td>20.923617</td>\n    </tr>\n  </tbody>\n</table>\n<p>58288 rows × 37 columns</p>\n</div>"
     },
     "metadata": {}
    },
    {
     "output_type": "stream",
     "name": "stdout",
     "text": [
      "Index(['SEASON_YEAR', 'PLAYER_ID', 'PLAYER_NAME', 'TEAM_ID',\n       'TEAM_ABBREVIATION', 'TEAM_NAME', 'GAME_ID', 'GAME_DATE', 'MATCHUP',\n       'WL', 'MIN', 'FGM', 'FGA', 'FG_PCT', 'FG3M', 'FG3A', 'FG3_PCT', 'FTM',\n       'FTA', 'FT_PCT', 'OREB', 'DREB', 'REB', 'AST', 'TOV', 'STL', 'BLK',\n       'BLKA', 'PF', 'PFD', 'PTS', 'PLUS_MINUS', 'DD2', 'TD3', 'Game_Type',\n       'PIE', 'PER'],\n      dtype='object')\n"
     ]
    }
   ],
   "source": [
    "# Setup variables for data transformation\n",
    "df_TF = df_Initial\n",
    "totalNumRec = df_TF.shape[0]\n",
    "\n",
    "# Check df_TeamGameStats\n",
    "# VALIDATION CODE \n",
    "if debug_active == 'yes':\n",
    "    print(totalNumRec)\n",
    "    display(df_TF)\n",
    "    print(df_TF.columns)"
   ]
  },
  {
   "source": [
    "## Section 4.4 Filter data by Team (if specified)"
   ],
   "cell_type": "markdown",
   "metadata": {}
  },
  {
   "cell_type": "code",
   "execution_count": 8,
   "metadata": {},
   "outputs": [
    {
     "output_type": "display_data",
     "data": {
      "text/plain": "      SEASON_YEAR  PLAYER_ID       PLAYER_NAME     TEAM_ID TEAM_ABBREVIATION  \\\n4         2007-08       2743    Kris Humphries  1610612761               TOR   \n10        2007-08        239    Darrick Martin  1610612761               TOR   \n11        2007-08     101121       Joey Graham  1610612761               TOR   \n13        2007-08       2413        Juan Dixon  1610612761               TOR   \n14        2007-08       1725  Rasho Nesterovic  1610612761               TOR   \n...           ...        ...               ...         ...               ...   \n56376     2008-09        979   Jermaine O'Neal  1610612761               TOR   \n56380     2008-09     101181     Jose Calderon  1610612761               TOR   \n56423     2008-09     101121       Joey Graham  1610612761               TOR   \n56433     2008-09       1515    Anthony Parker  1610612761               TOR   \n56462     2008-09       2574      Jason Kapono  1610612761               TOR   \n\n             TEAM_NAME     GAME_ID            GAME_DATE      MATCHUP WL  ...  \\\n4      Toronto Raptors  0010700104  2007-10-25T00:00:00  TOR vs. CLE  W  ...   \n10     Toronto Raptors  0010700104  2007-10-25T00:00:00  TOR vs. CLE  W  ...   \n11     Toronto Raptors  0010700104  2007-10-25T00:00:00  TOR vs. CLE  W  ...   \n13     Toronto Raptors  0010700104  2007-10-25T00:00:00  TOR vs. CLE  W  ...   \n14     Toronto Raptors  0010700104  2007-10-25T00:00:00  TOR vs. CLE  W  ...   \n...                ...         ...                  ...          ... ..  ...   \n56376  Toronto Raptors  0020800005  2008-10-29T00:00:00    TOR @ PHI  W  ...   \n56380  Toronto Raptors  0020800005  2008-10-29T00:00:00    TOR @ PHI  W  ...   \n56423  Toronto Raptors  0020800005  2008-10-29T00:00:00    TOR @ PHI  W  ...   \n56433  Toronto Raptors  0020800005  2008-10-29T00:00:00    TOR @ PHI  W  ...   \n56462  Toronto Raptors  0020800005  2008-10-29T00:00:00    TOR @ PHI  W  ...   \n\n       BLKA  PF  PFD  PTS  PLUS_MINUS  DD2  TD3       Game_Type        PIE  \\\n4         0   4    2   11          23    0    0      Pre Season   9.216590   \n10        0   1    0    5          10    0    0      Pre Season   3.686636   \n11        0   0    2    5          11    0    0      Pre Season   5.529954   \n13        0   0    1    5          19    0    0      Pre Season   8.294931   \n14        1   1    0    2           2    0    0      Pre Season   1.382488   \n...     ...  ..  ...  ...         ...  ...  ...             ...        ...   \n56376     0   5    4   17           0    0    0  Regular Season  17.647059   \n56380     2   5    1   13           4    0    0  Regular Season  16.993464   \n56423     2   2    0    4           2    0    0  Regular Season  -2.614379   \n56433     1   2    0    9          11    0    0  Regular Season   6.535948   \n56462     0   1    1   15           9    0    0  Regular Season  15.686275   \n\n             PER  \n4      20.691968  \n10     39.836496  \n11     44.248073  \n13     15.164332  \n14      1.738336  \n...          ...  \n56376  16.978241  \n56380  18.790151  \n56423   2.274514  \n56433   7.739894  \n56462  19.431434  \n\n[1903 rows x 37 columns]",
      "text/html": "<div>\n<style scoped>\n    .dataframe tbody tr th:only-of-type {\n        vertical-align: middle;\n    }\n\n    .dataframe tbody tr th {\n        vertical-align: top;\n    }\n\n    .dataframe thead th {\n        text-align: right;\n    }\n</style>\n<table border=\"1\" class=\"dataframe\">\n  <thead>\n    <tr style=\"text-align: right;\">\n      <th></th>\n      <th>SEASON_YEAR</th>\n      <th>PLAYER_ID</th>\n      <th>PLAYER_NAME</th>\n      <th>TEAM_ID</th>\n      <th>TEAM_ABBREVIATION</th>\n      <th>TEAM_NAME</th>\n      <th>GAME_ID</th>\n      <th>GAME_DATE</th>\n      <th>MATCHUP</th>\n      <th>WL</th>\n      <th>...</th>\n      <th>BLKA</th>\n      <th>PF</th>\n      <th>PFD</th>\n      <th>PTS</th>\n      <th>PLUS_MINUS</th>\n      <th>DD2</th>\n      <th>TD3</th>\n      <th>Game_Type</th>\n      <th>PIE</th>\n      <th>PER</th>\n    </tr>\n  </thead>\n  <tbody>\n    <tr>\n      <th>4</th>\n      <td>2007-08</td>\n      <td>2743</td>\n      <td>Kris Humphries</td>\n      <td>1610612761</td>\n      <td>TOR</td>\n      <td>Toronto Raptors</td>\n      <td>0010700104</td>\n      <td>2007-10-25T00:00:00</td>\n      <td>TOR vs. CLE</td>\n      <td>W</td>\n      <td>...</td>\n      <td>0</td>\n      <td>4</td>\n      <td>2</td>\n      <td>11</td>\n      <td>23</td>\n      <td>0</td>\n      <td>0</td>\n      <td>Pre Season</td>\n      <td>9.216590</td>\n      <td>20.691968</td>\n    </tr>\n    <tr>\n      <th>10</th>\n      <td>2007-08</td>\n      <td>239</td>\n      <td>Darrick Martin</td>\n      <td>1610612761</td>\n      <td>TOR</td>\n      <td>Toronto Raptors</td>\n      <td>0010700104</td>\n      <td>2007-10-25T00:00:00</td>\n      <td>TOR vs. CLE</td>\n      <td>W</td>\n      <td>...</td>\n      <td>0</td>\n      <td>1</td>\n      <td>0</td>\n      <td>5</td>\n      <td>10</td>\n      <td>0</td>\n      <td>0</td>\n      <td>Pre Season</td>\n      <td>3.686636</td>\n      <td>39.836496</td>\n    </tr>\n    <tr>\n      <th>11</th>\n      <td>2007-08</td>\n      <td>101121</td>\n      <td>Joey Graham</td>\n      <td>1610612761</td>\n      <td>TOR</td>\n      <td>Toronto Raptors</td>\n      <td>0010700104</td>\n      <td>2007-10-25T00:00:00</td>\n      <td>TOR vs. CLE</td>\n      <td>W</td>\n      <td>...</td>\n      <td>0</td>\n      <td>0</td>\n      <td>2</td>\n      <td>5</td>\n      <td>11</td>\n      <td>0</td>\n      <td>0</td>\n      <td>Pre Season</td>\n      <td>5.529954</td>\n      <td>44.248073</td>\n    </tr>\n    <tr>\n      <th>13</th>\n      <td>2007-08</td>\n      <td>2413</td>\n      <td>Juan Dixon</td>\n      <td>1610612761</td>\n      <td>TOR</td>\n      <td>Toronto Raptors</td>\n      <td>0010700104</td>\n      <td>2007-10-25T00:00:00</td>\n      <td>TOR vs. CLE</td>\n      <td>W</td>\n      <td>...</td>\n      <td>0</td>\n      <td>0</td>\n      <td>1</td>\n      <td>5</td>\n      <td>19</td>\n      <td>0</td>\n      <td>0</td>\n      <td>Pre Season</td>\n      <td>8.294931</td>\n      <td>15.164332</td>\n    </tr>\n    <tr>\n      <th>14</th>\n      <td>2007-08</td>\n      <td>1725</td>\n      <td>Rasho Nesterovic</td>\n      <td>1610612761</td>\n      <td>TOR</td>\n      <td>Toronto Raptors</td>\n      <td>0010700104</td>\n      <td>2007-10-25T00:00:00</td>\n      <td>TOR vs. CLE</td>\n      <td>W</td>\n      <td>...</td>\n      <td>1</td>\n      <td>1</td>\n      <td>0</td>\n      <td>2</td>\n      <td>2</td>\n      <td>0</td>\n      <td>0</td>\n      <td>Pre Season</td>\n      <td>1.382488</td>\n      <td>1.738336</td>\n    </tr>\n    <tr>\n      <th>...</th>\n      <td>...</td>\n      <td>...</td>\n      <td>...</td>\n      <td>...</td>\n      <td>...</td>\n      <td>...</td>\n      <td>...</td>\n      <td>...</td>\n      <td>...</td>\n      <td>...</td>\n      <td>...</td>\n      <td>...</td>\n      <td>...</td>\n      <td>...</td>\n      <td>...</td>\n      <td>...</td>\n      <td>...</td>\n      <td>...</td>\n      <td>...</td>\n      <td>...</td>\n      <td>...</td>\n    </tr>\n    <tr>\n      <th>56376</th>\n      <td>2008-09</td>\n      <td>979</td>\n      <td>Jermaine O'Neal</td>\n      <td>1610612761</td>\n      <td>TOR</td>\n      <td>Toronto Raptors</td>\n      <td>0020800005</td>\n      <td>2008-10-29T00:00:00</td>\n      <td>TOR @ PHI</td>\n      <td>W</td>\n      <td>...</td>\n      <td>0</td>\n      <td>5</td>\n      <td>4</td>\n      <td>17</td>\n      <td>0</td>\n      <td>0</td>\n      <td>0</td>\n      <td>Regular Season</td>\n      <td>17.647059</td>\n      <td>16.978241</td>\n    </tr>\n    <tr>\n      <th>56380</th>\n      <td>2008-09</td>\n      <td>101181</td>\n      <td>Jose Calderon</td>\n      <td>1610612761</td>\n      <td>TOR</td>\n      <td>Toronto Raptors</td>\n      <td>0020800005</td>\n      <td>2008-10-29T00:00:00</td>\n      <td>TOR @ PHI</td>\n      <td>W</td>\n      <td>...</td>\n      <td>2</td>\n      <td>5</td>\n      <td>1</td>\n      <td>13</td>\n      <td>4</td>\n      <td>0</td>\n      <td>0</td>\n      <td>Regular Season</td>\n      <td>16.993464</td>\n      <td>18.790151</td>\n    </tr>\n    <tr>\n      <th>56423</th>\n      <td>2008-09</td>\n      <td>101121</td>\n      <td>Joey Graham</td>\n      <td>1610612761</td>\n      <td>TOR</td>\n      <td>Toronto Raptors</td>\n      <td>0020800005</td>\n      <td>2008-10-29T00:00:00</td>\n      <td>TOR @ PHI</td>\n      <td>W</td>\n      <td>...</td>\n      <td>2</td>\n      <td>2</td>\n      <td>0</td>\n      <td>4</td>\n      <td>2</td>\n      <td>0</td>\n      <td>0</td>\n      <td>Regular Season</td>\n      <td>-2.614379</td>\n      <td>2.274514</td>\n    </tr>\n    <tr>\n      <th>56433</th>\n      <td>2008-09</td>\n      <td>1515</td>\n      <td>Anthony Parker</td>\n      <td>1610612761</td>\n      <td>TOR</td>\n      <td>Toronto Raptors</td>\n      <td>0020800005</td>\n      <td>2008-10-29T00:00:00</td>\n      <td>TOR @ PHI</td>\n      <td>W</td>\n      <td>...</td>\n      <td>1</td>\n      <td>2</td>\n      <td>0</td>\n      <td>9</td>\n      <td>11</td>\n      <td>0</td>\n      <td>0</td>\n      <td>Regular Season</td>\n      <td>6.535948</td>\n      <td>7.739894</td>\n    </tr>\n    <tr>\n      <th>56462</th>\n      <td>2008-09</td>\n      <td>2574</td>\n      <td>Jason Kapono</td>\n      <td>1610612761</td>\n      <td>TOR</td>\n      <td>Toronto Raptors</td>\n      <td>0020800005</td>\n      <td>2008-10-29T00:00:00</td>\n      <td>TOR @ PHI</td>\n      <td>W</td>\n      <td>...</td>\n      <td>0</td>\n      <td>1</td>\n      <td>1</td>\n      <td>15</td>\n      <td>9</td>\n      <td>0</td>\n      <td>0</td>\n      <td>Regular Season</td>\n      <td>15.686275</td>\n      <td>19.431434</td>\n    </tr>\n  </tbody>\n</table>\n<p>1903 rows × 37 columns</p>\n</div>"
     },
     "metadata": {}
    }
   ],
   "source": [
    "# If a specific team is selected by 'TEAM_ABBREVIATION' then recreate the dataframe with this filter else use the entire dataset as is.\r\n",
    "if teamSelected in allTeamsList:\r\n",
    "    df_TF = df_TF[df_TF['TEAM_ABBREVIATION']==teamSelected]\r\n",
    "else:\r\n",
    "    df_TF    \r\n",
    "display(df_TF)"
   ]
  },
  {
   "source": [
    "## Section 4.5: Remove (Stage 1) from dataframe the unwanted numerical/categorical features\n",
    "\n",
    "#### Note: if data enhancement done then adjust \n",
    "unwanted_categorical_Features_TF"
   ],
   "cell_type": "markdown",
   "metadata": {}
  },
  {
   "cell_type": "code",
   "execution_count": 9,
   "metadata": {},
   "outputs": [
    {
     "output_type": "display_data",
     "data": {
      "text/plain": "['SEASON_YEAR',\n 'WL',\n 'MIN',\n 'FGM',\n 'FGA',\n 'FG_PCT',\n 'FG3M',\n 'FG3A',\n 'FG3_PCT',\n 'FTM',\n 'FTA',\n 'FT_PCT',\n 'OREB',\n 'DREB',\n 'REB',\n 'AST',\n 'TOV',\n 'STL',\n 'BLK',\n 'BLKA',\n 'PF',\n 'PFD',\n 'PTS',\n 'PLUS_MINUS',\n 'DD2',\n 'TD3',\n 'Game_Type',\n 'PIE',\n 'PER']"
     },
     "metadata": {}
    }
   ],
   "source": [
    "# Gather current list of features\n",
    "numerical_Features = df_TF.columns.tolist()\n",
    "\n",
    "# All possible features\n",
    "# ['SEASON_YEAR', 'PLAYER_ID', 'PLAYER_NAME', 'TEAM_ID', 'TEAM_ABBREVIATION', 'TEAM_NAME', 'GAME_ID', 'GAME_DATE', 'MATCHUP', 'WL', 'MIN', 'FGM', 'FGA', 'FG_PCT', 'FG3M', 'FG3A', 'FG3_PCT', 'FTM', 'FTA', 'FT_PCT', 'OREB', 'DREB', 'REB', 'AST', 'TOV', 'STL', 'BLK', 'BLKA', 'PF', 'PFD', 'PTS', 'PLUS_MINUS', 'DD2', 'TD3', 'Game_Type']\n",
    "\n",
    "for i in categorical_Features: \n",
    "    numerical_Features.remove(i)\n",
    "\n",
    "# Lists unwanted features\n",
    "unwanted_numerical_Features = ['PLAYER_ID', 'TEAM_ID']\n",
    "unwanted_categorical_Features = ['PLAYER_NAME', 'TEAM_ABBREVIATION', 'TEAM_NAME', 'GAME_ID', 'GAME_DATE', 'MATCHUP']\n",
    "\n",
    "# # if Enchancement done then use this to get rid of what extras you don't want.\n",
    "if dataEnhancement_active == 'yes':\n",
    "    unwanted_categorical_Features_TF = ['UID_STG']\n",
    "\n",
    "# unwanted_list_01 = unwanted_numerical_Features + unwanted_categorical_Features + unwanted_categorical_Features_TF\n",
    "if dataEnhancement_active == 'yes':\n",
    "    unwanted_list_01 = unwanted_numerical_Features + unwanted_categorical_Features + unwanted_categorical_Features_TF\n",
    "else:\n",
    "    unwanted_list_01 = unwanted_numerical_Features + unwanted_categorical_Features\n",
    "X_headers_list = df_TF.columns.tolist()\n",
    "\n",
    "for i in unwanted_list_01:\n",
    "    X_headers_list.remove(i)\n",
    "\n",
    "# Reset new dataframe with desired features\n",
    "df_Reduced = df_TF[X_headers_list]\n",
    "\n",
    "# Remaining attributes\n",
    "# VALIDATION CODE \n",
    "if debug_active == 'yes':\n",
    "    display(X_headers_list)"
   ]
  },
  {
   "source": [
    "## Section 4.6: Transform categorical feature (WL) using value replace"
   ],
   "cell_type": "markdown",
   "metadata": {}
  },
  {
   "cell_type": "code",
   "execution_count": 10,
   "metadata": {},
   "outputs": [
    {
     "output_type": "display_data",
     "data": {
      "text/plain": "      SEASON_YEAR  WL        MIN  FGM  FGA  FG_PCT  FG3M  FG3A  FG3_PCT  FTM  \\\n4         2007-08   1  20.666667    5    9   0.556     0     0     0.00    1   \n10        2007-08   1   4.566667    2    3   0.667     1     2     0.50    0   \n11        2007-08   1   5.450000    1    1   1.000     0     0     0.00    3   \n13        2007-08   1  18.700000    2    6   0.333     1     2     0.50    0   \n14        2007-08   1  19.833333    1    4   0.250     0     0     0.00    0   \n...           ...  ..        ...  ...  ...     ...   ...   ...      ...  ...   \n56376     2008-09   1  34.116667    7   15   0.467     0     1     0.00    3   \n56380     2008-09   1  32.695000    5    9   0.556     3     5     0.60    0   \n56423     2008-09   1   8.750000    2    7   0.286     0     0     0.00    0   \n56433     2008-09   1  37.683333    3   11   0.273     3     5     0.60    0   \n56462     2008-09   1  25.566667    6    8   0.750     3     4     0.75    0   \n\n       ...  BLKA  PF  PFD  PTS  PLUS_MINUS  DD2  TD3  Game_Type        PIE  \\\n4      ...     0   4    2   11          23    0    0          0   9.216590   \n10     ...     0   1    0    5          10    0    0          0   3.686636   \n11     ...     0   0    2    5          11    0    0          0   5.529954   \n13     ...     0   0    1    5          19    0    0          0   8.294931   \n14     ...     1   1    0    2           2    0    0          0   1.382488   \n...    ...   ...  ..  ...  ...         ...  ...  ...        ...        ...   \n56376  ...     0   5    4   17           0    0    0          1  17.647059   \n56380  ...     2   5    1   13           4    0    0          1  16.993464   \n56423  ...     2   2    0    4           2    0    0          1  -2.614379   \n56433  ...     1   2    0    9          11    0    0          1   6.535948   \n56462  ...     0   1    1   15           9    0    0          1  15.686275   \n\n             PER  \n4      20.691968  \n10     39.836496  \n11     44.248073  \n13     15.164332  \n14      1.738336  \n...          ...  \n56376  16.978241  \n56380  18.790151  \n56423   2.274514  \n56433   7.739894  \n56462  19.431434  \n\n[1903 rows x 29 columns]",
      "text/html": "<div>\n<style scoped>\n    .dataframe tbody tr th:only-of-type {\n        vertical-align: middle;\n    }\n\n    .dataframe tbody tr th {\n        vertical-align: top;\n    }\n\n    .dataframe thead th {\n        text-align: right;\n    }\n</style>\n<table border=\"1\" class=\"dataframe\">\n  <thead>\n    <tr style=\"text-align: right;\">\n      <th></th>\n      <th>SEASON_YEAR</th>\n      <th>WL</th>\n      <th>MIN</th>\n      <th>FGM</th>\n      <th>FGA</th>\n      <th>FG_PCT</th>\n      <th>FG3M</th>\n      <th>FG3A</th>\n      <th>FG3_PCT</th>\n      <th>FTM</th>\n      <th>...</th>\n      <th>BLKA</th>\n      <th>PF</th>\n      <th>PFD</th>\n      <th>PTS</th>\n      <th>PLUS_MINUS</th>\n      <th>DD2</th>\n      <th>TD3</th>\n      <th>Game_Type</th>\n      <th>PIE</th>\n      <th>PER</th>\n    </tr>\n  </thead>\n  <tbody>\n    <tr>\n      <th>4</th>\n      <td>2007-08</td>\n      <td>1</td>\n      <td>20.666667</td>\n      <td>5</td>\n      <td>9</td>\n      <td>0.556</td>\n      <td>0</td>\n      <td>0</td>\n      <td>0.00</td>\n      <td>1</td>\n      <td>...</td>\n      <td>0</td>\n      <td>4</td>\n      <td>2</td>\n      <td>11</td>\n      <td>23</td>\n      <td>0</td>\n      <td>0</td>\n      <td>0</td>\n      <td>9.216590</td>\n      <td>20.691968</td>\n    </tr>\n    <tr>\n      <th>10</th>\n      <td>2007-08</td>\n      <td>1</td>\n      <td>4.566667</td>\n      <td>2</td>\n      <td>3</td>\n      <td>0.667</td>\n      <td>1</td>\n      <td>2</td>\n      <td>0.50</td>\n      <td>0</td>\n      <td>...</td>\n      <td>0</td>\n      <td>1</td>\n      <td>0</td>\n      <td>5</td>\n      <td>10</td>\n      <td>0</td>\n      <td>0</td>\n      <td>0</td>\n      <td>3.686636</td>\n      <td>39.836496</td>\n    </tr>\n    <tr>\n      <th>11</th>\n      <td>2007-08</td>\n      <td>1</td>\n      <td>5.450000</td>\n      <td>1</td>\n      <td>1</td>\n      <td>1.000</td>\n      <td>0</td>\n      <td>0</td>\n      <td>0.00</td>\n      <td>3</td>\n      <td>...</td>\n      <td>0</td>\n      <td>0</td>\n      <td>2</td>\n      <td>5</td>\n      <td>11</td>\n      <td>0</td>\n      <td>0</td>\n      <td>0</td>\n      <td>5.529954</td>\n      <td>44.248073</td>\n    </tr>\n    <tr>\n      <th>13</th>\n      <td>2007-08</td>\n      <td>1</td>\n      <td>18.700000</td>\n      <td>2</td>\n      <td>6</td>\n      <td>0.333</td>\n      <td>1</td>\n      <td>2</td>\n      <td>0.50</td>\n      <td>0</td>\n      <td>...</td>\n      <td>0</td>\n      <td>0</td>\n      <td>1</td>\n      <td>5</td>\n      <td>19</td>\n      <td>0</td>\n      <td>0</td>\n      <td>0</td>\n      <td>8.294931</td>\n      <td>15.164332</td>\n    </tr>\n    <tr>\n      <th>14</th>\n      <td>2007-08</td>\n      <td>1</td>\n      <td>19.833333</td>\n      <td>1</td>\n      <td>4</td>\n      <td>0.250</td>\n      <td>0</td>\n      <td>0</td>\n      <td>0.00</td>\n      <td>0</td>\n      <td>...</td>\n      <td>1</td>\n      <td>1</td>\n      <td>0</td>\n      <td>2</td>\n      <td>2</td>\n      <td>0</td>\n      <td>0</td>\n      <td>0</td>\n      <td>1.382488</td>\n      <td>1.738336</td>\n    </tr>\n    <tr>\n      <th>...</th>\n      <td>...</td>\n      <td>...</td>\n      <td>...</td>\n      <td>...</td>\n      <td>...</td>\n      <td>...</td>\n      <td>...</td>\n      <td>...</td>\n      <td>...</td>\n      <td>...</td>\n      <td>...</td>\n      <td>...</td>\n      <td>...</td>\n      <td>...</td>\n      <td>...</td>\n      <td>...</td>\n      <td>...</td>\n      <td>...</td>\n      <td>...</td>\n      <td>...</td>\n      <td>...</td>\n    </tr>\n    <tr>\n      <th>56376</th>\n      <td>2008-09</td>\n      <td>1</td>\n      <td>34.116667</td>\n      <td>7</td>\n      <td>15</td>\n      <td>0.467</td>\n      <td>0</td>\n      <td>1</td>\n      <td>0.00</td>\n      <td>3</td>\n      <td>...</td>\n      <td>0</td>\n      <td>5</td>\n      <td>4</td>\n      <td>17</td>\n      <td>0</td>\n      <td>0</td>\n      <td>0</td>\n      <td>1</td>\n      <td>17.647059</td>\n      <td>16.978241</td>\n    </tr>\n    <tr>\n      <th>56380</th>\n      <td>2008-09</td>\n      <td>1</td>\n      <td>32.695000</td>\n      <td>5</td>\n      <td>9</td>\n      <td>0.556</td>\n      <td>3</td>\n      <td>5</td>\n      <td>0.60</td>\n      <td>0</td>\n      <td>...</td>\n      <td>2</td>\n      <td>5</td>\n      <td>1</td>\n      <td>13</td>\n      <td>4</td>\n      <td>0</td>\n      <td>0</td>\n      <td>1</td>\n      <td>16.993464</td>\n      <td>18.790151</td>\n    </tr>\n    <tr>\n      <th>56423</th>\n      <td>2008-09</td>\n      <td>1</td>\n      <td>8.750000</td>\n      <td>2</td>\n      <td>7</td>\n      <td>0.286</td>\n      <td>0</td>\n      <td>0</td>\n      <td>0.00</td>\n      <td>0</td>\n      <td>...</td>\n      <td>2</td>\n      <td>2</td>\n      <td>0</td>\n      <td>4</td>\n      <td>2</td>\n      <td>0</td>\n      <td>0</td>\n      <td>1</td>\n      <td>-2.614379</td>\n      <td>2.274514</td>\n    </tr>\n    <tr>\n      <th>56433</th>\n      <td>2008-09</td>\n      <td>1</td>\n      <td>37.683333</td>\n      <td>3</td>\n      <td>11</td>\n      <td>0.273</td>\n      <td>3</td>\n      <td>5</td>\n      <td>0.60</td>\n      <td>0</td>\n      <td>...</td>\n      <td>1</td>\n      <td>2</td>\n      <td>0</td>\n      <td>9</td>\n      <td>11</td>\n      <td>0</td>\n      <td>0</td>\n      <td>1</td>\n      <td>6.535948</td>\n      <td>7.739894</td>\n    </tr>\n    <tr>\n      <th>56462</th>\n      <td>2008-09</td>\n      <td>1</td>\n      <td>25.566667</td>\n      <td>6</td>\n      <td>8</td>\n      <td>0.750</td>\n      <td>3</td>\n      <td>4</td>\n      <td>0.75</td>\n      <td>0</td>\n      <td>...</td>\n      <td>0</td>\n      <td>1</td>\n      <td>1</td>\n      <td>15</td>\n      <td>9</td>\n      <td>0</td>\n      <td>0</td>\n      <td>1</td>\n      <td>15.686275</td>\n      <td>19.431434</td>\n    </tr>\n  </tbody>\n</table>\n<p>1903 rows × 29 columns</p>\n</div>"
     },
     "metadata": {}
    }
   ],
   "source": [
    "cleaned_categorical_Features = ['WL', 'Game_Type']\n",
    "cleanupValue = {'WL': {'W': 1, 'L': 0}, 'Game_Type': {'Pre Season': 0, 'Regular Season': 1, 'Playoffs': 2}}\n",
    "df_Reduced = df_Reduced.replace(cleanupValue)\n",
    "\n",
    "# VALIDATION CODE \n",
    "if debug_active == 'yes':\n",
    "    display(df_Reduced)"
   ]
  },
  {
   "source": [
    "## Section 4.7: Transform categorical features using LabelEncoder\n",
    "\n",
    "This will work with the reminding categorical values as there is a hierarchy for \n",
    "\n",
    "'SEASON_YEAR' - the more recent the season the more relevant it is where as older data is less valuable\n",
    "\n",
    "'Game_Type' - need to think about this but assume regular season is more important"
   ],
   "cell_type": "markdown",
   "metadata": {}
  },
  {
   "cell_type": "code",
   "execution_count": 11,
   "metadata": {},
   "outputs": [
    {
     "output_type": "stream",
     "name": "stdout",
     "text": [
      "['SEASON_YEAR', 'PLAYER_NAME', 'TEAM_ABBREVIATION', 'TEAM_NAME', 'GAME_ID', 'GAME_DATE', 'MATCHUP', 'WL', 'Game_Type']\n['PLAYER_NAME', 'TEAM_ABBREVIATION', 'TEAM_NAME', 'GAME_ID', 'GAME_DATE', 'MATCHUP']\n['WL', 'Game_Type']\n['SEASON_YEAR']\n"
     ]
    }
   ],
   "source": [
    "# # Select features to encode\n",
    "e_categorical = categorical_Features\n",
    "\n",
    "print(e_categorical)\n",
    "\n",
    "for i in unwanted_categorical_Features:\n",
    "    e_categorical.remove(i)\n",
    "\n",
    "print(unwanted_categorical_Features)\n",
    "\n",
    "for j in cleaned_categorical_Features:\n",
    "    e_categorical.remove(j)\n",
    "\n",
    "print(cleaned_categorical_Features)\n",
    "\n",
    "print(e_categorical)\n",
    "\n",
    "# Reset variable\n",
    "categorical_Features = df_Reduced.dtypes[df_Reduced.dtypes == \"object\"].index.tolist()\n",
    "\n",
    "lb_make = LabelEncoder()\n",
    "# cat_list = ['Gender','Education_Level','Marital_Status','Income_Category','Card_Category']\n",
    "# cat_list_code = ['Gender_code','Education_Level_code','Marital_Status_code','Income_Category_code','Card_Category_code']\n",
    "\n",
    "df_Encoded = df_Reduced\n",
    "# df_Encoded = df_Reduced[e_categorical]\n",
    "\n",
    "\n"
   ]
  },
  {
   "cell_type": "code",
   "execution_count": 12,
   "metadata": {},
   "outputs": [
    {
     "output_type": "display_data",
     "data": {
      "text/plain": "      SEASON_YEAR  WL        MIN  FGM  FGA  FG_PCT  FG3M  FG3A  FG3_PCT  FTM  \\\n4         2007-08   1  20.666667    5    9   0.556     0     0     0.00    1   \n10        2007-08   1   4.566667    2    3   0.667     1     2     0.50    0   \n11        2007-08   1   5.450000    1    1   1.000     0     0     0.00    3   \n13        2007-08   1  18.700000    2    6   0.333     1     2     0.50    0   \n14        2007-08   1  19.833333    1    4   0.250     0     0     0.00    0   \n...           ...  ..        ...  ...  ...     ...   ...   ...      ...  ...   \n56376     2008-09   1  34.116667    7   15   0.467     0     1     0.00    3   \n56380     2008-09   1  32.695000    5    9   0.556     3     5     0.60    0   \n56423     2008-09   1   8.750000    2    7   0.286     0     0     0.00    0   \n56433     2008-09   1  37.683333    3   11   0.273     3     5     0.60    0   \n56462     2008-09   1  25.566667    6    8   0.750     3     4     0.75    0   \n\n       ...  PF  PFD  PTS  PLUS_MINUS  DD2  TD3  Game_Type        PIE  \\\n4      ...   4    2   11          23    0    0          0   9.216590   \n10     ...   1    0    5          10    0    0          0   3.686636   \n11     ...   0    2    5          11    0    0          0   5.529954   \n13     ...   0    1    5          19    0    0          0   8.294931   \n14     ...   1    0    2           2    0    0          0   1.382488   \n...    ...  ..  ...  ...         ...  ...  ...        ...        ...   \n56376  ...   5    4   17           0    0    0          1  17.647059   \n56380  ...   5    1   13           4    0    0          1  16.993464   \n56423  ...   2    0    4           2    0    0          1  -2.614379   \n56433  ...   2    0    9          11    0    0          1   6.535948   \n56462  ...   1    1   15           9    0    0          1  15.686275   \n\n             PER  SEASON_YEAR_code  \n4      20.691968                 0  \n10     39.836496                 0  \n11     44.248073                 0  \n13     15.164332                 0  \n14      1.738336                 0  \n...          ...               ...  \n56376  16.978241                 1  \n56380  18.790151                 1  \n56423   2.274514                 1  \n56433   7.739894                 1  \n56462  19.431434                 1  \n\n[1903 rows x 30 columns]",
      "text/html": "<div>\n<style scoped>\n    .dataframe tbody tr th:only-of-type {\n        vertical-align: middle;\n    }\n\n    .dataframe tbody tr th {\n        vertical-align: top;\n    }\n\n    .dataframe thead th {\n        text-align: right;\n    }\n</style>\n<table border=\"1\" class=\"dataframe\">\n  <thead>\n    <tr style=\"text-align: right;\">\n      <th></th>\n      <th>SEASON_YEAR</th>\n      <th>WL</th>\n      <th>MIN</th>\n      <th>FGM</th>\n      <th>FGA</th>\n      <th>FG_PCT</th>\n      <th>FG3M</th>\n      <th>FG3A</th>\n      <th>FG3_PCT</th>\n      <th>FTM</th>\n      <th>...</th>\n      <th>PF</th>\n      <th>PFD</th>\n      <th>PTS</th>\n      <th>PLUS_MINUS</th>\n      <th>DD2</th>\n      <th>TD3</th>\n      <th>Game_Type</th>\n      <th>PIE</th>\n      <th>PER</th>\n      <th>SEASON_YEAR_code</th>\n    </tr>\n  </thead>\n  <tbody>\n    <tr>\n      <th>4</th>\n      <td>2007-08</td>\n      <td>1</td>\n      <td>20.666667</td>\n      <td>5</td>\n      <td>9</td>\n      <td>0.556</td>\n      <td>0</td>\n      <td>0</td>\n      <td>0.00</td>\n      <td>1</td>\n      <td>...</td>\n      <td>4</td>\n      <td>2</td>\n      <td>11</td>\n      <td>23</td>\n      <td>0</td>\n      <td>0</td>\n      <td>0</td>\n      <td>9.216590</td>\n      <td>20.691968</td>\n      <td>0</td>\n    </tr>\n    <tr>\n      <th>10</th>\n      <td>2007-08</td>\n      <td>1</td>\n      <td>4.566667</td>\n      <td>2</td>\n      <td>3</td>\n      <td>0.667</td>\n      <td>1</td>\n      <td>2</td>\n      <td>0.50</td>\n      <td>0</td>\n      <td>...</td>\n      <td>1</td>\n      <td>0</td>\n      <td>5</td>\n      <td>10</td>\n      <td>0</td>\n      <td>0</td>\n      <td>0</td>\n      <td>3.686636</td>\n      <td>39.836496</td>\n      <td>0</td>\n    </tr>\n    <tr>\n      <th>11</th>\n      <td>2007-08</td>\n      <td>1</td>\n      <td>5.450000</td>\n      <td>1</td>\n      <td>1</td>\n      <td>1.000</td>\n      <td>0</td>\n      <td>0</td>\n      <td>0.00</td>\n      <td>3</td>\n      <td>...</td>\n      <td>0</td>\n      <td>2</td>\n      <td>5</td>\n      <td>11</td>\n      <td>0</td>\n      <td>0</td>\n      <td>0</td>\n      <td>5.529954</td>\n      <td>44.248073</td>\n      <td>0</td>\n    </tr>\n    <tr>\n      <th>13</th>\n      <td>2007-08</td>\n      <td>1</td>\n      <td>18.700000</td>\n      <td>2</td>\n      <td>6</td>\n      <td>0.333</td>\n      <td>1</td>\n      <td>2</td>\n      <td>0.50</td>\n      <td>0</td>\n      <td>...</td>\n      <td>0</td>\n      <td>1</td>\n      <td>5</td>\n      <td>19</td>\n      <td>0</td>\n      <td>0</td>\n      <td>0</td>\n      <td>8.294931</td>\n      <td>15.164332</td>\n      <td>0</td>\n    </tr>\n    <tr>\n      <th>14</th>\n      <td>2007-08</td>\n      <td>1</td>\n      <td>19.833333</td>\n      <td>1</td>\n      <td>4</td>\n      <td>0.250</td>\n      <td>0</td>\n      <td>0</td>\n      <td>0.00</td>\n      <td>0</td>\n      <td>...</td>\n      <td>1</td>\n      <td>0</td>\n      <td>2</td>\n      <td>2</td>\n      <td>0</td>\n      <td>0</td>\n      <td>0</td>\n      <td>1.382488</td>\n      <td>1.738336</td>\n      <td>0</td>\n    </tr>\n    <tr>\n      <th>...</th>\n      <td>...</td>\n      <td>...</td>\n      <td>...</td>\n      <td>...</td>\n      <td>...</td>\n      <td>...</td>\n      <td>...</td>\n      <td>...</td>\n      <td>...</td>\n      <td>...</td>\n      <td>...</td>\n      <td>...</td>\n      <td>...</td>\n      <td>...</td>\n      <td>...</td>\n      <td>...</td>\n      <td>...</td>\n      <td>...</td>\n      <td>...</td>\n      <td>...</td>\n      <td>...</td>\n    </tr>\n    <tr>\n      <th>56376</th>\n      <td>2008-09</td>\n      <td>1</td>\n      <td>34.116667</td>\n      <td>7</td>\n      <td>15</td>\n      <td>0.467</td>\n      <td>0</td>\n      <td>1</td>\n      <td>0.00</td>\n      <td>3</td>\n      <td>...</td>\n      <td>5</td>\n      <td>4</td>\n      <td>17</td>\n      <td>0</td>\n      <td>0</td>\n      <td>0</td>\n      <td>1</td>\n      <td>17.647059</td>\n      <td>16.978241</td>\n      <td>1</td>\n    </tr>\n    <tr>\n      <th>56380</th>\n      <td>2008-09</td>\n      <td>1</td>\n      <td>32.695000</td>\n      <td>5</td>\n      <td>9</td>\n      <td>0.556</td>\n      <td>3</td>\n      <td>5</td>\n      <td>0.60</td>\n      <td>0</td>\n      <td>...</td>\n      <td>5</td>\n      <td>1</td>\n      <td>13</td>\n      <td>4</td>\n      <td>0</td>\n      <td>0</td>\n      <td>1</td>\n      <td>16.993464</td>\n      <td>18.790151</td>\n      <td>1</td>\n    </tr>\n    <tr>\n      <th>56423</th>\n      <td>2008-09</td>\n      <td>1</td>\n      <td>8.750000</td>\n      <td>2</td>\n      <td>7</td>\n      <td>0.286</td>\n      <td>0</td>\n      <td>0</td>\n      <td>0.00</td>\n      <td>0</td>\n      <td>...</td>\n      <td>2</td>\n      <td>0</td>\n      <td>4</td>\n      <td>2</td>\n      <td>0</td>\n      <td>0</td>\n      <td>1</td>\n      <td>-2.614379</td>\n      <td>2.274514</td>\n      <td>1</td>\n    </tr>\n    <tr>\n      <th>56433</th>\n      <td>2008-09</td>\n      <td>1</td>\n      <td>37.683333</td>\n      <td>3</td>\n      <td>11</td>\n      <td>0.273</td>\n      <td>3</td>\n      <td>5</td>\n      <td>0.60</td>\n      <td>0</td>\n      <td>...</td>\n      <td>2</td>\n      <td>0</td>\n      <td>9</td>\n      <td>11</td>\n      <td>0</td>\n      <td>0</td>\n      <td>1</td>\n      <td>6.535948</td>\n      <td>7.739894</td>\n      <td>1</td>\n    </tr>\n    <tr>\n      <th>56462</th>\n      <td>2008-09</td>\n      <td>1</td>\n      <td>25.566667</td>\n      <td>6</td>\n      <td>8</td>\n      <td>0.750</td>\n      <td>3</td>\n      <td>4</td>\n      <td>0.75</td>\n      <td>0</td>\n      <td>...</td>\n      <td>1</td>\n      <td>1</td>\n      <td>15</td>\n      <td>9</td>\n      <td>0</td>\n      <td>0</td>\n      <td>1</td>\n      <td>15.686275</td>\n      <td>19.431434</td>\n      <td>1</td>\n    </tr>\n  </tbody>\n</table>\n<p>1903 rows × 30 columns</p>\n</div>"
     },
     "metadata": {}
    }
   ],
   "source": [
    "# Apply LabelEncoding on e_categorical features\n",
    "\n",
    "for k in e_categorical:\n",
    "    val_A = k\n",
    "    val_B = k + '_code'\n",
    "    df_Encoded[(val_B)] = lb_make.fit_transform(df_Encoded[val_A])\n",
    "\n",
    "# VALIDATION CODE \n",
    "if debug_active == 'yes':\n",
    "    display(df_Encoded) #Results in appending a new column to df"
   ]
  },
  {
   "source": [
    "## Section 4.8: Define TARGET variable and separate into dataframes by season type\n",
    "\n",
    "Remove (Stage 2) from dataframe the featuree (categorical, Target, and other unwanted)\n",
    "\n",
    "Separating the dataframe by gameTypeListed ('Pre Season', 'Regular Season', 'Playoffs')"
   ],
   "cell_type": "markdown",
   "metadata": {}
  },
  {
   "cell_type": "code",
   "execution_count": 13,
   "metadata": {},
   "outputs": [
    {
     "output_type": "display_data",
     "data": {
      "text/plain": "      SEASON_YEAR  WL        MIN  FGM  FGA  FG_PCT  FG3M  FG3A  FG3_PCT  FTM  \\\n4         2007-08   1  20.666667    5    9   0.556     0     0     0.00    1   \n10        2007-08   1   4.566667    2    3   0.667     1     2     0.50    0   \n11        2007-08   1   5.450000    1    1   1.000     0     0     0.00    3   \n13        2007-08   1  18.700000    2    6   0.333     1     2     0.50    0   \n14        2007-08   1  19.833333    1    4   0.250     0     0     0.00    0   \n...           ...  ..        ...  ...  ...     ...   ...   ...      ...  ...   \n56376     2008-09   1  34.116667    7   15   0.467     0     1     0.00    3   \n56380     2008-09   1  32.695000    5    9   0.556     3     5     0.60    0   \n56423     2008-09   1   8.750000    2    7   0.286     0     0     0.00    0   \n56433     2008-09   1  37.683333    3   11   0.273     3     5     0.60    0   \n56462     2008-09   1  25.566667    6    8   0.750     3     4     0.75    0   \n\n       ...  PF  PFD  PTS  PLUS_MINUS  DD2  TD3  Game_Type        PIE  \\\n4      ...   4    2   11          23    0    0          0   9.216590   \n10     ...   1    0    5          10    0    0          0   3.686636   \n11     ...   0    2    5          11    0    0          0   5.529954   \n13     ...   0    1    5          19    0    0          0   8.294931   \n14     ...   1    0    2           2    0    0          0   1.382488   \n...    ...  ..  ...  ...         ...  ...  ...        ...        ...   \n56376  ...   5    4   17           0    0    0          1  17.647059   \n56380  ...   5    1   13           4    0    0          1  16.993464   \n56423  ...   2    0    4           2    0    0          1  -2.614379   \n56433  ...   2    0    9          11    0    0          1   6.535948   \n56462  ...   1    1   15           9    0    0          1  15.686275   \n\n             PER  SEASON_YEAR_code  \n4      20.691968                 0  \n10     39.836496                 0  \n11     44.248073                 0  \n13     15.164332                 0  \n14      1.738336                 0  \n...          ...               ...  \n56376  16.978241                 1  \n56380  18.790151                 1  \n56423   2.274514                 1  \n56433   7.739894                 1  \n56462  19.431434                 1  \n\n[1903 rows x 30 columns]",
      "text/html": "<div>\n<style scoped>\n    .dataframe tbody tr th:only-of-type {\n        vertical-align: middle;\n    }\n\n    .dataframe tbody tr th {\n        vertical-align: top;\n    }\n\n    .dataframe thead th {\n        text-align: right;\n    }\n</style>\n<table border=\"1\" class=\"dataframe\">\n  <thead>\n    <tr style=\"text-align: right;\">\n      <th></th>\n      <th>SEASON_YEAR</th>\n      <th>WL</th>\n      <th>MIN</th>\n      <th>FGM</th>\n      <th>FGA</th>\n      <th>FG_PCT</th>\n      <th>FG3M</th>\n      <th>FG3A</th>\n      <th>FG3_PCT</th>\n      <th>FTM</th>\n      <th>...</th>\n      <th>PF</th>\n      <th>PFD</th>\n      <th>PTS</th>\n      <th>PLUS_MINUS</th>\n      <th>DD2</th>\n      <th>TD3</th>\n      <th>Game_Type</th>\n      <th>PIE</th>\n      <th>PER</th>\n      <th>SEASON_YEAR_code</th>\n    </tr>\n  </thead>\n  <tbody>\n    <tr>\n      <th>4</th>\n      <td>2007-08</td>\n      <td>1</td>\n      <td>20.666667</td>\n      <td>5</td>\n      <td>9</td>\n      <td>0.556</td>\n      <td>0</td>\n      <td>0</td>\n      <td>0.00</td>\n      <td>1</td>\n      <td>...</td>\n      <td>4</td>\n      <td>2</td>\n      <td>11</td>\n      <td>23</td>\n      <td>0</td>\n      <td>0</td>\n      <td>0</td>\n      <td>9.216590</td>\n      <td>20.691968</td>\n      <td>0</td>\n    </tr>\n    <tr>\n      <th>10</th>\n      <td>2007-08</td>\n      <td>1</td>\n      <td>4.566667</td>\n      <td>2</td>\n      <td>3</td>\n      <td>0.667</td>\n      <td>1</td>\n      <td>2</td>\n      <td>0.50</td>\n      <td>0</td>\n      <td>...</td>\n      <td>1</td>\n      <td>0</td>\n      <td>5</td>\n      <td>10</td>\n      <td>0</td>\n      <td>0</td>\n      <td>0</td>\n      <td>3.686636</td>\n      <td>39.836496</td>\n      <td>0</td>\n    </tr>\n    <tr>\n      <th>11</th>\n      <td>2007-08</td>\n      <td>1</td>\n      <td>5.450000</td>\n      <td>1</td>\n      <td>1</td>\n      <td>1.000</td>\n      <td>0</td>\n      <td>0</td>\n      <td>0.00</td>\n      <td>3</td>\n      <td>...</td>\n      <td>0</td>\n      <td>2</td>\n      <td>5</td>\n      <td>11</td>\n      <td>0</td>\n      <td>0</td>\n      <td>0</td>\n      <td>5.529954</td>\n      <td>44.248073</td>\n      <td>0</td>\n    </tr>\n    <tr>\n      <th>13</th>\n      <td>2007-08</td>\n      <td>1</td>\n      <td>18.700000</td>\n      <td>2</td>\n      <td>6</td>\n      <td>0.333</td>\n      <td>1</td>\n      <td>2</td>\n      <td>0.50</td>\n      <td>0</td>\n      <td>...</td>\n      <td>0</td>\n      <td>1</td>\n      <td>5</td>\n      <td>19</td>\n      <td>0</td>\n      <td>0</td>\n      <td>0</td>\n      <td>8.294931</td>\n      <td>15.164332</td>\n      <td>0</td>\n    </tr>\n    <tr>\n      <th>14</th>\n      <td>2007-08</td>\n      <td>1</td>\n      <td>19.833333</td>\n      <td>1</td>\n      <td>4</td>\n      <td>0.250</td>\n      <td>0</td>\n      <td>0</td>\n      <td>0.00</td>\n      <td>0</td>\n      <td>...</td>\n      <td>1</td>\n      <td>0</td>\n      <td>2</td>\n      <td>2</td>\n      <td>0</td>\n      <td>0</td>\n      <td>0</td>\n      <td>1.382488</td>\n      <td>1.738336</td>\n      <td>0</td>\n    </tr>\n    <tr>\n      <th>...</th>\n      <td>...</td>\n      <td>...</td>\n      <td>...</td>\n      <td>...</td>\n      <td>...</td>\n      <td>...</td>\n      <td>...</td>\n      <td>...</td>\n      <td>...</td>\n      <td>...</td>\n      <td>...</td>\n      <td>...</td>\n      <td>...</td>\n      <td>...</td>\n      <td>...</td>\n      <td>...</td>\n      <td>...</td>\n      <td>...</td>\n      <td>...</td>\n      <td>...</td>\n      <td>...</td>\n    </tr>\n    <tr>\n      <th>56376</th>\n      <td>2008-09</td>\n      <td>1</td>\n      <td>34.116667</td>\n      <td>7</td>\n      <td>15</td>\n      <td>0.467</td>\n      <td>0</td>\n      <td>1</td>\n      <td>0.00</td>\n      <td>3</td>\n      <td>...</td>\n      <td>5</td>\n      <td>4</td>\n      <td>17</td>\n      <td>0</td>\n      <td>0</td>\n      <td>0</td>\n      <td>1</td>\n      <td>17.647059</td>\n      <td>16.978241</td>\n      <td>1</td>\n    </tr>\n    <tr>\n      <th>56380</th>\n      <td>2008-09</td>\n      <td>1</td>\n      <td>32.695000</td>\n      <td>5</td>\n      <td>9</td>\n      <td>0.556</td>\n      <td>3</td>\n      <td>5</td>\n      <td>0.60</td>\n      <td>0</td>\n      <td>...</td>\n      <td>5</td>\n      <td>1</td>\n      <td>13</td>\n      <td>4</td>\n      <td>0</td>\n      <td>0</td>\n      <td>1</td>\n      <td>16.993464</td>\n      <td>18.790151</td>\n      <td>1</td>\n    </tr>\n    <tr>\n      <th>56423</th>\n      <td>2008-09</td>\n      <td>1</td>\n      <td>8.750000</td>\n      <td>2</td>\n      <td>7</td>\n      <td>0.286</td>\n      <td>0</td>\n      <td>0</td>\n      <td>0.00</td>\n      <td>0</td>\n      <td>...</td>\n      <td>2</td>\n      <td>0</td>\n      <td>4</td>\n      <td>2</td>\n      <td>0</td>\n      <td>0</td>\n      <td>1</td>\n      <td>-2.614379</td>\n      <td>2.274514</td>\n      <td>1</td>\n    </tr>\n    <tr>\n      <th>56433</th>\n      <td>2008-09</td>\n      <td>1</td>\n      <td>37.683333</td>\n      <td>3</td>\n      <td>11</td>\n      <td>0.273</td>\n      <td>3</td>\n      <td>5</td>\n      <td>0.60</td>\n      <td>0</td>\n      <td>...</td>\n      <td>2</td>\n      <td>0</td>\n      <td>9</td>\n      <td>11</td>\n      <td>0</td>\n      <td>0</td>\n      <td>1</td>\n      <td>6.535948</td>\n      <td>7.739894</td>\n      <td>1</td>\n    </tr>\n    <tr>\n      <th>56462</th>\n      <td>2008-09</td>\n      <td>1</td>\n      <td>25.566667</td>\n      <td>6</td>\n      <td>8</td>\n      <td>0.750</td>\n      <td>3</td>\n      <td>4</td>\n      <td>0.75</td>\n      <td>0</td>\n      <td>...</td>\n      <td>1</td>\n      <td>1</td>\n      <td>15</td>\n      <td>9</td>\n      <td>0</td>\n      <td>0</td>\n      <td>1</td>\n      <td>15.686275</td>\n      <td>19.431434</td>\n      <td>1</td>\n    </tr>\n  </tbody>\n</table>\n<p>1903 rows × 30 columns</p>\n</div>"
     },
     "metadata": {}
    },
    {
     "output_type": "stream",
     "name": "stdout",
     "text": [
      "['SEASON_YEAR']\n"
     ]
    }
   ],
   "source": [
    "# VALIDATION CODE \n",
    "if debug_active == 'yes':\n",
    "    display(df_Encoded)\n",
    "    print(e_categorical)"
   ]
  },
  {
   "cell_type": "code",
   "execution_count": 14,
   "metadata": {},
   "outputs": [
    {
     "output_type": "stream",
     "name": "stdout",
     "text": [
      "['SEASON_YEAR', 'WL']\n"
     ]
    }
   ],
   "source": [
    "# Configure variables\n",
    "# gameTypeListed = ['Pre Season', 'Regular Season', 'Playoffs']\n",
    "# gameTypeListed_code = [0, 1, 2]\n",
    "Y_headers_list1 = ['WL', 'Game_Type']\n",
    "Y_headers_list2 = ['WL']\n",
    "e_categorical = e_categorical + Y_headers_list2\n",
    "\n",
    "# Define the current list of features\n",
    "X_headers_list = df_Encoded.columns.tolist()\n",
    "\n",
    "# Remove LabelEncoded categorical features\n",
    "for k in e_categorical:\n",
    "    X_headers_list.remove(k)\n",
    "\n",
    "# VALIDATION CODE \n",
    "if debug_active == 'yes':\n",
    "    print(e_categorical)"
   ]
  },
  {
   "cell_type": "code",
   "execution_count": 15,
   "metadata": {},
   "outputs": [
    {
     "output_type": "stream",
     "name": "stdout",
     "text": [
      "\nPre Season\n"
     ]
    },
    {
     "output_type": "display_data",
     "data": {
      "text/plain": "             MIN  FGM  FGA  FG_PCT  FG3M  FG3A  FG3_PCT  FTM  FTA  FT_PCT  \\\n4      20.666667    5    9   0.556     0     0      0.0    1    2     0.5   \n10      4.566667    2    3   0.667     1     2      0.5    0    0     0.0   \n11      5.450000    1    1   1.000     0     0      0.0    3    3     1.0   \n13     18.700000    2    6   0.333     1     2      0.5    0    0     0.0   \n14     19.833333    1    4   0.250     0     0      0.0    0    0     0.0   \n...          ...  ...  ...     ...   ...   ...      ...  ...  ...     ...   \n31623  20.983333    4    6   0.667     3     3      1.0    1    2     0.5   \n31642  26.450000    4    5   0.800     2     2      1.0    0    0     0.0   \n31652  22.966667    5   10   0.500     0     0      0.0    3    6     0.5   \n31672  27.533333    4    8   0.500     2     4      0.5    0    0     0.0   \n31678  27.016667    4   12   0.333     0     4      0.0    0    0     0.0   \n\n       ...  BLK  BLKA  PF  PFD  PTS  PLUS_MINUS  DD2  TD3        PIE  \\\n4      ...    0     0   4    2   11          23    0    0   9.216590   \n10     ...    0     0   1    0    5          10    0    0   3.686636   \n11     ...    0     0   0    2    5          11    0    0   5.529954   \n13     ...    0     0   0    1    5          19    0    0   8.294931   \n14     ...    0     1   1    0    2           2    0    0   1.382488   \n...    ...  ...   ...  ..  ...  ...         ...  ...  ...        ...   \n31623  ...    0     0   4    1   12          -2    0    0  11.000000   \n31642  ...    0     0   3    1   10           6    0    0   8.000000   \n31652  ...    1     0   2    3   13          -3    0    0   9.500000   \n31672  ...    1     1   3    2   10           8    0    0  16.000000   \n31678  ...    0     0   2    1    8           4    0    0  10.000000   \n\n             PER  \n4      20.691968  \n10     39.836496  \n11     44.248073  \n13     15.164332  \n14      1.738336  \n...          ...  \n31623  25.138570  \n31642  12.379811  \n31652  21.360914  \n31672  20.833511  \n31678  13.712128  \n\n[158 rows x 26 columns]",
      "text/html": "<div>\n<style scoped>\n    .dataframe tbody tr th:only-of-type {\n        vertical-align: middle;\n    }\n\n    .dataframe tbody tr th {\n        vertical-align: top;\n    }\n\n    .dataframe thead th {\n        text-align: right;\n    }\n</style>\n<table border=\"1\" class=\"dataframe\">\n  <thead>\n    <tr style=\"text-align: right;\">\n      <th></th>\n      <th>MIN</th>\n      <th>FGM</th>\n      <th>FGA</th>\n      <th>FG_PCT</th>\n      <th>FG3M</th>\n      <th>FG3A</th>\n      <th>FG3_PCT</th>\n      <th>FTM</th>\n      <th>FTA</th>\n      <th>FT_PCT</th>\n      <th>...</th>\n      <th>BLK</th>\n      <th>BLKA</th>\n      <th>PF</th>\n      <th>PFD</th>\n      <th>PTS</th>\n      <th>PLUS_MINUS</th>\n      <th>DD2</th>\n      <th>TD3</th>\n      <th>PIE</th>\n      <th>PER</th>\n    </tr>\n  </thead>\n  <tbody>\n    <tr>\n      <th>4</th>\n      <td>20.666667</td>\n      <td>5</td>\n      <td>9</td>\n      <td>0.556</td>\n      <td>0</td>\n      <td>0</td>\n      <td>0.0</td>\n      <td>1</td>\n      <td>2</td>\n      <td>0.5</td>\n      <td>...</td>\n      <td>0</td>\n      <td>0</td>\n      <td>4</td>\n      <td>2</td>\n      <td>11</td>\n      <td>23</td>\n      <td>0</td>\n      <td>0</td>\n      <td>9.216590</td>\n      <td>20.691968</td>\n    </tr>\n    <tr>\n      <th>10</th>\n      <td>4.566667</td>\n      <td>2</td>\n      <td>3</td>\n      <td>0.667</td>\n      <td>1</td>\n      <td>2</td>\n      <td>0.5</td>\n      <td>0</td>\n      <td>0</td>\n      <td>0.0</td>\n      <td>...</td>\n      <td>0</td>\n      <td>0</td>\n      <td>1</td>\n      <td>0</td>\n      <td>5</td>\n      <td>10</td>\n      <td>0</td>\n      <td>0</td>\n      <td>3.686636</td>\n      <td>39.836496</td>\n    </tr>\n    <tr>\n      <th>11</th>\n      <td>5.450000</td>\n      <td>1</td>\n      <td>1</td>\n      <td>1.000</td>\n      <td>0</td>\n      <td>0</td>\n      <td>0.0</td>\n      <td>3</td>\n      <td>3</td>\n      <td>1.0</td>\n      <td>...</td>\n      <td>0</td>\n      <td>0</td>\n      <td>0</td>\n      <td>2</td>\n      <td>5</td>\n      <td>11</td>\n      <td>0</td>\n      <td>0</td>\n      <td>5.529954</td>\n      <td>44.248073</td>\n    </tr>\n    <tr>\n      <th>13</th>\n      <td>18.700000</td>\n      <td>2</td>\n      <td>6</td>\n      <td>0.333</td>\n      <td>1</td>\n      <td>2</td>\n      <td>0.5</td>\n      <td>0</td>\n      <td>0</td>\n      <td>0.0</td>\n      <td>...</td>\n      <td>0</td>\n      <td>0</td>\n      <td>0</td>\n      <td>1</td>\n      <td>5</td>\n      <td>19</td>\n      <td>0</td>\n      <td>0</td>\n      <td>8.294931</td>\n      <td>15.164332</td>\n    </tr>\n    <tr>\n      <th>14</th>\n      <td>19.833333</td>\n      <td>1</td>\n      <td>4</td>\n      <td>0.250</td>\n      <td>0</td>\n      <td>0</td>\n      <td>0.0</td>\n      <td>0</td>\n      <td>0</td>\n      <td>0.0</td>\n      <td>...</td>\n      <td>0</td>\n      <td>1</td>\n      <td>1</td>\n      <td>0</td>\n      <td>2</td>\n      <td>2</td>\n      <td>0</td>\n      <td>0</td>\n      <td>1.382488</td>\n      <td>1.738336</td>\n    </tr>\n    <tr>\n      <th>...</th>\n      <td>...</td>\n      <td>...</td>\n      <td>...</td>\n      <td>...</td>\n      <td>...</td>\n      <td>...</td>\n      <td>...</td>\n      <td>...</td>\n      <td>...</td>\n      <td>...</td>\n      <td>...</td>\n      <td>...</td>\n      <td>...</td>\n      <td>...</td>\n      <td>...</td>\n      <td>...</td>\n      <td>...</td>\n      <td>...</td>\n      <td>...</td>\n      <td>...</td>\n      <td>...</td>\n    </tr>\n    <tr>\n      <th>31623</th>\n      <td>20.983333</td>\n      <td>4</td>\n      <td>6</td>\n      <td>0.667</td>\n      <td>3</td>\n      <td>3</td>\n      <td>1.0</td>\n      <td>1</td>\n      <td>2</td>\n      <td>0.5</td>\n      <td>...</td>\n      <td>0</td>\n      <td>0</td>\n      <td>4</td>\n      <td>1</td>\n      <td>12</td>\n      <td>-2</td>\n      <td>0</td>\n      <td>0</td>\n      <td>11.000000</td>\n      <td>25.138570</td>\n    </tr>\n    <tr>\n      <th>31642</th>\n      <td>26.450000</td>\n      <td>4</td>\n      <td>5</td>\n      <td>0.800</td>\n      <td>2</td>\n      <td>2</td>\n      <td>1.0</td>\n      <td>0</td>\n      <td>0</td>\n      <td>0.0</td>\n      <td>...</td>\n      <td>0</td>\n      <td>0</td>\n      <td>3</td>\n      <td>1</td>\n      <td>10</td>\n      <td>6</td>\n      <td>0</td>\n      <td>0</td>\n      <td>8.000000</td>\n      <td>12.379811</td>\n    </tr>\n    <tr>\n      <th>31652</th>\n      <td>22.966667</td>\n      <td>5</td>\n      <td>10</td>\n      <td>0.500</td>\n      <td>0</td>\n      <td>0</td>\n      <td>0.0</td>\n      <td>3</td>\n      <td>6</td>\n      <td>0.5</td>\n      <td>...</td>\n      <td>1</td>\n      <td>0</td>\n      <td>2</td>\n      <td>3</td>\n      <td>13</td>\n      <td>-3</td>\n      <td>0</td>\n      <td>0</td>\n      <td>9.500000</td>\n      <td>21.360914</td>\n    </tr>\n    <tr>\n      <th>31672</th>\n      <td>27.533333</td>\n      <td>4</td>\n      <td>8</td>\n      <td>0.500</td>\n      <td>2</td>\n      <td>4</td>\n      <td>0.5</td>\n      <td>0</td>\n      <td>0</td>\n      <td>0.0</td>\n      <td>...</td>\n      <td>1</td>\n      <td>1</td>\n      <td>3</td>\n      <td>2</td>\n      <td>10</td>\n      <td>8</td>\n      <td>0</td>\n      <td>0</td>\n      <td>16.000000</td>\n      <td>20.833511</td>\n    </tr>\n    <tr>\n      <th>31678</th>\n      <td>27.016667</td>\n      <td>4</td>\n      <td>12</td>\n      <td>0.333</td>\n      <td>0</td>\n      <td>4</td>\n      <td>0.0</td>\n      <td>0</td>\n      <td>0</td>\n      <td>0.0</td>\n      <td>...</td>\n      <td>0</td>\n      <td>0</td>\n      <td>2</td>\n      <td>1</td>\n      <td>8</td>\n      <td>4</td>\n      <td>0</td>\n      <td>0</td>\n      <td>10.000000</td>\n      <td>13.712128</td>\n    </tr>\n  </tbody>\n</table>\n<p>158 rows × 26 columns</p>\n</div>"
     },
     "metadata": {}
    },
    {
     "output_type": "display_data",
     "data": {
      "text/plain": "       WL\n4       1\n10      1\n11      1\n13      1\n14      1\n...    ..\n31623   1\n31642   1\n31652   1\n31672   1\n31678   1\n\n[158 rows x 1 columns]",
      "text/html": "<div>\n<style scoped>\n    .dataframe tbody tr th:only-of-type {\n        vertical-align: middle;\n    }\n\n    .dataframe tbody tr th {\n        vertical-align: top;\n    }\n\n    .dataframe thead th {\n        text-align: right;\n    }\n</style>\n<table border=\"1\" class=\"dataframe\">\n  <thead>\n    <tr style=\"text-align: right;\">\n      <th></th>\n      <th>WL</th>\n    </tr>\n  </thead>\n  <tbody>\n    <tr>\n      <th>4</th>\n      <td>1</td>\n    </tr>\n    <tr>\n      <th>10</th>\n      <td>1</td>\n    </tr>\n    <tr>\n      <th>11</th>\n      <td>1</td>\n    </tr>\n    <tr>\n      <th>13</th>\n      <td>1</td>\n    </tr>\n    <tr>\n      <th>14</th>\n      <td>1</td>\n    </tr>\n    <tr>\n      <th>...</th>\n      <td>...</td>\n    </tr>\n    <tr>\n      <th>31623</th>\n      <td>1</td>\n    </tr>\n    <tr>\n      <th>31642</th>\n      <td>1</td>\n    </tr>\n    <tr>\n      <th>31652</th>\n      <td>1</td>\n    </tr>\n    <tr>\n      <th>31672</th>\n      <td>1</td>\n    </tr>\n    <tr>\n      <th>31678</th>\n      <td>1</td>\n    </tr>\n  </tbody>\n</table>\n<p>158 rows × 1 columns</p>\n</div>"
     },
     "metadata": {}
    },
    {
     "output_type": "stream",
     "name": "stdout",
     "text": [
      "\nRegular Season\n"
     ]
    },
    {
     "output_type": "display_data",
     "data": {
      "text/plain": "             MIN  FGM  FGA  FG_PCT  FG3M  FG3A  FG3_PCT  FTM  FTA  FT_PCT  \\\n2613   18.316667    7    9   0.778     1     1     1.00    3    3     1.0   \n2668   15.233333    3    8   0.375     0     1     0.00    2    2     1.0   \n2688   20.683333    5   11   0.455     1     4     0.25    2    2     1.0   \n2747   15.133333    1    2   0.500     0     0     0.00    0    0     0.0   \n2765   13.603333    3    6   0.500     0     0     0.00    0    0     0.0   \n...          ...  ...  ...     ...   ...   ...      ...  ...  ...     ...   \n56376  34.116667    7   15   0.467     0     1     0.00    3    3     1.0   \n56380  32.695000    5    9   0.556     3     5     0.60    0    0     0.0   \n56423   8.750000    2    7   0.286     0     0     0.00    0    0     0.0   \n56433  37.683333    3   11   0.273     3     5     0.60    0    0     0.0   \n56462  25.566667    6    8   0.750     3     4     0.75    0    0     0.0   \n\n       ...  BLK  BLKA  PF  PFD  PTS  PLUS_MINUS  DD2  TD3        PIE  \\\n2613   ...    0     0   0    3   18           3    0    0  30.656934   \n2668   ...    1     0   2    2    8           6    0    0   9.489051   \n2688   ...    1     1   4    1   13         -10    0    0   6.569343   \n2747   ...    0     0   3    1    2           5    0    0   1.459854   \n2765   ...    0     0   0    0    6          -4    0    0   5.839416   \n...    ...  ...   ...  ..  ...  ...         ...  ...  ...        ...   \n56376  ...    1     0   5    4   17           0    0    0  17.647059   \n56380  ...    0     2   5    1   13           4    0    0  16.993464   \n56423  ...    0     2   2    0    4           2    0    0  -2.614379   \n56433  ...    0     1   2    0    9          11    0    0   6.535948   \n56462  ...    0     0   1    1   15           9    0    0  15.686275   \n\n             PER  \n2613   50.615487  \n2668   17.007440  \n2688   15.715939  \n2747    5.237379  \n2765   11.384489  \n...          ...  \n56376  16.978241  \n56380  18.790151  \n56423   2.274514  \n56433   7.739894  \n56462  19.431434  \n\n[1694 rows x 26 columns]",
      "text/html": "<div>\n<style scoped>\n    .dataframe tbody tr th:only-of-type {\n        vertical-align: middle;\n    }\n\n    .dataframe tbody tr th {\n        vertical-align: top;\n    }\n\n    .dataframe thead th {\n        text-align: right;\n    }\n</style>\n<table border=\"1\" class=\"dataframe\">\n  <thead>\n    <tr style=\"text-align: right;\">\n      <th></th>\n      <th>MIN</th>\n      <th>FGM</th>\n      <th>FGA</th>\n      <th>FG_PCT</th>\n      <th>FG3M</th>\n      <th>FG3A</th>\n      <th>FG3_PCT</th>\n      <th>FTM</th>\n      <th>FTA</th>\n      <th>FT_PCT</th>\n      <th>...</th>\n      <th>BLK</th>\n      <th>BLKA</th>\n      <th>PF</th>\n      <th>PFD</th>\n      <th>PTS</th>\n      <th>PLUS_MINUS</th>\n      <th>DD2</th>\n      <th>TD3</th>\n      <th>PIE</th>\n      <th>PER</th>\n    </tr>\n  </thead>\n  <tbody>\n    <tr>\n      <th>2613</th>\n      <td>18.316667</td>\n      <td>7</td>\n      <td>9</td>\n      <td>0.778</td>\n      <td>1</td>\n      <td>1</td>\n      <td>1.00</td>\n      <td>3</td>\n      <td>3</td>\n      <td>1.0</td>\n      <td>...</td>\n      <td>0</td>\n      <td>0</td>\n      <td>0</td>\n      <td>3</td>\n      <td>18</td>\n      <td>3</td>\n      <td>0</td>\n      <td>0</td>\n      <td>30.656934</td>\n      <td>50.615487</td>\n    </tr>\n    <tr>\n      <th>2668</th>\n      <td>15.233333</td>\n      <td>3</td>\n      <td>8</td>\n      <td>0.375</td>\n      <td>0</td>\n      <td>1</td>\n      <td>0.00</td>\n      <td>2</td>\n      <td>2</td>\n      <td>1.0</td>\n      <td>...</td>\n      <td>1</td>\n      <td>0</td>\n      <td>2</td>\n      <td>2</td>\n      <td>8</td>\n      <td>6</td>\n      <td>0</td>\n      <td>0</td>\n      <td>9.489051</td>\n      <td>17.007440</td>\n    </tr>\n    <tr>\n      <th>2688</th>\n      <td>20.683333</td>\n      <td>5</td>\n      <td>11</td>\n      <td>0.455</td>\n      <td>1</td>\n      <td>4</td>\n      <td>0.25</td>\n      <td>2</td>\n      <td>2</td>\n      <td>1.0</td>\n      <td>...</td>\n      <td>1</td>\n      <td>1</td>\n      <td>4</td>\n      <td>1</td>\n      <td>13</td>\n      <td>-10</td>\n      <td>0</td>\n      <td>0</td>\n      <td>6.569343</td>\n      <td>15.715939</td>\n    </tr>\n    <tr>\n      <th>2747</th>\n      <td>15.133333</td>\n      <td>1</td>\n      <td>2</td>\n      <td>0.500</td>\n      <td>0</td>\n      <td>0</td>\n      <td>0.00</td>\n      <td>0</td>\n      <td>0</td>\n      <td>0.0</td>\n      <td>...</td>\n      <td>0</td>\n      <td>0</td>\n      <td>3</td>\n      <td>1</td>\n      <td>2</td>\n      <td>5</td>\n      <td>0</td>\n      <td>0</td>\n      <td>1.459854</td>\n      <td>5.237379</td>\n    </tr>\n    <tr>\n      <th>2765</th>\n      <td>13.603333</td>\n      <td>3</td>\n      <td>6</td>\n      <td>0.500</td>\n      <td>0</td>\n      <td>0</td>\n      <td>0.00</td>\n      <td>0</td>\n      <td>0</td>\n      <td>0.0</td>\n      <td>...</td>\n      <td>0</td>\n      <td>0</td>\n      <td>0</td>\n      <td>0</td>\n      <td>6</td>\n      <td>-4</td>\n      <td>0</td>\n      <td>0</td>\n      <td>5.839416</td>\n      <td>11.384489</td>\n    </tr>\n    <tr>\n      <th>...</th>\n      <td>...</td>\n      <td>...</td>\n      <td>...</td>\n      <td>...</td>\n      <td>...</td>\n      <td>...</td>\n      <td>...</td>\n      <td>...</td>\n      <td>...</td>\n      <td>...</td>\n      <td>...</td>\n      <td>...</td>\n      <td>...</td>\n      <td>...</td>\n      <td>...</td>\n      <td>...</td>\n      <td>...</td>\n      <td>...</td>\n      <td>...</td>\n      <td>...</td>\n      <td>...</td>\n    </tr>\n    <tr>\n      <th>56376</th>\n      <td>34.116667</td>\n      <td>7</td>\n      <td>15</td>\n      <td>0.467</td>\n      <td>0</td>\n      <td>1</td>\n      <td>0.00</td>\n      <td>3</td>\n      <td>3</td>\n      <td>1.0</td>\n      <td>...</td>\n      <td>1</td>\n      <td>0</td>\n      <td>5</td>\n      <td>4</td>\n      <td>17</td>\n      <td>0</td>\n      <td>0</td>\n      <td>0</td>\n      <td>17.647059</td>\n      <td>16.978241</td>\n    </tr>\n    <tr>\n      <th>56380</th>\n      <td>32.695000</td>\n      <td>5</td>\n      <td>9</td>\n      <td>0.556</td>\n      <td>3</td>\n      <td>5</td>\n      <td>0.60</td>\n      <td>0</td>\n      <td>0</td>\n      <td>0.0</td>\n      <td>...</td>\n      <td>0</td>\n      <td>2</td>\n      <td>5</td>\n      <td>1</td>\n      <td>13</td>\n      <td>4</td>\n      <td>0</td>\n      <td>0</td>\n      <td>16.993464</td>\n      <td>18.790151</td>\n    </tr>\n    <tr>\n      <th>56423</th>\n      <td>8.750000</td>\n      <td>2</td>\n      <td>7</td>\n      <td>0.286</td>\n      <td>0</td>\n      <td>0</td>\n      <td>0.00</td>\n      <td>0</td>\n      <td>0</td>\n      <td>0.0</td>\n      <td>...</td>\n      <td>0</td>\n      <td>2</td>\n      <td>2</td>\n      <td>0</td>\n      <td>4</td>\n      <td>2</td>\n      <td>0</td>\n      <td>0</td>\n      <td>-2.614379</td>\n      <td>2.274514</td>\n    </tr>\n    <tr>\n      <th>56433</th>\n      <td>37.683333</td>\n      <td>3</td>\n      <td>11</td>\n      <td>0.273</td>\n      <td>3</td>\n      <td>5</td>\n      <td>0.60</td>\n      <td>0</td>\n      <td>0</td>\n      <td>0.0</td>\n      <td>...</td>\n      <td>0</td>\n      <td>1</td>\n      <td>2</td>\n      <td>0</td>\n      <td>9</td>\n      <td>11</td>\n      <td>0</td>\n      <td>0</td>\n      <td>6.535948</td>\n      <td>7.739894</td>\n    </tr>\n    <tr>\n      <th>56462</th>\n      <td>25.566667</td>\n      <td>6</td>\n      <td>8</td>\n      <td>0.750</td>\n      <td>3</td>\n      <td>4</td>\n      <td>0.75</td>\n      <td>0</td>\n      <td>0</td>\n      <td>0.0</td>\n      <td>...</td>\n      <td>0</td>\n      <td>0</td>\n      <td>1</td>\n      <td>1</td>\n      <td>15</td>\n      <td>9</td>\n      <td>0</td>\n      <td>0</td>\n      <td>15.686275</td>\n      <td>19.431434</td>\n    </tr>\n  </tbody>\n</table>\n<p>1694 rows × 26 columns</p>\n</div>"
     },
     "metadata": {}
    },
    {
     "output_type": "display_data",
     "data": {
      "text/plain": "       WL\n2613    0\n2668    0\n2688    0\n2747    0\n2765    0\n...    ..\n56376   1\n56380   1\n56423   1\n56433   1\n56462   1\n\n[1694 rows x 1 columns]",
      "text/html": "<div>\n<style scoped>\n    .dataframe tbody tr th:only-of-type {\n        vertical-align: middle;\n    }\n\n    .dataframe tbody tr th {\n        vertical-align: top;\n    }\n\n    .dataframe thead th {\n        text-align: right;\n    }\n</style>\n<table border=\"1\" class=\"dataframe\">\n  <thead>\n    <tr style=\"text-align: right;\">\n      <th></th>\n      <th>WL</th>\n    </tr>\n  </thead>\n  <tbody>\n    <tr>\n      <th>2613</th>\n      <td>0</td>\n    </tr>\n    <tr>\n      <th>2668</th>\n      <td>0</td>\n    </tr>\n    <tr>\n      <th>2688</th>\n      <td>0</td>\n    </tr>\n    <tr>\n      <th>2747</th>\n      <td>0</td>\n    </tr>\n    <tr>\n      <th>2765</th>\n      <td>0</td>\n    </tr>\n    <tr>\n      <th>...</th>\n      <td>...</td>\n    </tr>\n    <tr>\n      <th>56376</th>\n      <td>1</td>\n    </tr>\n    <tr>\n      <th>56380</th>\n      <td>1</td>\n    </tr>\n    <tr>\n      <th>56423</th>\n      <td>1</td>\n    </tr>\n    <tr>\n      <th>56433</th>\n      <td>1</td>\n    </tr>\n    <tr>\n      <th>56462</th>\n      <td>1</td>\n    </tr>\n  </tbody>\n</table>\n<p>1694 rows × 1 columns</p>\n</div>"
     },
     "metadata": {}
    },
    {
     "output_type": "stream",
     "name": "stdout",
     "text": [
      "\nPlayoffs\n"
     ]
    },
    {
     "output_type": "display_data",
     "data": {
      "text/plain": "             MIN  FGM  FGA  FG_PCT  FG3M  FG3A  FG3_PCT  FTM  FTA  FT_PCT  \\\n28590  39.111667    7   19   0.368     0     0    0.000    2    4   0.500   \n28595  15.916667    2    4   0.500     0     2    0.000    0    0   0.000   \n28602  24.283333    6   14   0.429     0     2    0.000    2    2   1.000   \n28603   8.888333    0    0   0.000     0     0    0.000    0    0   0.000   \n28622  43.983333    3    8   0.375     1     3    0.333    4    4   1.000   \n28623  24.433333    3    6   0.500     2     2    1.000    0    0   0.000   \n28625  29.216667    3   11   0.273     2     5    0.400    6    6   1.000   \n28629  30.450000    6   13   0.462     1     4    0.250    0    1   0.000   \n28639  23.716667    5   10   0.500     2     4    0.500    0    0   0.000   \n28739   0.550000    0    0   0.000     0     0    0.000    0    0   0.000   \n28742   0.590000    0    0   0.000     0     0    0.000    0    0   0.000   \n28753  39.843333   16   26   0.615     0     1    0.000    7   10   0.700   \n28763  30.358333    6   16   0.375     0     3    0.000    0    1   0.000   \n28775  17.456667    1    3   0.333     0     0    0.000    1    2   0.500   \n28779  37.093333    6   13   0.462     0     2    0.000    0    0   0.000   \n28788  20.033333    2    5   0.400     0     1    0.000    0    0   0.000   \n28791   0.590000    0    0   0.000     0     0    0.000    0    0   0.000   \n28796  18.583333    1    7   0.143     1     3    0.333    2    2   1.000   \n28802  21.251667    1    7   0.143     0     1    0.000    0    0   0.000   \n28803  34.450000    5    9   0.556     1     2    0.500    1    1   1.000   \n28804  19.200000    2    6   0.333     0     2    0.000    1    1   1.000   \n28883  23.133333    7   11   0.636     1     1    1.000    6    6   1.000   \n28884  10.066667    1    3   0.333     0     0    0.000    0    0   0.000   \n28897  24.250000    6   10   0.600     3     6    0.500    0    0   0.000   \n28899  37.055000    4   10   0.400     1     4    0.250    1    2   0.500   \n28906  23.021667    4   11   0.364     1     5    0.200    0    0   0.000   \n28907  24.866667    6   11   0.545     4     8    0.500    2    2   1.000   \n28914  37.198333    6   14   0.429     0     3    0.000    3    4   0.750   \n28927  27.073333    3    6   0.500     1     4    0.250    0    0   0.000   \n28928  33.335000    5    9   0.556     1     3    0.333    0    0   0.000   \n28999   5.100000    1    1   1.000     0     0    0.000    0    0   0.000   \n29000  24.050000    7   11   0.636     3     5    0.600    1    1   1.000   \n29002  29.850000    6   10   0.600     1     4    0.250    3    4   0.750   \n29007  18.116667    4    9   0.444     1     5    0.200    0    0   0.000   \n29014  32.516667    8   12   0.667     4     6    0.667    0    0   0.000   \n29015  23.950000    1    8   0.125     0     1    0.000    4    4   1.000   \n29018  38.423333    0    4   0.000     0     2    0.000    0    0   0.000   \n29023  22.243333    1    7   0.143     1     4    0.250    0    0   0.000   \n29034   0.826667    0    0   0.000     0     0    0.000    0    0   0.000   \n29042  44.923333    9   19   0.474     1     2    0.500   10   11   0.909   \n29101  22.333333    1    9   0.111     0     1    0.000    3    3   1.000   \n29110  35.533333    8   15   0.533     0     0    0.000    0    0   0.000   \n29121  25.666667    3   11   0.273     1     3    0.333    2    2   1.000   \n29124  39.233333    7   14   0.500     3     6    0.500    7    8   0.875   \n29136   4.800000    0    1   0.000     0     0    0.000    0    0   0.000   \n29145   1.200000    0    2   0.000     0     1    0.000    0    0   0.000   \n29156   0.231667    0    0   0.000     0     0    0.000    0    0   0.000   \n29157  28.250000    2    8   0.250     1     1    1.000    0    0   0.000   \n29158  37.701667    4   11   0.364     0     1    0.000   13   13   1.000   \n29160  30.550000    6    9   0.667     4     6    0.667    2    2   1.000   \n29167  14.500000    1    5   0.200     0     1    0.000    0    0   0.000   \n\n       ...  BLK  BLKA  PF  PFD  PTS  PLUS_MINUS  DD2  TD3        PIE  \\\n28590  ...    0     1   3    3   16         -14    0    0  14.084507   \n28595  ...    0     0   3    0    4          -5    0    0   4.225352   \n28602  ...    0     0   2    2   14          -7    0    0  16.197183   \n28603  ...    0     0   3    0    0           4    0    0  -2.816901   \n28622  ...    0     0   2    3   11         -15    0    0  15.492958   \n28623  ...    1     0   1    0    8           0    0    0  13.380282   \n28625  ...    0     2   3    3   14          -4    0    0  18.309859   \n28629  ...    0     0   2    1   13          -6    0    0   9.859155   \n28639  ...    0     0   5    2   12          -3    0    0  11.267606   \n28739  ...    0     0   0    0    0           0    0    0   1.351351   \n28742  ...    0     0   0    0    0          -1    0    0   0.000000   \n28753  ...    0     2   5    7   39         -13    1    0  43.918919   \n28763  ...    0     1   3    3   12         -15    1    0  21.621622   \n28775  ...    1     2   3    1    3           5    0    0   1.351351   \n28779  ...    0     2   3    2   12         -16    0    0  11.486486   \n28788  ...    0     1   6    0    4           1    0    0  -2.702703   \n28791  ...    0     0   0    0    0          -1    0    0   0.000000   \n28796  ...    2     0   1    1    5          -8    0    0   0.675676   \n28802  ...    0     0   0    0    2          -4    0    0   4.054054   \n28803  ...    0     1   2    1   12          -7    0    0  13.513514   \n28804  ...    1     1   2    1    5          -1    0    0   4.729730   \n28883  ...    0     0   1    4   21           8    0    0  24.271845   \n28884  ...    0     0   4    1    2           7    0    0  -4.854369   \n28897  ...    0     0   0    2   15           7    0    0  12.621359   \n28899  ...    2     0   2    5   10          12    0    0  11.165049   \n28906  ...    1     1   4    0    9           8    0    0  -1.456311   \n28907  ...    0     0   4    1   18           6    1    0  23.786408   \n28914  ...    1     0   4    4   15           9    0    0   7.766990   \n28927  ...    0     0   3    3    7          15    0    0   9.708738   \n28928  ...    1     0   2    1   11          -2    1    0  16.990291   \n28999  ...    0     0   1    0    2          -8    0    0   1.204819   \n29000  ...    0     1   3    2   18           8    0    0  20.481928   \n29002  ...    0     2   2    2   16          23    0    0  19.277108   \n29007  ...    0     0   4    2    9         -19    0    0   1.204819   \n29014  ...    0     0   3    1   20          15    0    0  21.686747   \n29015  ...    0     1   3    3    6          -9    0    0   3.012048   \n29018  ...    0     0   3    0    0          -3    0    0  -3.614458   \n29023  ...    0     0   1    0    3          -6    0    0   3.012048   \n29034  ...    0     0   0    0    0           0    0    0   0.000000   \n29042  ...    1     1   3   10   29          -6    1    0  33.734940   \n29101  ...    0     1   1    2    5          -5    0    0   4.191617   \n29110  ...    1     2   3    0   16          -6    0    0  16.167665   \n29121  ...    0     1   3    3    9          -9    0    0  11.377246   \n29124  ...    0     0   2    3   24         -13    0    0  29.940120   \n29136  ...    0     0   0    0    0          -9    0    0   0.000000   \n29145  ...    0     0   0    0    0          -2    0    0  -2.395210   \n29156  ...    0     0   0    0    0           0    0    0   0.000000   \n29157  ...    0     1   3    0    5         -15    0    0   0.000000   \n29158  ...    0     2   4    9   21         -15    0    0  20.958084   \n29160  ...    0     0   2    1   18           3    0    0  16.766467   \n29167  ...    0     0   0    1    2           1    0    0   2.994012   \n\n             PER  \n28590  13.328478  \n28595  11.301110  \n28602  17.497227  \n28603  -8.551097  \n28622  10.200409  \n28623  19.697599  \n28625  20.753052  \n28629  11.074417  \n28639  16.029909  \n28739  97.994545  \n28742   0.000000  \n28753  40.680356  \n28763  18.982696  \n28775   7.173935  \n28779   8.028936  \n28788   0.763577  \n28791   0.000000  \n28796   5.990314  \n28802   2.520696  \n28803  13.208476  \n28804   6.540365  \n28883  42.870000  \n28884 -11.430099  \n28897  25.033320  \n28899  13.539225  \n28906   3.977166  \n28907  40.899732  \n28914  12.139146  \n28927  12.287663  \n28928  21.391900  \n28999  13.477647  \n29000  30.939958  \n29002  22.911055  \n29007   8.028960  \n29014  22.768047  \n29015   1.583716  \n29018  -5.929574  \n29023   4.098531  \n29034   0.000000  \n29042  26.486481  \n29101   7.061642  \n29110  14.881801  \n29121  15.540078  \n29124  28.045208  \n29136  -5.100625  \n29145 -65.316667  \n29156   0.000000  \n29157   1.236566  \n29158  20.998488  \n29160  22.224779  \n29167   4.628138  \n\n[51 rows x 26 columns]",
      "text/html": "<div>\n<style scoped>\n    .dataframe tbody tr th:only-of-type {\n        vertical-align: middle;\n    }\n\n    .dataframe tbody tr th {\n        vertical-align: top;\n    }\n\n    .dataframe thead th {\n        text-align: right;\n    }\n</style>\n<table border=\"1\" class=\"dataframe\">\n  <thead>\n    <tr style=\"text-align: right;\">\n      <th></th>\n      <th>MIN</th>\n      <th>FGM</th>\n      <th>FGA</th>\n      <th>FG_PCT</th>\n      <th>FG3M</th>\n      <th>FG3A</th>\n      <th>FG3_PCT</th>\n      <th>FTM</th>\n      <th>FTA</th>\n      <th>FT_PCT</th>\n      <th>...</th>\n      <th>BLK</th>\n      <th>BLKA</th>\n      <th>PF</th>\n      <th>PFD</th>\n      <th>PTS</th>\n      <th>PLUS_MINUS</th>\n      <th>DD2</th>\n      <th>TD3</th>\n      <th>PIE</th>\n      <th>PER</th>\n    </tr>\n  </thead>\n  <tbody>\n    <tr>\n      <th>28590</th>\n      <td>39.111667</td>\n      <td>7</td>\n      <td>19</td>\n      <td>0.368</td>\n      <td>0</td>\n      <td>0</td>\n      <td>0.000</td>\n      <td>2</td>\n      <td>4</td>\n      <td>0.500</td>\n      <td>...</td>\n      <td>0</td>\n      <td>1</td>\n      <td>3</td>\n      <td>3</td>\n      <td>16</td>\n      <td>-14</td>\n      <td>0</td>\n      <td>0</td>\n      <td>14.084507</td>\n      <td>13.328478</td>\n    </tr>\n    <tr>\n      <th>28595</th>\n      <td>15.916667</td>\n      <td>2</td>\n      <td>4</td>\n      <td>0.500</td>\n      <td>0</td>\n      <td>2</td>\n      <td>0.000</td>\n      <td>0</td>\n      <td>0</td>\n      <td>0.000</td>\n      <td>...</td>\n      <td>0</td>\n      <td>0</td>\n      <td>3</td>\n      <td>0</td>\n      <td>4</td>\n      <td>-5</td>\n      <td>0</td>\n      <td>0</td>\n      <td>4.225352</td>\n      <td>11.301110</td>\n    </tr>\n    <tr>\n      <th>28602</th>\n      <td>24.283333</td>\n      <td>6</td>\n      <td>14</td>\n      <td>0.429</td>\n      <td>0</td>\n      <td>2</td>\n      <td>0.000</td>\n      <td>2</td>\n      <td>2</td>\n      <td>1.000</td>\n      <td>...</td>\n      <td>0</td>\n      <td>0</td>\n      <td>2</td>\n      <td>2</td>\n      <td>14</td>\n      <td>-7</td>\n      <td>0</td>\n      <td>0</td>\n      <td>16.197183</td>\n      <td>17.497227</td>\n    </tr>\n    <tr>\n      <th>28603</th>\n      <td>8.888333</td>\n      <td>0</td>\n      <td>0</td>\n      <td>0.000</td>\n      <td>0</td>\n      <td>0</td>\n      <td>0.000</td>\n      <td>0</td>\n      <td>0</td>\n      <td>0.000</td>\n      <td>...</td>\n      <td>0</td>\n      <td>0</td>\n      <td>3</td>\n      <td>0</td>\n      <td>0</td>\n      <td>4</td>\n      <td>0</td>\n      <td>0</td>\n      <td>-2.816901</td>\n      <td>-8.551097</td>\n    </tr>\n    <tr>\n      <th>28622</th>\n      <td>43.983333</td>\n      <td>3</td>\n      <td>8</td>\n      <td>0.375</td>\n      <td>1</td>\n      <td>3</td>\n      <td>0.333</td>\n      <td>4</td>\n      <td>4</td>\n      <td>1.000</td>\n      <td>...</td>\n      <td>0</td>\n      <td>0</td>\n      <td>2</td>\n      <td>3</td>\n      <td>11</td>\n      <td>-15</td>\n      <td>0</td>\n      <td>0</td>\n      <td>15.492958</td>\n      <td>10.200409</td>\n    </tr>\n    <tr>\n      <th>28623</th>\n      <td>24.433333</td>\n      <td>3</td>\n      <td>6</td>\n      <td>0.500</td>\n      <td>2</td>\n      <td>2</td>\n      <td>1.000</td>\n      <td>0</td>\n      <td>0</td>\n      <td>0.000</td>\n      <td>...</td>\n      <td>1</td>\n      <td>0</td>\n      <td>1</td>\n      <td>0</td>\n      <td>8</td>\n      <td>0</td>\n      <td>0</td>\n      <td>0</td>\n      <td>13.380282</td>\n      <td>19.697599</td>\n    </tr>\n    <tr>\n      <th>28625</th>\n      <td>29.216667</td>\n      <td>3</td>\n      <td>11</td>\n      <td>0.273</td>\n      <td>2</td>\n      <td>5</td>\n      <td>0.400</td>\n      <td>6</td>\n      <td>6</td>\n      <td>1.000</td>\n      <td>...</td>\n      <td>0</td>\n      <td>2</td>\n      <td>3</td>\n      <td>3</td>\n      <td>14</td>\n      <td>-4</td>\n      <td>0</td>\n      <td>0</td>\n      <td>18.309859</td>\n      <td>20.753052</td>\n    </tr>\n    <tr>\n      <th>28629</th>\n      <td>30.450000</td>\n      <td>6</td>\n      <td>13</td>\n      <td>0.462</td>\n      <td>1</td>\n      <td>4</td>\n      <td>0.250</td>\n      <td>0</td>\n      <td>1</td>\n      <td>0.000</td>\n      <td>...</td>\n      <td>0</td>\n      <td>0</td>\n      <td>2</td>\n      <td>1</td>\n      <td>13</td>\n      <td>-6</td>\n      <td>0</td>\n      <td>0</td>\n      <td>9.859155</td>\n      <td>11.074417</td>\n    </tr>\n    <tr>\n      <th>28639</th>\n      <td>23.716667</td>\n      <td>5</td>\n      <td>10</td>\n      <td>0.500</td>\n      <td>2</td>\n      <td>4</td>\n      <td>0.500</td>\n      <td>0</td>\n      <td>0</td>\n      <td>0.000</td>\n      <td>...</td>\n      <td>0</td>\n      <td>0</td>\n      <td>5</td>\n      <td>2</td>\n      <td>12</td>\n      <td>-3</td>\n      <td>0</td>\n      <td>0</td>\n      <td>11.267606</td>\n      <td>16.029909</td>\n    </tr>\n    <tr>\n      <th>28739</th>\n      <td>0.550000</td>\n      <td>0</td>\n      <td>0</td>\n      <td>0.000</td>\n      <td>0</td>\n      <td>0</td>\n      <td>0.000</td>\n      <td>0</td>\n      <td>0</td>\n      <td>0.000</td>\n      <td>...</td>\n      <td>0</td>\n      <td>0</td>\n      <td>0</td>\n      <td>0</td>\n      <td>0</td>\n      <td>0</td>\n      <td>0</td>\n      <td>0</td>\n      <td>1.351351</td>\n      <td>97.994545</td>\n    </tr>\n    <tr>\n      <th>28742</th>\n      <td>0.590000</td>\n      <td>0</td>\n      <td>0</td>\n      <td>0.000</td>\n      <td>0</td>\n      <td>0</td>\n      <td>0.000</td>\n      <td>0</td>\n      <td>0</td>\n      <td>0.000</td>\n      <td>...</td>\n      <td>0</td>\n      <td>0</td>\n      <td>0</td>\n      <td>0</td>\n      <td>0</td>\n      <td>-1</td>\n      <td>0</td>\n      <td>0</td>\n      <td>0.000000</td>\n      <td>0.000000</td>\n    </tr>\n    <tr>\n      <th>28753</th>\n      <td>39.843333</td>\n      <td>16</td>\n      <td>26</td>\n      <td>0.615</td>\n      <td>0</td>\n      <td>1</td>\n      <td>0.000</td>\n      <td>7</td>\n      <td>10</td>\n      <td>0.700</td>\n      <td>...</td>\n      <td>0</td>\n      <td>2</td>\n      <td>5</td>\n      <td>7</td>\n      <td>39</td>\n      <td>-13</td>\n      <td>1</td>\n      <td>0</td>\n      <td>43.918919</td>\n      <td>40.680356</td>\n    </tr>\n    <tr>\n      <th>28763</th>\n      <td>30.358333</td>\n      <td>6</td>\n      <td>16</td>\n      <td>0.375</td>\n      <td>0</td>\n      <td>3</td>\n      <td>0.000</td>\n      <td>0</td>\n      <td>1</td>\n      <td>0.000</td>\n      <td>...</td>\n      <td>0</td>\n      <td>1</td>\n      <td>3</td>\n      <td>3</td>\n      <td>12</td>\n      <td>-15</td>\n      <td>1</td>\n      <td>0</td>\n      <td>21.621622</td>\n      <td>18.982696</td>\n    </tr>\n    <tr>\n      <th>28775</th>\n      <td>17.456667</td>\n      <td>1</td>\n      <td>3</td>\n      <td>0.333</td>\n      <td>0</td>\n      <td>0</td>\n      <td>0.000</td>\n      <td>1</td>\n      <td>2</td>\n      <td>0.500</td>\n      <td>...</td>\n      <td>1</td>\n      <td>2</td>\n      <td>3</td>\n      <td>1</td>\n      <td>3</td>\n      <td>5</td>\n      <td>0</td>\n      <td>0</td>\n      <td>1.351351</td>\n      <td>7.173935</td>\n    </tr>\n    <tr>\n      <th>28779</th>\n      <td>37.093333</td>\n      <td>6</td>\n      <td>13</td>\n      <td>0.462</td>\n      <td>0</td>\n      <td>2</td>\n      <td>0.000</td>\n      <td>0</td>\n      <td>0</td>\n      <td>0.000</td>\n      <td>...</td>\n      <td>0</td>\n      <td>2</td>\n      <td>3</td>\n      <td>2</td>\n      <td>12</td>\n      <td>-16</td>\n      <td>0</td>\n      <td>0</td>\n      <td>11.486486</td>\n      <td>8.028936</td>\n    </tr>\n    <tr>\n      <th>28788</th>\n      <td>20.033333</td>\n      <td>2</td>\n      <td>5</td>\n      <td>0.400</td>\n      <td>0</td>\n      <td>1</td>\n      <td>0.000</td>\n      <td>0</td>\n      <td>0</td>\n      <td>0.000</td>\n      <td>...</td>\n      <td>0</td>\n      <td>1</td>\n      <td>6</td>\n      <td>0</td>\n      <td>4</td>\n      <td>1</td>\n      <td>0</td>\n      <td>0</td>\n      <td>-2.702703</td>\n      <td>0.763577</td>\n    </tr>\n    <tr>\n      <th>28791</th>\n      <td>0.590000</td>\n      <td>0</td>\n      <td>0</td>\n      <td>0.000</td>\n      <td>0</td>\n      <td>0</td>\n      <td>0.000</td>\n      <td>0</td>\n      <td>0</td>\n      <td>0.000</td>\n      <td>...</td>\n      <td>0</td>\n      <td>0</td>\n      <td>0</td>\n      <td>0</td>\n      <td>0</td>\n      <td>-1</td>\n      <td>0</td>\n      <td>0</td>\n      <td>0.000000</td>\n      <td>0.000000</td>\n    </tr>\n    <tr>\n      <th>28796</th>\n      <td>18.583333</td>\n      <td>1</td>\n      <td>7</td>\n      <td>0.143</td>\n      <td>1</td>\n      <td>3</td>\n      <td>0.333</td>\n      <td>2</td>\n      <td>2</td>\n      <td>1.000</td>\n      <td>...</td>\n      <td>2</td>\n      <td>0</td>\n      <td>1</td>\n      <td>1</td>\n      <td>5</td>\n      <td>-8</td>\n      <td>0</td>\n      <td>0</td>\n      <td>0.675676</td>\n      <td>5.990314</td>\n    </tr>\n    <tr>\n      <th>28802</th>\n      <td>21.251667</td>\n      <td>1</td>\n      <td>7</td>\n      <td>0.143</td>\n      <td>0</td>\n      <td>1</td>\n      <td>0.000</td>\n      <td>0</td>\n      <td>0</td>\n      <td>0.000</td>\n      <td>...</td>\n      <td>0</td>\n      <td>0</td>\n      <td>0</td>\n      <td>0</td>\n      <td>2</td>\n      <td>-4</td>\n      <td>0</td>\n      <td>0</td>\n      <td>4.054054</td>\n      <td>2.520696</td>\n    </tr>\n    <tr>\n      <th>28803</th>\n      <td>34.450000</td>\n      <td>5</td>\n      <td>9</td>\n      <td>0.556</td>\n      <td>1</td>\n      <td>2</td>\n      <td>0.500</td>\n      <td>1</td>\n      <td>1</td>\n      <td>1.000</td>\n      <td>...</td>\n      <td>0</td>\n      <td>1</td>\n      <td>2</td>\n      <td>1</td>\n      <td>12</td>\n      <td>-7</td>\n      <td>0</td>\n      <td>0</td>\n      <td>13.513514</td>\n      <td>13.208476</td>\n    </tr>\n    <tr>\n      <th>28804</th>\n      <td>19.200000</td>\n      <td>2</td>\n      <td>6</td>\n      <td>0.333</td>\n      <td>0</td>\n      <td>2</td>\n      <td>0.000</td>\n      <td>1</td>\n      <td>1</td>\n      <td>1.000</td>\n      <td>...</td>\n      <td>1</td>\n      <td>1</td>\n      <td>2</td>\n      <td>1</td>\n      <td>5</td>\n      <td>-1</td>\n      <td>0</td>\n      <td>0</td>\n      <td>4.729730</td>\n      <td>6.540365</td>\n    </tr>\n    <tr>\n      <th>28883</th>\n      <td>23.133333</td>\n      <td>7</td>\n      <td>11</td>\n      <td>0.636</td>\n      <td>1</td>\n      <td>1</td>\n      <td>1.000</td>\n      <td>6</td>\n      <td>6</td>\n      <td>1.000</td>\n      <td>...</td>\n      <td>0</td>\n      <td>0</td>\n      <td>1</td>\n      <td>4</td>\n      <td>21</td>\n      <td>8</td>\n      <td>0</td>\n      <td>0</td>\n      <td>24.271845</td>\n      <td>42.870000</td>\n    </tr>\n    <tr>\n      <th>28884</th>\n      <td>10.066667</td>\n      <td>1</td>\n      <td>3</td>\n      <td>0.333</td>\n      <td>0</td>\n      <td>0</td>\n      <td>0.000</td>\n      <td>0</td>\n      <td>0</td>\n      <td>0.000</td>\n      <td>...</td>\n      <td>0</td>\n      <td>0</td>\n      <td>4</td>\n      <td>1</td>\n      <td>2</td>\n      <td>7</td>\n      <td>0</td>\n      <td>0</td>\n      <td>-4.854369</td>\n      <td>-11.430099</td>\n    </tr>\n    <tr>\n      <th>28897</th>\n      <td>24.250000</td>\n      <td>6</td>\n      <td>10</td>\n      <td>0.600</td>\n      <td>3</td>\n      <td>6</td>\n      <td>0.500</td>\n      <td>0</td>\n      <td>0</td>\n      <td>0.000</td>\n      <td>...</td>\n      <td>0</td>\n      <td>0</td>\n      <td>0</td>\n      <td>2</td>\n      <td>15</td>\n      <td>7</td>\n      <td>0</td>\n      <td>0</td>\n      <td>12.621359</td>\n      <td>25.033320</td>\n    </tr>\n    <tr>\n      <th>28899</th>\n      <td>37.055000</td>\n      <td>4</td>\n      <td>10</td>\n      <td>0.400</td>\n      <td>1</td>\n      <td>4</td>\n      <td>0.250</td>\n      <td>1</td>\n      <td>2</td>\n      <td>0.500</td>\n      <td>...</td>\n      <td>2</td>\n      <td>0</td>\n      <td>2</td>\n      <td>5</td>\n      <td>10</td>\n      <td>12</td>\n      <td>0</td>\n      <td>0</td>\n      <td>11.165049</td>\n      <td>13.539225</td>\n    </tr>\n    <tr>\n      <th>28906</th>\n      <td>23.021667</td>\n      <td>4</td>\n      <td>11</td>\n      <td>0.364</td>\n      <td>1</td>\n      <td>5</td>\n      <td>0.200</td>\n      <td>0</td>\n      <td>0</td>\n      <td>0.000</td>\n      <td>...</td>\n      <td>1</td>\n      <td>1</td>\n      <td>4</td>\n      <td>0</td>\n      <td>9</td>\n      <td>8</td>\n      <td>0</td>\n      <td>0</td>\n      <td>-1.456311</td>\n      <td>3.977166</td>\n    </tr>\n    <tr>\n      <th>28907</th>\n      <td>24.866667</td>\n      <td>6</td>\n      <td>11</td>\n      <td>0.545</td>\n      <td>4</td>\n      <td>8</td>\n      <td>0.500</td>\n      <td>2</td>\n      <td>2</td>\n      <td>1.000</td>\n      <td>...</td>\n      <td>0</td>\n      <td>0</td>\n      <td>4</td>\n      <td>1</td>\n      <td>18</td>\n      <td>6</td>\n      <td>1</td>\n      <td>0</td>\n      <td>23.786408</td>\n      <td>40.899732</td>\n    </tr>\n    <tr>\n      <th>28914</th>\n      <td>37.198333</td>\n      <td>6</td>\n      <td>14</td>\n      <td>0.429</td>\n      <td>0</td>\n      <td>3</td>\n      <td>0.000</td>\n      <td>3</td>\n      <td>4</td>\n      <td>0.750</td>\n      <td>...</td>\n      <td>1</td>\n      <td>0</td>\n      <td>4</td>\n      <td>4</td>\n      <td>15</td>\n      <td>9</td>\n      <td>0</td>\n      <td>0</td>\n      <td>7.766990</td>\n      <td>12.139146</td>\n    </tr>\n    <tr>\n      <th>28927</th>\n      <td>27.073333</td>\n      <td>3</td>\n      <td>6</td>\n      <td>0.500</td>\n      <td>1</td>\n      <td>4</td>\n      <td>0.250</td>\n      <td>0</td>\n      <td>0</td>\n      <td>0.000</td>\n      <td>...</td>\n      <td>0</td>\n      <td>0</td>\n      <td>3</td>\n      <td>3</td>\n      <td>7</td>\n      <td>15</td>\n      <td>0</td>\n      <td>0</td>\n      <td>9.708738</td>\n      <td>12.287663</td>\n    </tr>\n    <tr>\n      <th>28928</th>\n      <td>33.335000</td>\n      <td>5</td>\n      <td>9</td>\n      <td>0.556</td>\n      <td>1</td>\n      <td>3</td>\n      <td>0.333</td>\n      <td>0</td>\n      <td>0</td>\n      <td>0.000</td>\n      <td>...</td>\n      <td>1</td>\n      <td>0</td>\n      <td>2</td>\n      <td>1</td>\n      <td>11</td>\n      <td>-2</td>\n      <td>1</td>\n      <td>0</td>\n      <td>16.990291</td>\n      <td>21.391900</td>\n    </tr>\n    <tr>\n      <th>28999</th>\n      <td>5.100000</td>\n      <td>1</td>\n      <td>1</td>\n      <td>1.000</td>\n      <td>0</td>\n      <td>0</td>\n      <td>0.000</td>\n      <td>0</td>\n      <td>0</td>\n      <td>0.000</td>\n      <td>...</td>\n      <td>0</td>\n      <td>0</td>\n      <td>1</td>\n      <td>0</td>\n      <td>2</td>\n      <td>-8</td>\n      <td>0</td>\n      <td>0</td>\n      <td>1.204819</td>\n      <td>13.477647</td>\n    </tr>\n    <tr>\n      <th>29000</th>\n      <td>24.050000</td>\n      <td>7</td>\n      <td>11</td>\n      <td>0.636</td>\n      <td>3</td>\n      <td>5</td>\n      <td>0.600</td>\n      <td>1</td>\n      <td>1</td>\n      <td>1.000</td>\n      <td>...</td>\n      <td>0</td>\n      <td>1</td>\n      <td>3</td>\n      <td>2</td>\n      <td>18</td>\n      <td>8</td>\n      <td>0</td>\n      <td>0</td>\n      <td>20.481928</td>\n      <td>30.939958</td>\n    </tr>\n    <tr>\n      <th>29002</th>\n      <td>29.850000</td>\n      <td>6</td>\n      <td>10</td>\n      <td>0.600</td>\n      <td>1</td>\n      <td>4</td>\n      <td>0.250</td>\n      <td>3</td>\n      <td>4</td>\n      <td>0.750</td>\n      <td>...</td>\n      <td>0</td>\n      <td>2</td>\n      <td>2</td>\n      <td>2</td>\n      <td>16</td>\n      <td>23</td>\n      <td>0</td>\n      <td>0</td>\n      <td>19.277108</td>\n      <td>22.911055</td>\n    </tr>\n    <tr>\n      <th>29007</th>\n      <td>18.116667</td>\n      <td>4</td>\n      <td>9</td>\n      <td>0.444</td>\n      <td>1</td>\n      <td>5</td>\n      <td>0.200</td>\n      <td>0</td>\n      <td>0</td>\n      <td>0.000</td>\n      <td>...</td>\n      <td>0</td>\n      <td>0</td>\n      <td>4</td>\n      <td>2</td>\n      <td>9</td>\n      <td>-19</td>\n      <td>0</td>\n      <td>0</td>\n      <td>1.204819</td>\n      <td>8.028960</td>\n    </tr>\n    <tr>\n      <th>29014</th>\n      <td>32.516667</td>\n      <td>8</td>\n      <td>12</td>\n      <td>0.667</td>\n      <td>4</td>\n      <td>6</td>\n      <td>0.667</td>\n      <td>0</td>\n      <td>0</td>\n      <td>0.000</td>\n      <td>...</td>\n      <td>0</td>\n      <td>0</td>\n      <td>3</td>\n      <td>1</td>\n      <td>20</td>\n      <td>15</td>\n      <td>0</td>\n      <td>0</td>\n      <td>21.686747</td>\n      <td>22.768047</td>\n    </tr>\n    <tr>\n      <th>29015</th>\n      <td>23.950000</td>\n      <td>1</td>\n      <td>8</td>\n      <td>0.125</td>\n      <td>0</td>\n      <td>1</td>\n      <td>0.000</td>\n      <td>4</td>\n      <td>4</td>\n      <td>1.000</td>\n      <td>...</td>\n      <td>0</td>\n      <td>1</td>\n      <td>3</td>\n      <td>3</td>\n      <td>6</td>\n      <td>-9</td>\n      <td>0</td>\n      <td>0</td>\n      <td>3.012048</td>\n      <td>1.583716</td>\n    </tr>\n    <tr>\n      <th>29018</th>\n      <td>38.423333</td>\n      <td>0</td>\n      <td>4</td>\n      <td>0.000</td>\n      <td>0</td>\n      <td>2</td>\n      <td>0.000</td>\n      <td>0</td>\n      <td>0</td>\n      <td>0.000</td>\n      <td>...</td>\n      <td>0</td>\n      <td>0</td>\n      <td>3</td>\n      <td>0</td>\n      <td>0</td>\n      <td>-3</td>\n      <td>0</td>\n      <td>0</td>\n      <td>-3.614458</td>\n      <td>-5.929574</td>\n    </tr>\n    <tr>\n      <th>29023</th>\n      <td>22.243333</td>\n      <td>1</td>\n      <td>7</td>\n      <td>0.143</td>\n      <td>1</td>\n      <td>4</td>\n      <td>0.250</td>\n      <td>0</td>\n      <td>0</td>\n      <td>0.000</td>\n      <td>...</td>\n      <td>0</td>\n      <td>0</td>\n      <td>1</td>\n      <td>0</td>\n      <td>3</td>\n      <td>-6</td>\n      <td>0</td>\n      <td>0</td>\n      <td>3.012048</td>\n      <td>4.098531</td>\n    </tr>\n    <tr>\n      <th>29034</th>\n      <td>0.826667</td>\n      <td>0</td>\n      <td>0</td>\n      <td>0.000</td>\n      <td>0</td>\n      <td>0</td>\n      <td>0.000</td>\n      <td>0</td>\n      <td>0</td>\n      <td>0.000</td>\n      <td>...</td>\n      <td>0</td>\n      <td>0</td>\n      <td>0</td>\n      <td>0</td>\n      <td>0</td>\n      <td>0</td>\n      <td>0</td>\n      <td>0</td>\n      <td>0.000000</td>\n      <td>0.000000</td>\n    </tr>\n    <tr>\n      <th>29042</th>\n      <td>44.923333</td>\n      <td>9</td>\n      <td>19</td>\n      <td>0.474</td>\n      <td>1</td>\n      <td>2</td>\n      <td>0.500</td>\n      <td>10</td>\n      <td>11</td>\n      <td>0.909</td>\n      <td>...</td>\n      <td>1</td>\n      <td>1</td>\n      <td>3</td>\n      <td>10</td>\n      <td>29</td>\n      <td>-6</td>\n      <td>1</td>\n      <td>0</td>\n      <td>33.734940</td>\n      <td>26.486481</td>\n    </tr>\n    <tr>\n      <th>29101</th>\n      <td>22.333333</td>\n      <td>1</td>\n      <td>9</td>\n      <td>0.111</td>\n      <td>0</td>\n      <td>1</td>\n      <td>0.000</td>\n      <td>3</td>\n      <td>3</td>\n      <td>1.000</td>\n      <td>...</td>\n      <td>0</td>\n      <td>1</td>\n      <td>1</td>\n      <td>2</td>\n      <td>5</td>\n      <td>-5</td>\n      <td>0</td>\n      <td>0</td>\n      <td>4.191617</td>\n      <td>7.061642</td>\n    </tr>\n    <tr>\n      <th>29110</th>\n      <td>35.533333</td>\n      <td>8</td>\n      <td>15</td>\n      <td>0.533</td>\n      <td>0</td>\n      <td>0</td>\n      <td>0.000</td>\n      <td>0</td>\n      <td>0</td>\n      <td>0.000</td>\n      <td>...</td>\n      <td>1</td>\n      <td>2</td>\n      <td>3</td>\n      <td>0</td>\n      <td>16</td>\n      <td>-6</td>\n      <td>0</td>\n      <td>0</td>\n      <td>16.167665</td>\n      <td>14.881801</td>\n    </tr>\n    <tr>\n      <th>29121</th>\n      <td>25.666667</td>\n      <td>3</td>\n      <td>11</td>\n      <td>0.273</td>\n      <td>1</td>\n      <td>3</td>\n      <td>0.333</td>\n      <td>2</td>\n      <td>2</td>\n      <td>1.000</td>\n      <td>...</td>\n      <td>0</td>\n      <td>1</td>\n      <td>3</td>\n      <td>3</td>\n      <td>9</td>\n      <td>-9</td>\n      <td>0</td>\n      <td>0</td>\n      <td>11.377246</td>\n      <td>15.540078</td>\n    </tr>\n    <tr>\n      <th>29124</th>\n      <td>39.233333</td>\n      <td>7</td>\n      <td>14</td>\n      <td>0.500</td>\n      <td>3</td>\n      <td>6</td>\n      <td>0.500</td>\n      <td>7</td>\n      <td>8</td>\n      <td>0.875</td>\n      <td>...</td>\n      <td>0</td>\n      <td>0</td>\n      <td>2</td>\n      <td>3</td>\n      <td>24</td>\n      <td>-13</td>\n      <td>0</td>\n      <td>0</td>\n      <td>29.940120</td>\n      <td>28.045208</td>\n    </tr>\n    <tr>\n      <th>29136</th>\n      <td>4.800000</td>\n      <td>0</td>\n      <td>1</td>\n      <td>0.000</td>\n      <td>0</td>\n      <td>0</td>\n      <td>0.000</td>\n      <td>0</td>\n      <td>0</td>\n      <td>0.000</td>\n      <td>...</td>\n      <td>0</td>\n      <td>0</td>\n      <td>0</td>\n      <td>0</td>\n      <td>0</td>\n      <td>-9</td>\n      <td>0</td>\n      <td>0</td>\n      <td>0.000000</td>\n      <td>-5.100625</td>\n    </tr>\n    <tr>\n      <th>29145</th>\n      <td>1.200000</td>\n      <td>0</td>\n      <td>2</td>\n      <td>0.000</td>\n      <td>0</td>\n      <td>1</td>\n      <td>0.000</td>\n      <td>0</td>\n      <td>0</td>\n      <td>0.000</td>\n      <td>...</td>\n      <td>0</td>\n      <td>0</td>\n      <td>0</td>\n      <td>0</td>\n      <td>0</td>\n      <td>-2</td>\n      <td>0</td>\n      <td>0</td>\n      <td>-2.395210</td>\n      <td>-65.316667</td>\n    </tr>\n    <tr>\n      <th>29156</th>\n      <td>0.231667</td>\n      <td>0</td>\n      <td>0</td>\n      <td>0.000</td>\n      <td>0</td>\n      <td>0</td>\n      <td>0.000</td>\n      <td>0</td>\n      <td>0</td>\n      <td>0.000</td>\n      <td>...</td>\n      <td>0</td>\n      <td>0</td>\n      <td>0</td>\n      <td>0</td>\n      <td>0</td>\n      <td>0</td>\n      <td>0</td>\n      <td>0</td>\n      <td>0.000000</td>\n      <td>0.000000</td>\n    </tr>\n    <tr>\n      <th>29157</th>\n      <td>28.250000</td>\n      <td>2</td>\n      <td>8</td>\n      <td>0.250</td>\n      <td>1</td>\n      <td>1</td>\n      <td>1.000</td>\n      <td>0</td>\n      <td>0</td>\n      <td>0.000</td>\n      <td>...</td>\n      <td>0</td>\n      <td>1</td>\n      <td>3</td>\n      <td>0</td>\n      <td>5</td>\n      <td>-15</td>\n      <td>0</td>\n      <td>0</td>\n      <td>0.000000</td>\n      <td>1.236566</td>\n    </tr>\n    <tr>\n      <th>29158</th>\n      <td>37.701667</td>\n      <td>4</td>\n      <td>11</td>\n      <td>0.364</td>\n      <td>0</td>\n      <td>1</td>\n      <td>0.000</td>\n      <td>13</td>\n      <td>13</td>\n      <td>1.000</td>\n      <td>...</td>\n      <td>0</td>\n      <td>2</td>\n      <td>4</td>\n      <td>9</td>\n      <td>21</td>\n      <td>-15</td>\n      <td>0</td>\n      <td>0</td>\n      <td>20.958084</td>\n      <td>20.998488</td>\n    </tr>\n    <tr>\n      <th>29160</th>\n      <td>30.550000</td>\n      <td>6</td>\n      <td>9</td>\n      <td>0.667</td>\n      <td>4</td>\n      <td>6</td>\n      <td>0.667</td>\n      <td>2</td>\n      <td>2</td>\n      <td>1.000</td>\n      <td>...</td>\n      <td>0</td>\n      <td>0</td>\n      <td>2</td>\n      <td>1</td>\n      <td>18</td>\n      <td>3</td>\n      <td>0</td>\n      <td>0</td>\n      <td>16.766467</td>\n      <td>22.224779</td>\n    </tr>\n    <tr>\n      <th>29167</th>\n      <td>14.500000</td>\n      <td>1</td>\n      <td>5</td>\n      <td>0.200</td>\n      <td>0</td>\n      <td>1</td>\n      <td>0.000</td>\n      <td>0</td>\n      <td>0</td>\n      <td>0.000</td>\n      <td>...</td>\n      <td>0</td>\n      <td>0</td>\n      <td>0</td>\n      <td>1</td>\n      <td>2</td>\n      <td>1</td>\n      <td>0</td>\n      <td>0</td>\n      <td>2.994012</td>\n      <td>4.628138</td>\n    </tr>\n  </tbody>\n</table>\n<p>51 rows × 26 columns</p>\n</div>"
     },
     "metadata": {}
    },
    {
     "output_type": "display_data",
     "data": {
      "text/plain": "       WL\n28590   0\n28595   0\n28602   0\n28603   0\n28622   0\n28623   0\n28625   0\n28629   0\n28639   0\n28739   0\n28742   0\n28753   0\n28763   0\n28775   0\n28779   0\n28788   0\n28791   0\n28796   0\n28802   0\n28803   0\n28804   0\n28883   1\n28884   1\n28897   1\n28899   1\n28906   1\n28907   1\n28914   1\n28927   1\n28928   1\n28999   0\n29000   0\n29002   0\n29007   0\n29014   0\n29015   0\n29018   0\n29023   0\n29034   0\n29042   0\n29101   0\n29110   0\n29121   0\n29124   0\n29136   0\n29145   0\n29156   0\n29157   0\n29158   0\n29160   0\n29167   0",
      "text/html": "<div>\n<style scoped>\n    .dataframe tbody tr th:only-of-type {\n        vertical-align: middle;\n    }\n\n    .dataframe tbody tr th {\n        vertical-align: top;\n    }\n\n    .dataframe thead th {\n        text-align: right;\n    }\n</style>\n<table border=\"1\" class=\"dataframe\">\n  <thead>\n    <tr style=\"text-align: right;\">\n      <th></th>\n      <th>WL</th>\n    </tr>\n  </thead>\n  <tbody>\n    <tr>\n      <th>28590</th>\n      <td>0</td>\n    </tr>\n    <tr>\n      <th>28595</th>\n      <td>0</td>\n    </tr>\n    <tr>\n      <th>28602</th>\n      <td>0</td>\n    </tr>\n    <tr>\n      <th>28603</th>\n      <td>0</td>\n    </tr>\n    <tr>\n      <th>28622</th>\n      <td>0</td>\n    </tr>\n    <tr>\n      <th>28623</th>\n      <td>0</td>\n    </tr>\n    <tr>\n      <th>28625</th>\n      <td>0</td>\n    </tr>\n    <tr>\n      <th>28629</th>\n      <td>0</td>\n    </tr>\n    <tr>\n      <th>28639</th>\n      <td>0</td>\n    </tr>\n    <tr>\n      <th>28739</th>\n      <td>0</td>\n    </tr>\n    <tr>\n      <th>28742</th>\n      <td>0</td>\n    </tr>\n    <tr>\n      <th>28753</th>\n      <td>0</td>\n    </tr>\n    <tr>\n      <th>28763</th>\n      <td>0</td>\n    </tr>\n    <tr>\n      <th>28775</th>\n      <td>0</td>\n    </tr>\n    <tr>\n      <th>28779</th>\n      <td>0</td>\n    </tr>\n    <tr>\n      <th>28788</th>\n      <td>0</td>\n    </tr>\n    <tr>\n      <th>28791</th>\n      <td>0</td>\n    </tr>\n    <tr>\n      <th>28796</th>\n      <td>0</td>\n    </tr>\n    <tr>\n      <th>28802</th>\n      <td>0</td>\n    </tr>\n    <tr>\n      <th>28803</th>\n      <td>0</td>\n    </tr>\n    <tr>\n      <th>28804</th>\n      <td>0</td>\n    </tr>\n    <tr>\n      <th>28883</th>\n      <td>1</td>\n    </tr>\n    <tr>\n      <th>28884</th>\n      <td>1</td>\n    </tr>\n    <tr>\n      <th>28897</th>\n      <td>1</td>\n    </tr>\n    <tr>\n      <th>28899</th>\n      <td>1</td>\n    </tr>\n    <tr>\n      <th>28906</th>\n      <td>1</td>\n    </tr>\n    <tr>\n      <th>28907</th>\n      <td>1</td>\n    </tr>\n    <tr>\n      <th>28914</th>\n      <td>1</td>\n    </tr>\n    <tr>\n      <th>28927</th>\n      <td>1</td>\n    </tr>\n    <tr>\n      <th>28928</th>\n      <td>1</td>\n    </tr>\n    <tr>\n      <th>28999</th>\n      <td>0</td>\n    </tr>\n    <tr>\n      <th>29000</th>\n      <td>0</td>\n    </tr>\n    <tr>\n      <th>29002</th>\n      <td>0</td>\n    </tr>\n    <tr>\n      <th>29007</th>\n      <td>0</td>\n    </tr>\n    <tr>\n      <th>29014</th>\n      <td>0</td>\n    </tr>\n    <tr>\n      <th>29015</th>\n      <td>0</td>\n    </tr>\n    <tr>\n      <th>29018</th>\n      <td>0</td>\n    </tr>\n    <tr>\n      <th>29023</th>\n      <td>0</td>\n    </tr>\n    <tr>\n      <th>29034</th>\n      <td>0</td>\n    </tr>\n    <tr>\n      <th>29042</th>\n      <td>0</td>\n    </tr>\n    <tr>\n      <th>29101</th>\n      <td>0</td>\n    </tr>\n    <tr>\n      <th>29110</th>\n      <td>0</td>\n    </tr>\n    <tr>\n      <th>29121</th>\n      <td>0</td>\n    </tr>\n    <tr>\n      <th>29124</th>\n      <td>0</td>\n    </tr>\n    <tr>\n      <th>29136</th>\n      <td>0</td>\n    </tr>\n    <tr>\n      <th>29145</th>\n      <td>0</td>\n    </tr>\n    <tr>\n      <th>29156</th>\n      <td>0</td>\n    </tr>\n    <tr>\n      <th>29157</th>\n      <td>0</td>\n    </tr>\n    <tr>\n      <th>29158</th>\n      <td>0</td>\n    </tr>\n    <tr>\n      <th>29160</th>\n      <td>0</td>\n    </tr>\n    <tr>\n      <th>29167</th>\n      <td>0</td>\n    </tr>\n  </tbody>\n</table>\n</div>"
     },
     "metadata": {}
    }
   ],
   "source": [
    "df_X_Reduced2 = df_Encoded[X_headers_list]\n",
    "df_Y_Reduced2 = df_Encoded[Y_headers_list1]\n",
    "cleanDFColumns = ['Game_Type', 'SEASON_YEAR_code']\n",
    "# cleanDFColumns = ['Game_Type']\n",
    "\n",
    "for gameType in gameTypeListed_code:\n",
    "    is_gameType_X = df_X_Reduced2['Game_Type']==gameType\n",
    "    is_gameType_Y = df_Y_Reduced2['Game_Type']==gameType\n",
    "    if gameType == 0:\n",
    "        df_X_PreSeason = df_X_Reduced2[is_gameType_X]\n",
    "        df_X_PreSeason = df_X_PreSeason.drop(cleanDFColumns, axis=1)\n",
    "        df_Y_PreSeason = df_Y_Reduced2[is_gameType_Y]\n",
    "        df_Y_PreSeason = df_Y_PreSeason[Y_headers_list2]\n",
    "    elif gameType == 1:\n",
    "        df_X_RegularSeason = df_X_Reduced2[is_gameType_X]\n",
    "        df_X_RegularSeason = df_X_RegularSeason.drop(cleanDFColumns, axis=1)\n",
    "        df_Y_RegularSeason = df_Y_Reduced2[is_gameType_Y]\n",
    "        df_Y_RegularSeason = df_Y_RegularSeason[Y_headers_list2]\n",
    "    elif gameType == 2:\n",
    "        df_X_Playoffs = df_X_Reduced2[is_gameType_X]\n",
    "        df_X_Playoffs = df_X_Playoffs.drop(cleanDFColumns, axis=1)\n",
    "        df_Y_Playoffs = df_Y_Reduced2[is_gameType_Y]\n",
    "        df_Y_Playoffs = df_Y_Playoffs[Y_headers_list2]\n",
    "\n",
    "\n",
    "# VALIDATION CODE \n",
    "if debug_active == 'yes':\n",
    "    print(\"\")\n",
    "    print(\"Pre Season\")\n",
    "    display(df_X_PreSeason)\n",
    "    display(df_Y_PreSeason)\n",
    "    print(\"\")\n",
    "    print(\"Regular Season\")\n",
    "    display(df_X_RegularSeason)\n",
    "    display(df_Y_RegularSeason)\n",
    "    print(\"\")\n",
    "    print(\"Playoffs\")\n",
    "    display(df_X_Playoffs)\n",
    "    display(df_Y_Playoffs)"
   ]
  },
  {
   "source": [
    "# Section 5: Analysis - Heat Maps / Correlation Matrices"
   ],
   "cell_type": "markdown",
   "metadata": {}
  },
  {
   "cell_type": "code",
   "execution_count": 16,
   "metadata": {},
   "outputs": [
    {
     "output_type": "display_data",
     "data": {
      "text/plain": "             MIN  FGM  FG_PCT  FG3A  FG3_PCT  FTA  FT_PCT  OREB  DREB  AST  \\\n4      20.666667    5   0.556     0      0.0    2     0.5     0     5    2   \n10      4.566667    2   0.667     2      0.5    0     0.0     0     1    0   \n11      5.450000    1   1.000     0      0.0    3     1.0     0     1    0   \n13     18.700000    2   0.333     2      0.5    0     0.0     0     4    3   \n14     19.833333    1   0.250     0      0.0    0     0.0     1     3    0   \n...          ...  ...     ...   ...      ...  ...     ...   ...   ...  ...   \n31623  20.983333    4   0.667     3      1.0    2     0.5     0     2    5   \n31642  26.450000    4   0.800     2      1.0    0     0.0     0     3    1   \n31652  22.966667    5   0.500     0      0.0    6     0.5     2     4    1   \n31672  27.533333    4   0.500     4      0.5    0     0.0     1     8    4   \n31678  27.016667    4   0.333     4      0.0    0     0.0     0     4    6   \n\n       TOV  STL  BLK  BLKA  PF  PLUS_MINUS  DD2  TD3        PIE        PER  \n4        0    1    0     0   4          23    0    0   9.216590  20.691968  \n10       0    0    0     0   1          10    0    0   3.686636  39.836496  \n11       0    0    0     0   0          11    0    0   5.529954  44.248073  \n13       0    1    0     0   0          19    0    0   8.294931  15.164332  \n14       1    1    0     1   1           2    0    0   1.382488   1.738336  \n...    ...  ...  ...   ...  ..         ...  ...  ...        ...        ...  \n31623    3    2    0     0   4          -2    0    0  11.000000  25.138570  \n31642    2    0    0     0   3           6    0    0   8.000000  12.379811  \n31652    1    1    1     0   2          -3    0    0   9.500000  21.360914  \n31672    1    1    1     1   3           8    0    0  16.000000  20.833511  \n31678    1    3    0     0   2           4    0    0  10.000000  13.712128  \n\n[158 rows x 20 columns]",
      "text/html": "<div>\n<style scoped>\n    .dataframe tbody tr th:only-of-type {\n        vertical-align: middle;\n    }\n\n    .dataframe tbody tr th {\n        vertical-align: top;\n    }\n\n    .dataframe thead th {\n        text-align: right;\n    }\n</style>\n<table border=\"1\" class=\"dataframe\">\n  <thead>\n    <tr style=\"text-align: right;\">\n      <th></th>\n      <th>MIN</th>\n      <th>FGM</th>\n      <th>FG_PCT</th>\n      <th>FG3A</th>\n      <th>FG3_PCT</th>\n      <th>FTA</th>\n      <th>FT_PCT</th>\n      <th>OREB</th>\n      <th>DREB</th>\n      <th>AST</th>\n      <th>TOV</th>\n      <th>STL</th>\n      <th>BLK</th>\n      <th>BLKA</th>\n      <th>PF</th>\n      <th>PLUS_MINUS</th>\n      <th>DD2</th>\n      <th>TD3</th>\n      <th>PIE</th>\n      <th>PER</th>\n    </tr>\n  </thead>\n  <tbody>\n    <tr>\n      <th>4</th>\n      <td>20.666667</td>\n      <td>5</td>\n      <td>0.556</td>\n      <td>0</td>\n      <td>0.0</td>\n      <td>2</td>\n      <td>0.5</td>\n      <td>0</td>\n      <td>5</td>\n      <td>2</td>\n      <td>0</td>\n      <td>1</td>\n      <td>0</td>\n      <td>0</td>\n      <td>4</td>\n      <td>23</td>\n      <td>0</td>\n      <td>0</td>\n      <td>9.216590</td>\n      <td>20.691968</td>\n    </tr>\n    <tr>\n      <th>10</th>\n      <td>4.566667</td>\n      <td>2</td>\n      <td>0.667</td>\n      <td>2</td>\n      <td>0.5</td>\n      <td>0</td>\n      <td>0.0</td>\n      <td>0</td>\n      <td>1</td>\n      <td>0</td>\n      <td>0</td>\n      <td>0</td>\n      <td>0</td>\n      <td>0</td>\n      <td>1</td>\n      <td>10</td>\n      <td>0</td>\n      <td>0</td>\n      <td>3.686636</td>\n      <td>39.836496</td>\n    </tr>\n    <tr>\n      <th>11</th>\n      <td>5.450000</td>\n      <td>1</td>\n      <td>1.000</td>\n      <td>0</td>\n      <td>0.0</td>\n      <td>3</td>\n      <td>1.0</td>\n      <td>0</td>\n      <td>1</td>\n      <td>0</td>\n      <td>0</td>\n      <td>0</td>\n      <td>0</td>\n      <td>0</td>\n      <td>0</td>\n      <td>11</td>\n      <td>0</td>\n      <td>0</td>\n      <td>5.529954</td>\n      <td>44.248073</td>\n    </tr>\n    <tr>\n      <th>13</th>\n      <td>18.700000</td>\n      <td>2</td>\n      <td>0.333</td>\n      <td>2</td>\n      <td>0.5</td>\n      <td>0</td>\n      <td>0.0</td>\n      <td>0</td>\n      <td>4</td>\n      <td>3</td>\n      <td>0</td>\n      <td>1</td>\n      <td>0</td>\n      <td>0</td>\n      <td>0</td>\n      <td>19</td>\n      <td>0</td>\n      <td>0</td>\n      <td>8.294931</td>\n      <td>15.164332</td>\n    </tr>\n    <tr>\n      <th>14</th>\n      <td>19.833333</td>\n      <td>1</td>\n      <td>0.250</td>\n      <td>0</td>\n      <td>0.0</td>\n      <td>0</td>\n      <td>0.0</td>\n      <td>1</td>\n      <td>3</td>\n      <td>0</td>\n      <td>1</td>\n      <td>1</td>\n      <td>0</td>\n      <td>1</td>\n      <td>1</td>\n      <td>2</td>\n      <td>0</td>\n      <td>0</td>\n      <td>1.382488</td>\n      <td>1.738336</td>\n    </tr>\n    <tr>\n      <th>...</th>\n      <td>...</td>\n      <td>...</td>\n      <td>...</td>\n      <td>...</td>\n      <td>...</td>\n      <td>...</td>\n      <td>...</td>\n      <td>...</td>\n      <td>...</td>\n      <td>...</td>\n      <td>...</td>\n      <td>...</td>\n      <td>...</td>\n      <td>...</td>\n      <td>...</td>\n      <td>...</td>\n      <td>...</td>\n      <td>...</td>\n      <td>...</td>\n      <td>...</td>\n    </tr>\n    <tr>\n      <th>31623</th>\n      <td>20.983333</td>\n      <td>4</td>\n      <td>0.667</td>\n      <td>3</td>\n      <td>1.0</td>\n      <td>2</td>\n      <td>0.5</td>\n      <td>0</td>\n      <td>2</td>\n      <td>5</td>\n      <td>3</td>\n      <td>2</td>\n      <td>0</td>\n      <td>0</td>\n      <td>4</td>\n      <td>-2</td>\n      <td>0</td>\n      <td>0</td>\n      <td>11.000000</td>\n      <td>25.138570</td>\n    </tr>\n    <tr>\n      <th>31642</th>\n      <td>26.450000</td>\n      <td>4</td>\n      <td>0.800</td>\n      <td>2</td>\n      <td>1.0</td>\n      <td>0</td>\n      <td>0.0</td>\n      <td>0</td>\n      <td>3</td>\n      <td>1</td>\n      <td>2</td>\n      <td>0</td>\n      <td>0</td>\n      <td>0</td>\n      <td>3</td>\n      <td>6</td>\n      <td>0</td>\n      <td>0</td>\n      <td>8.000000</td>\n      <td>12.379811</td>\n    </tr>\n    <tr>\n      <th>31652</th>\n      <td>22.966667</td>\n      <td>5</td>\n      <td>0.500</td>\n      <td>0</td>\n      <td>0.0</td>\n      <td>6</td>\n      <td>0.5</td>\n      <td>2</td>\n      <td>4</td>\n      <td>1</td>\n      <td>1</td>\n      <td>1</td>\n      <td>1</td>\n      <td>0</td>\n      <td>2</td>\n      <td>-3</td>\n      <td>0</td>\n      <td>0</td>\n      <td>9.500000</td>\n      <td>21.360914</td>\n    </tr>\n    <tr>\n      <th>31672</th>\n      <td>27.533333</td>\n      <td>4</td>\n      <td>0.500</td>\n      <td>4</td>\n      <td>0.5</td>\n      <td>0</td>\n      <td>0.0</td>\n      <td>1</td>\n      <td>8</td>\n      <td>4</td>\n      <td>1</td>\n      <td>1</td>\n      <td>1</td>\n      <td>1</td>\n      <td>3</td>\n      <td>8</td>\n      <td>0</td>\n      <td>0</td>\n      <td>16.000000</td>\n      <td>20.833511</td>\n    </tr>\n    <tr>\n      <th>31678</th>\n      <td>27.016667</td>\n      <td>4</td>\n      <td>0.333</td>\n      <td>4</td>\n      <td>0.0</td>\n      <td>0</td>\n      <td>0.0</td>\n      <td>0</td>\n      <td>4</td>\n      <td>6</td>\n      <td>1</td>\n      <td>3</td>\n      <td>0</td>\n      <td>0</td>\n      <td>2</td>\n      <td>4</td>\n      <td>0</td>\n      <td>0</td>\n      <td>10.000000</td>\n      <td>13.712128</td>\n    </tr>\n  </tbody>\n</table>\n<p>158 rows × 20 columns</p>\n</div>"
     },
     "metadata": {}
    },
    {
     "output_type": "display_data",
     "data": {
      "text/plain": "             MIN  FGM  FG_PCT  FG3A  FG3_PCT  FTA  FT_PCT  OREB  DREB  AST  \\\n2613   18.316667    7   0.778     1     1.00    3     1.0     0     0    3   \n2668   15.233333    3   0.375     1     0.00    2     1.0     2     4    2   \n2688   20.683333    5   0.455     4     0.25    2     1.0     0     1    0   \n2747   15.133333    1   0.500     0     0.00    0     0.0     0     1    2   \n2765   13.603333    3   0.500     0     0.00    0     0.0     0     1    0   \n...          ...  ...     ...   ...      ...  ...     ...   ...   ...  ...   \n56376  34.116667    7   0.467     1     0.00    3     1.0     2     6    4   \n56380  32.695000    5   0.556     5     0.60    0     0.0     0     2    7   \n56423   8.750000    2   0.286     0     0.00    0     0.0     2     0    0   \n56433  37.683333    3   0.273     5     0.60    0     0.0     0     1    3   \n56462  25.566667    6   0.750     4     0.75    0     0.0     0     2    0   \n\n       TOV  STL  BLK  BLKA  PF  PLUS_MINUS  DD2  TD3        PIE        PER  \n2613     2    4    0     0   0           3    0    0  30.656934  50.615487  \n2668     2    0    1     0   2           6    0    0   9.489051  17.007440  \n2688     1    1    1     1   4         -10    0    0   6.569343  15.715939  \n2747     0    0    0     0   3           5    0    0   1.459854   5.237379  \n2765     0    0    0     0   0          -4    0    0   5.839416  11.384489  \n...    ...  ...  ...   ...  ..         ...  ...  ...        ...        ...  \n56376    2    0    1     0   5           0    0    0  17.647059  16.978241  \n56380    1    1    0     2   5           4    0    0  16.993464  18.790151  \n56423    0    0    0     2   2           2    0    0  -2.614379   2.274514  \n56433    0    2    0     1   2          11    0    0   6.535948   7.739894  \n56462    2    0    0     0   1           9    0    0  15.686275  19.431434  \n\n[1694 rows x 20 columns]",
      "text/html": "<div>\n<style scoped>\n    .dataframe tbody tr th:only-of-type {\n        vertical-align: middle;\n    }\n\n    .dataframe tbody tr th {\n        vertical-align: top;\n    }\n\n    .dataframe thead th {\n        text-align: right;\n    }\n</style>\n<table border=\"1\" class=\"dataframe\">\n  <thead>\n    <tr style=\"text-align: right;\">\n      <th></th>\n      <th>MIN</th>\n      <th>FGM</th>\n      <th>FG_PCT</th>\n      <th>FG3A</th>\n      <th>FG3_PCT</th>\n      <th>FTA</th>\n      <th>FT_PCT</th>\n      <th>OREB</th>\n      <th>DREB</th>\n      <th>AST</th>\n      <th>TOV</th>\n      <th>STL</th>\n      <th>BLK</th>\n      <th>BLKA</th>\n      <th>PF</th>\n      <th>PLUS_MINUS</th>\n      <th>DD2</th>\n      <th>TD3</th>\n      <th>PIE</th>\n      <th>PER</th>\n    </tr>\n  </thead>\n  <tbody>\n    <tr>\n      <th>2613</th>\n      <td>18.316667</td>\n      <td>7</td>\n      <td>0.778</td>\n      <td>1</td>\n      <td>1.00</td>\n      <td>3</td>\n      <td>1.0</td>\n      <td>0</td>\n      <td>0</td>\n      <td>3</td>\n      <td>2</td>\n      <td>4</td>\n      <td>0</td>\n      <td>0</td>\n      <td>0</td>\n      <td>3</td>\n      <td>0</td>\n      <td>0</td>\n      <td>30.656934</td>\n      <td>50.615487</td>\n    </tr>\n    <tr>\n      <th>2668</th>\n      <td>15.233333</td>\n      <td>3</td>\n      <td>0.375</td>\n      <td>1</td>\n      <td>0.00</td>\n      <td>2</td>\n      <td>1.0</td>\n      <td>2</td>\n      <td>4</td>\n      <td>2</td>\n      <td>2</td>\n      <td>0</td>\n      <td>1</td>\n      <td>0</td>\n      <td>2</td>\n      <td>6</td>\n      <td>0</td>\n      <td>0</td>\n      <td>9.489051</td>\n      <td>17.007440</td>\n    </tr>\n    <tr>\n      <th>2688</th>\n      <td>20.683333</td>\n      <td>5</td>\n      <td>0.455</td>\n      <td>4</td>\n      <td>0.25</td>\n      <td>2</td>\n      <td>1.0</td>\n      <td>0</td>\n      <td>1</td>\n      <td>0</td>\n      <td>1</td>\n      <td>1</td>\n      <td>1</td>\n      <td>1</td>\n      <td>4</td>\n      <td>-10</td>\n      <td>0</td>\n      <td>0</td>\n      <td>6.569343</td>\n      <td>15.715939</td>\n    </tr>\n    <tr>\n      <th>2747</th>\n      <td>15.133333</td>\n      <td>1</td>\n      <td>0.500</td>\n      <td>0</td>\n      <td>0.00</td>\n      <td>0</td>\n      <td>0.0</td>\n      <td>0</td>\n      <td>1</td>\n      <td>2</td>\n      <td>0</td>\n      <td>0</td>\n      <td>0</td>\n      <td>0</td>\n      <td>3</td>\n      <td>5</td>\n      <td>0</td>\n      <td>0</td>\n      <td>1.459854</td>\n      <td>5.237379</td>\n    </tr>\n    <tr>\n      <th>2765</th>\n      <td>13.603333</td>\n      <td>3</td>\n      <td>0.500</td>\n      <td>0</td>\n      <td>0.00</td>\n      <td>0</td>\n      <td>0.0</td>\n      <td>0</td>\n      <td>1</td>\n      <td>0</td>\n      <td>0</td>\n      <td>0</td>\n      <td>0</td>\n      <td>0</td>\n      <td>0</td>\n      <td>-4</td>\n      <td>0</td>\n      <td>0</td>\n      <td>5.839416</td>\n      <td>11.384489</td>\n    </tr>\n    <tr>\n      <th>...</th>\n      <td>...</td>\n      <td>...</td>\n      <td>...</td>\n      <td>...</td>\n      <td>...</td>\n      <td>...</td>\n      <td>...</td>\n      <td>...</td>\n      <td>...</td>\n      <td>...</td>\n      <td>...</td>\n      <td>...</td>\n      <td>...</td>\n      <td>...</td>\n      <td>...</td>\n      <td>...</td>\n      <td>...</td>\n      <td>...</td>\n      <td>...</td>\n      <td>...</td>\n    </tr>\n    <tr>\n      <th>56376</th>\n      <td>34.116667</td>\n      <td>7</td>\n      <td>0.467</td>\n      <td>1</td>\n      <td>0.00</td>\n      <td>3</td>\n      <td>1.0</td>\n      <td>2</td>\n      <td>6</td>\n      <td>4</td>\n      <td>2</td>\n      <td>0</td>\n      <td>1</td>\n      <td>0</td>\n      <td>5</td>\n      <td>0</td>\n      <td>0</td>\n      <td>0</td>\n      <td>17.647059</td>\n      <td>16.978241</td>\n    </tr>\n    <tr>\n      <th>56380</th>\n      <td>32.695000</td>\n      <td>5</td>\n      <td>0.556</td>\n      <td>5</td>\n      <td>0.60</td>\n      <td>0</td>\n      <td>0.0</td>\n      <td>0</td>\n      <td>2</td>\n      <td>7</td>\n      <td>1</td>\n      <td>1</td>\n      <td>0</td>\n      <td>2</td>\n      <td>5</td>\n      <td>4</td>\n      <td>0</td>\n      <td>0</td>\n      <td>16.993464</td>\n      <td>18.790151</td>\n    </tr>\n    <tr>\n      <th>56423</th>\n      <td>8.750000</td>\n      <td>2</td>\n      <td>0.286</td>\n      <td>0</td>\n      <td>0.00</td>\n      <td>0</td>\n      <td>0.0</td>\n      <td>2</td>\n      <td>0</td>\n      <td>0</td>\n      <td>0</td>\n      <td>0</td>\n      <td>0</td>\n      <td>2</td>\n      <td>2</td>\n      <td>2</td>\n      <td>0</td>\n      <td>0</td>\n      <td>-2.614379</td>\n      <td>2.274514</td>\n    </tr>\n    <tr>\n      <th>56433</th>\n      <td>37.683333</td>\n      <td>3</td>\n      <td>0.273</td>\n      <td>5</td>\n      <td>0.60</td>\n      <td>0</td>\n      <td>0.0</td>\n      <td>0</td>\n      <td>1</td>\n      <td>3</td>\n      <td>0</td>\n      <td>2</td>\n      <td>0</td>\n      <td>1</td>\n      <td>2</td>\n      <td>11</td>\n      <td>0</td>\n      <td>0</td>\n      <td>6.535948</td>\n      <td>7.739894</td>\n    </tr>\n    <tr>\n      <th>56462</th>\n      <td>25.566667</td>\n      <td>6</td>\n      <td>0.750</td>\n      <td>4</td>\n      <td>0.75</td>\n      <td>0</td>\n      <td>0.0</td>\n      <td>0</td>\n      <td>2</td>\n      <td>0</td>\n      <td>2</td>\n      <td>0</td>\n      <td>0</td>\n      <td>0</td>\n      <td>1</td>\n      <td>9</td>\n      <td>0</td>\n      <td>0</td>\n      <td>15.686275</td>\n      <td>19.431434</td>\n    </tr>\n  </tbody>\n</table>\n<p>1694 rows × 20 columns</p>\n</div>"
     },
     "metadata": {}
    },
    {
     "output_type": "display_data",
     "data": {
      "text/plain": "             MIN  FGM  FG_PCT  FG3A  FG3_PCT  FTA  FT_PCT  OREB  DREB  AST  \\\n28590  39.111667    7   0.368     0    0.000    4   0.500     4     5    3   \n28595  15.916667    2   0.500     2    0.000    0   0.000     0     1    2   \n28602  24.283333    6   0.429     2    0.000    2   1.000     1     4    5   \n28603   8.888333    0   0.000     0    0.000    0   0.000     0     2    0   \n28622  43.983333    3   0.375     3    0.333    4   1.000     0     4    2   \n28623  24.433333    3   0.500     2    1.000    0   0.000     2     2    0   \n28625  29.216667    3   0.273     5    0.400    6   1.000     2     5    2   \n28629  30.450000    6   0.462     4    0.250    1   0.000     0     2    2   \n28639  23.716667    5   0.500     4    0.500    0   0.000     0     3    4   \n28739   0.550000    0   0.000     0    0.000    0   0.000     0     0    0   \n28742   0.590000    0   0.000     0    0.000    0   0.000     0     0    0   \n28753  39.843333   16   0.615     1    0.000   10   0.700     9     6    2   \n28763  30.358333    6   0.375     3    0.000    1   0.000     0     5   13   \n28775  17.456667    1   0.333     0    0.000    2   0.500     1     2    1   \n28779  37.093333    6   0.462     2    0.000    0   0.000     1     6    1   \n28788  20.033333    2   0.400     1    0.000    0   0.000     0     2    1   \n28791   0.590000    0   0.000     0    0.000    0   0.000     0     0    0   \n28796  18.583333    1   0.143     3    0.333    2   1.000     1     1    0   \n28802  21.251667    1   0.143     1    0.000    0   0.000     0     2    5   \n28803  34.450000    5   0.556     2    0.500    1   1.000     0     2    1   \n28804  19.200000    2   0.333     2    0.000    1   1.000     0     4    0   \n28883  23.133333    7   0.636     1    1.000    6   1.000     0     5    3   \n28884  10.066667    1   0.333     0    0.000    0   0.000     0     0    0   \n28897  24.250000    6   0.600     6    0.500    0   0.000     2     1    0   \n28899  37.055000    4   0.400     4    0.250    2   0.500     1     5    3   \n28906  23.021667    4   0.364     5    0.200    0   0.000     0     0    0   \n28907  24.866667    6   0.545     8    0.500    2   1.000     3     4   13   \n28914  37.198333    6   0.429     3    0.000    4   0.750     3     2    5   \n28927  27.073333    3   0.500     4    0.250    0   0.000     0     6    3   \n28928  33.335000    5   0.556     3    0.333    0   0.000     4     6    4   \n28999   5.100000    1   1.000     0    0.000    0   0.000     0     0    0   \n29000  24.050000    7   0.636     5    0.600    1   1.000     0     2    5   \n29002  29.850000    6   0.600     4    0.250    4   0.750     2     4    3   \n29007  18.116667    4   0.444     5    0.200    0   0.000     0     1    0   \n29014  32.516667    8   0.667     6    0.667    0   0.000     0     5    1   \n29015  23.950000    1   0.125     1    0.000    4   1.000     1     4    6   \n29018  38.423333    0   0.000     2    0.000    0   0.000     0     6    0   \n29023  22.243333    1   0.143     4    0.250    0   0.000     1     4    0   \n29034   0.826667    0   0.000     0    0.000    0   0.000     0     0    0   \n29042  44.923333    9   0.474     2    0.500   11   0.909     3     7    6   \n29101  22.333333    1   0.111     1    0.000    3   1.000     1     1    6   \n29110  35.533333    8   0.533     0    0.000    0   0.000     2     6    2   \n29121  25.666667    3   0.273     3    0.333    2   1.000     1     3    8   \n29124  39.233333    7   0.500     6    0.500    8   0.875     2     5    4   \n29136   4.800000    0   0.000     0    0.000    0   0.000     0     1    0   \n29145   1.200000    0   0.000     1    0.000    0   0.000     0     0    0   \n29156   0.231667    0   0.000     0    0.000    0   0.000     0     0    0   \n29157  28.250000    2   0.250     1    1.000    0   0.000     0     3    0   \n29158  37.701667    4   0.364     1    0.000   13   1.000     1     5    2   \n29160  30.550000    6   0.667     6    0.667    2   1.000     0     1    0   \n29167  14.500000    1   0.200     1    0.000    0   0.000     1     2    2   \n\n       TOV  STL  BLK  BLKA  PF  PLUS_MINUS  DD2  TD3        PIE        PER  \n28590    0    1    0     1   3         -14    0    0  14.084507  13.328478  \n28595    0    1    0     0   3          -5    0    0   4.225352  11.301110  \n28602    4    2    0     0   2          -7    0    0  16.197183  17.497227  \n28603    1    0    0     0   3           4    0    0  -2.816901  -8.551097  \n28622    0    1    0     0   2         -15    0    0  15.492958  10.200409  \n28623    0    2    1     0   1           0    0    0  13.380282  19.697599  \n28625    0    2    0     2   3          -4    0    0  18.309859  20.753052  \n28629    0    0    0     0   2          -6    0    0   9.859155  11.074417  \n28639    1    0    0     0   5          -3    0    0  11.267606  16.029909  \n28739    0    1    0     0   0           0    0    0   1.351351  97.994545  \n28742    0    0    0     0   0          -1    0    0   0.000000   0.000000  \n28753    2    1    0     2   5         -13    1    0  43.918919  40.680356  \n28763    1    1    0     1   3         -15    1    0  21.621622  18.982696  \n28775    1    1    1     2   3           5    0    0   1.351351   7.173935  \n28779    1    0    0     2   3         -16    0    0  11.486486   8.028936  \n28788    1    1    0     1   6           1    0    0  -2.702703   0.763577  \n28791    0    0    0     0   0          -1    0    0   0.000000   0.000000  \n28796    1    1    2     0   1          -8    0    0   0.675676   5.990314  \n28802    1    1    0     0   0          -4    0    0   4.054054   2.520696  \n28803    0    1    0     1   2          -7    0    0  13.513514  13.208476  \n28804    1    1    1     1   2          -1    0    0   4.729730   6.540365  \n28883    1    2    0     0   1           8    0    0  24.271845  42.870000  \n28884    1    0    0     0   4           7    0    0  -4.854369 -11.430099  \n28897    0    0    0     0   0           7    0    0  12.621359  25.033320  \n28899    0    1    2     0   2          12    0    0  11.165049  13.539225  \n28906    1    1    1     1   4           8    0    0  -1.456311   3.977166  \n28907    3    0    0     0   4           6    1    0  23.786408  40.899732  \n28914    4    1    1     0   4           9    0    0   7.766990  12.139146  \n28927    1    1    0     0   3          15    0    0   9.708738  12.287663  \n28928    1    1    1     0   2          -2    1    0  16.990291  21.391900  \n28999    0    0    0     0   1          -8    0    0   1.204819  13.477647  \n29000    1    0    0     1   3           8    0    0  20.481928  30.939958  \n29002    1    0    0     2   2          23    0    0  19.277108  22.911055  \n29007    0    0    0     0   4         -19    0    0   1.204819   8.028960  \n29014    1    0    0     0   3          15    0    0  21.686747  22.768047  \n29015    4    0    0     1   3          -9    0    0   3.012048   1.583716  \n29018    2    0    0     0   3          -3    0    0  -3.614458  -5.929574  \n29023    0    2    0     0   1          -6    0    0   3.012048   4.098531  \n29034    0    0    0     0   0           0    0    0   0.000000   0.000000  \n29042    4    2    1     1   3          -6    1    0  33.734940  26.486481  \n29101    0    0    0     1   1          -5    0    0   4.191617   7.061642  \n29110    2    0    1     2   3          -6    0    0  16.167665  14.881801  \n29121    0    0    0     1   3          -9    0    0  11.377246  15.540078  \n29124    1    2    0     0   2         -13    0    0  29.940120  28.045208  \n29136    0    0    0     0   0          -9    0    0   0.000000  -5.100625  \n29145    0    0    0     0   0          -2    0    0  -2.395210 -65.316667  \n29156    0    0    0     0   0           0    0    0   0.000000   0.000000  \n29157    0    1    0     1   3         -15    0    0   0.000000   1.236566  \n29158    3    3    0     2   4         -15    0    0  20.958084  20.998488  \n29160    1    1    0     0   2           3    0    0  16.766467  22.224779  \n29167    0    0    0     0   0           1    0    0   2.994012   4.628138  ",
      "text/html": "<div>\n<style scoped>\n    .dataframe tbody tr th:only-of-type {\n        vertical-align: middle;\n    }\n\n    .dataframe tbody tr th {\n        vertical-align: top;\n    }\n\n    .dataframe thead th {\n        text-align: right;\n    }\n</style>\n<table border=\"1\" class=\"dataframe\">\n  <thead>\n    <tr style=\"text-align: right;\">\n      <th></th>\n      <th>MIN</th>\n      <th>FGM</th>\n      <th>FG_PCT</th>\n      <th>FG3A</th>\n      <th>FG3_PCT</th>\n      <th>FTA</th>\n      <th>FT_PCT</th>\n      <th>OREB</th>\n      <th>DREB</th>\n      <th>AST</th>\n      <th>TOV</th>\n      <th>STL</th>\n      <th>BLK</th>\n      <th>BLKA</th>\n      <th>PF</th>\n      <th>PLUS_MINUS</th>\n      <th>DD2</th>\n      <th>TD3</th>\n      <th>PIE</th>\n      <th>PER</th>\n    </tr>\n  </thead>\n  <tbody>\n    <tr>\n      <th>28590</th>\n      <td>39.111667</td>\n      <td>7</td>\n      <td>0.368</td>\n      <td>0</td>\n      <td>0.000</td>\n      <td>4</td>\n      <td>0.500</td>\n      <td>4</td>\n      <td>5</td>\n      <td>3</td>\n      <td>0</td>\n      <td>1</td>\n      <td>0</td>\n      <td>1</td>\n      <td>3</td>\n      <td>-14</td>\n      <td>0</td>\n      <td>0</td>\n      <td>14.084507</td>\n      <td>13.328478</td>\n    </tr>\n    <tr>\n      <th>28595</th>\n      <td>15.916667</td>\n      <td>2</td>\n      <td>0.500</td>\n      <td>2</td>\n      <td>0.000</td>\n      <td>0</td>\n      <td>0.000</td>\n      <td>0</td>\n      <td>1</td>\n      <td>2</td>\n      <td>0</td>\n      <td>1</td>\n      <td>0</td>\n      <td>0</td>\n      <td>3</td>\n      <td>-5</td>\n      <td>0</td>\n      <td>0</td>\n      <td>4.225352</td>\n      <td>11.301110</td>\n    </tr>\n    <tr>\n      <th>28602</th>\n      <td>24.283333</td>\n      <td>6</td>\n      <td>0.429</td>\n      <td>2</td>\n      <td>0.000</td>\n      <td>2</td>\n      <td>1.000</td>\n      <td>1</td>\n      <td>4</td>\n      <td>5</td>\n      <td>4</td>\n      <td>2</td>\n      <td>0</td>\n      <td>0</td>\n      <td>2</td>\n      <td>-7</td>\n      <td>0</td>\n      <td>0</td>\n      <td>16.197183</td>\n      <td>17.497227</td>\n    </tr>\n    <tr>\n      <th>28603</th>\n      <td>8.888333</td>\n      <td>0</td>\n      <td>0.000</td>\n      <td>0</td>\n      <td>0.000</td>\n      <td>0</td>\n      <td>0.000</td>\n      <td>0</td>\n      <td>2</td>\n      <td>0</td>\n      <td>1</td>\n      <td>0</td>\n      <td>0</td>\n      <td>0</td>\n      <td>3</td>\n      <td>4</td>\n      <td>0</td>\n      <td>0</td>\n      <td>-2.816901</td>\n      <td>-8.551097</td>\n    </tr>\n    <tr>\n      <th>28622</th>\n      <td>43.983333</td>\n      <td>3</td>\n      <td>0.375</td>\n      <td>3</td>\n      <td>0.333</td>\n      <td>4</td>\n      <td>1.000</td>\n      <td>0</td>\n      <td>4</td>\n      <td>2</td>\n      <td>0</td>\n      <td>1</td>\n      <td>0</td>\n      <td>0</td>\n      <td>2</td>\n      <td>-15</td>\n      <td>0</td>\n      <td>0</td>\n      <td>15.492958</td>\n      <td>10.200409</td>\n    </tr>\n    <tr>\n      <th>28623</th>\n      <td>24.433333</td>\n      <td>3</td>\n      <td>0.500</td>\n      <td>2</td>\n      <td>1.000</td>\n      <td>0</td>\n      <td>0.000</td>\n      <td>2</td>\n      <td>2</td>\n      <td>0</td>\n      <td>0</td>\n      <td>2</td>\n      <td>1</td>\n      <td>0</td>\n      <td>1</td>\n      <td>0</td>\n      <td>0</td>\n      <td>0</td>\n      <td>13.380282</td>\n      <td>19.697599</td>\n    </tr>\n    <tr>\n      <th>28625</th>\n      <td>29.216667</td>\n      <td>3</td>\n      <td>0.273</td>\n      <td>5</td>\n      <td>0.400</td>\n      <td>6</td>\n      <td>1.000</td>\n      <td>2</td>\n      <td>5</td>\n      <td>2</td>\n      <td>0</td>\n      <td>2</td>\n      <td>0</td>\n      <td>2</td>\n      <td>3</td>\n      <td>-4</td>\n      <td>0</td>\n      <td>0</td>\n      <td>18.309859</td>\n      <td>20.753052</td>\n    </tr>\n    <tr>\n      <th>28629</th>\n      <td>30.450000</td>\n      <td>6</td>\n      <td>0.462</td>\n      <td>4</td>\n      <td>0.250</td>\n      <td>1</td>\n      <td>0.000</td>\n      <td>0</td>\n      <td>2</td>\n      <td>2</td>\n      <td>0</td>\n      <td>0</td>\n      <td>0</td>\n      <td>0</td>\n      <td>2</td>\n      <td>-6</td>\n      <td>0</td>\n      <td>0</td>\n      <td>9.859155</td>\n      <td>11.074417</td>\n    </tr>\n    <tr>\n      <th>28639</th>\n      <td>23.716667</td>\n      <td>5</td>\n      <td>0.500</td>\n      <td>4</td>\n      <td>0.500</td>\n      <td>0</td>\n      <td>0.000</td>\n      <td>0</td>\n      <td>3</td>\n      <td>4</td>\n      <td>1</td>\n      <td>0</td>\n      <td>0</td>\n      <td>0</td>\n      <td>5</td>\n      <td>-3</td>\n      <td>0</td>\n      <td>0</td>\n      <td>11.267606</td>\n      <td>16.029909</td>\n    </tr>\n    <tr>\n      <th>28739</th>\n      <td>0.550000</td>\n      <td>0</td>\n      <td>0.000</td>\n      <td>0</td>\n      <td>0.000</td>\n      <td>0</td>\n      <td>0.000</td>\n      <td>0</td>\n      <td>0</td>\n      <td>0</td>\n      <td>0</td>\n      <td>1</td>\n      <td>0</td>\n      <td>0</td>\n      <td>0</td>\n      <td>0</td>\n      <td>0</td>\n      <td>0</td>\n      <td>1.351351</td>\n      <td>97.994545</td>\n    </tr>\n    <tr>\n      <th>28742</th>\n      <td>0.590000</td>\n      <td>0</td>\n      <td>0.000</td>\n      <td>0</td>\n      <td>0.000</td>\n      <td>0</td>\n      <td>0.000</td>\n      <td>0</td>\n      <td>0</td>\n      <td>0</td>\n      <td>0</td>\n      <td>0</td>\n      <td>0</td>\n      <td>0</td>\n      <td>0</td>\n      <td>-1</td>\n      <td>0</td>\n      <td>0</td>\n      <td>0.000000</td>\n      <td>0.000000</td>\n    </tr>\n    <tr>\n      <th>28753</th>\n      <td>39.843333</td>\n      <td>16</td>\n      <td>0.615</td>\n      <td>1</td>\n      <td>0.000</td>\n      <td>10</td>\n      <td>0.700</td>\n      <td>9</td>\n      <td>6</td>\n      <td>2</td>\n      <td>2</td>\n      <td>1</td>\n      <td>0</td>\n      <td>2</td>\n      <td>5</td>\n      <td>-13</td>\n      <td>1</td>\n      <td>0</td>\n      <td>43.918919</td>\n      <td>40.680356</td>\n    </tr>\n    <tr>\n      <th>28763</th>\n      <td>30.358333</td>\n      <td>6</td>\n      <td>0.375</td>\n      <td>3</td>\n      <td>0.000</td>\n      <td>1</td>\n      <td>0.000</td>\n      <td>0</td>\n      <td>5</td>\n      <td>13</td>\n      <td>1</td>\n      <td>1</td>\n      <td>0</td>\n      <td>1</td>\n      <td>3</td>\n      <td>-15</td>\n      <td>1</td>\n      <td>0</td>\n      <td>21.621622</td>\n      <td>18.982696</td>\n    </tr>\n    <tr>\n      <th>28775</th>\n      <td>17.456667</td>\n      <td>1</td>\n      <td>0.333</td>\n      <td>0</td>\n      <td>0.000</td>\n      <td>2</td>\n      <td>0.500</td>\n      <td>1</td>\n      <td>2</td>\n      <td>1</td>\n      <td>1</td>\n      <td>1</td>\n      <td>1</td>\n      <td>2</td>\n      <td>3</td>\n      <td>5</td>\n      <td>0</td>\n      <td>0</td>\n      <td>1.351351</td>\n      <td>7.173935</td>\n    </tr>\n    <tr>\n      <th>28779</th>\n      <td>37.093333</td>\n      <td>6</td>\n      <td>0.462</td>\n      <td>2</td>\n      <td>0.000</td>\n      <td>0</td>\n      <td>0.000</td>\n      <td>1</td>\n      <td>6</td>\n      <td>1</td>\n      <td>1</td>\n      <td>0</td>\n      <td>0</td>\n      <td>2</td>\n      <td>3</td>\n      <td>-16</td>\n      <td>0</td>\n      <td>0</td>\n      <td>11.486486</td>\n      <td>8.028936</td>\n    </tr>\n    <tr>\n      <th>28788</th>\n      <td>20.033333</td>\n      <td>2</td>\n      <td>0.400</td>\n      <td>1</td>\n      <td>0.000</td>\n      <td>0</td>\n      <td>0.000</td>\n      <td>0</td>\n      <td>2</td>\n      <td>1</td>\n      <td>1</td>\n      <td>1</td>\n      <td>0</td>\n      <td>1</td>\n      <td>6</td>\n      <td>1</td>\n      <td>0</td>\n      <td>0</td>\n      <td>-2.702703</td>\n      <td>0.763577</td>\n    </tr>\n    <tr>\n      <th>28791</th>\n      <td>0.590000</td>\n      <td>0</td>\n      <td>0.000</td>\n      <td>0</td>\n      <td>0.000</td>\n      <td>0</td>\n      <td>0.000</td>\n      <td>0</td>\n      <td>0</td>\n      <td>0</td>\n      <td>0</td>\n      <td>0</td>\n      <td>0</td>\n      <td>0</td>\n      <td>0</td>\n      <td>-1</td>\n      <td>0</td>\n      <td>0</td>\n      <td>0.000000</td>\n      <td>0.000000</td>\n    </tr>\n    <tr>\n      <th>28796</th>\n      <td>18.583333</td>\n      <td>1</td>\n      <td>0.143</td>\n      <td>3</td>\n      <td>0.333</td>\n      <td>2</td>\n      <td>1.000</td>\n      <td>1</td>\n      <td>1</td>\n      <td>0</td>\n      <td>1</td>\n      <td>1</td>\n      <td>2</td>\n      <td>0</td>\n      <td>1</td>\n      <td>-8</td>\n      <td>0</td>\n      <td>0</td>\n      <td>0.675676</td>\n      <td>5.990314</td>\n    </tr>\n    <tr>\n      <th>28802</th>\n      <td>21.251667</td>\n      <td>1</td>\n      <td>0.143</td>\n      <td>1</td>\n      <td>0.000</td>\n      <td>0</td>\n      <td>0.000</td>\n      <td>0</td>\n      <td>2</td>\n      <td>5</td>\n      <td>1</td>\n      <td>1</td>\n      <td>0</td>\n      <td>0</td>\n      <td>0</td>\n      <td>-4</td>\n      <td>0</td>\n      <td>0</td>\n      <td>4.054054</td>\n      <td>2.520696</td>\n    </tr>\n    <tr>\n      <th>28803</th>\n      <td>34.450000</td>\n      <td>5</td>\n      <td>0.556</td>\n      <td>2</td>\n      <td>0.500</td>\n      <td>1</td>\n      <td>1.000</td>\n      <td>0</td>\n      <td>2</td>\n      <td>1</td>\n      <td>0</td>\n      <td>1</td>\n      <td>0</td>\n      <td>1</td>\n      <td>2</td>\n      <td>-7</td>\n      <td>0</td>\n      <td>0</td>\n      <td>13.513514</td>\n      <td>13.208476</td>\n    </tr>\n    <tr>\n      <th>28804</th>\n      <td>19.200000</td>\n      <td>2</td>\n      <td>0.333</td>\n      <td>2</td>\n      <td>0.000</td>\n      <td>1</td>\n      <td>1.000</td>\n      <td>0</td>\n      <td>4</td>\n      <td>0</td>\n      <td>1</td>\n      <td>1</td>\n      <td>1</td>\n      <td>1</td>\n      <td>2</td>\n      <td>-1</td>\n      <td>0</td>\n      <td>0</td>\n      <td>4.729730</td>\n      <td>6.540365</td>\n    </tr>\n    <tr>\n      <th>28883</th>\n      <td>23.133333</td>\n      <td>7</td>\n      <td>0.636</td>\n      <td>1</td>\n      <td>1.000</td>\n      <td>6</td>\n      <td>1.000</td>\n      <td>0</td>\n      <td>5</td>\n      <td>3</td>\n      <td>1</td>\n      <td>2</td>\n      <td>0</td>\n      <td>0</td>\n      <td>1</td>\n      <td>8</td>\n      <td>0</td>\n      <td>0</td>\n      <td>24.271845</td>\n      <td>42.870000</td>\n    </tr>\n    <tr>\n      <th>28884</th>\n      <td>10.066667</td>\n      <td>1</td>\n      <td>0.333</td>\n      <td>0</td>\n      <td>0.000</td>\n      <td>0</td>\n      <td>0.000</td>\n      <td>0</td>\n      <td>0</td>\n      <td>0</td>\n      <td>1</td>\n      <td>0</td>\n      <td>0</td>\n      <td>0</td>\n      <td>4</td>\n      <td>7</td>\n      <td>0</td>\n      <td>0</td>\n      <td>-4.854369</td>\n      <td>-11.430099</td>\n    </tr>\n    <tr>\n      <th>28897</th>\n      <td>24.250000</td>\n      <td>6</td>\n      <td>0.600</td>\n      <td>6</td>\n      <td>0.500</td>\n      <td>0</td>\n      <td>0.000</td>\n      <td>2</td>\n      <td>1</td>\n      <td>0</td>\n      <td>0</td>\n      <td>0</td>\n      <td>0</td>\n      <td>0</td>\n      <td>0</td>\n      <td>7</td>\n      <td>0</td>\n      <td>0</td>\n      <td>12.621359</td>\n      <td>25.033320</td>\n    </tr>\n    <tr>\n      <th>28899</th>\n      <td>37.055000</td>\n      <td>4</td>\n      <td>0.400</td>\n      <td>4</td>\n      <td>0.250</td>\n      <td>2</td>\n      <td>0.500</td>\n      <td>1</td>\n      <td>5</td>\n      <td>3</td>\n      <td>0</td>\n      <td>1</td>\n      <td>2</td>\n      <td>0</td>\n      <td>2</td>\n      <td>12</td>\n      <td>0</td>\n      <td>0</td>\n      <td>11.165049</td>\n      <td>13.539225</td>\n    </tr>\n    <tr>\n      <th>28906</th>\n      <td>23.021667</td>\n      <td>4</td>\n      <td>0.364</td>\n      <td>5</td>\n      <td>0.200</td>\n      <td>0</td>\n      <td>0.000</td>\n      <td>0</td>\n      <td>0</td>\n      <td>0</td>\n      <td>1</td>\n      <td>1</td>\n      <td>1</td>\n      <td>1</td>\n      <td>4</td>\n      <td>8</td>\n      <td>0</td>\n      <td>0</td>\n      <td>-1.456311</td>\n      <td>3.977166</td>\n    </tr>\n    <tr>\n      <th>28907</th>\n      <td>24.866667</td>\n      <td>6</td>\n      <td>0.545</td>\n      <td>8</td>\n      <td>0.500</td>\n      <td>2</td>\n      <td>1.000</td>\n      <td>3</td>\n      <td>4</td>\n      <td>13</td>\n      <td>3</td>\n      <td>0</td>\n      <td>0</td>\n      <td>0</td>\n      <td>4</td>\n      <td>6</td>\n      <td>1</td>\n      <td>0</td>\n      <td>23.786408</td>\n      <td>40.899732</td>\n    </tr>\n    <tr>\n      <th>28914</th>\n      <td>37.198333</td>\n      <td>6</td>\n      <td>0.429</td>\n      <td>3</td>\n      <td>0.000</td>\n      <td>4</td>\n      <td>0.750</td>\n      <td>3</td>\n      <td>2</td>\n      <td>5</td>\n      <td>4</td>\n      <td>1</td>\n      <td>1</td>\n      <td>0</td>\n      <td>4</td>\n      <td>9</td>\n      <td>0</td>\n      <td>0</td>\n      <td>7.766990</td>\n      <td>12.139146</td>\n    </tr>\n    <tr>\n      <th>28927</th>\n      <td>27.073333</td>\n      <td>3</td>\n      <td>0.500</td>\n      <td>4</td>\n      <td>0.250</td>\n      <td>0</td>\n      <td>0.000</td>\n      <td>0</td>\n      <td>6</td>\n      <td>3</td>\n      <td>1</td>\n      <td>1</td>\n      <td>0</td>\n      <td>0</td>\n      <td>3</td>\n      <td>15</td>\n      <td>0</td>\n      <td>0</td>\n      <td>9.708738</td>\n      <td>12.287663</td>\n    </tr>\n    <tr>\n      <th>28928</th>\n      <td>33.335000</td>\n      <td>5</td>\n      <td>0.556</td>\n      <td>3</td>\n      <td>0.333</td>\n      <td>0</td>\n      <td>0.000</td>\n      <td>4</td>\n      <td>6</td>\n      <td>4</td>\n      <td>1</td>\n      <td>1</td>\n      <td>1</td>\n      <td>0</td>\n      <td>2</td>\n      <td>-2</td>\n      <td>1</td>\n      <td>0</td>\n      <td>16.990291</td>\n      <td>21.391900</td>\n    </tr>\n    <tr>\n      <th>28999</th>\n      <td>5.100000</td>\n      <td>1</td>\n      <td>1.000</td>\n      <td>0</td>\n      <td>0.000</td>\n      <td>0</td>\n      <td>0.000</td>\n      <td>0</td>\n      <td>0</td>\n      <td>0</td>\n      <td>0</td>\n      <td>0</td>\n      <td>0</td>\n      <td>0</td>\n      <td>1</td>\n      <td>-8</td>\n      <td>0</td>\n      <td>0</td>\n      <td>1.204819</td>\n      <td>13.477647</td>\n    </tr>\n    <tr>\n      <th>29000</th>\n      <td>24.050000</td>\n      <td>7</td>\n      <td>0.636</td>\n      <td>5</td>\n      <td>0.600</td>\n      <td>1</td>\n      <td>1.000</td>\n      <td>0</td>\n      <td>2</td>\n      <td>5</td>\n      <td>1</td>\n      <td>0</td>\n      <td>0</td>\n      <td>1</td>\n      <td>3</td>\n      <td>8</td>\n      <td>0</td>\n      <td>0</td>\n      <td>20.481928</td>\n      <td>30.939958</td>\n    </tr>\n    <tr>\n      <th>29002</th>\n      <td>29.850000</td>\n      <td>6</td>\n      <td>0.600</td>\n      <td>4</td>\n      <td>0.250</td>\n      <td>4</td>\n      <td>0.750</td>\n      <td>2</td>\n      <td>4</td>\n      <td>3</td>\n      <td>1</td>\n      <td>0</td>\n      <td>0</td>\n      <td>2</td>\n      <td>2</td>\n      <td>23</td>\n      <td>0</td>\n      <td>0</td>\n      <td>19.277108</td>\n      <td>22.911055</td>\n    </tr>\n    <tr>\n      <th>29007</th>\n      <td>18.116667</td>\n      <td>4</td>\n      <td>0.444</td>\n      <td>5</td>\n      <td>0.200</td>\n      <td>0</td>\n      <td>0.000</td>\n      <td>0</td>\n      <td>1</td>\n      <td>0</td>\n      <td>0</td>\n      <td>0</td>\n      <td>0</td>\n      <td>0</td>\n      <td>4</td>\n      <td>-19</td>\n      <td>0</td>\n      <td>0</td>\n      <td>1.204819</td>\n      <td>8.028960</td>\n    </tr>\n    <tr>\n      <th>29014</th>\n      <td>32.516667</td>\n      <td>8</td>\n      <td>0.667</td>\n      <td>6</td>\n      <td>0.667</td>\n      <td>0</td>\n      <td>0.000</td>\n      <td>0</td>\n      <td>5</td>\n      <td>1</td>\n      <td>1</td>\n      <td>0</td>\n      <td>0</td>\n      <td>0</td>\n      <td>3</td>\n      <td>15</td>\n      <td>0</td>\n      <td>0</td>\n      <td>21.686747</td>\n      <td>22.768047</td>\n    </tr>\n    <tr>\n      <th>29015</th>\n      <td>23.950000</td>\n      <td>1</td>\n      <td>0.125</td>\n      <td>1</td>\n      <td>0.000</td>\n      <td>4</td>\n      <td>1.000</td>\n      <td>1</td>\n      <td>4</td>\n      <td>6</td>\n      <td>4</td>\n      <td>0</td>\n      <td>0</td>\n      <td>1</td>\n      <td>3</td>\n      <td>-9</td>\n      <td>0</td>\n      <td>0</td>\n      <td>3.012048</td>\n      <td>1.583716</td>\n    </tr>\n    <tr>\n      <th>29018</th>\n      <td>38.423333</td>\n      <td>0</td>\n      <td>0.000</td>\n      <td>2</td>\n      <td>0.000</td>\n      <td>0</td>\n      <td>0.000</td>\n      <td>0</td>\n      <td>6</td>\n      <td>0</td>\n      <td>2</td>\n      <td>0</td>\n      <td>0</td>\n      <td>0</td>\n      <td>3</td>\n      <td>-3</td>\n      <td>0</td>\n      <td>0</td>\n      <td>-3.614458</td>\n      <td>-5.929574</td>\n    </tr>\n    <tr>\n      <th>29023</th>\n      <td>22.243333</td>\n      <td>1</td>\n      <td>0.143</td>\n      <td>4</td>\n      <td>0.250</td>\n      <td>0</td>\n      <td>0.000</td>\n      <td>1</td>\n      <td>4</td>\n      <td>0</td>\n      <td>0</td>\n      <td>2</td>\n      <td>0</td>\n      <td>0</td>\n      <td>1</td>\n      <td>-6</td>\n      <td>0</td>\n      <td>0</td>\n      <td>3.012048</td>\n      <td>4.098531</td>\n    </tr>\n    <tr>\n      <th>29034</th>\n      <td>0.826667</td>\n      <td>0</td>\n      <td>0.000</td>\n      <td>0</td>\n      <td>0.000</td>\n      <td>0</td>\n      <td>0.000</td>\n      <td>0</td>\n      <td>0</td>\n      <td>0</td>\n      <td>0</td>\n      <td>0</td>\n      <td>0</td>\n      <td>0</td>\n      <td>0</td>\n      <td>0</td>\n      <td>0</td>\n      <td>0</td>\n      <td>0.000000</td>\n      <td>0.000000</td>\n    </tr>\n    <tr>\n      <th>29042</th>\n      <td>44.923333</td>\n      <td>9</td>\n      <td>0.474</td>\n      <td>2</td>\n      <td>0.500</td>\n      <td>11</td>\n      <td>0.909</td>\n      <td>3</td>\n      <td>7</td>\n      <td>6</td>\n      <td>4</td>\n      <td>2</td>\n      <td>1</td>\n      <td>1</td>\n      <td>3</td>\n      <td>-6</td>\n      <td>1</td>\n      <td>0</td>\n      <td>33.734940</td>\n      <td>26.486481</td>\n    </tr>\n    <tr>\n      <th>29101</th>\n      <td>22.333333</td>\n      <td>1</td>\n      <td>0.111</td>\n      <td>1</td>\n      <td>0.000</td>\n      <td>3</td>\n      <td>1.000</td>\n      <td>1</td>\n      <td>1</td>\n      <td>6</td>\n      <td>0</td>\n      <td>0</td>\n      <td>0</td>\n      <td>1</td>\n      <td>1</td>\n      <td>-5</td>\n      <td>0</td>\n      <td>0</td>\n      <td>4.191617</td>\n      <td>7.061642</td>\n    </tr>\n    <tr>\n      <th>29110</th>\n      <td>35.533333</td>\n      <td>8</td>\n      <td>0.533</td>\n      <td>0</td>\n      <td>0.000</td>\n      <td>0</td>\n      <td>0.000</td>\n      <td>2</td>\n      <td>6</td>\n      <td>2</td>\n      <td>2</td>\n      <td>0</td>\n      <td>1</td>\n      <td>2</td>\n      <td>3</td>\n      <td>-6</td>\n      <td>0</td>\n      <td>0</td>\n      <td>16.167665</td>\n      <td>14.881801</td>\n    </tr>\n    <tr>\n      <th>29121</th>\n      <td>25.666667</td>\n      <td>3</td>\n      <td>0.273</td>\n      <td>3</td>\n      <td>0.333</td>\n      <td>2</td>\n      <td>1.000</td>\n      <td>1</td>\n      <td>3</td>\n      <td>8</td>\n      <td>0</td>\n      <td>0</td>\n      <td>0</td>\n      <td>1</td>\n      <td>3</td>\n      <td>-9</td>\n      <td>0</td>\n      <td>0</td>\n      <td>11.377246</td>\n      <td>15.540078</td>\n    </tr>\n    <tr>\n      <th>29124</th>\n      <td>39.233333</td>\n      <td>7</td>\n      <td>0.500</td>\n      <td>6</td>\n      <td>0.500</td>\n      <td>8</td>\n      <td>0.875</td>\n      <td>2</td>\n      <td>5</td>\n      <td>4</td>\n      <td>1</td>\n      <td>2</td>\n      <td>0</td>\n      <td>0</td>\n      <td>2</td>\n      <td>-13</td>\n      <td>0</td>\n      <td>0</td>\n      <td>29.940120</td>\n      <td>28.045208</td>\n    </tr>\n    <tr>\n      <th>29136</th>\n      <td>4.800000</td>\n      <td>0</td>\n      <td>0.000</td>\n      <td>0</td>\n      <td>0.000</td>\n      <td>0</td>\n      <td>0.000</td>\n      <td>0</td>\n      <td>1</td>\n      <td>0</td>\n      <td>0</td>\n      <td>0</td>\n      <td>0</td>\n      <td>0</td>\n      <td>0</td>\n      <td>-9</td>\n      <td>0</td>\n      <td>0</td>\n      <td>0.000000</td>\n      <td>-5.100625</td>\n    </tr>\n    <tr>\n      <th>29145</th>\n      <td>1.200000</td>\n      <td>0</td>\n      <td>0.000</td>\n      <td>1</td>\n      <td>0.000</td>\n      <td>0</td>\n      <td>0.000</td>\n      <td>0</td>\n      <td>0</td>\n      <td>0</td>\n      <td>0</td>\n      <td>0</td>\n      <td>0</td>\n      <td>0</td>\n      <td>0</td>\n      <td>-2</td>\n      <td>0</td>\n      <td>0</td>\n      <td>-2.395210</td>\n      <td>-65.316667</td>\n    </tr>\n    <tr>\n      <th>29156</th>\n      <td>0.231667</td>\n      <td>0</td>\n      <td>0.000</td>\n      <td>0</td>\n      <td>0.000</td>\n      <td>0</td>\n      <td>0.000</td>\n      <td>0</td>\n      <td>0</td>\n      <td>0</td>\n      <td>0</td>\n      <td>0</td>\n      <td>0</td>\n      <td>0</td>\n      <td>0</td>\n      <td>0</td>\n      <td>0</td>\n      <td>0</td>\n      <td>0.000000</td>\n      <td>0.000000</td>\n    </tr>\n    <tr>\n      <th>29157</th>\n      <td>28.250000</td>\n      <td>2</td>\n      <td>0.250</td>\n      <td>1</td>\n      <td>1.000</td>\n      <td>0</td>\n      <td>0.000</td>\n      <td>0</td>\n      <td>3</td>\n      <td>0</td>\n      <td>0</td>\n      <td>1</td>\n      <td>0</td>\n      <td>1</td>\n      <td>3</td>\n      <td>-15</td>\n      <td>0</td>\n      <td>0</td>\n      <td>0.000000</td>\n      <td>1.236566</td>\n    </tr>\n    <tr>\n      <th>29158</th>\n      <td>37.701667</td>\n      <td>4</td>\n      <td>0.364</td>\n      <td>1</td>\n      <td>0.000</td>\n      <td>13</td>\n      <td>1.000</td>\n      <td>1</td>\n      <td>5</td>\n      <td>2</td>\n      <td>3</td>\n      <td>3</td>\n      <td>0</td>\n      <td>2</td>\n      <td>4</td>\n      <td>-15</td>\n      <td>0</td>\n      <td>0</td>\n      <td>20.958084</td>\n      <td>20.998488</td>\n    </tr>\n    <tr>\n      <th>29160</th>\n      <td>30.550000</td>\n      <td>6</td>\n      <td>0.667</td>\n      <td>6</td>\n      <td>0.667</td>\n      <td>2</td>\n      <td>1.000</td>\n      <td>0</td>\n      <td>1</td>\n      <td>0</td>\n      <td>1</td>\n      <td>1</td>\n      <td>0</td>\n      <td>0</td>\n      <td>2</td>\n      <td>3</td>\n      <td>0</td>\n      <td>0</td>\n      <td>16.766467</td>\n      <td>22.224779</td>\n    </tr>\n    <tr>\n      <th>29167</th>\n      <td>14.500000</td>\n      <td>1</td>\n      <td>0.200</td>\n      <td>1</td>\n      <td>0.000</td>\n      <td>0</td>\n      <td>0.000</td>\n      <td>1</td>\n      <td>2</td>\n      <td>2</td>\n      <td>0</td>\n      <td>0</td>\n      <td>0</td>\n      <td>0</td>\n      <td>0</td>\n      <td>1</td>\n      <td>0</td>\n      <td>0</td>\n      <td>2.994012</td>\n      <td>4.628138</td>\n    </tr>\n  </tbody>\n</table>\n</div>"
     },
     "metadata": {}
    }
   ],
   "source": [
    "# Remove unwanted/useless features. anything over 80% was removed\n",
    "# unwanted_list_02 = ['PTS', 'FGA', 'FG3M', 'FTM', 'PFD', 'REB']\n",
    "unwanted_list_02 = ['PTS', 'FGA', 'FG3M', 'FTM', 'PFD', 'REB']\n",
    "\n",
    "for gameType in gameTypeListed_code:\n",
    "    if gameType == 0:\n",
    "        df_X_PreSeason = df_X_PreSeason.drop(unwanted_list_02, axis=1)\n",
    "    elif gameType == 1:\n",
    "        df_X_RegularSeason = df_X_RegularSeason.drop(unwanted_list_02, axis=1)\n",
    "    elif gameType == 2:\n",
    "        df_X_Playoffs = df_X_Playoffs.drop(unwanted_list_02, axis=1)\n",
    "\n",
    "\n",
    "# Remaining features and after removal of unwanted features in the dataframes\n",
    "# VALIDATION CODE \n",
    "if debug_active == 'yes':\n",
    "    display(df_X_PreSeason)\n",
    "    display(df_X_RegularSeason)\n",
    "    display(df_X_Playoffs)    "
   ]
  },
  {
   "source": [
    "# Section 6: Modeling and Analysis"
   ],
   "cell_type": "markdown",
   "metadata": {}
  },
  {
   "source": [
    "## Section 6.1: Prepare train and test data"
   ],
   "cell_type": "markdown",
   "metadata": {}
  },
  {
   "cell_type": "code",
   "execution_count": 17,
   "metadata": {},
   "outputs": [
    {
     "output_type": "stream",
     "name": "stdout",
     "text": [
      "(1694, 20) (1694, 1)\nSeason Type:  1\n"
     ]
    }
   ],
   "source": [
    "# Select a season \n",
    "# gameTypeListed = ['Pre Season', 'Regular Season', 'Playoffs']\n",
    "# gameTypeListed_code = [0, 1, 2]\n",
    "\n",
    "if gameTypeToProcess == 0:\n",
    "    X = df_X_PreSeason\n",
    "    Y = df_Y_PreSeason\n",
    "elif gameTypeToProcess == 1:\n",
    "    X = df_X_RegularSeason\n",
    "    Y = df_Y_RegularSeason\n",
    "elif gameTypeToProcess == 2:\n",
    "    X = df_X_Playoffs\n",
    "    Y = df_Y_Playoffs\n",
    "\n",
    "# # Split the code into training and test dataset 0.7/0.3\n",
    "# X_train, X_test, Y_train, Y_test = train_test_split(X,Y, test_size = test_size_val, random_state = random_state_val)\n",
    "\n",
    "X_test = X\n",
    "Y_test = Y\n",
    "\n",
    "# selectedSeasonRecordCount = X_train.shape[0] + X_test.shape[0]\n",
    "\n",
    "# VALIDATION CODE \n",
    "if debug_active == 'yes':\n",
    "    # Validate the split at a high level\n",
    "    # print(X_train.shape,Y_train.shape)\n",
    "    print(X_test.shape,Y_test.shape)\n",
    "    print('Season Type: ', gameTypeToProcess)\n",
    "    df_Encoded.to_csv('DAT205_Output_All.csv') \n",
    "    # X_train.to_csv('DAT205_Output_Split_X_train.csv') \n",
    "    X_test.to_csv('DAT205_Output_Split_X_test.csv') \n",
    "    # Y_train.to_csv('DAT205_Output_Split_Y_train.csv') \n",
    "    Y_test.to_csv('DAT205_Output_Split_Y_test.csv') \n",
    "    # display(X_train)\n",
    "    # display(Y_train)\n"
   ]
  },
  {
   "cell_type": "code",
   "execution_count": 18,
   "metadata": {},
   "outputs": [
    {
     "output_type": "display_data",
     "data": {
      "text/plain": "             MIN  FGM  FG_PCT  FG3A  FG3_PCT  FTA  FT_PCT  OREB  DREB  AST  \\\n2613   18.316667    7   0.778     1     1.00    3     1.0     0     0    3   \n2668   15.233333    3   0.375     1     0.00    2     1.0     2     4    2   \n2688   20.683333    5   0.455     4     0.25    2     1.0     0     1    0   \n2747   15.133333    1   0.500     0     0.00    0     0.0     0     1    2   \n2765   13.603333    3   0.500     0     0.00    0     0.0     0     1    0   \n...          ...  ...     ...   ...      ...  ...     ...   ...   ...  ...   \n56376  34.116667    7   0.467     1     0.00    3     1.0     2     6    4   \n56380  32.695000    5   0.556     5     0.60    0     0.0     0     2    7   \n56423   8.750000    2   0.286     0     0.00    0     0.0     2     0    0   \n56433  37.683333    3   0.273     5     0.60    0     0.0     0     1    3   \n56462  25.566667    6   0.750     4     0.75    0     0.0     0     2    0   \n\n       TOV  STL  BLK  BLKA  PF  PLUS_MINUS  DD2  TD3        PIE        PER  \n2613     2    4    0     0   0           3    0    0  30.656934  50.615487  \n2668     2    0    1     0   2           6    0    0   9.489051  17.007440  \n2688     1    1    1     1   4         -10    0    0   6.569343  15.715939  \n2747     0    0    0     0   3           5    0    0   1.459854   5.237379  \n2765     0    0    0     0   0          -4    0    0   5.839416  11.384489  \n...    ...  ...  ...   ...  ..         ...  ...  ...        ...        ...  \n56376    2    0    1     0   5           0    0    0  17.647059  16.978241  \n56380    1    1    0     2   5           4    0    0  16.993464  18.790151  \n56423    0    0    0     2   2           2    0    0  -2.614379   2.274514  \n56433    0    2    0     1   2          11    0    0   6.535948   7.739894  \n56462    2    0    0     0   1           9    0    0  15.686275  19.431434  \n\n[1694 rows x 20 columns]",
      "text/html": "<div>\n<style scoped>\n    .dataframe tbody tr th:only-of-type {\n        vertical-align: middle;\n    }\n\n    .dataframe tbody tr th {\n        vertical-align: top;\n    }\n\n    .dataframe thead th {\n        text-align: right;\n    }\n</style>\n<table border=\"1\" class=\"dataframe\">\n  <thead>\n    <tr style=\"text-align: right;\">\n      <th></th>\n      <th>MIN</th>\n      <th>FGM</th>\n      <th>FG_PCT</th>\n      <th>FG3A</th>\n      <th>FG3_PCT</th>\n      <th>FTA</th>\n      <th>FT_PCT</th>\n      <th>OREB</th>\n      <th>DREB</th>\n      <th>AST</th>\n      <th>TOV</th>\n      <th>STL</th>\n      <th>BLK</th>\n      <th>BLKA</th>\n      <th>PF</th>\n      <th>PLUS_MINUS</th>\n      <th>DD2</th>\n      <th>TD3</th>\n      <th>PIE</th>\n      <th>PER</th>\n    </tr>\n  </thead>\n  <tbody>\n    <tr>\n      <th>2613</th>\n      <td>18.316667</td>\n      <td>7</td>\n      <td>0.778</td>\n      <td>1</td>\n      <td>1.00</td>\n      <td>3</td>\n      <td>1.0</td>\n      <td>0</td>\n      <td>0</td>\n      <td>3</td>\n      <td>2</td>\n      <td>4</td>\n      <td>0</td>\n      <td>0</td>\n      <td>0</td>\n      <td>3</td>\n      <td>0</td>\n      <td>0</td>\n      <td>30.656934</td>\n      <td>50.615487</td>\n    </tr>\n    <tr>\n      <th>2668</th>\n      <td>15.233333</td>\n      <td>3</td>\n      <td>0.375</td>\n      <td>1</td>\n      <td>0.00</td>\n      <td>2</td>\n      <td>1.0</td>\n      <td>2</td>\n      <td>4</td>\n      <td>2</td>\n      <td>2</td>\n      <td>0</td>\n      <td>1</td>\n      <td>0</td>\n      <td>2</td>\n      <td>6</td>\n      <td>0</td>\n      <td>0</td>\n      <td>9.489051</td>\n      <td>17.007440</td>\n    </tr>\n    <tr>\n      <th>2688</th>\n      <td>20.683333</td>\n      <td>5</td>\n      <td>0.455</td>\n      <td>4</td>\n      <td>0.25</td>\n      <td>2</td>\n      <td>1.0</td>\n      <td>0</td>\n      <td>1</td>\n      <td>0</td>\n      <td>1</td>\n      <td>1</td>\n      <td>1</td>\n      <td>1</td>\n      <td>4</td>\n      <td>-10</td>\n      <td>0</td>\n      <td>0</td>\n      <td>6.569343</td>\n      <td>15.715939</td>\n    </tr>\n    <tr>\n      <th>2747</th>\n      <td>15.133333</td>\n      <td>1</td>\n      <td>0.500</td>\n      <td>0</td>\n      <td>0.00</td>\n      <td>0</td>\n      <td>0.0</td>\n      <td>0</td>\n      <td>1</td>\n      <td>2</td>\n      <td>0</td>\n      <td>0</td>\n      <td>0</td>\n      <td>0</td>\n      <td>3</td>\n      <td>5</td>\n      <td>0</td>\n      <td>0</td>\n      <td>1.459854</td>\n      <td>5.237379</td>\n    </tr>\n    <tr>\n      <th>2765</th>\n      <td>13.603333</td>\n      <td>3</td>\n      <td>0.500</td>\n      <td>0</td>\n      <td>0.00</td>\n      <td>0</td>\n      <td>0.0</td>\n      <td>0</td>\n      <td>1</td>\n      <td>0</td>\n      <td>0</td>\n      <td>0</td>\n      <td>0</td>\n      <td>0</td>\n      <td>0</td>\n      <td>-4</td>\n      <td>0</td>\n      <td>0</td>\n      <td>5.839416</td>\n      <td>11.384489</td>\n    </tr>\n    <tr>\n      <th>...</th>\n      <td>...</td>\n      <td>...</td>\n      <td>...</td>\n      <td>...</td>\n      <td>...</td>\n      <td>...</td>\n      <td>...</td>\n      <td>...</td>\n      <td>...</td>\n      <td>...</td>\n      <td>...</td>\n      <td>...</td>\n      <td>...</td>\n      <td>...</td>\n      <td>...</td>\n      <td>...</td>\n      <td>...</td>\n      <td>...</td>\n      <td>...</td>\n      <td>...</td>\n    </tr>\n    <tr>\n      <th>56376</th>\n      <td>34.116667</td>\n      <td>7</td>\n      <td>0.467</td>\n      <td>1</td>\n      <td>0.00</td>\n      <td>3</td>\n      <td>1.0</td>\n      <td>2</td>\n      <td>6</td>\n      <td>4</td>\n      <td>2</td>\n      <td>0</td>\n      <td>1</td>\n      <td>0</td>\n      <td>5</td>\n      <td>0</td>\n      <td>0</td>\n      <td>0</td>\n      <td>17.647059</td>\n      <td>16.978241</td>\n    </tr>\n    <tr>\n      <th>56380</th>\n      <td>32.695000</td>\n      <td>5</td>\n      <td>0.556</td>\n      <td>5</td>\n      <td>0.60</td>\n      <td>0</td>\n      <td>0.0</td>\n      <td>0</td>\n      <td>2</td>\n      <td>7</td>\n      <td>1</td>\n      <td>1</td>\n      <td>0</td>\n      <td>2</td>\n      <td>5</td>\n      <td>4</td>\n      <td>0</td>\n      <td>0</td>\n      <td>16.993464</td>\n      <td>18.790151</td>\n    </tr>\n    <tr>\n      <th>56423</th>\n      <td>8.750000</td>\n      <td>2</td>\n      <td>0.286</td>\n      <td>0</td>\n      <td>0.00</td>\n      <td>0</td>\n      <td>0.0</td>\n      <td>2</td>\n      <td>0</td>\n      <td>0</td>\n      <td>0</td>\n      <td>0</td>\n      <td>0</td>\n      <td>2</td>\n      <td>2</td>\n      <td>2</td>\n      <td>0</td>\n      <td>0</td>\n      <td>-2.614379</td>\n      <td>2.274514</td>\n    </tr>\n    <tr>\n      <th>56433</th>\n      <td>37.683333</td>\n      <td>3</td>\n      <td>0.273</td>\n      <td>5</td>\n      <td>0.60</td>\n      <td>0</td>\n      <td>0.0</td>\n      <td>0</td>\n      <td>1</td>\n      <td>3</td>\n      <td>0</td>\n      <td>2</td>\n      <td>0</td>\n      <td>1</td>\n      <td>2</td>\n      <td>11</td>\n      <td>0</td>\n      <td>0</td>\n      <td>6.535948</td>\n      <td>7.739894</td>\n    </tr>\n    <tr>\n      <th>56462</th>\n      <td>25.566667</td>\n      <td>6</td>\n      <td>0.750</td>\n      <td>4</td>\n      <td>0.75</td>\n      <td>0</td>\n      <td>0.0</td>\n      <td>0</td>\n      <td>2</td>\n      <td>0</td>\n      <td>2</td>\n      <td>0</td>\n      <td>0</td>\n      <td>0</td>\n      <td>1</td>\n      <td>9</td>\n      <td>0</td>\n      <td>0</td>\n      <td>15.686275</td>\n      <td>19.431434</td>\n    </tr>\n  </tbody>\n</table>\n<p>1694 rows × 20 columns</p>\n</div>"
     },
     "metadata": {}
    },
    {
     "output_type": "display_data",
     "data": {
      "text/plain": "       WL\n2613    0\n2668    0\n2688    0\n2747    0\n2765    0\n...    ..\n56376   1\n56380   1\n56423   1\n56433   1\n56462   1\n\n[1694 rows x 1 columns]",
      "text/html": "<div>\n<style scoped>\n    .dataframe tbody tr th:only-of-type {\n        vertical-align: middle;\n    }\n\n    .dataframe tbody tr th {\n        vertical-align: top;\n    }\n\n    .dataframe thead th {\n        text-align: right;\n    }\n</style>\n<table border=\"1\" class=\"dataframe\">\n  <thead>\n    <tr style=\"text-align: right;\">\n      <th></th>\n      <th>WL</th>\n    </tr>\n  </thead>\n  <tbody>\n    <tr>\n      <th>2613</th>\n      <td>0</td>\n    </tr>\n    <tr>\n      <th>2668</th>\n      <td>0</td>\n    </tr>\n    <tr>\n      <th>2688</th>\n      <td>0</td>\n    </tr>\n    <tr>\n      <th>2747</th>\n      <td>0</td>\n    </tr>\n    <tr>\n      <th>2765</th>\n      <td>0</td>\n    </tr>\n    <tr>\n      <th>...</th>\n      <td>...</td>\n    </tr>\n    <tr>\n      <th>56376</th>\n      <td>1</td>\n    </tr>\n    <tr>\n      <th>56380</th>\n      <td>1</td>\n    </tr>\n    <tr>\n      <th>56423</th>\n      <td>1</td>\n    </tr>\n    <tr>\n      <th>56433</th>\n      <td>1</td>\n    </tr>\n    <tr>\n      <th>56462</th>\n      <td>1</td>\n    </tr>\n  </tbody>\n</table>\n<p>1694 rows × 1 columns</p>\n</div>"
     },
     "metadata": {}
    }
   ],
   "source": [
    "# VALIDATION CODE \n",
    "if debug_active == 'yes':\n",
    "    display(X)\n",
    "    display(Y)"
   ]
  },
  {
   "source": [
    "## Section 6.4: Apply Random Forest Classifier on the split train/test dataset\n",
    "\n",
    "- https://scikit-learn.org/stable/modules/generated/sklearn.ensemble.RandomForestClassifier.html\n",
    "\n",
    "RandomForestClassifier(n_estimators=100, *, criterion='gini', max_depth=None, min_samples_split=2, min_samples_leaf=1, min_weight_fraction_leaf=0.0, max_features='auto', max_leaf_nodes=None, min_impurity_decrease=0.0, min_impurity_split=None, bootstrap=True, oob_score=False, n_jobs=None, random_state=None, verbose=0, warm_start=False, class_weight=None, ccp_alpha=0.0, max_samples=None)[source]¶\n",
    "\n",
    "- https://scikit-learn.org/stable/modules/generated/sklearn.ensemble.RandomForestRegressor.html\n",
    "\n",
    "\n",
    "Hint from processing from TPOT under XGBoost\n",
    "\n",
    "Best pipeline: RandomForestClassifier(input_matrix, bootstrap=True, criterion=gini, max_features=0.4, min_samples_leaf=13, min_samples_split=13, n_estimators=100)"
   ],
   "cell_type": "markdown",
   "metadata": {}
  },
  {
   "source": [
    "### Random Forest Classifier - Tuned Model"
   ],
   "cell_type": "markdown",
   "metadata": {}
  },
  {
   "cell_type": "code",
   "execution_count": 19,
   "metadata": {},
   "outputs": [],
   "source": [
    "if useModel_RFM == 'yes':\n",
    "\n",
    "    # # Create the model\n",
    "    # RFM = RandomForestClassifier(max_depth=2, random_state=random_state_val)\n",
    "\n",
    "    # # Train the model\n",
    "    # RFM.fit(X_train, Y_train.values.ravel())\n",
    "\n",
    "    # load the model from disk\n",
    "    # modelSelect = 'RFM'\n",
    "    # filename = modelSelect + '_finalized_model.sav'\n",
    "    # loaded_model = pickle.load(open(filename, 'rb'))\n",
    "    \n",
    "    # load, no need to initialize the loaded_rf\n",
    "    loaded_model = joblib.load(\"./RFM_RSCV_Model.joblib\")\n",
    "\n",
    "    # Predict using test data\n",
    "    Y_pred = loaded_model.predict(X_test)\n",
    "    df_Y_pred = pd.DataFrame(Y_pred, columns = ['Y_pred'])\n",
    "    df_Y_pred.to_csv('DAT205_Output_Y_pred_RFM_RSCV_Prediction.csv') "
   ]
  },
  {
   "cell_type": "code",
   "execution_count": 20,
   "metadata": {},
   "outputs": [
    {
     "output_type": "stream",
     "name": "stdout",
     "text": [
      "RandomForestClassifier(bootstrap=True, ccp_alpha=0.0, class_weight=None,\n                       criterion='gini', max_depth=2, max_features='auto',\n                       max_leaf_nodes=None, max_samples=None,\n                       min_impurity_decrease=0.0, min_impurity_split=None,\n                       min_samples_leaf=1, min_samples_split=2,\n                       min_weight_fraction_leaf=0.0, n_estimators=100,\n                       n_jobs=None, oob_score=False, random_state=42, verbose=0,\n                       warm_start=False)\n"
     ]
    }
   ],
   "source": [
    "print(loaded_model)"
   ]
  },
  {
   "source": [
    "# Section 8: Summary Report"
   ],
   "cell_type": "markdown",
   "metadata": {}
  },
  {
   "cell_type": "code",
   "execution_count": 21,
   "metadata": {},
   "outputs": [],
   "source": [
    "# # Create summary table of metric analysis\n",
    "# df_Metrics = []\n",
    "\n",
    "# df_Metrics_headers = [0,1,2,3,4,5,6]\n",
    "# df_Metrics = pd.DataFrame (df_Metrics, columns = df_Metrics_headers)\n",
    "\n",
    "# if useModel_LogRegM == 'yes':\n",
    "#     df_AddModel = pd.Series(['Logistic Regression', accuracy_score_LogRegM, f1_score_LogRegM, recall_score_LogRegM, precision_score_LogRegM, sensitivity_LogRegM, specificity_LogRegM])\n",
    "#     df_Metrics = df_Metrics.append(df_AddModel, ignore_index=True)\n",
    "\n",
    "# if useModel_LogRegM_RSCV == 'yes':\n",
    "#     df_AddModel = pd.Series(['Logistic Regression (Tuned)',accuracy_score_LogRegM_RSCV, f1_score_LogRegM_RSCV, recall_score_LogRegM_RSCV, precision_score_LogRegM_RSCV, sensitivity_LogRegM_RSCV, specificity_LogRegM_RSCV])\n",
    "#     df_Metrics = df_Metrics.append(df_AddModel, ignore_index=True)\n",
    "\n",
    "# if useModel_DTM == 'yes':\n",
    "#     df_AddModel = pd.Series(['Decision Tree',accuracy_score_DTM, f1_score_DTM, recall_score_DTM, precision_score_DTM, sensitivity_DTM, specificity_DTM])\n",
    "#     df_Metrics = df_Metrics.append(df_AddModel, ignore_index=True)\n",
    "\n",
    "# if useModel_DTM_RSCV == 'yes':\n",
    "#     df_AddModel = pd.Series(['Decision Tree (Tuned)',accuracy_score_DTM_RSCV, f1_score_DTM_RSCV, recall_score_DTM_RSCV, precision_score_DTM_RSCV, sensitivity_DTM_RSCV, specificity_DTM_RSCV])\n",
    "#     df_Metrics = df_Metrics.append(df_AddModel, ignore_index=True)\n",
    "\n",
    "# if useModel_RFM == 'yes':\n",
    "#     df_AddModel = pd.Series(['Random Forest', accuracy_score_RFM, f1_score_RFM, recall_score_RFM, precision_score_RFM, sensitivity_RFM, specificity_RFM])\n",
    "#     df_Metrics = df_Metrics.append(df_AddModel, ignore_index=True)\n",
    "\n",
    "# if useModel_RFM_RSCV == 'yes':\n",
    "#     df_AddModel = pd.Series(['Random Forest (Tuned)',accuracy_score_RFM_RSCV, f1_score_RFM_RSCV, recall_score_RFM_RSCV, precision_score_RFM_RSCV, sensitivity_RFM_RSCV, specificity_RFM_RSCV])\n",
    "#     df_Metrics = df_Metrics.append(df_AddModel, ignore_index=True)\n",
    "\n",
    "# if useModel_XGBM == 'yes':\n",
    "#     df_AddModel = pd.Series(['XGBoost',accuracy_score_XGBM, f1_score_XGBM, recall_score_XGBM, precision_score_XGBM, sensitivity_XGBM, specificity_XGBM])\n",
    "#     df_Metrics = df_Metrics.append(df_AddModel, ignore_index=True)\n",
    "\n",
    "# if useModel_XGBM_RSCV == 'yes':\n",
    "#     df_AddModel = pd.Series(['XGBoost (Tuned)',accuracy_score_XGBM_RSCV, f1_score_XGBM_RSCV, recall_score_XGBM_RSCV, precision_score_XGBM_RSCV, sensitivity_XGBM_RSCV, specificity_XGBM_RSCV])\n",
    "#     df_Metrics = df_Metrics.append(df_AddModel, ignore_index=True)\n",
    "\n",
    "# if useModel_SVCM == 'yes':\n",
    "#     df_AddModel = pd.Series(['SVM',accuracy_score_SVCM, f1_score_SVCM, recall_score_SVCM, precision_score_SVCM, sensitivity_SVCM, specificity_SVCM])\n",
    "#     df_Metrics = df_Metrics.append(df_AddModel, ignore_index=True)\n",
    "\n",
    "# df_Metrics.columns = ['Model','Accuracy','F1 score','Recall','Precision','Sensitivity','Specificity']\n",
    "\n",
    "# # VALIDATION CODE \n",
    "# if debug_active == 'yes':\n",
    "#     display(df_Metrics)\n",
    "\n",
    "# # Join dataframes for Metrics and cross_val_scores\n",
    "# # df_Summary = pd.concat([df_Metrics,df_cross_val_score], axis=1)\n",
    "# df_Summary = df_Metrics\n",
    "# # VALIDATION CODE \n",
    "# if debug_active == 'yes':\n",
    "#     display(df_Summary)"
   ]
  },
  {
   "cell_type": "code",
   "execution_count": 22,
   "metadata": {},
   "outputs": [],
   "source": [
    "# print(\"================= Results Summary ==================\\n\")\n",
    "\n",
    "# print(\"\\n==================== Configuration ======================\")\n",
    "# print('Filter by Team Selected = ', teamSelected)\n",
    "\n",
    "# print('Total Number of Records (Initial Dataset) = ', totalNumRec)\n",
    "# print('Total Number of Records (Transformed and Filtered Dataset) = ', df_TF.shape[0])\n",
    "# print('Game Type Processed (0 = PreSeason / 1 = RegularSeason / 2 = Playoffs) = ', gameTypeToProcess)\n",
    "# print('Selected Season Records = ', selectedSeasonRecordCount)\n",
    "# print('Train / Test Split = ', test_size_val)\n",
    "# print('Model random_state_val = ', random_state_val)\n",
    "\n",
    "# print(\"\\n==================== Features ======================\")\n",
    "# print('----------------- Removed Features -----------------')\n",
    "# display(unwanted_list_01)\n",
    "# print('\\n------ Removed attributes - Heat Map / Correlation Matrix ---- ')\n",
    "# display(unwanted_list_02)\n",
    "\n",
    "# print('\\n------------------- Applied Features --------------------')\n",
    "# display(X_test.columns.tolist())\n",
    "\n",
    "# print(\"\\n ================= Model Analysis Summary ==================\\n\")\n",
    "# display(df_Summary)\n",
    "\n",
    "# if useModel_LogRegM == 'yes':\n",
    "#     print('\\n\\n----------------- Logistic Regression --------------------')\n",
    "#     print('Base Model')\n",
    "#     print('Model Parameteres =', LogRegM.get_params())\n",
    "#     print('')\n",
    "#     print('Accuracy:', numFormat.format(accuracy_score_LogRegM))\n",
    "#     print('F1 score:', numFormat.format(f1_score_LogRegM))\n",
    "#     print('Recall:', numFormat.format(recall_score_LogRegM))\n",
    "#     print('Precision:', numFormat.format(precision_score_LogRegM))\n",
    "#     print('Sensitivity : ', numFormat.format(sensitivity_LogRegM))\n",
    "#     print('Specificity : ', numFormat.format(specificity_LogRegM))\n",
    "#     print('\\n clasification report:\\n', classification_report_LogRegM)\n",
    "#     print('\\n confussion matrix:\\n',confusion_matrix_LogRegM)\n",
    "\n",
    "# if useModel_LogRegM_RSCV == 'yes':\n",
    "#     print('Tuned Model')\n",
    "#     print('Best Model Parameters =', LogRegM_RSCV.best_params_)\n",
    "#     print('')\n",
    "#     print('Accuracy:', numFormat.format(accuracy_score_LogRegM_RSCV))\n",
    "#     print('F1 score:', numFormat.format(f1_score_LogRegM_RSCV))\n",
    "#     print('Recall:', numFormat.format(recall_score_LogRegM_RSCV))\n",
    "#     print('Precision:', numFormat.format(precision_score_LogRegM_RSCV))\n",
    "#     print('Sensitivity : ', numFormat.format(sensitivity_LogRegM_RSCV))\n",
    "#     print('Specificity : ', numFormat.format(specificity_LogRegM_RSCV))\n",
    "#     print('\\n clasification report:\\n', classification_report_LogRegM_RSCV)\n",
    "#     print('\\n confussion matrix:\\n',confusion_matrix_LogRegM_RSCV)\n",
    "\n",
    "#     print('\\nImprovement (Accuracy) of {:0.2f}%.'.format(comparison_accuracy_score_LogRegM_RSCV))\n",
    "#     print('Improvement (F1_score) of {:0.2f}%.'.format(comparison_f1_score_LogRegM_RSCV))\n",
    "#     print('Improvement (Sensitivity) of {:0.2f}%.'.format(comparison_sensitivity_LogRegM_RSCV))\n",
    "#     print('Improvement (Specificity) of {:0.2f}%.'.format(comparison_specificity_LogRegM_RSCV))\n",
    "\n",
    "#     print(\"\\nFeature Importance\")\n",
    "#     display(df_feature_importance_LogRegM)\n",
    "\n",
    "# if useModel_DTM == 'yes':\n",
    "#     print('\\n\\n-------------------- Decision Tree -----------------------\\n')\n",
    "#     print('Base Model')\n",
    "#     print('Model Parameteres =', DTM.get_params())\n",
    "#     print('')\n",
    "#     print('Accuracy:', numFormat.format(accuracy_score_DTM))\n",
    "#     print('F1 score:', numFormat.format(f1_score_DTM))\n",
    "#     print('Recall:', numFormat.format(recall_score_DTM))\n",
    "#     print('Precision:', numFormat.format(precision_score_DTM))\n",
    "#     print('Sensitivity : ', numFormat.format(sensitivity_DTM))\n",
    "#     print('Specificity : ', numFormat.format(specificity_DTM))\n",
    "#     print('\\n clasification report:\\n', classification_report_DTM)\n",
    "#     print('\\n confussion matrix:\\n',confusion_matrix_DTM)\n",
    "\n",
    "# if useModel_DTM_RSCV == 'yes':\n",
    "#     print('Tuned Model')\n",
    "#     print('Best Model Parameters =', DTM_RSCV.best_params_)\n",
    "#     print('')\n",
    "#     print('Accuracy:', numFormat.format(accuracy_score_DTM_RSCV))\n",
    "#     print('F1 score:', numFormat.format(f1_score_DTM_RSCV))\n",
    "#     print('Recall:', numFormat.format(recall_score_DTM_RSCV))\n",
    "#     print('Precision:', numFormat.format(precision_score_DTM_RSCV))\n",
    "#     print('Sensitivity : ', numFormat.format(sensitivity_DTM_RSCV))\n",
    "#     print('Specificity : ', numFormat.format(specificity_DTM_RSCV))\n",
    "#     print('\\n clasification report:\\n', classification_report_DTM_RSCV)\n",
    "#     print('\\n confussion matrix:\\n',confusion_matrix_DTM_RSCV)\n",
    "\n",
    "#     print('\\nImprovement (Accuracy) of {:0.2f}%.'.format(comparison_accuracy_score_DTM_RSCV))\n",
    "#     print('Improvement (F1_score) of {:0.2f}%.'.format(comparison_f1_score_DTM_RSCV))\n",
    "#     print('Improvement (Sensitivity) of {:0.2f}%.'.format(comparison_sensitivity_DTM_RSCV))\n",
    "#     print('Improvement (Specificity) of {:0.2f}%.'.format(comparison_specificity_DTM_RSCV))\n",
    "\n",
    "#     print(\"\\nFeature Importance\")\n",
    "#     display(df_feature_importance_DTM)\n",
    "\n",
    "# if useModel_RFM == 'yes':\n",
    "#     print('\\n\\n-------------------- Random Forest -----------------------\\n')\n",
    "#     print('Base Model')\n",
    "#     print('Model Parameteres =', RFM.get_params())\n",
    "#     print('')\n",
    "#     print('Accuracy:', numFormat.format(accuracy_score_RFM))\n",
    "#     print('F1 score:', numFormat.format(f1_score_RFM))\n",
    "#     print('Recall:', numFormat.format(recall_score_RFM))\n",
    "#     print('Precision:', numFormat.format(precision_score_RFM))\n",
    "#     print('Sensitivity : ', numFormat.format(sensitivity_RFM))\n",
    "#     print('Specificity : ', numFormat.format(specificity_RFM))\n",
    "#     print('\\n clasification report:\\n', classification_report_RFM)\n",
    "#     print('\\n confussion matrix:\\n',confusion_matrix_RFM)\n",
    "\n",
    "# if useModel_RFM_RSCV == 'yes':\n",
    "#     print('Tuned Model')\n",
    "#     print('Best Model Parameters =', RFM_RSCV.best_params_)\n",
    "#     print('')\n",
    "#     print('Accuracy:', numFormat.format(accuracy_score_RFM_RSCV))\n",
    "#     print('F1 score:', numFormat.format(f1_score_RFM_RSCV))\n",
    "#     print('Recall:', numFormat.format(recall_score_RFM_RSCV))\n",
    "#     print('Precision:', numFormat.format(precision_score_RFM_RSCV))\n",
    "#     print('Sensitivity : ', numFormat.format(sensitivity_RFM_RSCV))\n",
    "#     print('Specificity : ', numFormat.format(specificity_RFM_RSCV))\n",
    "#     print('\\n clasification report:\\n', classification_report_RFM_RSCV)\n",
    "#     print('\\n confussion matrix:\\n',confusion_matrix_RFM_RSCV)\n",
    "\n",
    "#     print('\\nImprovement (Accuracy) of {:0.2f}%.'.format(comparison_accuracy_score_RFM_RSCV))\n",
    "#     print('Improvement (F1_score) of {:0.2f}%.'.format(comparison_f1_score_RFM_RSCV))\n",
    "#     print('Improvement (Sensitivity) of {:0.2f}%.'.format(comparison_sensitivity_RFM_RSCV))\n",
    "#     print('Improvement (Specificity) of {:0.2f}%.'.format(comparison_specificity_RFM_RSCV))\n",
    "\n",
    "#     print(\"\\nFeature Importance\")\n",
    "#     display(df_feature_importance_RFM)\n",
    "\n",
    "# if useModel_XGBM == 'yes':\n",
    "#     print('\\n\\n----------------- XGBoost --------------------')\n",
    "#     print('Model Parameteres =', XGBM.get_params())\n",
    "#     print('')\n",
    "#     print('Accuracy:', numFormat.format(accuracy_score_XGBM))\n",
    "#     print('F1 score:', numFormat.format(f1_score_XGBM))\n",
    "#     print('Recall:', numFormat.format(recall_score_XGBM))\n",
    "#     print('Precision:', numFormat.format(precision_score_XGBM))\n",
    "#     print('Sensitivity : ', numFormat.format(sensitivity_XGBM))\n",
    "#     print('Specificity : ', numFormat.format(specificity_XGBM))\n",
    "#     print('\\n clasification report:\\n', classification_report_XGBM)\n",
    "#     print('\\n confussion matrix:\\n',confusion_matrix_XGBM)\n",
    "\n",
    "# if useModel_XGBM_RSCV == 'yes':\n",
    "#     print('Tuned Model')\n",
    "#     print('Best Model Parameters =', XGBM_RSCV.best_params_)\n",
    "#     print('')\n",
    "#     print('Accuracy:', numFormat.format(accuracy_score_XGBM_RSCV))\n",
    "#     print('F1 score:', numFormat.format(f1_score_XGBM_RSCV))\n",
    "#     print('Recall:', numFormat.format(recall_score_XGBM_RSCV))\n",
    "#     print('Precision:', numFormat.format(precision_score_XGBM_RSCV))\n",
    "#     print('Sensitivity : ', numFormat.format(sensitivity_XGBM_RSCV))\n",
    "#     print('Specificity : ', numFormat.format(specificity_XGBM_RSCV))\n",
    "#     print('\\n clasification report:\\n', classification_report_XGBM_RSCV)\n",
    "#     print('\\n confussion matrix:\\n',confusion_matrix_XGBM_RSCV)\n",
    "\n",
    "#     print('\\nImprovement (Accuracy) of {:0.2f}%.'.format(comparison_accuracy_score_XGBM_RSCV))\n",
    "#     print('Improvement (F1_score) of {:0.2f}%.'.format(comparison_f1_score_XGBM_RSCV))\n",
    "#     print('Improvement (Sensitivity) of {:0.2f}%.'.format(comparison_sensitivity_XGBM_RSCV))\n",
    "#     print('Improvement (Specificity) of {:0.2f}%.'.format(comparison_specificity_XGBM_RSCV))\n",
    "\n",
    "#     print(\"\\nFeature Importance\")\n",
    "#     display(df_feature_importance_XGBM)\n",
    "\n",
    "# if useModel_SVCM == 'yes':\n",
    "#     print('\\n\\n----------------- SVM --------------------')\n",
    "#     print('Accuracy:', numFormat.format(accuracy_score_SVCM))\n",
    "#     print('F1 score:', numFormat.format(f1_score_SVCM))\n",
    "#     print('Recall:', numFormat.format(recall_score_SVCM))\n",
    "#     print('Precision:', numFormat.format(precision_score_SVCM))\n",
    "#     print('Sensitivity : ', numFormat.format(sensitivity_SVCM))\n",
    "#     print('Specificity : ', numFormat.format(specificity_SVCM))\n",
    "\n",
    "#     print('\\n clasification report:\\n', classification_report_SVCM)\n",
    "#     print('\\n confussion matrix:\\n',confusion_matrix_SVCM)\n",
    "#     print(\"\\nFeature Importance\")\n",
    "#     # display(df_feature_importance_SVCM)\n",
    "#     print(\"Work in progress\")"
   ]
  },
  {
   "cell_type": "code",
   "execution_count": 23,
   "metadata": {},
   "outputs": [
    {
     "output_type": "stream",
     "name": "stdout",
     "text": [
      "\n\nPROCESSING COMPLETE\nTotal Runtime: 0:00:01.52\n"
     ]
    }
   ],
   "source": [
    "time_took = time.time() - start_time\n",
    "print(\"\")\n",
    "print(\"\")\n",
    "print(\"PROCESSING COMPLETE\")\n",
    "print(f\"Total Runtime: {hms_string(time_took)}\")\n",
    "if dataEnhancement_active == 'yes':\n",
    "    print(f\"Add Enhancement Columns Runtime: {hms_string(time_took01)}\")\n",
    "    print(f\"Create temp TeamGameStats dataframe Runtime: {hms_string(time_took02)}\")\n",
    "    print(f\"Calculate PIE / PER Runtime: {hms_string(time_took03)}\")\n",
    "    # print(f\"Calculate PER Runtime: {hms_string(time_took04)}\")"
   ]
  },
  {
   "cell_type": "markdown",
   "metadata": {},
   "source": [
    "# End of Code"
   ]
  }
 ],
 "metadata": {
  "kernelspec": {
   "display_name": "Python 3",
   "language": "python",
   "name": "python3"
  },
  "language_info": {
   "codemirror_mode": {
    "name": "ipython",
    "version": 3
   },
   "file_extension": ".py",
   "mimetype": "text/x-python",
   "name": "python",
   "nbconvert_exporter": "python",
   "pygments_lexer": "ipython3",
   "version": "3.7.9-final"
  }
 },
 "nbformat": 4,
 "nbformat_minor": 4
}